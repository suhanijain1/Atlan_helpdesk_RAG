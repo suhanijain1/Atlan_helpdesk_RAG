{
 "cells": [
  {
   "cell_type": "markdown",
   "id": "5c5f8ce4",
   "metadata": {},
   "source": [
    "# Atlan Helpdesk Pipeline Evaluation\n",
    "\n",
    "This notebook provides a clean, systematic evaluation of the Atlan helpdesk pipeline using real sample tickets.\n",
    "\n",
    "## Evaluation Framework\n",
    "\n",
    "### 1. **Triage Classification Evaluation**\n",
    "- Uses actual `sample_tickets.json` data\n",
    "- Fresh classification (not pre-classified results)\n",
    "- Leverages your `triage_evaluation_full.py` for validated metrics\n",
    "- Measures topic coherence, classification confidence, and clustering quality\n",
    "\n",
    "### 2. **Answer Quality Evaluation**  \n",
    "- End-to-end pipeline testing with real tickets\n",
    "- Response completeness and accuracy assessment\n",
    "- Source quality and relevance analysis\n",
    "- Performance consistency measurement\n",
    "\n",
    "### 3. **Systematic Results**\n",
    "- Clear visualizations and metrics\n",
    "- Actionable insights and recommendations\n",
    "- Reproducible evaluation methodology"
   ]
  },
  {
   "cell_type": "code",
   "execution_count": 1,
   "id": "c6cc8ab9",
   "metadata": {},
   "outputs": [
    {
     "name": "stdout",
     "output_type": "stream",
     "text": [
      "✅ Environment setup complete - using your existing evaluation tools\n"
     ]
    }
   ],
   "source": [
    "# Setup and Imports\n",
    "import json\n",
    "import os\n",
    "import logging\n",
    "import pandas as pd\n",
    "import numpy as np\n",
    "import matplotlib.pyplot as plt\n",
    "import seaborn as sns\n",
    "from datetime import datetime\n",
    "from IPython.display import Image, display\n",
    "\n",
    "# Import your existing pipeline components\n",
    "from triage import TriageClassifier\n",
    "from atlan_helpdesk_pipeline import ChatbotPipeline  # Fixed import name\n",
    "from triage_evaluation_full import (\n",
    "    load_embeddings, l2norm_rows, compute_topic_centroids_from_preds, \n",
    "    compute_combo_centroids, build_topic_and_combo_metrics,\n",
    "    compute_ticket_proxies, tag_confidence, save_plots\n",
    ")\n",
    "from sentence_transformers import SentenceTransformer\n",
    "\n",
    "# Configure environment\n",
    "logging.basicConfig(level=logging.INFO, format='%(asctime)s - %(levelname)s - %(message)s')\n",
    "sns.set_theme(style=\"whitegrid\", rc={\"figure.figsize\": (12, 8)})\n",
    "pd.set_option('display.max_colwidth', 100)\n",
    "\n",
    "print(\"✅ Environment setup complete - using your existing evaluation tools\")"
   ]
  },
  {
   "cell_type": "code",
   "execution_count": 2,
   "id": "4d7233ea",
   "metadata": {},
   "outputs": [
    {
     "name": "stdout",
     "output_type": "stream",
     "text": [
      "📊 Loaded 30 real sample tickets for evaluation\n",
      "  1. TICKET-245: Connecting Snowflake to Atlan - required permissions?\n",
      "  2. TICKET-246: Which connectors automatically capture lineage?\n",
      "  3. TICKET-247: Deployment of Atlan agent for private data lake\n",
      "  ... and 27 more tickets\n",
      "\n",
      "🎯 Ready to evaluate with 30 real support tickets\n"
     ]
    }
   ],
   "source": [
    "# Load Real Sample Tickets for Evaluation\n",
    "def load_sample_tickets():\n",
    "    \"\"\"Load ALL tickets from sample_tickets.json for evaluation (no subsampling).\"\"\"\n",
    "    try:\n",
    "        with open('sample_tickets.json', 'r') as f:\n",
    "            tickets = json.load(f)\n",
    "        \n",
    "        print(f\"📊 Loaded {len(tickets)} real sample tickets for evaluation\")\n",
    "        for i, ticket in enumerate(tickets[:3]):  # Show first 3 as preview\n",
    "            print(f\"  {i+1}. {ticket['id']}: {ticket['subject']}\")\n",
    "        if len(tickets) > 3:\n",
    "            print(f\"  ... and {len(tickets)-3} more tickets\")\n",
    "        \n",
    "        return tickets\n",
    "        \n",
    "    except FileNotFoundError:\n",
    "        print(\"❌ sample_tickets.json not found!\")\n",
    "        return []\n",
    "\n",
    "# Load all real tickets\n",
    "tickets = load_sample_tickets()\n",
    "print(f\"\\n🎯 Ready to evaluate with {len(tickets)} real support tickets\")"
   ]
  },
  {
   "cell_type": "markdown",
   "id": "d48cd29f",
   "metadata": {},
   "source": [
    "## 1. Triage Classification Evaluation\n",
    "\n",
    "This section evaluates how well the system categorizes real support tickets using **fresh classification** (not pre-classified data).\n",
    "\n",
    "**Methodology:**\n",
    "- Use actual tickets from `sample_tickets.json`\n",
    "- Run fresh classification through `TriageClassifier`\n",
    "- Apply your validated `triage_evaluation_full.py` metrics\n",
    "- Measure topic coherence, separation, and confidence\n",
    "\n",
    "**Key Metrics:**\n",
    "- **Topic Coherence**: How semantically similar tickets in the same category are\n",
    "- **Classification Confidence**: How certain the model is about predictions  \n",
    "- **Topic Separation**: How well different categories are distinguished\n",
    "- **Outlier Detection**: Identify ambiguous tickets needing human review"
   ]
  },
  {
   "cell_type": "code",
   "execution_count": 3,
   "id": "a8ef16a2",
   "metadata": {},
   "outputs": [
    {
     "name": "stdout",
     "output_type": "stream",
     "text": [
      "🎯 Running FRESH triage classification on real sample tickets...\n"
     ]
    },
    {
     "name": "stderr",
     "output_type": "stream",
     "text": [
      "2025-09-16 15:08:28,010 - INFO - Use pytorch device_name: mps\n",
      "2025-09-16 15:08:28,023 - INFO - Load pretrained SentenceTransformer: all-MiniLM-L6-v2\n",
      "2025-09-16 15:08:33,557 - INFO - AFC is enabled with max remote calls: 10.\n"
     ]
    },
    {
     "name": "stdout",
     "output_type": "stream",
     "text": [
      "Classifying 1/30: TICKET-245\n"
     ]
    },
    {
     "name": "stderr",
     "output_type": "stream",
     "text": [
      "2025-09-16 15:08:35,609 - INFO - HTTP Request: POST https://generativelanguage.googleapis.com/v1beta/models/gemini-2.5-flash-lite:generateContent \"HTTP/1.1 503 Service Unavailable\"\n",
      "2025-09-16 15:08:35,641 - ERROR - ❌ Error classifying ticket TICKET-245: 503 UNAVAILABLE. {'error': {'code': 503, 'message': 'The model is overloaded. Please try again later.', 'status': 'UNAVAILABLE'}}\n",
      "2025-09-16 15:08:35,645 - INFO - AFC is enabled with max remote calls: 10.\n"
     ]
    },
    {
     "name": "stdout",
     "output_type": "stream",
     "text": [
      "  ✅ Topics: ['Other'] | Priority: P2 | Confidence: 0.000\n",
      "Classifying 2/30: TICKET-246\n"
     ]
    },
    {
     "name": "stderr",
     "output_type": "stream",
     "text": [
      "2025-09-16 15:08:39,973 - INFO - HTTP Request: POST https://generativelanguage.googleapis.com/v1beta/models/gemini-2.5-flash-lite:generateContent \"HTTP/1.1 200 OK\"\n",
      "2025-09-16 15:08:40,000 - INFO - AFC remote call 1 is done.\n",
      "2025-09-16 15:08:40,001 - INFO - ✅ Classified ticket TICKET-246: ['HOW_TO', 'CONNECTOR', 'LINEAGE'] (confidence: 0.900)\n",
      "2025-09-16 15:08:40,005 - INFO - AFC is enabled with max remote calls: 10.\n"
     ]
    },
    {
     "name": "stdout",
     "output_type": "stream",
     "text": [
      "  ✅ Topics: ['HOW_TO', 'CONNECTOR', 'LINEAGE'] | Priority: P1 | Confidence: 0.900\n",
      "Classifying 3/30: TICKET-247\n"
     ]
    },
    {
     "name": "stderr",
     "output_type": "stream",
     "text": [
      "2025-09-16 15:08:41,503 - INFO - HTTP Request: POST https://generativelanguage.googleapis.com/v1beta/models/gemini-2.5-flash-lite:generateContent \"HTTP/1.1 200 OK\"\n",
      "2025-09-16 15:08:41,518 - INFO - AFC remote call 1 is done.\n",
      "2025-09-16 15:08:41,520 - INFO - ✅ Classified ticket TICKET-247: ['CONNECTOR', 'HOW_TO'] (confidence: 0.900)\n",
      "2025-09-16 15:08:41,521 - INFO - AFC is enabled with max remote calls: 10.\n"
     ]
    },
    {
     "name": "stdout",
     "output_type": "stream",
     "text": [
      "  ✅ Topics: ['CONNECTOR', 'HOW_TO'] | Priority: P0 | Confidence: 0.900\n",
      "Classifying 4/30: TICKET-248\n"
     ]
    },
    {
     "name": "stderr",
     "output_type": "stream",
     "text": [
      "2025-09-16 15:08:45,072 - INFO - HTTP Request: POST https://generativelanguage.googleapis.com/v1beta/models/gemini-2.5-flash-lite:generateContent \"HTTP/1.1 200 OK\"\n",
      "2025-09-16 15:08:45,092 - INFO - AFC remote call 1 is done.\n",
      "2025-09-16 15:08:45,093 - INFO - ✅ Classified ticket TICKET-248: ['HOW_TO', 'CONNECTOR', 'PRODUCT'] (confidence: 0.900)\n",
      "2025-09-16 15:08:45,097 - INFO - AFC is enabled with max remote calls: 10.\n"
     ]
    },
    {
     "name": "stdout",
     "output_type": "stream",
     "text": [
      "  ✅ Topics: ['HOW_TO', 'CONNECTOR', 'PRODUCT'] | Priority: P2 | Confidence: 0.900\n",
      "Classifying 5/30: TICKET-249\n"
     ]
    },
    {
     "name": "stderr",
     "output_type": "stream",
     "text": [
      "2025-09-16 15:08:46,370 - INFO - HTTP Request: POST https://generativelanguage.googleapis.com/v1beta/models/gemini-2.5-flash-lite:generateContent \"HTTP/1.1 503 Service Unavailable\"\n",
      "2025-09-16 15:08:46,378 - ERROR - ❌ Error classifying ticket TICKET-249: 503 UNAVAILABLE. {'error': {'code': 503, 'message': 'The model is overloaded. Please try again later.', 'status': 'UNAVAILABLE'}}\n",
      "2025-09-16 15:08:46,380 - INFO - AFC is enabled with max remote calls: 10.\n"
     ]
    },
    {
     "name": "stdout",
     "output_type": "stream",
     "text": [
      "  ✅ Topics: ['Other'] | Priority: P2 | Confidence: 0.000\n",
      "Classifying 6/30: TICKET-250\n"
     ]
    },
    {
     "name": "stderr",
     "output_type": "stream",
     "text": [
      "2025-09-16 15:08:47,054 - INFO - HTTP Request: POST https://generativelanguage.googleapis.com/v1beta/models/gemini-2.5-flash-lite:generateContent \"HTTP/1.1 503 Service Unavailable\"\n",
      "2025-09-16 15:08:47,066 - ERROR - ❌ Error classifying ticket TICKET-250: 503 UNAVAILABLE. {'error': {'code': 503, 'message': 'The model is overloaded. Please try again later.', 'status': 'UNAVAILABLE'}}\n",
      "2025-09-16 15:08:47,069 - INFO - AFC is enabled with max remote calls: 10.\n"
     ]
    },
    {
     "name": "stdout",
     "output_type": "stream",
     "text": [
      "  ✅ Topics: ['Other'] | Priority: P2 | Confidence: 0.000\n",
      "Classifying 7/30: TICKET-251\n"
     ]
    },
    {
     "name": "stderr",
     "output_type": "stream",
     "text": [
      "2025-09-16 15:08:58,109 - INFO - HTTP Request: POST https://generativelanguage.googleapis.com/v1beta/models/gemini-2.5-flash-lite:generateContent \"HTTP/1.1 200 OK\"\n",
      "2025-09-16 15:08:58,182 - INFO - AFC remote call 1 is done.\n",
      "2025-09-16 15:08:58,186 - INFO - ✅ Classified ticket TICKET-251: ['HOW_TO', 'PRODUCT'] (confidence: 0.900)\n",
      "2025-09-16 15:08:58,191 - INFO - AFC is enabled with max remote calls: 10.\n"
     ]
    },
    {
     "name": "stdout",
     "output_type": "stream",
     "text": [
      "  ✅ Topics: ['HOW_TO', 'PRODUCT'] | Priority: P2 | Confidence: 0.900\n",
      "Classifying 8/30: TICKET-252\n"
     ]
    },
    {
     "name": "stderr",
     "output_type": "stream",
     "text": [
      "2025-09-16 15:08:59,892 - INFO - HTTP Request: POST https://generativelanguage.googleapis.com/v1beta/models/gemini-2.5-flash-lite:generateContent \"HTTP/1.1 200 OK\"\n",
      "2025-09-16 15:08:59,948 - INFO - AFC remote call 1 is done.\n",
      "2025-09-16 15:08:59,957 - INFO - ✅ Classified ticket TICKET-252: ['LINEAGE', 'API_SDK'] (confidence: 0.900)\n",
      "2025-09-16 15:08:59,963 - INFO - AFC is enabled with max remote calls: 10.\n"
     ]
    },
    {
     "name": "stdout",
     "output_type": "stream",
     "text": [
      "  ✅ Topics: ['LINEAGE', 'API_SDK'] | Priority: P2 | Confidence: 0.900\n",
      "Classifying 9/30: TICKET-253\n"
     ]
    },
    {
     "name": "stderr",
     "output_type": "stream",
     "text": [
      "2025-09-16 15:09:11,606 - INFO - HTTP Request: POST https://generativelanguage.googleapis.com/v1beta/models/gemini-2.5-flash-lite:generateContent \"HTTP/1.1 200 OK\"\n",
      "2025-09-16 15:09:11,627 - INFO - AFC remote call 1 is done.\n",
      "2025-09-16 15:09:11,629 - INFO - ✅ Classified ticket TICKET-253: ['LINEAGE', 'CONNECTOR', 'PRODUCT'] (confidence: 0.900)\n",
      "2025-09-16 15:09:11,629 - INFO - AFC is enabled with max remote calls: 10.\n"
     ]
    },
    {
     "name": "stdout",
     "output_type": "stream",
     "text": [
      "  ✅ Topics: ['LINEAGE', 'CONNECTOR', 'PRODUCT'] | Priority: P0 | Confidence: 0.900\n",
      "Classifying 10/30: TICKET-254\n"
     ]
    },
    {
     "name": "stderr",
     "output_type": "stream",
     "text": [
      "2025-09-16 15:09:14,363 - INFO - HTTP Request: POST https://generativelanguage.googleapis.com/v1beta/models/gemini-2.5-flash-lite:generateContent \"HTTP/1.1 200 OK\"\n",
      "2025-09-16 15:09:14,380 - INFO - AFC remote call 1 is done.\n",
      "2025-09-16 15:09:14,384 - INFO - ✅ Classified ticket TICKET-254: ['GLOSSARY', 'API_SDK', 'BEST_PRACTICES'] (confidence: 0.900)\n",
      "2025-09-16 15:09:14,388 - INFO - AFC is enabled with max remote calls: 10.\n"
     ]
    },
    {
     "name": "stdout",
     "output_type": "stream",
     "text": [
      "  ✅ Topics: ['GLOSSARY', 'API_SDK', 'BEST_PRACTICES'] | Priority: P0 | Confidence: 0.900\n",
      "Classifying 11/30: TICKET-255\n"
     ]
    },
    {
     "name": "stderr",
     "output_type": "stream",
     "text": [
      "2025-09-16 15:09:17,391 - INFO - HTTP Request: POST https://generativelanguage.googleapis.com/v1beta/models/gemini-2.5-flash-lite:generateContent \"HTTP/1.1 200 OK\"\n",
      "2025-09-16 15:09:17,404 - INFO - AFC remote call 1 is done.\n",
      "2025-09-16 15:09:17,404 - INFO - ✅ Classified ticket TICKET-255: ['HOW_TO', 'GLOSSARY', 'BEST_PRACTICES'] (confidence: 0.900)\n",
      "2025-09-16 15:09:17,407 - INFO - AFC is enabled with max remote calls: 10.\n"
     ]
    },
    {
     "name": "stdout",
     "output_type": "stream",
     "text": [
      "  ✅ Topics: ['HOW_TO', 'GLOSSARY', 'BEST_PRACTICES'] | Priority: P2 | Confidence: 0.900\n",
      "Classifying 12/30: TICKET-256\n"
     ]
    },
    {
     "name": "stderr",
     "output_type": "stream",
     "text": [
      "2025-09-16 15:09:19,581 - INFO - HTTP Request: POST https://generativelanguage.googleapis.com/v1beta/models/gemini-2.5-flash-lite:generateContent \"HTTP/1.1 200 OK\"\n",
      "2025-09-16 15:09:19,597 - INFO - AFC remote call 1 is done.\n",
      "2025-09-16 15:09:19,599 - INFO - ✅ Classified ticket TICKET-256: ['SSO', 'HOW_TO'] (confidence: 0.900)\n",
      "2025-09-16 15:09:19,600 - INFO - AFC is enabled with max remote calls: 10.\n"
     ]
    },
    {
     "name": "stdout",
     "output_type": "stream",
     "text": [
      "  ✅ Topics: ['SSO', 'HOW_TO'] | Priority: P2 | Confidence: 0.900\n",
      "Classifying 13/30: TICKET-257\n"
     ]
    },
    {
     "name": "stderr",
     "output_type": "stream",
     "text": [
      "2025-09-16 15:09:21,230 - INFO - HTTP Request: POST https://generativelanguage.googleapis.com/v1beta/models/gemini-2.5-flash-lite:generateContent \"HTTP/1.1 200 OK\"\n",
      "2025-09-16 15:09:21,244 - INFO - AFC remote call 1 is done.\n",
      "2025-09-16 15:09:21,249 - INFO - ✅ Classified ticket TICKET-257: ['HOW_TO', 'GLOSSARY', 'SENSITIVE_DATA'] (confidence: 0.900)\n",
      "2025-09-16 15:09:21,250 - INFO - AFC is enabled with max remote calls: 10.\n"
     ]
    },
    {
     "name": "stdout",
     "output_type": "stream",
     "text": [
      "  ✅ Topics: ['HOW_TO', 'GLOSSARY', 'SENSITIVE_DATA'] | Priority: P2 | Confidence: 0.900\n",
      "Classifying 14/30: TICKET-258\n"
     ]
    },
    {
     "name": "stderr",
     "output_type": "stream",
     "text": [
      "2025-09-16 15:09:39,317 - INFO - HTTP Request: POST https://generativelanguage.googleapis.com/v1beta/models/gemini-2.5-flash-lite:generateContent \"HTTP/1.1 200 OK\"\n",
      "2025-09-16 15:09:39,355 - INFO - AFC remote call 1 is done.\n",
      "2025-09-16 15:09:39,360 - INFO - ✅ Classified ticket TICKET-258: ['HOW_TO', 'BEST_PRACTICES'] (confidence: 0.900)\n",
      "2025-09-16 15:09:39,363 - INFO - AFC is enabled with max remote calls: 10.\n"
     ]
    },
    {
     "name": "stdout",
     "output_type": "stream",
     "text": [
      "  ✅ Topics: ['HOW_TO', 'BEST_PRACTICES'] | Priority: P2 | Confidence: 0.900\n",
      "Classifying 15/30: TICKET-259\n"
     ]
    },
    {
     "name": "stderr",
     "output_type": "stream",
     "text": [
      "2025-09-16 15:09:41,818 - INFO - HTTP Request: POST https://generativelanguage.googleapis.com/v1beta/models/gemini-2.5-flash-lite:generateContent \"HTTP/1.1 200 OK\"\n",
      "2025-09-16 15:09:41,854 - INFO - AFC remote call 1 is done.\n",
      "2025-09-16 15:09:41,856 - INFO - ✅ Classified ticket TICKET-259: ['SENSITIVE_DATA', 'HOW_TO'] (confidence: 0.900)\n",
      "2025-09-16 15:09:41,857 - INFO - AFC is enabled with max remote calls: 10.\n"
     ]
    },
    {
     "name": "stdout",
     "output_type": "stream",
     "text": [
      "  ✅ Topics: ['SENSITIVE_DATA', 'HOW_TO'] | Priority: P2 | Confidence: 0.900\n",
      "Classifying 16/30: TICKET-260\n"
     ]
    },
    {
     "name": "stderr",
     "output_type": "stream",
     "text": [
      "2025-09-16 15:09:44,065 - INFO - HTTP Request: POST https://generativelanguage.googleapis.com/v1beta/models/gemini-2.5-flash-lite:generateContent \"HTTP/1.1 200 OK\"\n",
      "2025-09-16 15:09:44,080 - INFO - AFC remote call 1 is done.\n",
      "2025-09-16 15:09:44,081 - INFO - ✅ Classified ticket TICKET-260: ['API_SDK', 'HOW_TO'] (confidence: 0.900)\n",
      "2025-09-16 15:09:44,082 - INFO - AFC is enabled with max remote calls: 10.\n"
     ]
    },
    {
     "name": "stdout",
     "output_type": "stream",
     "text": [
      "  ✅ Topics: ['API_SDK', 'HOW_TO'] | Priority: P2 | Confidence: 0.900\n",
      "Classifying 17/30: TICKET-261\n"
     ]
    },
    {
     "name": "stderr",
     "output_type": "stream",
     "text": [
      "2025-09-16 15:09:45,657 - INFO - HTTP Request: POST https://generativelanguage.googleapis.com/v1beta/models/gemini-2.5-flash-lite:generateContent \"HTTP/1.1 200 OK\"\n",
      "2025-09-16 15:09:45,668 - INFO - AFC remote call 1 is done.\n",
      "2025-09-16 15:09:45,675 - INFO - ✅ Classified ticket TICKET-261: ['SSO', 'HOW_TO'] (confidence: 0.900)\n",
      "2025-09-16 15:09:45,676 - INFO - AFC is enabled with max remote calls: 10.\n"
     ]
    },
    {
     "name": "stdout",
     "output_type": "stream",
     "text": [
      "  ✅ Topics: ['SSO', 'HOW_TO'] | Priority: P1 | Confidence: 0.900\n",
      "Classifying 18/30: TICKET-262\n"
     ]
    },
    {
     "name": "stderr",
     "output_type": "stream",
     "text": [
      "2025-09-16 15:09:47,550 - INFO - HTTP Request: POST https://generativelanguage.googleapis.com/v1beta/models/gemini-2.5-flash-lite:generateContent \"HTTP/1.1 200 OK\"\n",
      "2025-09-16 15:09:47,577 - INFO - AFC remote call 1 is done.\n",
      "2025-09-16 15:09:47,580 - INFO - ✅ Classified ticket TICKET-262: ['SSO', 'PRODUCT'] (confidence: 0.900)\n",
      "2025-09-16 15:09:47,591 - INFO - AFC is enabled with max remote calls: 10.\n"
     ]
    },
    {
     "name": "stdout",
     "output_type": "stream",
     "text": [
      "  ✅ Topics: ['SSO', 'PRODUCT'] | Priority: P1 | Confidence: 0.900\n",
      "Classifying 19/30: TICKET-263\n"
     ]
    },
    {
     "name": "stderr",
     "output_type": "stream",
     "text": [
      "2025-09-16 15:09:49,092 - INFO - HTTP Request: POST https://generativelanguage.googleapis.com/v1beta/models/gemini-2.5-flash-lite:generateContent \"HTTP/1.1 200 OK\"\n",
      "2025-09-16 15:09:49,105 - INFO - AFC remote call 1 is done.\n",
      "2025-09-16 15:09:49,106 - INFO - ✅ Classified ticket TICKET-263: ['CONNECTOR', 'SENSITIVE_DATA', 'API_SDK', 'OTHER'] (confidence: 0.800)\n",
      "2025-09-16 15:09:49,110 - INFO - AFC is enabled with max remote calls: 10.\n"
     ]
    },
    {
     "name": "stdout",
     "output_type": "stream",
     "text": [
      "  ✅ Topics: ['CONNECTOR', 'SENSITIVE_DATA', 'API_SDK', 'OTHER'] | Priority: P2 | Confidence: 0.800\n",
      "Classifying 20/30: TICKET-264\n"
     ]
    },
    {
     "name": "stderr",
     "output_type": "stream",
     "text": [
      "2025-09-16 15:09:51,257 - INFO - HTTP Request: POST https://generativelanguage.googleapis.com/v1beta/models/gemini-2.5-flash-lite:generateContent \"HTTP/1.1 200 OK\"\n",
      "2025-09-16 15:09:51,380 - INFO - AFC remote call 1 is done.\n",
      "2025-09-16 15:09:51,382 - INFO - ✅ Classified ticket TICKET-264: ['HOW_TO', 'API_SDK', 'SENSITIVE_DATA'] (confidence: 0.900)\n",
      "2025-09-16 15:09:51,384 - INFO - AFC is enabled with max remote calls: 10.\n"
     ]
    },
    {
     "name": "stdout",
     "output_type": "stream",
     "text": [
      "  ✅ Topics: ['HOW_TO', 'API_SDK', 'SENSITIVE_DATA'] | Priority: P2 | Confidence: 0.900\n",
      "Classifying 21/30: TICKET-265\n"
     ]
    },
    {
     "name": "stderr",
     "output_type": "stream",
     "text": [
      "2025-09-16 15:10:41,228 - INFO - HTTP Request: POST https://generativelanguage.googleapis.com/v1beta/models/gemini-2.5-flash-lite:generateContent \"HTTP/1.1 200 OK\"\n",
      "2025-09-16 15:10:41,324 - INFO - AFC remote call 1 is done.\n",
      "2025-09-16 15:10:41,327 - INFO - ✅ Classified ticket TICKET-265: ['HOW_TO', 'API_SDK'] (confidence: 0.900)\n",
      "2025-09-16 15:10:41,336 - INFO - AFC is enabled with max remote calls: 10.\n"
     ]
    },
    {
     "name": "stdout",
     "output_type": "stream",
     "text": [
      "  ✅ Topics: ['HOW_TO', 'API_SDK'] | Priority: P2 | Confidence: 0.900\n",
      "Classifying 22/30: TICKET-266\n"
     ]
    },
    {
     "name": "stderr",
     "output_type": "stream",
     "text": [
      "2025-09-16 15:10:45,095 - INFO - HTTP Request: POST https://generativelanguage.googleapis.com/v1beta/models/gemini-2.5-flash-lite:generateContent \"HTTP/1.1 200 OK\"\n",
      "2025-09-16 15:10:45,111 - INFO - AFC remote call 1 is done.\n",
      "2025-09-16 15:10:45,112 - INFO - ✅ Classified ticket TICKET-266: ['API_SDK', 'GLOSSARY', 'HOW_TO'] (confidence: 0.900)\n",
      "2025-09-16 15:10:45,115 - INFO - AFC is enabled with max remote calls: 10.\n"
     ]
    },
    {
     "name": "stdout",
     "output_type": "stream",
     "text": [
      "  ✅ Topics: ['API_SDK', 'GLOSSARY', 'HOW_TO'] | Priority: P2 | Confidence: 0.900\n",
      "Classifying 23/30: TICKET-267\n"
     ]
    },
    {
     "name": "stderr",
     "output_type": "stream",
     "text": [
      "2025-09-16 15:10:49,229 - INFO - HTTP Request: POST https://generativelanguage.googleapis.com/v1beta/models/gemini-2.5-flash-lite:generateContent \"HTTP/1.1 200 OK\"\n",
      "2025-09-16 15:10:49,247 - INFO - AFC remote call 1 is done.\n",
      "2025-09-16 15:10:49,249 - INFO - ✅ Classified ticket TICKET-267: ['API_SDK', 'HOW_TO'] (confidence: 0.900)\n",
      "2025-09-16 15:10:49,251 - INFO - AFC is enabled with max remote calls: 10.\n"
     ]
    },
    {
     "name": "stdout",
     "output_type": "stream",
     "text": [
      "  ✅ Topics: ['API_SDK', 'HOW_TO'] | Priority: P2 | Confidence: 0.900\n",
      "Classifying 24/30: TICKET-268\n"
     ]
    },
    {
     "name": "stderr",
     "output_type": "stream",
     "text": [
      "2025-09-16 15:10:52,059 - INFO - HTTP Request: POST https://generativelanguage.googleapis.com/v1beta/models/gemini-2.5-flash-lite:generateContent \"HTTP/1.1 200 OK\"\n",
      "2025-09-16 15:10:52,078 - INFO - AFC remote call 1 is done.\n",
      "2025-09-16 15:10:52,080 - INFO - ✅ Classified ticket TICKET-268: ['API_SDK', 'SENSITIVE_DATA', 'OTHER'] (confidence: 0.900)\n",
      "2025-09-16 15:10:52,082 - INFO - AFC is enabled with max remote calls: 10.\n"
     ]
    },
    {
     "name": "stdout",
     "output_type": "stream",
     "text": [
      "  ✅ Topics: ['API_SDK', 'SENSITIVE_DATA', 'OTHER'] | Priority: P2 | Confidence: 0.900\n",
      "Classifying 25/30: TICKET-269\n"
     ]
    },
    {
     "name": "stderr",
     "output_type": "stream",
     "text": [
      "2025-09-16 15:10:55,979 - INFO - HTTP Request: POST https://generativelanguage.googleapis.com/v1beta/models/gemini-2.5-flash-lite:generateContent \"HTTP/1.1 200 OK\"\n",
      "2025-09-16 15:10:55,992 - INFO - AFC remote call 1 is done.\n",
      "2025-09-16 15:10:55,993 - INFO - ✅ Classified ticket TICKET-269: ['HOW_TO', 'BEST_PRACTICES'] (confidence: 0.900)\n",
      "2025-09-16 15:10:55,994 - INFO - AFC is enabled with max remote calls: 10.\n"
     ]
    },
    {
     "name": "stdout",
     "output_type": "stream",
     "text": [
      "  ✅ Topics: ['HOW_TO', 'BEST_PRACTICES'] | Priority: P2 | Confidence: 0.900\n",
      "Classifying 26/30: TICKET-270\n"
     ]
    },
    {
     "name": "stderr",
     "output_type": "stream",
     "text": [
      "2025-09-16 15:10:58,285 - INFO - HTTP Request: POST https://generativelanguage.googleapis.com/v1beta/models/gemini-2.5-flash-lite:generateContent \"HTTP/1.1 200 OK\"\n",
      "2025-09-16 15:10:58,303 - INFO - AFC remote call 1 is done.\n",
      "2025-09-16 15:10:58,304 - INFO - ✅ Classified ticket TICKET-270: ['CONNECTOR', 'LINEAGE'] (confidence: 0.900)\n",
      "2025-09-16 15:10:58,306 - INFO - AFC is enabled with max remote calls: 10.\n"
     ]
    },
    {
     "name": "stdout",
     "output_type": "stream",
     "text": [
      "  ✅ Topics: ['CONNECTOR', 'LINEAGE'] | Priority: P0 | Confidence: 0.900\n",
      "Classifying 27/30: TICKET-271\n"
     ]
    },
    {
     "name": "stderr",
     "output_type": "stream",
     "text": [
      "2025-09-16 15:12:16,665 - INFO - HTTP Request: POST https://generativelanguage.googleapis.com/v1beta/models/gemini-2.5-flash-lite:generateContent \"HTTP/1.1 200 OK\"\n",
      "2025-09-16 15:12:16,728 - INFO - AFC remote call 1 is done.\n",
      "2025-09-16 15:12:16,732 - INFO - ✅ Classified ticket TICKET-271: ['PRODUCT', 'CONNECTOR'] (confidence: 0.900)\n",
      "2025-09-16 15:12:16,738 - INFO - AFC is enabled with max remote calls: 10.\n"
     ]
    },
    {
     "name": "stdout",
     "output_type": "stream",
     "text": [
      "  ✅ Topics: ['PRODUCT', 'CONNECTOR'] | Priority: P1 | Confidence: 0.900\n",
      "Classifying 28/30: TICKET-272\n"
     ]
    },
    {
     "name": "stderr",
     "output_type": "stream",
     "text": [
      "2025-09-16 15:12:17,865 - INFO - HTTP Request: POST https://generativelanguage.googleapis.com/v1beta/models/gemini-2.5-flash-lite:generateContent \"HTTP/1.1 200 OK\"\n",
      "2025-09-16 15:12:17,880 - INFO - AFC remote call 1 is done.\n",
      "2025-09-16 15:12:17,882 - INFO - ✅ Classified ticket TICKET-272: ['HOW_TO', 'BEST_PRACTICES'] (confidence: 0.900)\n",
      "2025-09-16 15:12:17,883 - INFO - AFC is enabled with max remote calls: 10.\n"
     ]
    },
    {
     "name": "stdout",
     "output_type": "stream",
     "text": [
      "  ✅ Topics: ['HOW_TO', 'BEST_PRACTICES'] | Priority: P2 | Confidence: 0.900\n",
      "Classifying 29/30: TICKET-273\n"
     ]
    },
    {
     "name": "stderr",
     "output_type": "stream",
     "text": [
      "2025-09-16 15:12:19,550 - INFO - HTTP Request: POST https://generativelanguage.googleapis.com/v1beta/models/gemini-2.5-flash-lite:generateContent \"HTTP/1.1 200 OK\"\n",
      "2025-09-16 15:12:19,566 - INFO - AFC remote call 1 is done.\n",
      "2025-09-16 15:12:19,569 - INFO - ✅ Classified ticket TICKET-273: ['BEST_PRACTICES'] (confidence: 0.800)\n",
      "2025-09-16 15:12:19,572 - INFO - AFC is enabled with max remote calls: 10.\n"
     ]
    },
    {
     "name": "stdout",
     "output_type": "stream",
     "text": [
      "  ✅ Topics: ['BEST_PRACTICES'] | Priority: P2 | Confidence: 0.800\n",
      "Classifying 30/30: TICKET-274\n"
     ]
    },
    {
     "name": "stderr",
     "output_type": "stream",
     "text": [
      "2025-09-16 15:12:21,188 - INFO - HTTP Request: POST https://generativelanguage.googleapis.com/v1beta/models/gemini-2.5-flash-lite:generateContent \"HTTP/1.1 200 OK\"\n",
      "2025-09-16 15:12:21,196 - INFO - AFC remote call 1 is done.\n",
      "2025-09-16 15:12:21,196 - INFO - ✅ Classified ticket TICKET-274: ['BEST_PRACTICES', 'HOW_TO'] (confidence: 0.900)\n"
     ]
    },
    {
     "name": "stdout",
     "output_type": "stream",
     "text": [
      "  ✅ Topics: ['BEST_PRACTICES', 'HOW_TO'] | Priority: P2 | Confidence: 0.900\n",
      "\n",
      "📊 Fresh Classification Complete!\n",
      "✅ Success Rate: 90.0% (27/30)\n",
      "📈 Average Confidence: 0.893\n",
      "\n",
      "🏷️  Topic Distribution:\n",
      "   HOW_TO: 18 tickets\n",
      "   API_SDK: 9 tickets\n",
      "   CONNECTOR: 7 tickets\n",
      "   BEST_PRACTICES: 7 tickets\n",
      "   PRODUCT: 5 tickets\n",
      "   SENSITIVE_DATA: 5 tickets\n",
      "   LINEAGE: 4 tickets\n",
      "   GLOSSARY: 4 tickets\n",
      "   SSO: 3 tickets\n",
      "   OTHER: 2 tickets\n"
     ]
    }
   ],
   "source": [
    "# Fresh Triage Classification of Real Tickets\n",
    "print(\"🎯 Running FRESH triage classification on real sample tickets...\")\n",
    "\n",
    "# Initialize classifier\n",
    "classifier = TriageClassifier()\n",
    "\n",
    "# Classify tickets freshly (not using pre-classified data)\n",
    "classified_results = []\n",
    "classification_embeddings = []\n",
    "\n",
    "for i, ticket in enumerate(tickets):\n",
    "    print(f\"Classifying {i+1}/{len(tickets)}: {ticket['id']}\")\n",
    "    \n",
    "    try:\n",
    "        # Fresh classification\n",
    "        triage_result = classifier.classify_ticket(ticket)\n",
    "        \n",
    "        # Store results for evaluation\n",
    "        classified_results.append({\n",
    "            'ticket_id': ticket['id'],\n",
    "            'subject': ticket['subject'],\n",
    "            'body': ticket['body'],\n",
    "            'pred_topics': tuple(triage_result.topics) if triage_result.topics else (),\n",
    "            'priority': triage_result.priority,\n",
    "            'confidence': triage_result.confidence,\n",
    "            'reasoning': triage_result.reasoning,\n",
    "            'classification_success': triage_result.classification_success\n",
    "        })\n",
    "        \n",
    "        print(f\"  ✅ Topics: {triage_result.topics} | Priority: {triage_result.priority} | Confidence: {triage_result.confidence:.3f}\")\n",
    "        \n",
    "    except Exception as e:\n",
    "        print(f\"  ❌ Classification failed: {e}\")\n",
    "        classified_results.append({\n",
    "            'ticket_id': ticket['id'],\n",
    "            'subject': ticket['subject'],\n",
    "            'body': ticket['body'],\n",
    "            'pred_topics': (),\n",
    "            'priority': 'UNKNOWN',\n",
    "            'confidence': 0.0,\n",
    "            'reasoning': f'Error: {str(e)}',\n",
    "            'classification_success': False\n",
    "        })\n",
    "\n",
    "# Convert to DataFrame for evaluation\n",
    "classified_df = pd.DataFrame(classified_results)\n",
    "success_rate = classified_df['classification_success'].mean()\n",
    "\n",
    "print(f\"\\n📊 Fresh Classification Complete!\")\n",
    "print(f\"✅ Success Rate: {success_rate:.1%} ({classified_df['classification_success'].sum()}/{len(classified_df)})\")\n",
    "print(f\"📈 Average Confidence: {classified_df[classified_df['classification_success']]['confidence'].mean():.3f}\")\n",
    "\n",
    "# Show topic distribution\n",
    "successful_classifications = classified_df[classified_df['classification_success']]\n",
    "if len(successful_classifications) > 0:\n",
    "    print(f\"\\n🏷️  Topic Distribution:\")\n",
    "    all_topics = []\n",
    "    for topics_tuple in successful_classifications['pred_topics']:\n",
    "        all_topics.extend(list(topics_tuple))\n",
    "    \n",
    "    if all_topics:\n",
    "        from collections import Counter\n",
    "        topic_counts = Counter(all_topics)\n",
    "        for topic, count in topic_counts.most_common():\n",
    "            print(f\"   {topic}: {count} tickets\")"
   ]
  },
  {
   "cell_type": "markdown",
   "id": "a1089249",
   "metadata": {},
   "source": [
    "## 2. Proper Answer Quality Evaluation Framework\n",
    "\n",
    "This section evaluates end-to-end answer quality using a **validated methodology** (not web scraping).\n",
    "\n",
    "**Methodology:**\n",
    "- Run full pipeline on real sample tickets\n",
    "- Measure response completeness against question intent\n",
    "- Evaluate source relevance using semantic similarity\n",
    "- Assess consistency and reliability across multiple runs\n",
    "- Compare against expected answer patterns\n",
    "\n",
    "**Key Metrics:**\n",
    "- **Response Completeness**: Does the answer address all aspects of the question?\n",
    "- **Source Quality**: Are retrieved sources relevant and authoritative?\n",
    "- **Consistency**: Similar questions get similar quality answers?\n",
    "- **Coverage**: System handles diverse question types effectively?"
   ]
  },
  {
   "cell_type": "code",
   "execution_count": null,
   "id": "26e75d25",
   "metadata": {},
   "outputs": [
    {
     "name": "stdout",
     "output_type": "stream",
     "text": [
      "✅ Proper Answer Quality Evaluator initialized - no web scraping!\n"
     ]
    }
   ],
   "source": [
    "# Proper Answer Quality Evaluation Framework\n",
    "from sentence_transformers import SentenceTransformer\n",
    "from sklearn.metrics.pairwise import cosine_similarity\n",
    "\n",
    "class ProperAnswerEvaluator:\n",
    "    \"\"\"Validated answer quality evaluator - no web scraping nonsense\"\"\"\n",
    "    \n",
    "    def __init__(self):\n",
    "        self.embedder = SentenceTransformer('all-MiniLM-L6-v2')\n",
    "        \n",
    "    def evaluate_completeness(self, question, answer):\n",
    "        \"\"\"Measure how well the answer addresses the question using semantic similarity\"\"\"\n",
    "        if not answer or not question:\n",
    "            return 0.0\n",
    "            \n",
    "        # Encode question and answer\n",
    "        q_embedding = self.embedder.encode([question])\n",
    "        a_embedding = self.embedder.encode([answer])\n",
    "        \n",
    "        # Calculate semantic similarity\n",
    "        similarity = cosine_similarity(q_embedding, a_embedding)[0][0]\n",
    "        return similarity\n",
    "    \n",
    "    def evaluate_source_relevance(self, question, sources):\n",
    "        \"\"\"Evaluate source relevance based on URL patterns and count\"\"\"\n",
    "        if not sources:\n",
    "            return 0.0\n",
    "        \n",
    "        # Score based on source diversity and count\n",
    "        source_count_score = min(len(sources) / 5.0, 1.0)  # Optimal ~5 sources\n",
    "        \n",
    "        # Score based on URL patterns (Atlan docs are good sources)\n",
    "        relevance_patterns = [\n",
    "            'docs.atlan.com',\n",
    "            'developer.atlan.com',\n",
    "            'atlan.com/help',\n",
    "            'atlan.com/guide'\n",
    "        ]\n",
    "        \n",
    "        relevant_sources = 0\n",
    "        for source in sources:\n",
    "            if any(pattern in str(source).lower() for pattern in relevance_patterns):\n",
    "                relevant_sources += 1\n",
    "        \n",
    "        relevance_score = relevant_sources / len(sources) if sources else 0.0\n",
    "        \n",
    "        return (source_count_score + relevance_score) / 2.0\n",
    "    \n",
    "    def evaluate_response_quality(self, question, answer, sources, topic_classification):\n",
    "        \"\"\"Comprehensive response quality evaluation\"\"\"\n",
    "        \n",
    "        # Core metrics\n",
    "        completeness = self.evaluate_completeness(question, answer)\n",
    "        source_quality = self.evaluate_source_relevance(question, sources)\n",
    "        \n",
    "        # Response characteristics\n",
    "        response_length = len(answer) if answer else 0\n",
    "        length_score = 1.0 if 200 <= response_length <= 2000 else 0.5  # Reasonable length\n",
    "        \n",
    "        # Has proper structure (basic check)\n",
    "        structure_score = 1.0 if answer and ('*' in answer or '\\n' in answer) else 0.5\n",
    "        \n",
    "        # Classification confidence (if classification succeeded)\n",
    "        classification_score = 1.0 if topic_classification and topic_classification != 'UNKNOWN' else 0.0\n",
    "        \n",
    "        # Overall quality score\n",
    "        overall_quality = (\n",
    "            completeness * 0.4 +           # Most important\n",
    "            source_quality * 0.3 +         # Very important  \n",
    "            length_score * 0.1 +           # Basic check\n",
    "            structure_score * 0.1 +        # Basic check\n",
    "            classification_score * 0.1     # Pipeline success\n",
    "        )\n",
    "        \n",
    "        # Quality grade\n",
    "        if overall_quality >= 0.8:\n",
    "            grade = 'A'\n",
    "        elif overall_quality >= 0.6:\n",
    "            grade = 'B'\n",
    "        elif overall_quality >= 0.4:\n",
    "            grade = 'C'\n",
    "        else:\n",
    "            grade = 'F'\n",
    "        \n",
    "        return {\n",
    "            'completeness_score': round(completeness, 3),\n",
    "            'source_quality_score': round(source_quality, 3),\n",
    "            'response_length': response_length,\n",
    "            'length_score': length_score,\n",
    "            'structure_score': structure_score,\n",
    "            'classification_score': classification_score,\n",
    "            'overall_quality': round(overall_quality, 3),\n",
    "            'quality_grade': grade\n",
    "        }\n",
    "\n",
    "# Initialize proper evaluator\n",
    "print(\"✅ Proper Answer Quality Evaluator initialized\")"
   ]
  },
  {
   "cell_type": "markdown",
   "id": "9ad5b713",
   "metadata": {},
   "source": [
    "## 3. Triage Accuracy Against Human Labels\n",
    "\n",
    "Evaluating classification accuracy against your golden dataset with human-labeled categories.\n",
    "\n",
    "**Methodology:**\n",
    "- Load human-labeled ground truth from `Ticket_Classification_Results.csv`\n",
    "- Compare system predictions vs. human classifications\n",
    "- Calculate standard classification metrics (accuracy, precision, recall, F1)\n",
    "- Analyze confusion matrix to identify systematic errors\n",
    "- Provide category-specific performance breakdown"
   ]
  },
  {
   "cell_type": "code",
   "execution_count": 5,
   "id": "801db51b",
   "metadata": {},
   "outputs": [
    {
     "name": "stdout",
     "output_type": "stream",
     "text": [
      "🎯 Evaluating triage accuracy against human-labeled ground truth...\n",
      "✅ Loaded golden dataset with 30 human-labeled tickets\n",
      "\n",
      "📊 Human-labeled category distribution:\n",
      "   How-to: 13 tickets\n",
      "   Connector: 7 tickets\n",
      "   Lineage: 2 tickets\n",
      "   Glossary: 2 tickets\n",
      "   SSO: 2 tickets\n",
      "   API/SDK: 2 tickets\n",
      "   Best practices: 1 tickets\n",
      "   Product: 1 tickets\n",
      "\n",
      "🔍 Mapping system predictions to human labels...\n",
      "   📊 Found 30 tickets in both datasets for comparison\n",
      "   📊 Human dataset: 30 tickets\n",
      "   📊 System dataset: 30 tickets\n",
      "\n",
      "📈 Classification Accuracy Results:\n",
      "   Valid predictions: 27/30 (90.0%)\n",
      "   Overall Accuracy: 0.370 (37.0%)\n",
      "\n",
      "📋 All Ticket Comparisons:\n",
      "   ❌ TICKET-247: Human='How-to' vs System='Connector'\n",
      "   ❌ TICKET-264: Human='API/SDK' vs System='How-to'\n",
      "   ❌ TICKET-246: Human='Connector' vs System='How-to'\n",
      "   ✅ TICKET-248: Human='How-to' vs System='How-to'\n",
      "   ✅ TICKET-263: Human='Connector' vs System='Connector'\n",
      "   ✅ TICKET-262: Human='SSO' vs System='SSO'\n",
      "   ❌ TICKET-256: Human='How-to' vs System='SSO'\n",
      "   ❌ TICKET-259: Human='How-to' vs System='SENSITIVE_DATA'\n",
      "   ❌ TICKET-271: Human='Connector' vs System='Product'\n",
      "   ❌ TICKET-255: Human='Glossary' vs System='How-to'\n",
      "   ❌ TICKET-268: Human='Connector' vs System='API/SDK'\n",
      "   ✅ TICKET-251: Human='How-to' vs System='How-to'\n",
      "   ❌ TICKET-266: Human='How-to' vs System='API/SDK'\n",
      "   ✅ TICKET-270: Human='Connector' vs System='Connector'\n",
      "   ✅ TICKET-267: Human='API/SDK' vs System='API/SDK'\n",
      "   ✅ TICKET-269: Human='How-to' vs System='How-to'\n",
      "   ❌ TICKET-253: Human='Connector' vs System='Lineage'\n",
      "   ✅ TICKET-272: Human='How-to' vs System='How-to'\n",
      "   ✅ TICKET-261: Human='SSO' vs System='SSO'\n",
      "   ❌ TICKET-254: Human='How-to' vs System='Glossary'\n",
      "   ❌ TICKET-273: Human='Product' vs System='Best practices'\n",
      "   ❌ TICKET-274: Human='How-to' vs System='Best practices'\n",
      "   ❌ TICKET-252: Human='How-to' vs System='Lineage'\n",
      "   ❌ TICKET-258: Human='Best practices' vs System='How-to'\n",
      "   ❌ TICKET-260: Human='How-to' vs System='API/SDK'\n",
      "   ❌ TICKET-257: Human='Glossary' vs System='How-to'\n",
      "   ✅ TICKET-265: Human='How-to' vs System='How-to'\n",
      "\n",
      "🎯 Summary:\n",
      "   Correct classifications: 10/27 (37.0%)\n",
      "   Misclassifications: 17/27 (63.0%)\n",
      "\n",
      "📊 Classification Report:\n",
      "                precision    recall  f1-score   support\n",
      "\n",
      "       API/SDK       0.25      0.50      0.33         2\n",
      "Best practices       0.00      0.00      0.00         1\n",
      "     Connector       0.67      0.33      0.44         6\n",
      "      Glossary       0.00      0.00      0.00         2\n",
      "        How-to       0.50      0.38      0.43        13\n",
      "       Lineage       0.00      0.00      0.00         0\n",
      "       Product       0.00      0.00      0.00         1\n",
      "SENSITIVE_DATA       0.00      0.00      0.00         0\n",
      "           SSO       0.67      1.00      0.80         2\n",
      "\n",
      "      accuracy                           0.37        27\n",
      "     macro avg       0.23      0.25      0.22        27\n",
      "  weighted avg       0.46      0.37      0.39        27\n",
      "\n"
     ]
    },
    {
     "name": "stderr",
     "output_type": "stream",
     "text": [
      "/Users/suhanijain/Desktop/atlan/.venv/lib/python3.13/site-packages/sklearn/metrics/_classification.py:1731: UndefinedMetricWarning: Recall is ill-defined and being set to 0.0 in labels with no true samples. Use `zero_division` parameter to control this behavior.\n",
      "  _warn_prf(average, modifier, f\"{metric.capitalize()} is\", result.shape[0])\n",
      "/Users/suhanijain/Desktop/atlan/.venv/lib/python3.13/site-packages/sklearn/metrics/_classification.py:1731: UndefinedMetricWarning: Recall is ill-defined and being set to 0.0 in labels with no true samples. Use `zero_division` parameter to control this behavior.\n",
      "  _warn_prf(average, modifier, f\"{metric.capitalize()} is\", result.shape[0])\n",
      "/Users/suhanijain/Desktop/atlan/.venv/lib/python3.13/site-packages/sklearn/metrics/_classification.py:1731: UndefinedMetricWarning: Recall is ill-defined and being set to 0.0 in labels with no true samples. Use `zero_division` parameter to control this behavior.\n",
      "  _warn_prf(average, modifier, f\"{metric.capitalize()} is\", result.shape[0])\n"
     ]
    }
   ],
   "source": [
    "# Triage Accuracy Evaluation Against Human Labels\n",
    "from sklearn.metrics import accuracy_score, classification_report, confusion_matrix\n",
    "import seaborn as sns\n",
    "\n",
    "print(\"🎯 Evaluating triage accuracy against human-labeled ground truth...\")\n",
    "\n",
    "# Load human-labeled golden dataset\n",
    "try:\n",
    "    golden_df = pd.read_csv('Ticket_Classification_Results.csv')\n",
    "    print(f\"✅ Loaded golden dataset with {len(golden_df)} human-labeled tickets\")\n",
    "    \n",
    "    # Show golden dataset categories\n",
    "    golden_categories = golden_df['category'].value_counts()\n",
    "    print(f\"\\n📊 Human-labeled category distribution:\")\n",
    "    for category, count in golden_categories.items():\n",
    "        print(f\"   {category}: {count} tickets\")\n",
    "    \n",
    "except FileNotFoundError:\n",
    "    print(\"❌ Ticket_Classification_Results.csv not found!\")\n",
    "    golden_df = None\n",
    "\n",
    "if golden_df is not None:\n",
    "    # Map system predictions to human labels for comparison\n",
    "    print(f\"\\n🔍 Mapping system predictions to human labels...\")\n",
    "    \n",
    "    # Create mapping between ticket IDs - ensure we use SAME tickets for both human and system\n",
    "    comparison_data = []\n",
    "    \n",
    "    # Only compare tickets that exist in BOTH datasets\n",
    "    golden_ticket_ids = set(golden_df['id'].tolist())\n",
    "    system_ticket_ids = set([result['ticket_id'] for result in classified_results])\n",
    "    common_ticket_ids = golden_ticket_ids.intersection(system_ticket_ids)\n",
    "    \n",
    "    print(f\"   📊 Found {len(common_ticket_ids)} tickets in both datasets for comparison\")\n",
    "    print(f\"   📊 Human dataset: {len(golden_ticket_ids)} tickets\")\n",
    "    print(f\"   📊 System dataset: {len(system_ticket_ids)} tickets\")\n",
    "    \n",
    "    for ticket_id in common_ticket_ids:\n",
    "        # Get human label\n",
    "        human_row = golden_df[golden_df['id'] == ticket_id].iloc[0]\n",
    "        human_label = human_row['category']\n",
    "        \n",
    "        # Get system prediction for the same ticket\n",
    "        system_result = None\n",
    "        for result in classified_results:\n",
    "            if result['ticket_id'] == ticket_id:\n",
    "                system_result = result\n",
    "                break\n",
    "        \n",
    "        if system_result:\n",
    "            if system_result['classification_success'] and system_result['pred_topics']:\n",
    "                # Take first topic as primary classification\n",
    "                system_prediction = system_result['pred_topics'][0] if system_result['pred_topics'] else 'UNKNOWN'\n",
    "                system_confidence = system_result['confidence']\n",
    "            else:\n",
    "                system_prediction = 'FAILED'\n",
    "                system_confidence = 0.0\n",
    "        else:\n",
    "            system_prediction = 'NOT_PROCESSED'\n",
    "            system_confidence = 0.0\n",
    "        \n",
    "        comparison_data.append({\n",
    "            'ticket_id': ticket_id,\n",
    "            'human_label': human_label,\n",
    "            'system_prediction': system_prediction,\n",
    "            'system_confidence': system_confidence,\n",
    "            'subject': human_row['subject']\n",
    "        })\n",
    "    \n",
    "    comparison_df = pd.DataFrame(comparison_data)\n",
    "    \n",
    "    # Map system categories to human categories for fair comparison\n",
    "    category_mapping = {\n",
    "        'CONNECTOR': 'Connector',\n",
    "        'HOW_TO': 'How-to', \n",
    "        'LINEAGE': 'Lineage',\n",
    "        'SSO': 'SSO',\n",
    "        'API_SDK': 'API/SDK',\n",
    "        'BEST_PRACTICES': 'Best practices',\n",
    "        'PRODUCT': 'Product',\n",
    "        'GLOSSARY': 'Glossary'\n",
    "    }\n",
    "    \n",
    "    comparison_df['system_mapped'] = comparison_df['system_prediction'].map(category_mapping)\n",
    "    comparison_df['system_mapped'] = comparison_df['system_mapped'].fillna(comparison_df['system_prediction'])\n",
    "    \n",
    "    # Calculate accuracy metrics for valid predictions only\n",
    "    valid_predictions = comparison_df[\n",
    "        (comparison_df['system_mapped'] != 'FAILED') & \n",
    "        (comparison_df['system_mapped'] != 'NOT_PROCESSED')\n",
    "    ]\n",
    "    \n",
    "    if len(valid_predictions) > 0:\n",
    "        print(f\"\\n📈 Classification Accuracy Results:\")\n",
    "        print(f\"   Valid predictions: {len(valid_predictions)}/{len(comparison_df)} ({len(valid_predictions)/len(comparison_df)*100:.1f}%)\")\n",
    "        \n",
    "        # Overall accuracy\n",
    "        accuracy = accuracy_score(valid_predictions['human_label'], valid_predictions['system_mapped'])\n",
    "        print(f\"   Overall Accuracy: {accuracy:.3f} ({accuracy*100:.1f}%)\")\n",
    "        \n",
    "        # Show ALL comparisons for transparency\n",
    "        print(f\"\\n📋 All Ticket Comparisons:\")\n",
    "        for _, row in valid_predictions.iterrows():\n",
    "            match_status = \"✅\" if row['human_label'] == row['system_mapped'] else \"❌\"\n",
    "            print(f\"   {match_status} {row['ticket_id']}: Human='{row['human_label']}' vs System='{row['system_mapped']}'\")\n",
    "        \n",
    "        # Count matches and mismatches\n",
    "        matches = (valid_predictions['human_label'] == valid_predictions['system_mapped']).sum()\n",
    "        mismatches = len(valid_predictions) - matches\n",
    "        print(f\"\\n🎯 Summary:\")\n",
    "        print(f\"   Correct classifications: {matches}/{len(valid_predictions)} ({matches/len(valid_predictions)*100:.1f}%)\")\n",
    "        print(f\"   Misclassifications: {mismatches}/{len(valid_predictions)} ({mismatches/len(valid_predictions)*100:.1f}%)\")\n",
    "        \n",
    "        # Show detailed breakdown by category\n",
    "        if len(valid_predictions) > 5:\n",
    "            print(f\"\\n📊 Classification Report:\")\n",
    "            print(classification_report(valid_predictions['human_label'], valid_predictions['system_mapped']))\n",
    "        \n",
    "    else:\n",
    "        print(\"❌ No valid predictions to evaluate!\")\n",
    "        \n",
    "else:\n",
    "    print(\"⚠️ Skipping accuracy evaluation - golden dataset not available\")"
   ]
  },
  {
   "cell_type": "markdown",
   "id": "0fbd9385",
   "metadata": {},
   "source": [
    "## 4. Advanced Triage Evaluation\n",
    "\n",
    "Using your `triage_evaluation_full.py` tools for deeper analysis of classification quality."
   ]
  },
  {
   "cell_type": "code",
   "execution_count": 7,
   "id": "bdf43ca6",
   "metadata": {},
   "outputs": [
    {
     "name": "stderr",
     "output_type": "stream",
     "text": [
      "2025-09-16 15:39:28,596 - INFO - Use pytorch device_name: mps\n",
      "2025-09-16 15:39:28,599 - INFO - Load pretrained SentenceTransformer: all-MiniLM-L6-v2\n"
     ]
    },
    {
     "name": "stdout",
     "output_type": "stream",
     "text": [
      "📊 Applying your triage_evaluation_full.py tools to fresh classification results...\n"
     ]
    },
    {
     "data": {
      "application/vnd.jupyter.widget-view+json": {
       "model_id": "65a50385d0d5410d813a4b996b66cb54",
       "version_major": 2,
       "version_minor": 0
      },
      "text/plain": [
       "Batches:   0%|          | 0/1 [00:00<?, ?it/s]"
      ]
     },
     "metadata": {},
     "output_type": "display_data"
    },
    {
     "name": "stdout",
     "output_type": "stream",
     "text": [
      "✅ Generated 27 embeddings of dimension 384\n",
      "🔍 Computing topic centroids and metrics...\n",
      "✅ Triage evaluation metrics computed successfully!\n",
      "\n",
      "📈 Topic Coherence Results (top):\n",
      "         topic  size  coherence  outlier_frac  sep_ratio\n",
      "        HOW_TO    18   0.250946      0.055556   0.375444\n",
      "       API_SDK     9   0.281463      0.111111   0.431777\n",
      "     CONNECTOR     7   0.297421      0.000000   0.403420\n",
      "BEST_PRACTICES     7   0.284145      0.000000   0.459897\n",
      "SENSITIVE_DATA     5   0.318400      0.200000   0.455871\n",
      "       PRODUCT     5   0.245711      0.000000   0.365676\n",
      "       LINEAGE     4   0.433352      0.000000   0.669231\n",
      "      GLOSSARY     4   0.318784      0.000000   0.542501\n",
      "           SSO     3   0.455287      0.000000   0.868885\n",
      "         OTHER     2   0.350026      0.000000   0.511815\n",
      "\n",
      "🚨 Confidence Analysis:\n",
      "   Low confidence tickets: 6/27 (22.2%)\n",
      "✅ Saved triage analysis to evaluation_results/triage_analysis\n"
     ]
    }
   ],
   "source": [
    "# Apply Your Validated Triage Evaluation Tools\n",
    "print(\"📊 Applying your triage_evaluation_full.py tools to fresh classification results...\")\n",
    "\n",
    "# Keep only successful classifications\n",
    "successful_results = [r for r in classified_results if r['classification_success']]\n",
    "\n",
    "if len(successful_results) >= 3:  # Need minimum data for meaningful evaluation\n",
    "    # Build evaluation DataFrame with expected columns\n",
    "    df_eval = pd.DataFrame({\n",
    "        'id': [r['ticket_id'] for r in successful_results],\n",
    "        'subject': [r.get('subject', '') for r in successful_results],\n",
    "        'body': [r.get('body', '') for r in successful_results],\n",
    "        'text': [f\"{r.get('subject','')} {r.get('body','')}\".strip() for r in successful_results],\n",
    "        'pred_topics': [r.get('pred_topics', tuple()) for r in successful_results]\n",
    "    })\n",
    "\n",
    "    # Generate embeddings for the tickets' text\n",
    "    embedder = SentenceTransformer('all-MiniLM-L6-v2')\n",
    "    embeddings = embedder.encode(df_eval['text'].fillna(\"\").tolist(), show_progress_bar=True)\n",
    "    emb_norm = l2norm_rows(embeddings)\n",
    "\n",
    "    print(f\"✅ Generated {embeddings.shape[0]} embeddings of dimension {embeddings.shape[1]}\")\n",
    "\n",
    "    # Apply your evaluation functions with correct signatures\n",
    "    try:\n",
    "        print(\"🔍 Computing topic centroids and metrics...\")\n",
    "        topic_to_idxs, centroids = compute_topic_centroids_from_preds(df_eval, emb_norm)\n",
    "        combo_centroids = compute_combo_centroids(df_eval, emb_norm)\n",
    "\n",
    "        topic_summary, combo_summary = build_topic_and_combo_metrics(df_eval, emb_norm, centroids, combo_centroids)\n",
    "        ticket_df = compute_ticket_proxies(df_eval, emb_norm, centroids, combo_centroids)\n",
    "        ticket_df['conf_label'] = tag_confidence(ticket_df)\n",
    "\n",
    "        print(\"✅ Triage evaluation metrics computed successfully!\")\n",
    "\n",
    "        # Display topic coherence results (top 10)\n",
    "        if not topic_summary.empty:\n",
    "            print(\"\\n📈 Topic Coherence Results (top):\")\n",
    "            print(topic_summary[['topic','size','coherence','outlier_frac','sep_ratio']].head(10).to_string(index=False))\n",
    "\n",
    "        # Confidence analysis\n",
    "        low_conf_count = (ticket_df['conf_label'] == 'LOW_CONF').sum()\n",
    "        print(\"\\n🚨 Confidence Analysis:\")\n",
    "        print(f\"   Low confidence tickets: {low_conf_count}/{len(ticket_df)} ({(low_conf_count/len(ticket_df))*100:.1f}%)\")\n",
    "\n",
    "        # Save artifacts and plots\n",
    "        out_dir = os.path.join('evaluation_results', 'triage_analysis')\n",
    "        os.makedirs(out_dir, exist_ok=True)\n",
    "        df_eval.join(ticket_df, how='left').to_csv(os.path.join(out_dir, 'tickets_with_metrics.csv'), index=False)\n",
    "        topic_summary.to_csv(os.path.join(out_dir, 'topic_summary.csv'), index=False)\n",
    "        combo_summary.to_csv(os.path.join(out_dir, 'combo_summary.csv'), index=False)\n",
    "        save_plots(topic_summary, emb_norm, df_eval, out_dir)\n",
    "        print(f\"✅ Saved triage analysis to {out_dir}\")\n",
    "\n",
    "    except Exception as e:\n",
    "        print(f\"⚠️ Error in advanced triage evaluation: {e}\")\n",
    "        print(\"This may happen with small datasets or edge cases.\")\n",
    "else:\n",
    "    print(f\"⚠️ Need at least 3 successful classifications for meaningful evaluation. Got {len(successful_results)}.\")"
   ]
  },
  {
   "cell_type": "markdown",
   "id": "be703ef3",
   "metadata": {},
   "source": [
    "Question 3: Can the system identify ambiguous tickets for human review?\n",
    "Here, I measure the Classification Margin for each ticket. This is the difference between the confidence score of the winning topic and the score of the runner-up. A high margin means the AI was very sure of its choice, while a low margin indicates ambiguity."
   ]
  },
  {
   "cell_type": "code",
   "execution_count": 8,
   "id": "70361aac",
   "metadata": {},
   "outputs": [
    {
     "data": {
      "image/png": "[encoded data removed]",
      "text/plain": [
       "<Figure size 1440x840 with 1 Axes>"
      ]
     },
     "metadata": {},
     "output_type": "display_data"
    }
   ],
   "source": [
    "# Load the per-ticket metrics from triage analysis output\n",
    "triage_output_dir = os.path.join('evaluation_results', 'triage_analysis')\n",
    "tickets_metrics_path = os.path.join(triage_output_dir, 'tickets_with_metrics.csv')\n",
    "\n",
    "if os.path.exists(tickets_metrics_path):\n",
    "    tickets_df = pd.read_csv(tickets_metrics_path)\n",
    "    if 'margin' in tickets_df.columns and tickets_df['margin'].notna().any():\n",
    "        tickets_df = tickets_df.dropna(subset=['margin'])\n",
    "\n",
    "        # Create the plot\n",
    "        plt.figure(figsize=(12, 7))\n",
    "        ax = sns.histplot(tickets_df['margin'], kde=True, bins=20, color='royalblue')\n",
    "        ax.set_title('Distribution of Classification Margin Scores', fontsize=18, pad=20)\n",
    "        ax.set_xlabel('Margin (Confidence in Chosen Topic vs. Next Best)', fontsize=14)\n",
    "        ax.set_ylabel('Number of Tickets', fontsize=14)\n",
    "        plt.axvline(x=0.15, color='red', linestyle='--', label='Low Confidence Threshold (0.15)')\n",
    "        plt.legend(fontsize=12)\n",
    "        plt.show()\n",
    "    else:\n",
    "        print('⚠️ tickets_with_metrics.csv has no usable margin column; skipping margin plot.')\n",
    "else:\n",
    "    print('⚠️ No triage analysis outputs found; run the triage evaluation cells first.')"
   ]
  },
  {
   "cell_type": "markdown",
   "id": "d16a8cf5",
   "metadata": {},
   "source": [
    "## 2. Answer Quality Evaluation\n",
    "\n",
    "The triage system shows how well I categorize tickets, but the ultimate test is answer quality. This section evaluates the full pipeline by generating actual answers and measuring:\n",
    "\n",
    "- **Citation Accuracy**: Do the sources actually support the claims made?\n",
    "- **Answer Completeness**: Does the response fully address the user's question?  \n",
    "- **Source Relevance**: Are the retrieved documents relevant to the query?\n",
    "- **Overall Quality**: Combined score and grade (A/B/C/F)\n",
    "\n",
    "This evaluation is more resource-intensive as it runs the complete pipeline including retrieval and generation."
   ]
  },
  {
   "cell_type": "code",
   "execution_count": 9,
   "id": "37c33ca2",
   "metadata": {},
   "outputs": [
    {
     "name": "stdout",
     "output_type": "stream",
     "text": [
      " ✅ Comprehensive evaluation function ready\n"
     ]
    }
   ],
   "source": [
    "# Comprehensive Pipeline Evaluation\n",
    "def run_comprehensive_evaluation(tickets, num_tickets=10, num_answer_tests=3, output_dir=\"evaluation_results\"):\n",
    "    \"\"\"\n",
    "    Run both triage classification evaluation AND answer quality evaluation\n",
    "    \n",
    "    Args:\n",
    "        tickets: List of ticket data\n",
    "        num_tickets: Number of tickets to use for triage evaluation\n",
    "        num_answer_tests: Number of tickets to run full pipeline on (limited due to API costs)\n",
    "        output_dir: Directory to save results\n",
    "    \n",
    "    Returns:\n",
    "        tuple: (triage_results_df, answer_results_df, summary_dict)\n",
    "    \"\"\"\n",
    "    \n",
    "    print(f\" Running comprehensive evaluation on {num_tickets} tickets...\")\n",
    "    \n",
    "    # Initialize components\n",
    "    classifier = TriageClassifier()\n",
    "    pipeline = ChatbotPipeline(historical_data=None)\n",
    "    evaluator = ProperAnswerEvaluator()\n",
    "    \n",
    "    # Step 1: Run triage classification\n",
    "    print(\"\\n Step 1: Running triage classification...\")\n",
    "    classified_data = []\n",
    "    \n",
    "    for i, ticket in enumerate(tickets[:num_tickets]):\n",
    "        print(f\"Classifying {i+1}/{num_tickets}: {ticket['id']}\")\n",
    "        try:\n",
    "            ticket_data = {'id': ticket['id'], 'subject': ticket.get('subject', ''), 'body': ticket['body']}\n",
    "            triage_result = classifier.classify_ticket(ticket_data)\n",
    "            \n",
    "            classified_data.append({\n",
    "                'ticket_id': ticket['id'],\n",
    "                'subject': ticket.get('subject', ''),\n",
    "                'body': ticket['body'],\n",
    "                'pred_topics': tuple(triage_result.topics) if triage_result.topics else (),\n",
    "                'topics': triage_result.topics,\n",
    "                'priority': triage_result.priority,\n",
    "                'confidence': triage_result.confidence,\n",
    "                'reasoning': triage_result.reasoning,\n",
    "                'classification_success': triage_result.classification_success\n",
    "            })\n",
    "        except Exception as e:\n",
    "            print(f\"   Error: {e}\")\n",
    "    \n",
    "    classified_df = pd.DataFrame(classified_data)\n",
    "    \n",
    "    # Step 2: Run triage metrics evaluation inline\n",
    "    print(f\"\\n🎯 Step 2: Running triage quality evaluation...\")\n",
    "    triage_output_dir = os.path.join(output_dir, \"triage_analysis\")\n",
    "    os.makedirs(triage_output_dir, exist_ok=True)\n",
    "\n",
    "    df_eval = pd.DataFrame({\n",
    "        'id': classified_df['ticket_id'],\n",
    "        'text': (classified_df['subject'].fillna(\"\") + \" \" + classified_df['body'].fillna(\"\")).str.strip(),\n",
    "        'pred_topics': classified_df['pred_topics']\n",
    "    })\n",
    "\n",
    "    embedder = SentenceTransformer('all-MiniLM-L6-v2')\n",
    "    embeddings = embedder.encode(df_eval['text'].tolist(), show_progress_bar=False)\n",
    "    emb_norm = l2norm_rows(embeddings)\n",
    "\n",
    "    topic_to_idxs, centroids = compute_topic_centroids_from_preds(df_eval, emb_norm)\n",
    "    combo_centroids = compute_combo_centroids(df_eval, emb_norm)\n",
    "    topic_summary, combo_summary = build_topic_and_combo_metrics(df_eval, emb_norm, centroids, combo_centroids)\n",
    "    ticket_metrics = compute_ticket_proxies(df_eval, emb_norm, centroids, combo_centroids)\n",
    "    ticket_metrics['conf_label'] = tag_confidence(ticket_metrics)\n",
    "\n",
    "    df_eval.join(ticket_metrics, how='left').to_csv(os.path.join(triage_output_dir, 'tickets_with_metrics.csv'), index=False)\n",
    "    topic_summary.to_csv(os.path.join(triage_output_dir, 'topic_summary.csv'), index=False)\n",
    "    combo_summary.to_csv(os.path.join(triage_output_dir, 'combo_summary.csv'), index=False)\n",
    "    save_plots(topic_summary, emb_norm, df_eval, triage_output_dir)\n",
    "    \n",
    "    # Step 3: Run pipeline for answer quality\n",
    "    print(f\"\\n💬 Step 3: Running pipeline for answer quality evaluation...\")\n",
    "    answer_quality_data = []\n",
    "    \n",
    "    for i, ticket in enumerate(tickets[:num_answer_tests]):\n",
    "        print(f\"Running pipeline {i+1}/{num_answer_tests}: {ticket['id']}\")\n",
    "        try:\n",
    "            pipeline_result = pipeline.run(query=ticket['body'], ticket_id=ticket['id'])\n",
    "            \n",
    "            sources = []\n",
    "            if hasattr(pipeline_result, 'rag_response') and pipeline_result.rag_response:\n",
    "                sources = pipeline_result.rag_response.get('sources', [])\n",
    "\n",
    "            final_answer = getattr(pipeline_result, 'final_answer', '') or ''\n",
    "            top_topic = pipeline_result.triage.topics[0] if hasattr(pipeline_result, 'triage') and pipeline_result.triage and pipeline_result.triage.topics else 'UNKNOWN'\n",
    "\n",
    "            quality_results = evaluator.evaluate_response_quality(\n",
    "                ticket['body'], \n",
    "                final_answer, \n",
    "                sources,\n",
    "                top_topic\n",
    "            )\n",
    "            \n",
    "            answer_quality_data.append({\n",
    "                'ticket_id': ticket['id'],\n",
    "                'question': ticket['body'][:200] + \"...\" if len(ticket['body']) > 200 else ticket['body'],\n",
    "                'answer': final_answer,\n",
    "                'triage_topics': getattr(pipeline_result.triage, 'topics', [] ) if hasattr(pipeline_result, 'triage') and pipeline_result.triage else [],\n",
    "                'triage_priority': getattr(pipeline_result.triage, 'priority', 'UNKNOWN') if hasattr(pipeline_result, 'triage') and pipeline_result.triage else 'UNKNOWN',\n",
    "                'num_sources': len(sources),\n",
    "                'completeness_score': quality_results['completeness_score'],\n",
    "                'source_quality_score': quality_results['source_quality_score'],\n",
    "                'overall_quality': quality_results['overall_quality'],\n",
    "                'quality_grade': quality_results['quality_grade'],\n",
    "                'sources': sources\n",
    "            })\n",
    "            \n",
    "        except Exception as e:\n",
    "            print(f\"  Pipeline error: {e}\")\n",
    "    \n",
    "    answer_df = pd.DataFrame(answer_quality_data)\n",
    "    answer_output_dir = os.path.join(output_dir, 'answer_quality')\n",
    "    os.makedirs(answer_output_dir, exist_ok=True)\n",
    "    answer_df.to_csv(os.path.join(answer_output_dir, 'answer_quality_report.csv'), index=False)\n",
    "    \n",
    "    summary = {\n",
    "        'evaluation_timestamp': pd.Timestamp.now().isoformat(),\n",
    "        'tickets_evaluated': len(classified_df),\n",
    "        'triage_metrics': {\n",
    "            'avg_confidence': classified_df['confidence'].mean(),\n",
    "            'classification_success_rate': classified_df['classification_success'].mean(),\n",
    "            'topic_distribution': classified_df['topics'].apply(lambda x: x[0] if x else 'None').value_counts().to_dict()\n",
    "        },\n",
    "        'answer_quality_metrics': {\n",
    "            'tickets_tested': len(answer_df),\n",
    "            'avg_overall_quality': answer_df['overall_quality'].mean() if len(answer_df) > 0 else 0,\n",
    "            'avg_source_quality': answer_df['source_quality_score'].mean() if len(answer_df) > 0 else 0,\n",
    "            'avg_completeness': answer_df['completeness_score'].mean() if len(answer_df) > 0 else 0,\n",
    "            'quality_grade_distribution': answer_df['quality_grade'].value_counts().to_dict() if len(answer_df) > 0 else {}\n",
    "        }\n",
    "    }\n",
    "    \n",
    "    with open(os.path.join(output_dir, 'evaluation_summary.json'), 'w') as f:\n",
    "        json.dump(summary, f, indent=2, default=str)\n",
    "    \n",
    "    print(f\"\\nComprehensive evaluation complete!\")\n",
    "    print(f\"Results saved to: {output_dir}/\")\n",
    "    \n",
    "    return classified_df, answer_df, summary\n",
    "\n",
    "print(\" ✅ Comprehensive evaluation function ready\")"
   ]
  },
  {
   "cell_type": "code",
   "execution_count": 10,
   "id": "0835aea8",
   "metadata": {},
   "outputs": [
    {
     "name": "stderr",
     "output_type": "stream",
     "text": [
      "2025-09-16 15:40:07,883 - INFO - Initializing Chatbot Pipeline...\n",
      "2025-09-16 15:40:08,005 - INFO - Use pytorch device_name: mps\n",
      "2025-09-16 15:40:08,007 - INFO - Load pretrained SentenceTransformer: all-MiniLM-L6-v2\n"
     ]
    },
    {
     "name": "stdout",
     "output_type": "stream",
     "text": [
      "💬 Running end-to-end pipeline evaluation on real sample tickets...\n"
     ]
    },
    {
     "name": "stderr",
     "output_type": "stream",
     "text": [
      "2025-09-16 15:40:14,538 - INFO - Use pytorch device_name: mps\n",
      "2025-09-16 15:40:14,543 - INFO - Load pretrained SentenceTransformer: multi-qa-mpnet-base-dot-v1\n"
     ]
    },
    {
     "name": "stdout",
     "output_type": "stream",
     "text": [
      "🚀 Initializing Agentic Hybrid RAG System...\n",
      "🔧 Initializing Hybrid Retrieval System...\n",
      " Loaded 6037 cached chunks with embeddings.\n",
      "⚡ Loaded pre-computed embeddings from cache. Startup will be fast!\n",
      "🔍 Setting up BM25 lexical search...\n"
     ]
    },
    {
     "name": "stderr",
     "output_type": "stream",
     "text": [
      "2025-09-16 15:40:20,812 - INFO - Use pytorch device_name: mps\n",
      "2025-09-16 15:40:20,813 - INFO - Load pretrained SentenceTransformer: multi-qa-mpnet-base-dot-v1\n"
     ]
    },
    {
     "name": "stdout",
     "output_type": "stream",
     "text": [
      "✅ Hybrid Retrieval System ready!\n",
      "Loading reranking model...\n",
      " Reranking model loaded!\n"
     ]
    },
    {
     "name": "stderr",
     "output_type": "stream",
     "text": [
      "2025-09-16 15:40:26,678 - INFO - Pipeline initialized with 0 historical records for validation.\n",
      "2025-09-16 15:40:26,687 - INFO - Use pytorch device_name: mps\n",
      "2025-09-16 15:40:26,688 - INFO - Load pretrained SentenceTransformer: all-MiniLM-L6-v2\n"
     ]
    },
    {
     "name": "stdout",
     "output_type": "stream",
     "text": [
      "Agentic Hybrid RAG System ready!\n"
     ]
    },
    {
     "name": "stderr",
     "output_type": "stream",
     "text": [
      "2025-09-16 15:40:31,212 - INFO - Processing query for ticket [TICKET-245]...\n",
      "2025-09-16 15:40:31,216 - INFO - [TICKET-245] Stage 1: Triage Classification...\n",
      "2025-09-16 15:40:31,243 - INFO - AFC is enabled with max remote calls: 10.\n"
     ]
    },
    {
     "name": "stdout",
     "output_type": "stream",
     "text": [
      "\n",
      "🔍 Testing ticket 1/30: TICKET-245\n",
      "📝 Subject: Connecting Snowflake to Atlan - required permissions?\n"
     ]
    },
    {
     "name": "stderr",
     "output_type": "stream",
     "text": [
      "2025-09-16 15:40:34,158 - INFO - HTTP Request: POST https://generativelanguage.googleapis.com/v1beta/models/gemini-2.5-flash-lite:generateContent \"HTTP/1.1 503 Service Unavailable\"\n",
      "2025-09-16 15:40:34,170 - ERROR - ❌ Error classifying ticket TICKET-245: 503 UNAVAILABLE. {'error': {'code': 503, 'message': 'The model is overloaded. Please try again later.', 'status': 'UNAVAILABLE'}}\n",
      "2025-09-16 15:40:34,174 - INFO - [TICKET-245] Triage complete. Topics: ['Other'], Priority: P2\n",
      "2025-09-16 15:40:34,178 - INFO - [TICKET-245] Stage 2: Classification Validation...\n",
      "2025-09-16 15:40:34,181 - INFO - [TICKET-245] Validation complete. Status: isolated, Confidence: low\n",
      "2025-09-16 15:40:34,181 - INFO - [TICKET-245] All topics are sent to RAG for intelligent handling.\n",
      "2025-09-16 15:40:34,182 - INFO - [TICKET-245] Stage 3: Response Generation...\n"
     ]
    },
    {
     "data": {
      "application/vnd.jupyter.widget-view+json": {
       "model_id": "8b6b461425ec4cedab6dcca510cf9f9a",
       "version_major": 2,
       "version_minor": 0
      },
      "text/plain": [
       "Batches:   0%|          | 0/1 [00:00<?, ?it/s]"
      ]
     },
     "metadata": {},
     "output_type": "display_data"
    },
    {
     "data": {
      "application/vnd.jupyter.widget-view+json": {
       "model_id": "4faecffcd417463e8418827b00a4ce2c",
       "version_major": 2,
       "version_minor": 0
      },
      "text/plain": [
       "Batches:   0%|          | 0/1 [00:00<?, ?it/s]"
      ]
     },
     "metadata": {},
     "output_type": "display_data"
    },
    {
     "data": {
      "application/vnd.jupyter.widget-view+json": {
       "model_id": "485dd4a7bf444e3aa37765b4e7131494",
       "version_major": 2,
       "version_minor": 0
      },
      "text/plain": [
       "Batches:   0%|          | 0/1 [00:00<?, ?it/s]"
      ]
     },
     "metadata": {},
     "output_type": "display_data"
    },
    {
     "name": "stderr",
     "output_type": "stream",
     "text": [
      "2025-09-16 15:40:38,206 - INFO - AFC is enabled with max remote calls: 10.\n",
      "2025-09-16 15:41:03,687 - INFO - HTTP Request: POST https://generativelanguage.googleapis.com/v1beta/models/gemini-2.5-flash:generateContent \"HTTP/1.1 200 OK\"\n",
      "2025-09-16 15:41:03,748 - INFO - AFC remote call 1 is done.\n",
      "2025-09-16 15:41:03,751 - INFO - [TICKET-245] Response generated with 2 sources.\n",
      "2025-09-16 15:41:03,752 - INFO - Pipeline finished for ticket [TICKET-245] in 32.54s.\n"
     ]
    },
    {
     "data": {
      "application/vnd.jupyter.widget-view+json": {
       "model_id": "a18102e567b5478b8641c3075db722f2",
       "version_major": 2,
       "version_minor": 0
      },
      "text/plain": [
       "Batches:   0%|          | 0/1 [00:00<?, ?it/s]"
      ]
     },
     "metadata": {},
     "output_type": "display_data"
    },
    {
     "data": {
      "application/vnd.jupyter.widget-view+json": {
       "model_id": "2039bda1b7994d05a49effab2962d15d",
       "version_major": 2,
       "version_minor": 0
      },
      "text/plain": [
       "Batches:   0%|          | 0/1 [00:00<?, ?it/s]"
      ]
     },
     "metadata": {},
     "output_type": "display_data"
    },
    {
     "name": "stderr",
     "output_type": "stream",
     "text": [
      "2025-09-16 15:41:05,641 - INFO - Processing query for ticket [TICKET-246]...\n",
      "2025-09-16 15:41:05,646 - INFO - [TICKET-246] Stage 1: Triage Classification...\n",
      "2025-09-16 15:41:05,649 - INFO - AFC is enabled with max remote calls: 10.\n"
     ]
    },
    {
     "name": "stdout",
     "output_type": "stream",
     "text": [
      "   ✅ Grade: B | Quality: 0.780\n",
      "   📊 Completeness: 0.675 | Sources: 2\n",
      "\n",
      "🔍 Testing ticket 2/30: TICKET-246\n",
      "📝 Subject: Which connectors automatically capture lineage?\n"
     ]
    },
    {
     "name": "stderr",
     "output_type": "stream",
     "text": [
      "2025-09-16 15:41:09,877 - INFO - HTTP Request: POST https://generativelanguage.googleapis.com/v1beta/models/gemini-2.5-flash-lite:generateContent \"HTTP/1.1 200 OK\"\n",
      "2025-09-16 15:41:09,915 - INFO - AFC remote call 1 is done.\n",
      "2025-09-16 15:41:09,920 - INFO - ✅ Classified ticket TICKET-246: ['HOW_TO', 'CONNECTOR', 'LINEAGE'] (confidence: 0.900)\n",
      "2025-09-16 15:41:09,926 - INFO - [TICKET-246] Triage complete. Topics: ['HOW_TO', 'CONNECTOR', 'LINEAGE'], Priority: P1\n",
      "2025-09-16 15:41:09,927 - INFO - [TICKET-246] Stage 2: Classification Validation...\n",
      "2025-09-16 15:41:09,932 - INFO - [TICKET-246] Validation complete. Status: isolated, Confidence: medium\n",
      "2025-09-16 15:41:09,933 - INFO - [TICKET-246] All topics are sent to RAG for intelligent handling.\n",
      "2025-09-16 15:41:09,937 - INFO - [TICKET-246] Stage 3: Response Generation...\n"
     ]
    },
    {
     "data": {
      "application/vnd.jupyter.widget-view+json": {
       "model_id": "9bfde4b956cd47738f8b0046316565b9",
       "version_major": 2,
       "version_minor": 0
      },
      "text/plain": [
       "Batches:   0%|          | 0/1 [00:00<?, ?it/s]"
      ]
     },
     "metadata": {},
     "output_type": "display_data"
    },
    {
     "data": {
      "application/vnd.jupyter.widget-view+json": {
       "model_id": "e23bb0f2ca8b44a5a8ce356a8f159f84",
       "version_major": 2,
       "version_minor": 0
      },
      "text/plain": [
       "Batches:   0%|          | 0/1 [00:00<?, ?it/s]"
      ]
     },
     "metadata": {},
     "output_type": "display_data"
    },
    {
     "data": {
      "application/vnd.jupyter.widget-view+json": {
       "model_id": "70ed357cf9134e00aea764f7013ac51c",
       "version_major": 2,
       "version_minor": 0
      },
      "text/plain": [
       "Batches:   0%|          | 0/1 [00:00<?, ?it/s]"
      ]
     },
     "metadata": {},
     "output_type": "display_data"
    },
    {
     "name": "stderr",
     "output_type": "stream",
     "text": [
      "2025-09-16 15:41:17,249 - INFO - AFC is enabled with max remote calls: 10.\n",
      "2025-09-16 15:41:40,198 - INFO - HTTP Request: POST https://generativelanguage.googleapis.com/v1beta/models/gemini-2.5-flash:generateContent \"HTTP/1.1 200 OK\"\n",
      "2025-09-16 15:41:40,251 - INFO - AFC remote call 1 is done.\n",
      "2025-09-16 15:41:40,255 - INFO - [TICKET-246] Response generated with 6 sources.\n",
      "2025-09-16 15:41:40,258 - INFO - Pipeline finished for ticket [TICKET-246] in 34.62s.\n"
     ]
    },
    {
     "data": {
      "application/vnd.jupyter.widget-view+json": {
       "model_id": "3828f8ae4c9c4bd79f7709ab9c9c9597",
       "version_major": 2,
       "version_minor": 0
      },
      "text/plain": [
       "Batches:   0%|          | 0/1 [00:00<?, ?it/s]"
      ]
     },
     "metadata": {},
     "output_type": "display_data"
    },
    {
     "data": {
      "application/vnd.jupyter.widget-view+json": {
       "model_id": "c11d32c7737d484190969d5f04ff53f8",
       "version_major": 2,
       "version_minor": 0
      },
      "text/plain": [
       "Batches:   0%|          | 0/1 [00:00<?, ?it/s]"
      ]
     },
     "metadata": {},
     "output_type": "display_data"
    },
    {
     "name": "stderr",
     "output_type": "stream",
     "text": [
      "2025-09-16 15:41:42,182 - INFO - Processing query for ticket [TICKET-247]...\n",
      "2025-09-16 15:41:42,183 - INFO - [TICKET-247] Stage 1: Triage Classification...\n",
      "2025-09-16 15:41:42,192 - INFO - AFC is enabled with max remote calls: 10.\n"
     ]
    },
    {
     "name": "stdout",
     "output_type": "stream",
     "text": [
      "   ✅ Grade: A | Quality: 0.853\n",
      "   📊 Completeness: 0.758 | Sources: 6\n",
      "\n",
      "🔍 Testing ticket 3/30: TICKET-247\n",
      "📝 Subject: Deployment of Atlan agent for private data lake\n"
     ]
    },
    {
     "name": "stderr",
     "output_type": "stream",
     "text": [
      "2025-09-16 15:41:50,620 - INFO - HTTP Request: POST https://generativelanguage.googleapis.com/v1beta/models/gemini-2.5-flash-lite:generateContent \"HTTP/1.1 200 OK\"\n",
      "2025-09-16 15:41:50,635 - INFO - AFC remote call 1 is done.\n",
      "2025-09-16 15:41:50,636 - INFO - ✅ Classified ticket TICKET-247: ['HOW_TO', 'CONNECTOR', 'OTHER'] (confidence: 0.900)\n",
      "2025-09-16 15:41:50,637 - INFO - [TICKET-247] Triage complete. Topics: ['HOW_TO', 'CONNECTOR', 'OTHER'], Priority: P1\n",
      "2025-09-16 15:41:50,637 - INFO - [TICKET-247] Stage 2: Classification Validation...\n",
      "2025-09-16 15:41:50,639 - INFO - [TICKET-247] Validation complete. Status: isolated, Confidence: medium\n",
      "2025-09-16 15:41:50,640 - INFO - [TICKET-247] All topics are sent to RAG for intelligent handling.\n",
      "2025-09-16 15:41:50,640 - INFO - [TICKET-247] Stage 3: Response Generation...\n"
     ]
    },
    {
     "data": {
      "application/vnd.jupyter.widget-view+json": {
       "model_id": "e4d2e09f16cd4171aaf4a4ef34f36309",
       "version_major": 2,
       "version_minor": 0
      },
      "text/plain": [
       "Batches:   0%|          | 0/1 [00:00<?, ?it/s]"
      ]
     },
     "metadata": {},
     "output_type": "display_data"
    },
    {
     "data": {
      "application/vnd.jupyter.widget-view+json": {
       "model_id": "48d1c0c887574150b333c5655868a44f",
       "version_major": 2,
       "version_minor": 0
      },
      "text/plain": [
       "Batches:   0%|          | 0/1 [00:00<?, ?it/s]"
      ]
     },
     "metadata": {},
     "output_type": "display_data"
    },
    {
     "data": {
      "application/vnd.jupyter.widget-view+json": {
       "model_id": "c9f323deb0844cd0b1f15d21531a58f7",
       "version_major": 2,
       "version_minor": 0
      },
      "text/plain": [
       "Batches:   0%|          | 0/1 [00:00<?, ?it/s]"
      ]
     },
     "metadata": {},
     "output_type": "display_data"
    },
    {
     "name": "stderr",
     "output_type": "stream",
     "text": [
      "2025-09-16 15:41:56,679 - INFO - AFC is enabled with max remote calls: 10.\n",
      "2025-09-16 15:42:15,267 - INFO - HTTP Request: POST https://generativelanguage.googleapis.com/v1beta/models/gemini-2.5-flash:generateContent \"HTTP/1.1 200 OK\"\n",
      "2025-09-16 15:42:15,319 - INFO - AFC remote call 1 is done.\n",
      "2025-09-16 15:42:15,327 - INFO - [TICKET-247] Response generated with 5 sources.\n",
      "2025-09-16 15:42:15,329 - INFO - Pipeline finished for ticket [TICKET-247] in 33.15s.\n"
     ]
    },
    {
     "data": {
      "application/vnd.jupyter.widget-view+json": {
       "model_id": "cee9578804d64272b8de02e75d9662fd",
       "version_major": 2,
       "version_minor": 0
      },
      "text/plain": [
       "Batches:   0%|          | 0/1 [00:00<?, ?it/s]"
      ]
     },
     "metadata": {},
     "output_type": "display_data"
    },
    {
     "data": {
      "application/vnd.jupyter.widget-view+json": {
       "model_id": "37fe0326e9354046baedefb861a30f3f",
       "version_major": 2,
       "version_minor": 0
      },
      "text/plain": [
       "Batches:   0%|          | 0/1 [00:00<?, ?it/s]"
      ]
     },
     "metadata": {},
     "output_type": "display_data"
    },
    {
     "name": "stderr",
     "output_type": "stream",
     "text": [
      "2025-09-16 15:42:16,645 - INFO - Processing query for ticket [TICKET-248]...\n",
      "2025-09-16 15:42:16,646 - INFO - [TICKET-248] Stage 1: Triage Classification...\n",
      "2025-09-16 15:42:16,651 - INFO - AFC is enabled with max remote calls: 10.\n"
     ]
    },
    {
     "name": "stdout",
     "output_type": "stream",
     "text": [
      "   ✅ Grade: A | Quality: 0.833\n",
      "   📊 Completeness: 0.709 | Sources: 5\n",
      "\n",
      "🔍 Testing ticket 4/30: TICKET-248\n",
      "📝 Subject: How to surface sample rows and schema changes?\n"
     ]
    },
    {
     "name": "stderr",
     "output_type": "stream",
     "text": [
      "2025-09-16 15:42:20,136 - INFO - HTTP Request: POST https://generativelanguage.googleapis.com/v1beta/models/gemini-2.5-flash-lite:generateContent \"HTTP/1.1 200 OK\"\n",
      "2025-09-16 15:42:20,154 - INFO - AFC remote call 1 is done.\n",
      "2025-09-16 15:42:20,155 - INFO - ✅ Classified ticket TICKET-248: ['HOW_TO', 'CONNECTOR', 'BEST_PRACTICES'] (confidence: 0.900)\n",
      "2025-09-16 15:42:20,156 - INFO - [TICKET-248] Triage complete. Topics: ['HOW_TO', 'CONNECTOR', 'BEST_PRACTICES'], Priority: P2\n",
      "2025-09-16 15:42:20,156 - INFO - [TICKET-248] Stage 2: Classification Validation...\n",
      "2025-09-16 15:42:20,157 - INFO - [TICKET-248] Validation complete. Status: isolated, Confidence: medium\n",
      "2025-09-16 15:42:20,157 - INFO - [TICKET-248] All topics are sent to RAG for intelligent handling.\n",
      "2025-09-16 15:42:20,157 - INFO - [TICKET-248] Stage 3: Response Generation...\n"
     ]
    },
    {
     "data": {
      "application/vnd.jupyter.widget-view+json": {
       "model_id": "fe5a68ff75cd4a599784d4ed6f3e4857",
       "version_major": 2,
       "version_minor": 0
      },
      "text/plain": [
       "Batches:   0%|          | 0/1 [00:00<?, ?it/s]"
      ]
     },
     "metadata": {},
     "output_type": "display_data"
    },
    {
     "data": {
      "application/vnd.jupyter.widget-view+json": {
       "model_id": "9ddd2c9e25be481ba2fa0dd7d2c0fb8c",
       "version_major": 2,
       "version_minor": 0
      },
      "text/plain": [
       "Batches:   0%|          | 0/1 [00:00<?, ?it/s]"
      ]
     },
     "metadata": {},
     "output_type": "display_data"
    },
    {
     "data": {
      "application/vnd.jupyter.widget-view+json": {
       "model_id": "233bd591f9c54ad1824b3a77b462f0a4",
       "version_major": 2,
       "version_minor": 0
      },
      "text/plain": [
       "Batches:   0%|          | 0/1 [00:00<?, ?it/s]"
      ]
     },
     "metadata": {},
     "output_type": "display_data"
    },
    {
     "name": "stderr",
     "output_type": "stream",
     "text": [
      "2025-09-16 15:42:25,518 - INFO - AFC is enabled with max remote calls: 10.\n",
      "2025-09-16 15:42:32,227 - INFO - HTTP Request: POST https://generativelanguage.googleapis.com/v1beta/models/gemini-2.5-flash:generateContent \"HTTP/1.1 503 Service Unavailable\"\n",
      "2025-09-16 15:42:32,241 - INFO - [TICKET-248] Response generated with 6 sources.\n",
      "2025-09-16 15:42:32,243 - INFO - Pipeline finished for ticket [TICKET-248] in 15.60s.\n"
     ]
    },
    {
     "data": {
      "application/vnd.jupyter.widget-view+json": {
       "model_id": "eac227d3dc9043ea9ab99f2cfc45fc38",
       "version_major": 2,
       "version_minor": 0
      },
      "text/plain": [
       "Batches:   0%|          | 0/1 [00:00<?, ?it/s]"
      ]
     },
     "metadata": {},
     "output_type": "display_data"
    },
    {
     "data": {
      "application/vnd.jupyter.widget-view+json": {
       "model_id": "1f3e0f46f9ff4bbe9beeb661292bc301",
       "version_major": 2,
       "version_minor": 0
      },
      "text/plain": [
       "Batches:   0%|          | 0/1 [00:00<?, ?it/s]"
      ]
     },
     "metadata": {},
     "output_type": "display_data"
    },
    {
     "name": "stderr",
     "output_type": "stream",
     "text": [
      "2025-09-16 15:42:33,013 - INFO - Processing query for ticket [TICKET-249]...\n",
      "2025-09-16 15:42:33,015 - INFO - [TICKET-249] Stage 1: Triage Classification...\n",
      "2025-09-16 15:42:33,022 - INFO - AFC is enabled with max remote calls: 10.\n"
     ]
    },
    {
     "name": "stdout",
     "output_type": "stream",
     "text": [
      "   ✅ Grade: B | Quality: 0.770\n",
      "   📊 Completeness: 0.425 | Sources: 6\n",
      "\n",
      "🔍 Testing ticket 5/30: TICKET-249\n",
      "📝 Subject: Exporting lineage view for a specific table\n"
     ]
    },
    {
     "name": "stderr",
     "output_type": "stream",
     "text": [
      "2025-09-16 15:42:36,646 - INFO - HTTP Request: POST https://generativelanguage.googleapis.com/v1beta/models/gemini-2.5-flash-lite:generateContent \"HTTP/1.1 200 OK\"\n",
      "2025-09-16 15:42:36,672 - INFO - AFC remote call 1 is done.\n",
      "2025-09-16 15:42:36,673 - INFO - ✅ Classified ticket TICKET-249: ['LINEAGE', 'HOW_TO'] (confidence: 0.900)\n",
      "2025-09-16 15:42:36,674 - INFO - [TICKET-249] Triage complete. Topics: ['LINEAGE', 'HOW_TO'], Priority: P1\n",
      "2025-09-16 15:42:36,675 - INFO - [TICKET-249] Stage 2: Classification Validation...\n",
      "2025-09-16 15:42:36,677 - INFO - [TICKET-249] Validation complete. Status: isolated, Confidence: medium\n",
      "2025-09-16 15:42:36,677 - INFO - [TICKET-249] All topics are sent to RAG for intelligent handling.\n",
      "2025-09-16 15:42:36,678 - INFO - [TICKET-249] Stage 3: Response Generation...\n"
     ]
    },
    {
     "data": {
      "application/vnd.jupyter.widget-view+json": {
       "model_id": "482f55eb01994656bc50fa00f5a6eb95",
       "version_major": 2,
       "version_minor": 0
      },
      "text/plain": [
       "Batches:   0%|          | 0/1 [00:00<?, ?it/s]"
      ]
     },
     "metadata": {},
     "output_type": "display_data"
    },
    {
     "data": {
      "application/vnd.jupyter.widget-view+json": {
       "model_id": "a14c083d71bc4824beb75981d00186b0",
       "version_major": 2,
       "version_minor": 0
      },
      "text/plain": [
       "Batches:   0%|          | 0/1 [00:00<?, ?it/s]"
      ]
     },
     "metadata": {},
     "output_type": "display_data"
    },
    {
     "data": {
      "application/vnd.jupyter.widget-view+json": {
       "model_id": "20de8c65c9f642a897e6919378ffd835",
       "version_major": 2,
       "version_minor": 0
      },
      "text/plain": [
       "Batches:   0%|          | 0/1 [00:00<?, ?it/s]"
      ]
     },
     "metadata": {},
     "output_type": "display_data"
    },
    {
     "name": "stderr",
     "output_type": "stream",
     "text": [
      "2025-09-16 15:42:42,058 - INFO - AFC is enabled with max remote calls: 10.\n",
      "2025-09-16 15:42:49,430 - INFO - HTTP Request: POST https://generativelanguage.googleapis.com/v1beta/models/gemini-2.5-flash:generateContent \"HTTP/1.1 200 OK\"\n",
      "2025-09-16 15:42:49,448 - INFO - AFC remote call 1 is done.\n",
      "2025-09-16 15:42:49,450 - INFO - [TICKET-249] Response generated with 5 sources.\n",
      "2025-09-16 15:42:49,452 - INFO - Pipeline finished for ticket [TICKET-249] in 16.44s.\n"
     ]
    },
    {
     "data": {
      "application/vnd.jupyter.widget-view+json": {
       "model_id": "7925a6372db845f68296ac8f49315a70",
       "version_major": 2,
       "version_minor": 0
      },
      "text/plain": [
       "Batches:   0%|          | 0/1 [00:00<?, ?it/s]"
      ]
     },
     "metadata": {},
     "output_type": "display_data"
    },
    {
     "data": {
      "application/vnd.jupyter.widget-view+json": {
       "model_id": "bdb446584cb9495581183eb3ddd9a5e7",
       "version_major": 2,
       "version_minor": 0
      },
      "text/plain": [
       "Batches:   0%|          | 0/1 [00:00<?, ?it/s]"
      ]
     },
     "metadata": {},
     "output_type": "display_data"
    },
    {
     "name": "stderr",
     "output_type": "stream",
     "text": [
      "2025-09-16 15:42:51,731 - INFO - Processing query for ticket [TICKET-250]...\n",
      "2025-09-16 15:42:51,732 - INFO - [TICKET-250] Stage 1: Triage Classification...\n",
      "2025-09-16 15:42:51,734 - INFO - AFC is enabled with max remote calls: 10.\n"
     ]
    },
    {
     "name": "stdout",
     "output_type": "stream",
     "text": [
      "   ✅ Grade: A | Quality: 0.902\n",
      "   📊 Completeness: 0.755 | Sources: 5\n",
      "\n",
      "🔍 Testing ticket 6/30: TICKET-250\n",
      "📝 Subject: Importing lineage from Airflow jobs\n"
     ]
    },
    {
     "name": "stderr",
     "output_type": "stream",
     "text": [
      "2025-09-16 15:46:03,316 - INFO - HTTP Request: POST https://generativelanguage.googleapis.com/v1beta/models/gemini-2.5-flash-lite:generateContent \"HTTP/1.1 200 OK\"\n",
      "2025-09-16 15:46:03,348 - INFO - AFC remote call 1 is done.\n",
      "2025-09-16 15:46:03,350 - INFO - ✅ Classified ticket TICKET-250: ['HOW_TO', 'CONNECTOR', 'LINEAGE'] (confidence: 0.900)\n",
      "2025-09-16 15:46:03,351 - INFO - [TICKET-250] Triage complete. Topics: ['HOW_TO', 'CONNECTOR', 'LINEAGE'], Priority: P2\n",
      "2025-09-16 15:46:03,351 - INFO - [TICKET-250] Stage 2: Classification Validation...\n",
      "2025-09-16 15:46:03,355 - INFO - [TICKET-250] Validation complete. Status: isolated, Confidence: medium\n",
      "2025-09-16 15:46:03,356 - INFO - [TICKET-250] All topics are sent to RAG for intelligent handling.\n",
      "2025-09-16 15:46:03,358 - INFO - [TICKET-250] Stage 3: Response Generation...\n"
     ]
    },
    {
     "data": {
      "application/vnd.jupyter.widget-view+json": {
       "model_id": "e6c37d960d7849808d820c394c80e8dd",
       "version_major": 2,
       "version_minor": 0
      },
      "text/plain": [
       "Batches:   0%|          | 0/1 [00:00<?, ?it/s]"
      ]
     },
     "metadata": {},
     "output_type": "display_data"
    },
    {
     "data": {
      "application/vnd.jupyter.widget-view+json": {
       "model_id": "14d4105924994996a5602eab8a6ddf68",
       "version_major": 2,
       "version_minor": 0
      },
      "text/plain": [
       "Batches:   0%|          | 0/1 [00:00<?, ?it/s]"
      ]
     },
     "metadata": {},
     "output_type": "display_data"
    },
    {
     "data": {
      "application/vnd.jupyter.widget-view+json": {
       "model_id": "c248a7e3d0c04af2a35848decf0c2f0f",
       "version_major": 2,
       "version_minor": 0
      },
      "text/plain": [
       "Batches:   0%|          | 0/1 [00:00<?, ?it/s]"
      ]
     },
     "metadata": {},
     "output_type": "display_data"
    },
    {
     "name": "stderr",
     "output_type": "stream",
     "text": [
      "2025-09-16 15:46:11,238 - INFO - AFC is enabled with max remote calls: 10.\n",
      "2025-09-16 15:46:25,898 - INFO - HTTP Request: POST https://generativelanguage.googleapis.com/v1beta/models/gemini-2.5-flash:generateContent \"HTTP/1.1 200 OK\"\n",
      "2025-09-16 15:46:25,940 - INFO - AFC remote call 1 is done.\n",
      "2025-09-16 15:46:25,943 - INFO - [TICKET-250] Response generated with 5 sources.\n",
      "2025-09-16 15:46:25,945 - INFO - Pipeline finished for ticket [TICKET-250] in 214.21s.\n"
     ]
    },
    {
     "data": {
      "application/vnd.jupyter.widget-view+json": {
       "model_id": "4bc722e58dc34119a8101b383435e41d",
       "version_major": 2,
       "version_minor": 0
      },
      "text/plain": [
       "Batches:   0%|          | 0/1 [00:00<?, ?it/s]"
      ]
     },
     "metadata": {},
     "output_type": "display_data"
    },
    {
     "data": {
      "application/vnd.jupyter.widget-view+json": {
       "model_id": "0c70f3bac9ca47aeb311b0a3d821683c",
       "version_major": 2,
       "version_minor": 0
      },
      "text/plain": [
       "Batches:   0%|          | 0/1 [00:00<?, ?it/s]"
      ]
     },
     "metadata": {},
     "output_type": "display_data"
    },
    {
     "name": "stderr",
     "output_type": "stream",
     "text": [
      "2025-09-16 15:46:27,396 - INFO - Processing query for ticket [TICKET-251]...\n",
      "2025-09-16 15:46:27,400 - INFO - [TICKET-251] Stage 1: Triage Classification...\n",
      "2025-09-16 15:46:27,406 - INFO - AFC is enabled with max remote calls: 10.\n"
     ]
    },
    {
     "name": "stdout",
     "output_type": "stream",
     "text": [
      "   ✅ Grade: A | Quality: 0.931\n",
      "   📊 Completeness: 0.827 | Sources: 5\n",
      "\n",
      "🔍 Testing ticket 7/30: TICKET-251\n",
      "📝 Subject: Using the Visual Query Builder\n"
     ]
    },
    {
     "name": "stderr",
     "output_type": "stream",
     "text": [
      "2025-09-16 15:48:37,360 - INFO - HTTP Request: POST https://generativelanguage.googleapis.com/v1beta/models/gemini-2.5-flash-lite:generateContent \"HTTP/1.1 200 OK\"\n",
      "2025-09-16 15:48:37,418 - INFO - AFC remote call 1 is done.\n",
      "2025-09-16 15:48:37,421 - INFO - ✅ Classified ticket TICKET-251: ['HOW_TO', 'PRODUCT'] (confidence: 0.900)\n",
      "2025-09-16 15:48:37,423 - INFO - [TICKET-251] Triage complete. Topics: ['HOW_TO', 'PRODUCT'], Priority: P2\n",
      "2025-09-16 15:48:37,424 - INFO - [TICKET-251] Stage 2: Classification Validation...\n",
      "2025-09-16 15:48:37,427 - INFO - [TICKET-251] Validation complete. Status: isolated, Confidence: medium\n",
      "2025-09-16 15:48:37,432 - INFO - [TICKET-251] All topics are sent to RAG for intelligent handling.\n",
      "2025-09-16 15:48:37,433 - INFO - [TICKET-251] Stage 3: Response Generation...\n"
     ]
    },
    {
     "data": {
      "application/vnd.jupyter.widget-view+json": {
       "model_id": "079f729c5a2847128ecca22ec70df140",
       "version_major": 2,
       "version_minor": 0
      },
      "text/plain": [
       "Batches:   0%|          | 0/1 [00:00<?, ?it/s]"
      ]
     },
     "metadata": {},
     "output_type": "display_data"
    },
    {
     "data": {
      "application/vnd.jupyter.widget-view+json": {
       "model_id": "98f21a3db98b4d8aa6b791e5b4c470e1",
       "version_major": 2,
       "version_minor": 0
      },
      "text/plain": [
       "Batches:   0%|          | 0/1 [00:00<?, ?it/s]"
      ]
     },
     "metadata": {},
     "output_type": "display_data"
    },
    {
     "data": {
      "application/vnd.jupyter.widget-view+json": {
       "model_id": "332a23b43f8b44baa1393b373f19aa3a",
       "version_major": 2,
       "version_minor": 0
      },
      "text/plain": [
       "Batches:   0%|          | 0/1 [00:00<?, ?it/s]"
      ]
     },
     "metadata": {},
     "output_type": "display_data"
    },
    {
     "name": "stderr",
     "output_type": "stream",
     "text": [
      "2025-09-16 15:48:46,487 - INFO - AFC is enabled with max remote calls: 10.\n",
      "2025-09-16 15:49:02,675 - INFO - HTTP Request: POST https://generativelanguage.googleapis.com/v1beta/models/gemini-2.5-flash:generateContent \"HTTP/1.1 200 OK\"\n",
      "2025-09-16 15:49:02,729 - INFO - AFC remote call 1 is done.\n",
      "2025-09-16 15:49:02,738 - INFO - [TICKET-251] Response generated with 6 sources.\n",
      "2025-09-16 15:49:02,739 - INFO - Pipeline finished for ticket [TICKET-251] in 155.34s.\n"
     ]
    },
    {
     "data": {
      "application/vnd.jupyter.widget-view+json": {
       "model_id": "473332dffd094d42b92b6d82684df09f",
       "version_major": 2,
       "version_minor": 0
      },
      "text/plain": [
       "Batches:   0%|          | 0/1 [00:00<?, ?it/s]"
      ]
     },
     "metadata": {},
     "output_type": "display_data"
    },
    {
     "data": {
      "application/vnd.jupyter.widget-view+json": {
       "model_id": "4d785a4660e14edf8b28861044dd91f1",
       "version_major": 2,
       "version_minor": 0
      },
      "text/plain": [
       "Batches:   0%|          | 0/1 [00:00<?, ?it/s]"
      ]
     },
     "metadata": {},
     "output_type": "display_data"
    },
    {
     "name": "stderr",
     "output_type": "stream",
     "text": [
      "2025-09-16 15:49:03,710 - INFO - Processing query for ticket [TICKET-252]...\n",
      "2025-09-16 15:49:03,712 - INFO - [TICKET-252] Stage 1: Triage Classification...\n",
      "2025-09-16 15:49:03,719 - INFO - AFC is enabled with max remote calls: 10.\n"
     ]
    },
    {
     "name": "stdout",
     "output_type": "stream",
     "text": [
      "   ✅ Grade: A | Quality: 0.898\n",
      "   📊 Completeness: 0.870 | Sources: 6\n",
      "\n",
      "🔍 Testing ticket 8/30: TICKET-252\n",
      "📝 Subject: Programmatic extraction of lineage\n"
     ]
    },
    {
     "name": "stderr",
     "output_type": "stream",
     "text": [
      "2025-09-16 15:49:07,814 - INFO - HTTP Request: POST https://generativelanguage.googleapis.com/v1beta/models/gemini-2.5-flash-lite:generateContent \"HTTP/1.1 200 OK\"\n",
      "2025-09-16 15:49:07,830 - INFO - AFC remote call 1 is done.\n",
      "2025-09-16 15:49:07,831 - INFO - ✅ Classified ticket TICKET-252: ['LINEAGE', 'API_SDK'] (confidence: 0.900)\n",
      "2025-09-16 15:49:07,832 - INFO - [TICKET-252] Triage complete. Topics: ['LINEAGE', 'API_SDK'], Priority: P2\n",
      "2025-09-16 15:49:07,832 - INFO - [TICKET-252] Stage 2: Classification Validation...\n",
      "2025-09-16 15:49:07,833 - INFO - [TICKET-252] Validation complete. Status: isolated, Confidence: medium\n",
      "2025-09-16 15:49:07,834 - INFO - [TICKET-252] All topics are sent to RAG for intelligent handling.\n",
      "2025-09-16 15:49:07,835 - INFO - [TICKET-252] Stage 3: Response Generation...\n"
     ]
    },
    {
     "data": {
      "application/vnd.jupyter.widget-view+json": {
       "model_id": "beb031fd2bd44b24b7d01fa2b6f0a1c2",
       "version_major": 2,
       "version_minor": 0
      },
      "text/plain": [
       "Batches:   0%|          | 0/1 [00:00<?, ?it/s]"
      ]
     },
     "metadata": {},
     "output_type": "display_data"
    },
    {
     "data": {
      "application/vnd.jupyter.widget-view+json": {
       "model_id": "e4957c18cad14d038fd4439dbbde8416",
       "version_major": 2,
       "version_minor": 0
      },
      "text/plain": [
       "Batches:   0%|          | 0/1 [00:00<?, ?it/s]"
      ]
     },
     "metadata": {},
     "output_type": "display_data"
    },
    {
     "data": {
      "application/vnd.jupyter.widget-view+json": {
       "model_id": "d6df259c51604348a427dff84bfa61ee",
       "version_major": 2,
       "version_minor": 0
      },
      "text/plain": [
       "Batches:   0%|          | 0/1 [00:00<?, ?it/s]"
      ]
     },
     "metadata": {},
     "output_type": "display_data"
    },
    {
     "name": "stderr",
     "output_type": "stream",
     "text": [
      "2025-09-16 15:49:13,590 - INFO - AFC is enabled with max remote calls: 10.\n",
      "2025-09-16 15:49:23,000 - INFO - HTTP Request: POST https://generativelanguage.googleapis.com/v1beta/models/gemini-2.5-flash:generateContent \"HTTP/1.1 200 OK\"\n",
      "2025-09-16 15:49:23,032 - INFO - AFC remote call 1 is done.\n",
      "2025-09-16 15:49:23,037 - INFO - [TICKET-252] Response generated with 5 sources.\n",
      "2025-09-16 15:49:23,038 - INFO - Pipeline finished for ticket [TICKET-252] in 19.33s.\n"
     ]
    },
    {
     "data": {
      "application/vnd.jupyter.widget-view+json": {
       "model_id": "189b7fe8c6754b6caf8ac7385837f986",
       "version_major": 2,
       "version_minor": 0
      },
      "text/plain": [
       "Batches:   0%|          | 0/1 [00:00<?, ?it/s]"
      ]
     },
     "metadata": {},
     "output_type": "display_data"
    },
    {
     "data": {
      "application/vnd.jupyter.widget-view+json": {
       "model_id": "e36956916806491090f65e9fcd356111",
       "version_major": 2,
       "version_minor": 0
      },
      "text/plain": [
       "Batches:   0%|          | 0/1 [00:00<?, ?it/s]"
      ]
     },
     "metadata": {},
     "output_type": "display_data"
    },
    {
     "name": "stderr",
     "output_type": "stream",
     "text": [
      "2025-09-16 15:49:23,974 - INFO - Processing query for ticket [TICKET-253]...\n",
      "2025-09-16 15:49:23,976 - INFO - [TICKET-253] Stage 1: Triage Classification...\n",
      "2025-09-16 15:49:23,980 - INFO - AFC is enabled with max remote calls: 10.\n"
     ]
    },
    {
     "name": "stdout",
     "output_type": "stream",
     "text": [
      "   ✅ Grade: A | Quality: 0.901\n",
      "   📊 Completeness: 0.754 | Sources: 5\n",
      "\n",
      "🔍 Testing ticket 9/30: TICKET-253\n",
      "📝 Subject: Upstream lineage to Snowflake view not working\n"
     ]
    },
    {
     "name": "stderr",
     "output_type": "stream",
     "text": [
      "2025-09-16 15:49:27,655 - INFO - HTTP Request: POST https://generativelanguage.googleapis.com/v1beta/models/gemini-2.5-flash-lite:generateContent \"HTTP/1.1 200 OK\"\n",
      "2025-09-16 15:49:27,674 - INFO - AFC remote call 1 is done.\n",
      "2025-09-16 15:49:27,675 - INFO - ✅ Classified ticket TICKET-253: ['LINEAGE', 'CONNECTOR', 'PRODUCT'] (confidence: 0.900)\n",
      "2025-09-16 15:49:27,675 - INFO - [TICKET-253] Triage complete. Topics: ['LINEAGE', 'CONNECTOR', 'PRODUCT'], Priority: P0\n",
      "2025-09-16 15:49:27,676 - INFO - [TICKET-253] Stage 2: Classification Validation...\n",
      "2025-09-16 15:49:27,676 - INFO - [TICKET-253] Validation complete. Status: isolated, Confidence: medium\n",
      "2025-09-16 15:49:27,677 - INFO - [TICKET-253] All topics are sent to RAG for intelligent handling.\n",
      "2025-09-16 15:49:27,678 - INFO - [TICKET-253] Stage 3: Response Generation...\n"
     ]
    },
    {
     "data": {
      "application/vnd.jupyter.widget-view+json": {
       "model_id": "12aa9071dd034f369dc820e2e49241c9",
       "version_major": 2,
       "version_minor": 0
      },
      "text/plain": [
       "Batches:   0%|          | 0/1 [00:00<?, ?it/s]"
      ]
     },
     "metadata": {},
     "output_type": "display_data"
    },
    {
     "data": {
      "application/vnd.jupyter.widget-view+json": {
       "model_id": "39d90dab282846e68d9f167a402be010",
       "version_major": 2,
       "version_minor": 0
      },
      "text/plain": [
       "Batches:   0%|          | 0/1 [00:00<?, ?it/s]"
      ]
     },
     "metadata": {},
     "output_type": "display_data"
    },
    {
     "data": {
      "application/vnd.jupyter.widget-view+json": {
       "model_id": "02d24ce8054a44edad5275eff30d69cf",
       "version_major": 2,
       "version_minor": 0
      },
      "text/plain": [
       "Batches:   0%|          | 0/1 [00:00<?, ?it/s]"
      ]
     },
     "metadata": {},
     "output_type": "display_data"
    },
    {
     "name": "stderr",
     "output_type": "stream",
     "text": [
      "2025-09-16 15:49:30,454 - INFO - AFC is enabled with max remote calls: 10.\n",
      "2025-09-16 15:49:50,162 - INFO - HTTP Request: POST https://generativelanguage.googleapis.com/v1beta/models/gemini-2.5-flash:generateContent \"HTTP/1.1 200 OK\"\n",
      "2025-09-16 15:49:50,233 - INFO - AFC remote call 1 is done.\n",
      "2025-09-16 15:49:50,272 - INFO - [TICKET-253] Response generated with 4 sources.\n",
      "2025-09-16 15:49:50,276 - INFO - Pipeline finished for ticket [TICKET-253] in 26.30s.\n"
     ]
    },
    {
     "data": {
      "application/vnd.jupyter.widget-view+json": {
       "model_id": "fdca16af85a948edb61ede4b8c49cdc6",
       "version_major": 2,
       "version_minor": 0
      },
      "text/plain": [
       "Batches:   0%|          | 0/1 [00:00<?, ?it/s]"
      ]
     },
     "metadata": {},
     "output_type": "display_data"
    },
    {
     "data": {
      "application/vnd.jupyter.widget-view+json": {
       "model_id": "9a11254c307e41199fb8f490dd2e8db8",
       "version_major": 2,
       "version_minor": 0
      },
      "text/plain": [
       "Batches:   0%|          | 0/1 [00:00<?, ?it/s]"
      ]
     },
     "metadata": {},
     "output_type": "display_data"
    },
    {
     "name": "stderr",
     "output_type": "stream",
     "text": [
      "2025-09-16 15:49:51,428 - INFO - Processing query for ticket [TICKET-254]...\n",
      "2025-09-16 15:49:51,431 - INFO - [TICKET-254] Stage 1: Triage Classification...\n",
      "2025-09-16 15:49:51,439 - INFO - AFC is enabled with max remote calls: 10.\n"
     ]
    },
    {
     "name": "stdout",
     "output_type": "stream",
     "text": [
      "   ✅ Grade: A | Quality: 0.846\n",
      "   📊 Completeness: 0.816 | Sources: 4\n",
      "\n",
      "🔍 Testing ticket 10/30: TICKET-254\n",
      "📝 Subject: How to create a business glossary and link terms in bulk?\n"
     ]
    },
    {
     "name": "stderr",
     "output_type": "stream",
     "text": [
      "2025-09-16 15:49:54,592 - INFO - HTTP Request: POST https://generativelanguage.googleapis.com/v1beta/models/gemini-2.5-flash-lite:generateContent \"HTTP/1.1 503 Service Unavailable\"\n",
      "2025-09-16 15:49:54,603 - ERROR - ❌ Error classifying ticket TICKET-254: 503 UNAVAILABLE. {'error': {'code': 503, 'message': 'The model is overloaded. Please try again later.', 'status': 'UNAVAILABLE'}}\n",
      "2025-09-16 15:49:54,606 - INFO - [TICKET-254] Triage complete. Topics: ['Other'], Priority: P2\n",
      "2025-09-16 15:49:54,606 - INFO - [TICKET-254] Stage 2: Classification Validation...\n",
      "2025-09-16 15:49:54,607 - INFO - [TICKET-254] Validation complete. Status: isolated, Confidence: low\n",
      "2025-09-16 15:49:54,607 - INFO - [TICKET-254] All topics are sent to RAG for intelligent handling.\n",
      "2025-09-16 15:49:54,607 - INFO - [TICKET-254] Stage 3: Response Generation...\n"
     ]
    },
    {
     "data": {
      "application/vnd.jupyter.widget-view+json": {
       "model_id": "b1094c33218c489998a9700eb433a27e",
       "version_major": 2,
       "version_minor": 0
      },
      "text/plain": [
       "Batches:   0%|          | 0/1 [00:00<?, ?it/s]"
      ]
     },
     "metadata": {},
     "output_type": "display_data"
    },
    {
     "data": {
      "application/vnd.jupyter.widget-view+json": {
       "model_id": "6b6b71629c3f4450a0549a03a8a895a3",
       "version_major": 2,
       "version_minor": 0
      },
      "text/plain": [
       "Batches:   0%|          | 0/1 [00:00<?, ?it/s]"
      ]
     },
     "metadata": {},
     "output_type": "display_data"
    },
    {
     "data": {
      "application/vnd.jupyter.widget-view+json": {
       "model_id": "6b9e89a471474a0da27dda2c6c0b8135",
       "version_major": 2,
       "version_minor": 0
      },
      "text/plain": [
       "Batches:   0%|          | 0/1 [00:00<?, ?it/s]"
      ]
     },
     "metadata": {},
     "output_type": "display_data"
    },
    {
     "name": "stderr",
     "output_type": "stream",
     "text": [
      "2025-09-16 15:50:00,631 - INFO - AFC is enabled with max remote calls: 10.\n",
      "2025-09-16 15:50:28,555 - INFO - HTTP Request: POST https://generativelanguage.googleapis.com/v1beta/models/gemini-2.5-flash:generateContent \"HTTP/1.1 200 OK\"\n",
      "2025-09-16 15:50:28,606 - INFO - AFC remote call 1 is done.\n",
      "2025-09-16 15:50:28,614 - INFO - [TICKET-254] Response generated with 6 sources.\n",
      "2025-09-16 15:50:28,632 - INFO - Pipeline finished for ticket [TICKET-254] in 37.20s.\n"
     ]
    },
    {
     "data": {
      "application/vnd.jupyter.widget-view+json": {
       "model_id": "28bc74f277294a699f175d127fe5cfea",
       "version_major": 2,
       "version_minor": 0
      },
      "text/plain": [
       "Batches:   0%|          | 0/1 [00:00<?, ?it/s]"
      ]
     },
     "metadata": {},
     "output_type": "display_data"
    },
    {
     "data": {
      "application/vnd.jupyter.widget-view+json": {
       "model_id": "1ddfca78d1ae4072808e9e091c7b8814",
       "version_major": 2,
       "version_minor": 0
      },
      "text/plain": [
       "Batches:   0%|          | 0/1 [00:00<?, ?it/s]"
      ]
     },
     "metadata": {},
     "output_type": "display_data"
    },
    {
     "name": "stderr",
     "output_type": "stream",
     "text": [
      "2025-09-16 15:50:29,413 - INFO - Processing query for ticket [TICKET-255]...\n",
      "2025-09-16 15:50:29,416 - INFO - [TICKET-255] Stage 1: Triage Classification...\n",
      "2025-09-16 15:50:29,420 - INFO - AFC is enabled with max remote calls: 10.\n"
     ]
    },
    {
     "name": "stdout",
     "output_type": "stream",
     "text": [
      "   ✅ Grade: A | Quality: 0.902\n",
      "   📊 Completeness: 0.881 | Sources: 6\n",
      "\n",
      "🔍 Testing ticket 11/30: TICKET-255\n",
      "📝 Subject: Creating a custom role for data stewards\n"
     ]
    },
    {
     "name": "stderr",
     "output_type": "stream",
     "text": [
      "2025-09-16 15:50:33,625 - INFO - HTTP Request: POST https://generativelanguage.googleapis.com/v1beta/models/gemini-2.5-flash-lite:generateContent \"HTTP/1.1 503 Service Unavailable\"\n",
      "2025-09-16 15:50:33,631 - ERROR - ❌ Error classifying ticket TICKET-255: 503 UNAVAILABLE. {'error': {'code': 503, 'message': 'The model is overloaded. Please try again later.', 'status': 'UNAVAILABLE'}}\n",
      "2025-09-16 15:50:33,633 - INFO - [TICKET-255] Triage complete. Topics: ['Other'], Priority: P2\n",
      "2025-09-16 15:50:33,635 - INFO - [TICKET-255] Stage 2: Classification Validation...\n",
      "2025-09-16 15:50:33,637 - INFO - [TICKET-255] Validation complete. Status: isolated, Confidence: low\n",
      "2025-09-16 15:50:33,638 - INFO - [TICKET-255] All topics are sent to RAG for intelligent handling.\n",
      "2025-09-16 15:50:33,639 - INFO - [TICKET-255] Stage 3: Response Generation...\n"
     ]
    },
    {
     "data": {
      "application/vnd.jupyter.widget-view+json": {
       "model_id": "f6d12b2f2e184bf796e19e016cf59df4",
       "version_major": 2,
       "version_minor": 0
      },
      "text/plain": [
       "Batches:   0%|          | 0/1 [00:00<?, ?it/s]"
      ]
     },
     "metadata": {},
     "output_type": "display_data"
    },
    {
     "data": {
      "application/vnd.jupyter.widget-view+json": {
       "model_id": "106674db1553488bb72dcfe3f73b06be",
       "version_major": 2,
       "version_minor": 0
      },
      "text/plain": [
       "Batches:   0%|          | 0/1 [00:00<?, ?it/s]"
      ]
     },
     "metadata": {},
     "output_type": "display_data"
    },
    {
     "data": {
      "application/vnd.jupyter.widget-view+json": {
       "model_id": "83a8d6f1f50a47ff9e7ce783dbf50f40",
       "version_major": 2,
       "version_minor": 0
      },
      "text/plain": [
       "Batches:   0%|          | 0/1 [00:00<?, ?it/s]"
      ]
     },
     "metadata": {},
     "output_type": "display_data"
    },
    {
     "name": "stderr",
     "output_type": "stream",
     "text": [
      "2025-09-16 15:50:37,160 - INFO - AFC is enabled with max remote calls: 10.\n",
      "2025-09-16 15:51:01,682 - INFO - HTTP Request: POST https://generativelanguage.googleapis.com/v1beta/models/gemini-2.5-flash:generateContent \"HTTP/1.1 200 OK\"\n",
      "2025-09-16 15:51:01,762 - INFO - AFC remote call 1 is done.\n",
      "2025-09-16 15:51:01,767 - INFO - [TICKET-255] Response generated with 7 sources.\n",
      "2025-09-16 15:51:01,769 - INFO - Pipeline finished for ticket [TICKET-255] in 32.36s.\n"
     ]
    },
    {
     "data": {
      "application/vnd.jupyter.widget-view+json": {
       "model_id": "0b13c2d542384fbfab2d80b6bc3ce9d1",
       "version_major": 2,
       "version_minor": 0
      },
      "text/plain": [
       "Batches:   0%|          | 0/1 [00:00<?, ?it/s]"
      ]
     },
     "metadata": {},
     "output_type": "display_data"
    },
    {
     "data": {
      "application/vnd.jupyter.widget-view+json": {
       "model_id": "c21652dd40e5475f965a5c3c0f13f899",
       "version_major": 2,
       "version_minor": 0
      },
      "text/plain": [
       "Batches:   0%|          | 0/1 [00:00<?, ?it/s]"
      ]
     },
     "metadata": {},
     "output_type": "display_data"
    },
    {
     "name": "stderr",
     "output_type": "stream",
     "text": [
      "2025-09-16 15:51:03,569 - INFO - Processing query for ticket [TICKET-256]...\n",
      "2025-09-16 15:51:03,570 - INFO - [TICKET-256] Stage 1: Triage Classification...\n",
      "2025-09-16 15:51:03,573 - INFO - AFC is enabled with max remote calls: 10.\n"
     ]
    },
    {
     "name": "stdout",
     "output_type": "stream",
     "text": [
      "   ✅ Grade: A | Quality: 0.832\n",
      "   📊 Completeness: 0.704 | Sources: 7\n",
      "\n",
      "🔍 Testing ticket 12/30: TICKET-256\n",
      "📝 Subject: Mapping Active Directory groups to Atlan teams\n"
     ]
    },
    {
     "name": "stderr",
     "output_type": "stream",
     "text": [
      "2025-09-16 15:52:48,830 - INFO - HTTP Request: POST https://generativelanguage.googleapis.com/v1beta/models/gemini-2.5-flash-lite:generateContent \"HTTP/1.1 200 OK\"\n",
      "2025-09-16 15:52:48,892 - INFO - AFC remote call 1 is done.\n",
      "2025-09-16 15:52:48,896 - INFO - ✅ Classified ticket TICKET-256: ['SSO', 'HOW_TO'] (confidence: 0.900)\n",
      "2025-09-16 15:52:48,900 - INFO - [TICKET-256] Triage complete. Topics: ['SSO', 'HOW_TO'], Priority: P2\n",
      "2025-09-16 15:52:48,902 - INFO - [TICKET-256] Stage 2: Classification Validation...\n",
      "2025-09-16 15:52:48,904 - INFO - [TICKET-256] Validation complete. Status: isolated, Confidence: medium\n",
      "2025-09-16 15:52:48,904 - INFO - [TICKET-256] All topics are sent to RAG for intelligent handling.\n",
      "2025-09-16 15:52:48,906 - INFO - [TICKET-256] Stage 3: Response Generation...\n"
     ]
    },
    {
     "data": {
      "application/vnd.jupyter.widget-view+json": {
       "model_id": "5a2886e3c7d04ef3bf4863fb55d8d0d9",
       "version_major": 2,
       "version_minor": 0
      },
      "text/plain": [
       "Batches:   0%|          | 0/1 [00:00<?, ?it/s]"
      ]
     },
     "metadata": {},
     "output_type": "display_data"
    },
    {
     "data": {
      "application/vnd.jupyter.widget-view+json": {
       "model_id": "8a1d28f681654fc483153c8f30c98480",
       "version_major": 2,
       "version_minor": 0
      },
      "text/plain": [
       "Batches:   0%|          | 0/1 [00:00<?, ?it/s]"
      ]
     },
     "metadata": {},
     "output_type": "display_data"
    },
    {
     "data": {
      "application/vnd.jupyter.widget-view+json": {
       "model_id": "f7de973da8894745bf91f51ffff85dc1",
       "version_major": 2,
       "version_minor": 0
      },
      "text/plain": [
       "Batches:   0%|          | 0/1 [00:00<?, ?it/s]"
      ]
     },
     "metadata": {},
     "output_type": "display_data"
    },
    {
     "name": "stderr",
     "output_type": "stream",
     "text": [
      "2025-09-16 15:52:57,310 - INFO - AFC is enabled with max remote calls: 10.\n",
      "2025-09-16 15:53:15,130 - INFO - HTTP Request: POST https://generativelanguage.googleapis.com/v1beta/models/gemini-2.5-flash:generateContent \"HTTP/1.1 200 OK\"\n",
      "2025-09-16 15:53:15,177 - INFO - AFC remote call 1 is done.\n",
      "2025-09-16 15:53:15,180 - INFO - [TICKET-256] Response generated with 3 sources.\n",
      "2025-09-16 15:53:15,181 - INFO - Pipeline finished for ticket [TICKET-256] in 131.61s.\n"
     ]
    },
    {
     "data": {
      "application/vnd.jupyter.widget-view+json": {
       "model_id": "99d6d369232547f6844269c33a383d1c",
       "version_major": 2,
       "version_minor": 0
      },
      "text/plain": [
       "Batches:   0%|          | 0/1 [00:00<?, ?it/s]"
      ]
     },
     "metadata": {},
     "output_type": "display_data"
    },
    {
     "data": {
      "application/vnd.jupyter.widget-view+json": {
       "model_id": "7071bf414bb44b40a709606694191a27",
       "version_major": 2,
       "version_minor": 0
      },
      "text/plain": [
       "Batches:   0%|          | 0/1 [00:00<?, ?it/s]"
      ]
     },
     "metadata": {},
     "output_type": "display_data"
    },
    {
     "name": "stderr",
     "output_type": "stream",
     "text": [
      "2025-09-16 15:53:16,352 - INFO - Processing query for ticket [TICKET-257]...\n",
      "2025-09-16 15:53:16,352 - INFO - [TICKET-257] Stage 1: Triage Classification...\n",
      "2025-09-16 15:53:16,359 - INFO - AFC is enabled with max remote calls: 10.\n"
     ]
    },
    {
     "name": "stdout",
     "output_type": "stream",
     "text": [
      "   ✅ Grade: A | Quality: 0.802\n",
      "   📊 Completeness: 0.780 | Sources: 3\n",
      "\n",
      "🔍 Testing ticket 13/30: TICKET-257\n",
      "📝 Subject: RBAC for assets vs. glossaries\n"
     ]
    },
    {
     "name": "stderr",
     "output_type": "stream",
     "text": [
      "2025-09-16 15:53:18,257 - INFO - HTTP Request: POST https://generativelanguage.googleapis.com/v1beta/models/gemini-2.5-flash-lite:generateContent \"HTTP/1.1 200 OK\"\n",
      "2025-09-16 15:53:18,291 - INFO - AFC remote call 1 is done.\n",
      "2025-09-16 15:53:18,292 - INFO - ✅ Classified ticket TICKET-257: ['HOW_TO', 'GLOSSARY', 'SENSITIVE_DATA'] (confidence: 0.900)\n",
      "2025-09-16 15:53:18,292 - INFO - [TICKET-257] Triage complete. Topics: ['HOW_TO', 'GLOSSARY', 'SENSITIVE_DATA'], Priority: P2\n",
      "2025-09-16 15:53:18,293 - INFO - [TICKET-257] Stage 2: Classification Validation...\n",
      "2025-09-16 15:53:18,293 - INFO - [TICKET-257] Validation complete. Status: isolated, Confidence: medium\n",
      "2025-09-16 15:53:18,294 - INFO - [TICKET-257] All topics are sent to RAG for intelligent handling.\n",
      "2025-09-16 15:53:18,294 - INFO - [TICKET-257] Stage 3: Response Generation...\n"
     ]
    },
    {
     "data": {
      "application/vnd.jupyter.widget-view+json": {
       "model_id": "56f4637817ce445d9d637ab33d8dce1b",
       "version_major": 2,
       "version_minor": 0
      },
      "text/plain": [
       "Batches:   0%|          | 0/1 [00:00<?, ?it/s]"
      ]
     },
     "metadata": {},
     "output_type": "display_data"
    },
    {
     "data": {
      "application/vnd.jupyter.widget-view+json": {
       "model_id": "3854d7c645d1476dae962e78499685b7",
       "version_major": 2,
       "version_minor": 0
      },
      "text/plain": [
       "Batches:   0%|          | 0/1 [00:00<?, ?it/s]"
      ]
     },
     "metadata": {},
     "output_type": "display_data"
    },
    {
     "data": {
      "application/vnd.jupyter.widget-view+json": {
       "model_id": "efc29ff84b9047aeb752223bc6a49fe4",
       "version_major": 2,
       "version_minor": 0
      },
      "text/plain": [
       "Batches:   0%|          | 0/1 [00:00<?, ?it/s]"
      ]
     },
     "metadata": {},
     "output_type": "display_data"
    },
    {
     "name": "stderr",
     "output_type": "stream",
     "text": [
      "2025-09-16 15:53:21,758 - INFO - AFC is enabled with max remote calls: 10.\n",
      "2025-09-16 15:53:39,984 - INFO - HTTP Request: POST https://generativelanguage.googleapis.com/v1beta/models/gemini-2.5-flash:generateContent \"HTTP/1.1 200 OK\"\n",
      "2025-09-16 15:53:40,033 - INFO - AFC remote call 1 is done.\n",
      "2025-09-16 15:53:40,036 - INFO - [TICKET-257] Response generated with 4 sources.\n",
      "2025-09-16 15:53:40,037 - INFO - Pipeline finished for ticket [TICKET-257] in 23.69s.\n"
     ]
    },
    {
     "data": {
      "application/vnd.jupyter.widget-view+json": {
       "model_id": "dd8f8141f74b4b949f94e72730cd04b5",
       "version_major": 2,
       "version_minor": 0
      },
      "text/plain": [
       "Batches:   0%|          | 0/1 [00:00<?, ?it/s]"
      ]
     },
     "metadata": {},
     "output_type": "display_data"
    },
    {
     "data": {
      "application/vnd.jupyter.widget-view+json": {
       "model_id": "d111a9cd44594dcab33d905c123f2c01",
       "version_major": 2,
       "version_minor": 0
      },
      "text/plain": [
       "Batches:   0%|          | 0/1 [00:00<?, ?it/s]"
      ]
     },
     "metadata": {},
     "output_type": "display_data"
    },
    {
     "name": "stderr",
     "output_type": "stream",
     "text": [
      "2025-09-16 15:53:40,886 - INFO - Processing query for ticket [TICKET-258]...\n",
      "2025-09-16 15:53:40,887 - INFO - [TICKET-258] Stage 1: Triage Classification...\n",
      "2025-09-16 15:53:40,894 - INFO - AFC is enabled with max remote calls: 10.\n"
     ]
    },
    {
     "name": "stdout",
     "output_type": "stream",
     "text": [
      "   ✅ Grade: A | Quality: 0.803\n",
      "   📊 Completeness: 0.707 | Sources: 4\n",
      "\n",
      "🔍 Testing ticket 14/30: TICKET-258\n",
      "📝 Subject: Process for onboarding asset owners\n"
     ]
    },
    {
     "name": "stderr",
     "output_type": "stream",
     "text": [
      "2025-09-16 15:53:43,934 - INFO - HTTP Request: POST https://generativelanguage.googleapis.com/v1beta/models/gemini-2.5-flash-lite:generateContent \"HTTP/1.1 200 OK\"\n",
      "2025-09-16 15:53:43,946 - INFO - AFC remote call 1 is done.\n",
      "2025-09-16 15:53:43,947 - INFO - ✅ Classified ticket TICKET-258: ['HOW_TO', 'BEST_PRACTICES'] (confidence: 0.900)\n",
      "2025-09-16 15:53:43,948 - INFO - [TICKET-258] Triage complete. Topics: ['HOW_TO', 'BEST_PRACTICES'], Priority: P2\n",
      "2025-09-16 15:53:43,949 - INFO - [TICKET-258] Stage 2: Classification Validation...\n",
      "2025-09-16 15:53:43,949 - INFO - [TICKET-258] Validation complete. Status: isolated, Confidence: medium\n",
      "2025-09-16 15:53:43,950 - INFO - [TICKET-258] All topics are sent to RAG for intelligent handling.\n",
      "2025-09-16 15:53:43,951 - INFO - [TICKET-258] Stage 3: Response Generation...\n"
     ]
    },
    {
     "data": {
      "application/vnd.jupyter.widget-view+json": {
       "model_id": "8fe06622341b4e7a912aaa90426f7104",
       "version_major": 2,
       "version_minor": 0
      },
      "text/plain": [
       "Batches:   0%|          | 0/1 [00:00<?, ?it/s]"
      ]
     },
     "metadata": {},
     "output_type": "display_data"
    },
    {
     "data": {
      "application/vnd.jupyter.widget-view+json": {
       "model_id": "7ff288cb469147bf9543aa0f540b538f",
       "version_major": 2,
       "version_minor": 0
      },
      "text/plain": [
       "Batches:   0%|          | 0/1 [00:00<?, ?it/s]"
      ]
     },
     "metadata": {},
     "output_type": "display_data"
    },
    {
     "data": {
      "application/vnd.jupyter.widget-view+json": {
       "model_id": "22a60363f45843139d198c61497a4b65",
       "version_major": 2,
       "version_minor": 0
      },
      "text/plain": [
       "Batches:   0%|          | 0/1 [00:00<?, ?it/s]"
      ]
     },
     "metadata": {},
     "output_type": "display_data"
    },
    {
     "name": "stderr",
     "output_type": "stream",
     "text": [
      "2025-09-16 15:53:49,143 - INFO - AFC is enabled with max remote calls: 10.\n",
      "2025-09-16 15:54:07,159 - INFO - HTTP Request: POST https://generativelanguage.googleapis.com/v1beta/models/gemini-2.5-flash:generateContent \"HTTP/1.1 200 OK\"\n",
      "2025-09-16 15:54:07,367 - INFO - AFC remote call 1 is done.\n",
      "2025-09-16 15:54:07,377 - INFO - [TICKET-258] Response generated with 7 sources.\n",
      "2025-09-16 15:54:07,384 - INFO - Pipeline finished for ticket [TICKET-258] in 26.50s.\n"
     ]
    },
    {
     "data": {
      "application/vnd.jupyter.widget-view+json": {
       "model_id": "10a055fc6e3b448cb10891bfe923a910",
       "version_major": 2,
       "version_minor": 0
      },
      "text/plain": [
       "Batches:   0%|          | 0/1 [00:00<?, ?it/s]"
      ]
     },
     "metadata": {},
     "output_type": "display_data"
    },
    {
     "data": {
      "application/vnd.jupyter.widget-view+json": {
       "model_id": "0723638bb3ae46c09070424fe6581786",
       "version_major": 2,
       "version_minor": 0
      },
      "text/plain": [
       "Batches:   0%|          | 0/1 [00:00<?, ?it/s]"
      ]
     },
     "metadata": {},
     "output_type": "display_data"
    },
    {
     "name": "stderr",
     "output_type": "stream",
     "text": [
      "2025-09-16 15:54:09,563 - INFO - Processing query for ticket [TICKET-259]...\n",
      "2025-09-16 15:54:09,574 - INFO - [TICKET-259] Stage 1: Triage Classification...\n",
      "2025-09-16 15:54:09,593 - INFO - AFC is enabled with max remote calls: 10.\n"
     ]
    },
    {
     "name": "stdout",
     "output_type": "stream",
     "text": [
      "   ✅ Grade: A | Quality: 0.877\n",
      "   📊 Completeness: 0.818 | Sources: 7\n",
      "\n",
      "🔍 Testing ticket 15/30: TICKET-259\n",
      "📝 Subject: How does Atlan surface sensitive fields like PII?\n"
     ]
    },
    {
     "name": "stderr",
     "output_type": "stream",
     "text": [
      "2025-09-16 15:54:13,839 - INFO - HTTP Request: POST https://generativelanguage.googleapis.com/v1beta/models/gemini-2.5-flash-lite:generateContent \"HTTP/1.1 200 OK\"\n",
      "2025-09-16 15:54:13,860 - INFO - AFC remote call 1 is done.\n",
      "2025-09-16 15:54:13,861 - INFO - ✅ Classified ticket TICKET-259: ['SENSITIVE_DATA', 'HOW_TO'] (confidence: 0.900)\n",
      "2025-09-16 15:54:13,862 - INFO - [TICKET-259] Triage complete. Topics: ['SENSITIVE_DATA', 'HOW_TO'], Priority: P2\n",
      "2025-09-16 15:54:13,862 - INFO - [TICKET-259] Stage 2: Classification Validation...\n",
      "2025-09-16 15:54:13,864 - INFO - [TICKET-259] Validation complete. Status: isolated, Confidence: medium\n",
      "2025-09-16 15:54:13,864 - INFO - [TICKET-259] All topics are sent to RAG for intelligent handling.\n",
      "2025-09-16 15:54:13,865 - INFO - [TICKET-259] Stage 3: Response Generation...\n"
     ]
    },
    {
     "data": {
      "application/vnd.jupyter.widget-view+json": {
       "model_id": "ea3b2819cee84bc4a812bef4a3a2f054",
       "version_major": 2,
       "version_minor": 0
      },
      "text/plain": [
       "Batches:   0%|          | 0/1 [00:00<?, ?it/s]"
      ]
     },
     "metadata": {},
     "output_type": "display_data"
    },
    {
     "data": {
      "application/vnd.jupyter.widget-view+json": {
       "model_id": "d9b3f1482c2844c98cbb72c0d1b5df63",
       "version_major": 2,
       "version_minor": 0
      },
      "text/plain": [
       "Batches:   0%|          | 0/1 [00:00<?, ?it/s]"
      ]
     },
     "metadata": {},
     "output_type": "display_data"
    },
    {
     "data": {
      "application/vnd.jupyter.widget-view+json": {
       "model_id": "53bb48d4ac0d49e2b373225474a7aa2d",
       "version_major": 2,
       "version_minor": 0
      },
      "text/plain": [
       "Batches:   0%|          | 0/1 [00:00<?, ?it/s]"
      ]
     },
     "metadata": {},
     "output_type": "display_data"
    },
    {
     "name": "stderr",
     "output_type": "stream",
     "text": [
      "2025-09-16 15:54:20,476 - INFO - AFC is enabled with max remote calls: 10.\n",
      "2025-09-16 15:54:44,105 - INFO - HTTP Request: POST https://generativelanguage.googleapis.com/v1beta/models/gemini-2.5-flash:generateContent \"HTTP/1.1 200 OK\"\n",
      "2025-09-16 15:54:44,137 - INFO - AFC remote call 1 is done.\n",
      "2025-09-16 15:54:44,141 - INFO - [TICKET-259] Response generated with 4 sources.\n",
      "2025-09-16 15:54:44,143 - INFO - Pipeline finished for ticket [TICKET-259] in 34.58s.\n"
     ]
    },
    {
     "data": {
      "application/vnd.jupyter.widget-view+json": {
       "model_id": "8670038a7a804289b99bfd2e2379692e",
       "version_major": 2,
       "version_minor": 0
      },
      "text/plain": [
       "Batches:   0%|          | 0/1 [00:00<?, ?it/s]"
      ]
     },
     "metadata": {},
     "output_type": "display_data"
    },
    {
     "data": {
      "application/vnd.jupyter.widget-view+json": {
       "model_id": "3b18d52da1d34bae8aeb0c0746f4c5c3",
       "version_major": 2,
       "version_minor": 0
      },
      "text/plain": [
       "Batches:   0%|          | 0/1 [00:00<?, ?it/s]"
      ]
     },
     "metadata": {},
     "output_type": "display_data"
    },
    {
     "name": "stderr",
     "output_type": "stream",
     "text": [
      "2025-09-16 15:54:45,183 - INFO - Processing query for ticket [TICKET-260]...\n",
      "2025-09-16 15:54:45,185 - INFO - [TICKET-260] Stage 1: Triage Classification...\n",
      "2025-09-16 15:54:45,189 - INFO - AFC is enabled with max remote calls: 10.\n"
     ]
    },
    {
     "name": "stdout",
     "output_type": "stream",
     "text": [
      "   ✅ Grade: A | Quality: 0.876\n",
      "   📊 Completeness: 0.889 | Sources: 4\n",
      "\n",
      "🔍 Testing ticket 16/30: TICKET-260\n",
      "📝 Subject: Authentication methods for APIs and SDKs\n"
     ]
    },
    {
     "name": "stderr",
     "output_type": "stream",
     "text": [
      "2025-09-16 15:54:47,835 - INFO - HTTP Request: POST https://generativelanguage.googleapis.com/v1beta/models/gemini-2.5-flash-lite:generateContent \"HTTP/1.1 200 OK\"\n",
      "2025-09-16 15:54:47,849 - INFO - AFC remote call 1 is done.\n",
      "2025-09-16 15:54:47,850 - INFO - ✅ Classified ticket TICKET-260: ['API_SDK', 'HOW_TO'] (confidence: 0.900)\n",
      "2025-09-16 15:54:47,851 - INFO - [TICKET-260] Triage complete. Topics: ['API_SDK', 'HOW_TO'], Priority: P2\n",
      "2025-09-16 15:54:47,851 - INFO - [TICKET-260] Stage 2: Classification Validation...\n",
      "2025-09-16 15:54:47,852 - INFO - [TICKET-260] Validation complete. Status: isolated, Confidence: medium\n",
      "2025-09-16 15:54:47,852 - INFO - [TICKET-260] All topics are sent to RAG for intelligent handling.\n",
      "2025-09-16 15:54:47,852 - INFO - [TICKET-260] Stage 3: Response Generation...\n"
     ]
    },
    {
     "data": {
      "application/vnd.jupyter.widget-view+json": {
       "model_id": "b19613f3ecd541a68394c78b9ecd5fa7",
       "version_major": 2,
       "version_minor": 0
      },
      "text/plain": [
       "Batches:   0%|          | 0/1 [00:00<?, ?it/s]"
      ]
     },
     "metadata": {},
     "output_type": "display_data"
    },
    {
     "data": {
      "application/vnd.jupyter.widget-view+json": {
       "model_id": "7471fb30bfda41f78812e8b393741760",
       "version_major": 2,
       "version_minor": 0
      },
      "text/plain": [
       "Batches:   0%|          | 0/1 [00:00<?, ?it/s]"
      ]
     },
     "metadata": {},
     "output_type": "display_data"
    },
    {
     "data": {
      "application/vnd.jupyter.widget-view+json": {
       "model_id": "d98fb397731a44ad9fba5f8f926a93eb",
       "version_major": 2,
       "version_minor": 0
      },
      "text/plain": [
       "Batches:   0%|          | 0/1 [00:00<?, ?it/s]"
      ]
     },
     "metadata": {},
     "output_type": "display_data"
    },
    {
     "name": "stderr",
     "output_type": "stream",
     "text": [
      "2025-09-16 15:54:50,091 - INFO - AFC is enabled with max remote calls: 10.\n",
      "2025-09-16 15:55:08,992 - INFO - HTTP Request: POST https://generativelanguage.googleapis.com/v1beta/models/gemini-2.5-flash:generateContent \"HTTP/1.1 200 OK\"\n",
      "2025-09-16 15:55:09,047 - INFO - AFC remote call 1 is done.\n",
      "2025-09-16 15:55:09,050 - INFO - [TICKET-260] Response generated with 6 sources.\n",
      "2025-09-16 15:55:09,051 - INFO - Pipeline finished for ticket [TICKET-260] in 23.87s.\n"
     ]
    },
    {
     "data": {
      "application/vnd.jupyter.widget-view+json": {
       "model_id": "ee7f914ebda142598ef0cccf0c1c8466",
       "version_major": 2,
       "version_minor": 0
      },
      "text/plain": [
       "Batches:   0%|          | 0/1 [00:00<?, ?it/s]"
      ]
     },
     "metadata": {},
     "output_type": "display_data"
    },
    {
     "data": {
      "application/vnd.jupyter.widget-view+json": {
       "model_id": "806ebdbc894e4ae19775b82fd90a65cc",
       "version_major": 2,
       "version_minor": 0
      },
      "text/plain": [
       "Batches:   0%|          | 0/1 [00:00<?, ?it/s]"
      ]
     },
     "metadata": {},
     "output_type": "display_data"
    },
    {
     "name": "stderr",
     "output_type": "stream",
     "text": [
      "2025-09-16 15:55:10,182 - INFO - Processing query for ticket [TICKET-261]...\n",
      "2025-09-16 15:55:10,183 - INFO - [TICKET-261] Stage 1: Triage Classification...\n",
      "2025-09-16 15:55:10,185 - INFO - AFC is enabled with max remote calls: 10.\n"
     ]
    },
    {
     "name": "stdout",
     "output_type": "stream",
     "text": [
      "   ✅ Grade: A | Quality: 0.874\n",
      "   📊 Completeness: 0.811 | Sources: 6\n",
      "\n",
      "🔍 Testing ticket 17/30: TICKET-261\n",
      "📝 Subject: Enabling and testing SAML SSO\n"
     ]
    },
    {
     "name": "stderr",
     "output_type": "stream",
     "text": [
      "2025-09-16 15:55:28,128 - INFO - HTTP Request: POST https://generativelanguage.googleapis.com/v1beta/models/gemini-2.5-flash-lite:generateContent \"HTTP/1.1 200 OK\"\n",
      "2025-09-16 15:55:28,145 - INFO - AFC remote call 1 is done.\n",
      "2025-09-16 15:55:28,146 - INFO - ✅ Classified ticket TICKET-261: ['HOW_TO', 'SSO'] (confidence: 0.900)\n",
      "2025-09-16 15:55:28,147 - INFO - [TICKET-261] Triage complete. Topics: ['HOW_TO', 'SSO'], Priority: P1\n",
      "2025-09-16 15:55:28,148 - INFO - [TICKET-261] Stage 2: Classification Validation...\n",
      "2025-09-16 15:55:28,148 - INFO - [TICKET-261] Validation complete. Status: isolated, Confidence: medium\n",
      "2025-09-16 15:55:28,149 - INFO - [TICKET-261] All topics are sent to RAG for intelligent handling.\n",
      "2025-09-16 15:55:28,149 - INFO - [TICKET-261] Stage 3: Response Generation...\n"
     ]
    },
    {
     "data": {
      "application/vnd.jupyter.widget-view+json": {
       "model_id": "c756c07ab9f8492ea15d51596d209d63",
       "version_major": 2,
       "version_minor": 0
      },
      "text/plain": [
       "Batches:   0%|          | 0/1 [00:00<?, ?it/s]"
      ]
     },
     "metadata": {},
     "output_type": "display_data"
    },
    {
     "data": {
      "application/vnd.jupyter.widget-view+json": {
       "model_id": "846208f2b2eb475386c1aa3ec22eafaf",
       "version_major": 2,
       "version_minor": 0
      },
      "text/plain": [
       "Batches:   0%|          | 0/1 [00:00<?, ?it/s]"
      ]
     },
     "metadata": {},
     "output_type": "display_data"
    },
    {
     "data": {
      "application/vnd.jupyter.widget-view+json": {
       "model_id": "eab201b825994408a28062e290632c69",
       "version_major": 2,
       "version_minor": 0
      },
      "text/plain": [
       "Batches:   0%|          | 0/1 [00:00<?, ?it/s]"
      ]
     },
     "metadata": {},
     "output_type": "display_data"
    },
    {
     "name": "stderr",
     "output_type": "stream",
     "text": [
      "2025-09-16 15:55:35,140 - INFO - AFC is enabled with max remote calls: 10.\n",
      "2025-09-16 15:55:52,321 - INFO - HTTP Request: POST https://generativelanguage.googleapis.com/v1beta/models/gemini-2.5-flash:generateContent \"HTTP/1.1 200 OK\"\n",
      "2025-09-16 15:55:52,396 - INFO - AFC remote call 1 is done.\n",
      "2025-09-16 15:55:52,402 - INFO - [TICKET-261] Response generated with 3 sources.\n",
      "2025-09-16 15:55:52,405 - INFO - Pipeline finished for ticket [TICKET-261] in 42.22s.\n"
     ]
    },
    {
     "data": {
      "application/vnd.jupyter.widget-view+json": {
       "model_id": "9ae83d63354f4cb08d95f609b17dc087",
       "version_major": 2,
       "version_minor": 0
      },
      "text/plain": [
       "Batches:   0%|          | 0/1 [00:00<?, ?it/s]"
      ]
     },
     "metadata": {},
     "output_type": "display_data"
    },
    {
     "data": {
      "application/vnd.jupyter.widget-view+json": {
       "model_id": "8c89555ad1e2433ba6cee778dcc66d93",
       "version_major": 2,
       "version_minor": 0
      },
      "text/plain": [
       "Batches:   0%|          | 0/1 [00:00<?, ?it/s]"
      ]
     },
     "metadata": {},
     "output_type": "display_data"
    },
    {
     "name": "stderr",
     "output_type": "stream",
     "text": [
      "2025-09-16 15:55:54,025 - INFO - Processing query for ticket [TICKET-262]...\n",
      "2025-09-16 15:55:54,027 - INFO - [TICKET-262] Stage 1: Triage Classification...\n",
      "2025-09-16 15:55:54,033 - INFO - AFC is enabled with max remote calls: 10.\n"
     ]
    },
    {
     "name": "stdout",
     "output_type": "stream",
     "text": [
      "   ✅ Grade: A | Quality: 0.802\n",
      "   📊 Completeness: 0.779 | Sources: 3\n",
      "\n",
      "🔍 Testing ticket 18/30: TICKET-262\n",
      "📝 Subject: SSO login not assigning user to correct group\n"
     ]
    },
    {
     "name": "stderr",
     "output_type": "stream",
     "text": [
      "2025-09-16 15:55:56,495 - INFO - HTTP Request: POST https://generativelanguage.googleapis.com/v1beta/models/gemini-2.5-flash-lite:generateContent \"HTTP/1.1 200 OK\"\n",
      "2025-09-16 15:55:56,508 - INFO - AFC remote call 1 is done.\n",
      "2025-09-16 15:55:56,510 - INFO - ✅ Classified ticket TICKET-262: ['SSO', 'OTHER'] (confidence: 0.900)\n",
      "2025-09-16 15:55:56,510 - INFO - [TICKET-262] Triage complete. Topics: ['SSO', 'OTHER'], Priority: P1\n",
      "2025-09-16 15:55:56,511 - INFO - [TICKET-262] Stage 2: Classification Validation...\n",
      "2025-09-16 15:55:56,513 - INFO - [TICKET-262] Validation complete. Status: isolated, Confidence: medium\n",
      "2025-09-16 15:55:56,513 - INFO - [TICKET-262] All topics are sent to RAG for intelligent handling.\n",
      "2025-09-16 15:55:56,514 - INFO - [TICKET-262] Stage 3: Response Generation...\n"
     ]
    },
    {
     "data": {
      "application/vnd.jupyter.widget-view+json": {
       "model_id": "e2fae4c1a6ae45c694e28d23f3275c85",
       "version_major": 2,
       "version_minor": 0
      },
      "text/plain": [
       "Batches:   0%|          | 0/1 [00:00<?, ?it/s]"
      ]
     },
     "metadata": {},
     "output_type": "display_data"
    },
    {
     "data": {
      "application/vnd.jupyter.widget-view+json": {
       "model_id": "27cbd3448b51469da221147ad6e112cb",
       "version_major": 2,
       "version_minor": 0
      },
      "text/plain": [
       "Batches:   0%|          | 0/1 [00:00<?, ?it/s]"
      ]
     },
     "metadata": {},
     "output_type": "display_data"
    },
    {
     "data": {
      "application/vnd.jupyter.widget-view+json": {
       "model_id": "64f260e949db4ce2ba096b90f11e8086",
       "version_major": 2,
       "version_minor": 0
      },
      "text/plain": [
       "Batches:   0%|          | 0/1 [00:00<?, ?it/s]"
      ]
     },
     "metadata": {},
     "output_type": "display_data"
    },
    {
     "name": "stderr",
     "output_type": "stream",
     "text": [
      "2025-09-16 15:55:59,283 - INFO - AFC is enabled with max remote calls: 10.\n",
      "2025-09-16 15:56:19,371 - INFO - HTTP Request: POST https://generativelanguage.googleapis.com/v1beta/models/gemini-2.5-flash:generateContent \"HTTP/1.1 200 OK\"\n",
      "2025-09-16 15:56:19,441 - INFO - AFC remote call 1 is done.\n",
      "2025-09-16 15:56:19,447 - INFO - [TICKET-262] Response generated with 4 sources.\n",
      "2025-09-16 15:56:19,453 - INFO - Pipeline finished for ticket [TICKET-262] in 25.43s.\n"
     ]
    },
    {
     "data": {
      "application/vnd.jupyter.widget-view+json": {
       "model_id": "4b5fba618572490c97f909f8cb0bfc40",
       "version_major": 2,
       "version_minor": 0
      },
      "text/plain": [
       "Batches:   0%|          | 0/1 [00:00<?, ?it/s]"
      ]
     },
     "metadata": {},
     "output_type": "display_data"
    },
    {
     "data": {
      "application/vnd.jupyter.widget-view+json": {
       "model_id": "7d4aa37e7ccf4ceab7e2d959c74009f1",
       "version_major": 2,
       "version_minor": 0
      },
      "text/plain": [
       "Batches:   0%|          | 0/1 [00:00<?, ?it/s]"
      ]
     },
     "metadata": {},
     "output_type": "display_data"
    },
    {
     "name": "stderr",
     "output_type": "stream",
     "text": [
      "2025-09-16 15:56:20,768 - INFO - Processing query for ticket [TICKET-263]...\n",
      "2025-09-16 15:56:20,769 - INFO - [TICKET-263] Stage 1: Triage Classification...\n",
      "2025-09-16 15:56:20,772 - INFO - AFC is enabled with max remote calls: 10.\n"
     ]
    },
    {
     "name": "stdout",
     "output_type": "stream",
     "text": [
      "   ✅ Grade: A | Quality: 0.801\n",
      "   📊 Completeness: 0.703 | Sources: 4\n",
      "\n",
      "🔍 Testing ticket 19/30: TICKET-263\n",
      "📝 Subject: Integration with existing DLP or secrets manager\n"
     ]
    },
    {
     "name": "stderr",
     "output_type": "stream",
     "text": [
      "2025-09-16 15:56:23,610 - INFO - HTTP Request: POST https://generativelanguage.googleapis.com/v1beta/models/gemini-2.5-flash-lite:generateContent \"HTTP/1.1 200 OK\"\n",
      "2025-09-16 15:56:23,635 - INFO - AFC remote call 1 is done.\n",
      "2025-09-16 15:56:23,639 - INFO - ✅ Classified ticket TICKET-263: ['CONNECTOR', 'SENSITIVE_DATA', 'API_SDK', 'OTHER'] (confidence: 0.900)\n",
      "2025-09-16 15:56:23,640 - INFO - [TICKET-263] Triage complete. Topics: ['CONNECTOR', 'SENSITIVE_DATA', 'API_SDK', 'OTHER'], Priority: P2\n",
      "2025-09-16 15:56:23,641 - INFO - [TICKET-263] Stage 2: Classification Validation...\n",
      "2025-09-16 15:56:23,643 - INFO - [TICKET-263] Validation complete. Status: isolated, Confidence: medium\n",
      "2025-09-16 15:56:23,647 - INFO - [TICKET-263] All topics are sent to RAG for intelligent handling.\n",
      "2025-09-16 15:56:23,649 - INFO - [TICKET-263] Stage 3: Response Generation...\n"
     ]
    },
    {
     "data": {
      "application/vnd.jupyter.widget-view+json": {
       "model_id": "0118775f678d4a69acf29366f449126e",
       "version_major": 2,
       "version_minor": 0
      },
      "text/plain": [
       "Batches:   0%|          | 0/1 [00:00<?, ?it/s]"
      ]
     },
     "metadata": {},
     "output_type": "display_data"
    },
    {
     "data": {
      "application/vnd.jupyter.widget-view+json": {
       "model_id": "fc35e0482f6140b4b428b3181cf6a3f2",
       "version_major": 2,
       "version_minor": 0
      },
      "text/plain": [
       "Batches:   0%|          | 0/1 [00:00<?, ?it/s]"
      ]
     },
     "metadata": {},
     "output_type": "display_data"
    },
    {
     "data": {
      "application/vnd.jupyter.widget-view+json": {
       "model_id": "711a17469f3d4ceea19a12d633d5f492",
       "version_major": 2,
       "version_minor": 0
      },
      "text/plain": [
       "Batches:   0%|          | 0/1 [00:00<?, ?it/s]"
      ]
     },
     "metadata": {},
     "output_type": "display_data"
    },
    {
     "name": "stderr",
     "output_type": "stream",
     "text": [
      "2025-09-16 15:56:30,187 - INFO - AFC is enabled with max remote calls: 10.\n",
      "2025-09-16 15:56:43,346 - INFO - HTTP Request: POST https://generativelanguage.googleapis.com/v1beta/models/gemini-2.5-flash:generateContent \"HTTP/1.1 200 OK\"\n",
      "2025-09-16 15:56:43,454 - INFO - AFC remote call 1 is done.\n",
      "2025-09-16 15:56:43,457 - INFO - [TICKET-263] Response generated with 5 sources.\n",
      "2025-09-16 15:56:43,459 - INFO - Pipeline finished for ticket [TICKET-263] in 22.69s.\n"
     ]
    },
    {
     "data": {
      "application/vnd.jupyter.widget-view+json": {
       "model_id": "4018a82c115b48cc9d5aea7163c72717",
       "version_major": 2,
       "version_minor": 0
      },
      "text/plain": [
       "Batches:   0%|          | 0/1 [00:00<?, ?it/s]"
      ]
     },
     "metadata": {},
     "output_type": "display_data"
    },
    {
     "data": {
      "application/vnd.jupyter.widget-view+json": {
       "model_id": "040d9e17126b4cd39dd62b49f0c2ae24",
       "version_major": 2,
       "version_minor": 0
      },
      "text/plain": [
       "Batches:   0%|          | 0/1 [00:00<?, ?it/s]"
      ]
     },
     "metadata": {},
     "output_type": "display_data"
    },
    {
     "name": "stderr",
     "output_type": "stream",
     "text": [
      "2025-09-16 15:56:45,271 - INFO - Processing query for ticket [TICKET-264]...\n",
      "2025-09-16 15:56:45,289 - INFO - [TICKET-264] Stage 1: Triage Classification...\n",
      "2025-09-16 15:56:45,370 - INFO - AFC is enabled with max remote calls: 10.\n"
     ]
    },
    {
     "name": "stdout",
     "output_type": "stream",
     "text": [
      "   ✅ Grade: A | Quality: 0.898\n",
      "   📊 Completeness: 0.746 | Sources: 5\n",
      "\n",
      "🔍 Testing ticket 20/30: TICKET-264\n",
      "📝 Subject: Accessing audit logs for compliance reviews\n"
     ]
    },
    {
     "name": "stderr",
     "output_type": "stream",
     "text": [
      "2025-09-16 15:56:48,352 - INFO - HTTP Request: POST https://generativelanguage.googleapis.com/v1beta/models/gemini-2.5-flash-lite:generateContent \"HTTP/1.1 200 OK\"\n",
      "2025-09-16 15:56:48,383 - INFO - AFC remote call 1 is done.\n",
      "2025-09-16 15:56:48,386 - INFO - ✅ Classified ticket TICKET-264: ['HOW_TO', 'API_SDK', 'SENSITIVE_DATA'] (confidence: 0.900)\n",
      "2025-09-16 15:56:48,500 - INFO - [TICKET-264] Triage complete. Topics: ['HOW_TO', 'API_SDK', 'SENSITIVE_DATA'], Priority: P2\n",
      "2025-09-16 15:56:48,504 - INFO - [TICKET-264] Stage 2: Classification Validation...\n",
      "2025-09-16 15:56:48,506 - INFO - [TICKET-264] Validation complete. Status: isolated, Confidence: medium\n",
      "2025-09-16 15:56:48,507 - INFO - [TICKET-264] All topics are sent to RAG for intelligent handling.\n",
      "2025-09-16 15:56:48,508 - INFO - [TICKET-264] Stage 3: Response Generation...\n"
     ]
    },
    {
     "data": {
      "application/vnd.jupyter.widget-view+json": {
       "model_id": "0246ff2c01e44a97b05717723c2a23fb",
       "version_major": 2,
       "version_minor": 0
      },
      "text/plain": [
       "Batches:   0%|          | 0/1 [00:00<?, ?it/s]"
      ]
     },
     "metadata": {},
     "output_type": "display_data"
    },
    {
     "data": {
      "application/vnd.jupyter.widget-view+json": {
       "model_id": "110afa020f5f488e817bb113436f7791",
       "version_major": 2,
       "version_minor": 0
      },
      "text/plain": [
       "Batches:   0%|          | 0/1 [00:00<?, ?it/s]"
      ]
     },
     "metadata": {},
     "output_type": "display_data"
    },
    {
     "data": {
      "application/vnd.jupyter.widget-view+json": {
       "model_id": "ba9343bdb6e44150ac61c850fd313187",
       "version_major": 2,
       "version_minor": 0
      },
      "text/plain": [
       "Batches:   0%|          | 0/1 [00:00<?, ?it/s]"
      ]
     },
     "metadata": {},
     "output_type": "display_data"
    },
    {
     "name": "stderr",
     "output_type": "stream",
     "text": [
      "2025-09-16 15:56:51,414 - INFO - AFC is enabled with max remote calls: 10.\n",
      "2025-09-16 15:57:20,096 - INFO - HTTP Request: POST https://generativelanguage.googleapis.com/v1beta/models/gemini-2.5-flash:generateContent \"HTTP/1.1 200 OK\"\n",
      "2025-09-16 15:57:20,167 - INFO - AFC remote call 1 is done.\n",
      "2025-09-16 15:57:20,170 - INFO - [TICKET-264] Response generated with 7 sources.\n",
      "2025-09-16 15:57:20,175 - INFO - Pipeline finished for ticket [TICKET-264] in 34.91s.\n"
     ]
    },
    {
     "data": {
      "application/vnd.jupyter.widget-view+json": {
       "model_id": "46e2b08f878d46b7906e545de5082702",
       "version_major": 2,
       "version_minor": 0
      },
      "text/plain": [
       "Batches:   0%|          | 0/1 [00:00<?, ?it/s]"
      ]
     },
     "metadata": {},
     "output_type": "display_data"
    },
    {
     "data": {
      "application/vnd.jupyter.widget-view+json": {
       "model_id": "0c087bd6be23421c874153b000e2ce84",
       "version_major": 2,
       "version_minor": 0
      },
      "text/plain": [
       "Batches:   0%|          | 0/1 [00:00<?, ?it/s]"
      ]
     },
     "metadata": {},
     "output_type": "display_data"
    },
    {
     "name": "stderr",
     "output_type": "stream",
     "text": [
      "2025-09-16 15:57:22,367 - INFO - Processing query for ticket [TICKET-265]...\n",
      "2025-09-16 15:57:22,370 - INFO - [TICKET-265] Stage 1: Triage Classification...\n",
      "2025-09-16 15:57:22,373 - INFO - AFC is enabled with max remote calls: 10.\n"
     ]
    },
    {
     "name": "stdout",
     "output_type": "stream",
     "text": [
      "   ✅ Grade: A | Quality: 0.870\n",
      "   📊 Completeness: 0.799 | Sources: 7\n",
      "\n",
      "🔍 Testing ticket 21/30: TICKET-265\n",
      "📝 Subject: How to programmatically create an asset using the REST API?\n"
     ]
    },
    {
     "name": "stderr",
     "output_type": "stream",
     "text": [
      "2025-09-16 15:57:24,490 - INFO - HTTP Request: POST https://generativelanguage.googleapis.com/v1beta/models/gemini-2.5-flash-lite:generateContent \"HTTP/1.1 200 OK\"\n",
      "2025-09-16 15:57:24,504 - INFO - AFC remote call 1 is done.\n",
      "2025-09-16 15:57:24,505 - INFO - ✅ Classified ticket TICKET-265: ['API_SDK', 'HOW_TO'] (confidence: 0.900)\n",
      "2025-09-16 15:57:24,505 - INFO - [TICKET-265] Triage complete. Topics: ['API_SDK', 'HOW_TO'], Priority: P2\n",
      "2025-09-16 15:57:24,506 - INFO - [TICKET-265] Stage 2: Classification Validation...\n",
      "2025-09-16 15:57:24,507 - INFO - [TICKET-265] Validation complete. Status: isolated, Confidence: medium\n",
      "2025-09-16 15:57:24,507 - INFO - [TICKET-265] All topics are sent to RAG for intelligent handling.\n",
      "2025-09-16 15:57:24,508 - INFO - [TICKET-265] Stage 3: Response Generation...\n"
     ]
    },
    {
     "data": {
      "application/vnd.jupyter.widget-view+json": {
       "model_id": "d1c1f16027e541deb0e480ec32d79536",
       "version_major": 2,
       "version_minor": 0
      },
      "text/plain": [
       "Batches:   0%|          | 0/1 [00:00<?, ?it/s]"
      ]
     },
     "metadata": {},
     "output_type": "display_data"
    },
    {
     "data": {
      "application/vnd.jupyter.widget-view+json": {
       "model_id": "7a41b093aea04e9a88408ae9e5aa170b",
       "version_major": 2,
       "version_minor": 0
      },
      "text/plain": [
       "Batches:   0%|          | 0/1 [00:00<?, ?it/s]"
      ]
     },
     "metadata": {},
     "output_type": "display_data"
    },
    {
     "data": {
      "application/vnd.jupyter.widget-view+json": {
       "model_id": "07d00f1e6de043c98552bc65cea26f27",
       "version_major": 2,
       "version_minor": 0
      },
      "text/plain": [
       "Batches:   0%|          | 0/1 [00:00<?, ?it/s]"
      ]
     },
     "metadata": {},
     "output_type": "display_data"
    },
    {
     "name": "stderr",
     "output_type": "stream",
     "text": [
      "2025-09-16 15:57:31,674 - INFO - AFC is enabled with max remote calls: 10.\n",
      "2025-09-16 15:58:07,086 - INFO - HTTP Request: POST https://generativelanguage.googleapis.com/v1beta/models/gemini-2.5-flash:generateContent \"HTTP/1.1 200 OK\"\n",
      "2025-09-16 15:58:07,152 - INFO - AFC remote call 1 is done.\n",
      "2025-09-16 15:58:07,155 - INFO - [TICKET-265] Response generated with 4 sources.\n",
      "2025-09-16 15:58:07,156 - INFO - Pipeline finished for ticket [TICKET-265] in 44.79s.\n"
     ]
    },
    {
     "data": {
      "application/vnd.jupyter.widget-view+json": {
       "model_id": "e6be6da20ebc4798a96a10202329ec63",
       "version_major": 2,
       "version_minor": 0
      },
      "text/plain": [
       "Batches:   0%|          | 0/1 [00:00<?, ?it/s]"
      ]
     },
     "metadata": {},
     "output_type": "display_data"
    },
    {
     "data": {
      "application/vnd.jupyter.widget-view+json": {
       "model_id": "9eeccaac204b4da6ae94b83204c0cf58",
       "version_major": 2,
       "version_minor": 0
      },
      "text/plain": [
       "Batches:   0%|          | 0/1 [00:00<?, ?it/s]"
      ]
     },
     "metadata": {},
     "output_type": "display_data"
    },
    {
     "name": "stderr",
     "output_type": "stream",
     "text": [
      "2025-09-16 15:58:08,945 - INFO - Processing query for ticket [TICKET-266]...\n",
      "2025-09-16 15:58:08,946 - INFO - [TICKET-266] Stage 1: Triage Classification...\n",
      "2025-09-16 15:58:08,948 - INFO - AFC is enabled with max remote calls: 10.\n"
     ]
    },
    {
     "name": "stdout",
     "output_type": "stream",
     "text": [
      "   ✅ Grade: B | Quality: 0.779\n",
      "   📊 Completeness: 0.647 | Sources: 4\n",
      "\n",
      "🔍 Testing ticket 22/30: TICKET-266\n",
      "📝 Subject: SDK availability and Python example\n"
     ]
    },
    {
     "name": "stderr",
     "output_type": "stream",
     "text": [
      "2025-09-16 15:58:15,142 - INFO - HTTP Request: POST https://generativelanguage.googleapis.com/v1beta/models/gemini-2.5-flash-lite:generateContent \"HTTP/1.1 200 OK\"\n",
      "2025-09-16 15:58:15,159 - INFO - AFC remote call 1 is done.\n",
      "2025-09-16 15:58:15,159 - INFO - ✅ Classified ticket TICKET-266: ['API_SDK', 'GLOSSARY', 'HOW_TO'] (confidence: 0.900)\n",
      "2025-09-16 15:58:15,160 - INFO - [TICKET-266] Triage complete. Topics: ['API_SDK', 'GLOSSARY', 'HOW_TO'], Priority: P2\n",
      "2025-09-16 15:58:15,160 - INFO - [TICKET-266] Stage 2: Classification Validation...\n",
      "2025-09-16 15:58:15,160 - INFO - [TICKET-266] Validation complete. Status: isolated, Confidence: medium\n",
      "2025-09-16 15:58:15,161 - INFO - [TICKET-266] All topics are sent to RAG for intelligent handling.\n",
      "2025-09-16 15:58:15,162 - INFO - [TICKET-266] Stage 3: Response Generation...\n"
     ]
    },
    {
     "data": {
      "application/vnd.jupyter.widget-view+json": {
       "model_id": "0fbc6df5b1834520a5f48ce250b956c0",
       "version_major": 2,
       "version_minor": 0
      },
      "text/plain": [
       "Batches:   0%|          | 0/1 [00:00<?, ?it/s]"
      ]
     },
     "metadata": {},
     "output_type": "display_data"
    },
    {
     "data": {
      "application/vnd.jupyter.widget-view+json": {
       "model_id": "643a17a42762428f96cfd3c4a5f345d0",
       "version_major": 2,
       "version_minor": 0
      },
      "text/plain": [
       "Batches:   0%|          | 0/1 [00:00<?, ?it/s]"
      ]
     },
     "metadata": {},
     "output_type": "display_data"
    },
    {
     "data": {
      "application/vnd.jupyter.widget-view+json": {
       "model_id": "853499c03aac4662b73f7c51e938fedd",
       "version_major": 2,
       "version_minor": 0
      },
      "text/plain": [
       "Batches:   0%|          | 0/1 [00:00<?, ?it/s]"
      ]
     },
     "metadata": {},
     "output_type": "display_data"
    },
    {
     "name": "stderr",
     "output_type": "stream",
     "text": [
      "2025-09-16 15:58:21,505 - INFO - AFC is enabled with max remote calls: 10.\n",
      "2025-09-16 15:58:37,510 - INFO - HTTP Request: POST https://generativelanguage.googleapis.com/v1beta/models/gemini-2.5-flash:generateContent \"HTTP/1.1 200 OK\"\n",
      "2025-09-16 15:58:37,535 - INFO - AFC remote call 1 is done.\n",
      "2025-09-16 15:58:37,538 - INFO - [TICKET-266] Response generated with 7 sources.\n",
      "2025-09-16 15:58:37,540 - INFO - Pipeline finished for ticket [TICKET-266] in 28.59s.\n"
     ]
    },
    {
     "data": {
      "application/vnd.jupyter.widget-view+json": {
       "model_id": "fe3a916512cd4ce4a7881434bdc40dd3",
       "version_major": 2,
       "version_minor": 0
      },
      "text/plain": [
       "Batches:   0%|          | 0/1 [00:00<?, ?it/s]"
      ]
     },
     "metadata": {},
     "output_type": "display_data"
    },
    {
     "data": {
      "application/vnd.jupyter.widget-view+json": {
       "model_id": "973f722c02be48af965d6ca54a964301",
       "version_major": 2,
       "version_minor": 0
      },
      "text/plain": [
       "Batches:   0%|          | 0/1 [00:00<?, ?it/s]"
      ]
     },
     "metadata": {},
     "output_type": "display_data"
    },
    {
     "name": "stderr",
     "output_type": "stream",
     "text": [
      "2025-09-16 15:58:38,768 - INFO - Processing query for ticket [TICKET-267]...\n",
      "2025-09-16 15:58:38,774 - INFO - [TICKET-267] Stage 1: Triage Classification...\n",
      "2025-09-16 15:58:38,784 - INFO - AFC is enabled with max remote calls: 10.\n"
     ]
    },
    {
     "name": "stdout",
     "output_type": "stream",
     "text": [
      "   ✅ Grade: A | Quality: 0.844\n",
      "   📊 Completeness: 0.609 | Sources: 7\n",
      "\n",
      "🔍 Testing ticket 23/30: TICKET-267\n",
      "📝 Subject: How do webhooks work in Atlan?\n"
     ]
    },
    {
     "name": "stderr",
     "output_type": "stream",
     "text": [
      "2025-09-16 15:58:41,703 - INFO - HTTP Request: POST https://generativelanguage.googleapis.com/v1beta/models/gemini-2.5-flash-lite:generateContent \"HTTP/1.1 503 Service Unavailable\"\n",
      "2025-09-16 15:58:41,714 - ERROR - ❌ Error classifying ticket TICKET-267: 503 UNAVAILABLE. {'error': {'code': 503, 'message': 'The model is overloaded. Please try again later.', 'status': 'UNAVAILABLE'}}\n",
      "2025-09-16 15:58:41,715 - INFO - [TICKET-267] Triage complete. Topics: ['Other'], Priority: P2\n",
      "2025-09-16 15:58:41,715 - INFO - [TICKET-267] Stage 2: Classification Validation...\n",
      "2025-09-16 15:58:41,717 - INFO - [TICKET-267] Validation complete. Status: isolated, Confidence: low\n",
      "2025-09-16 15:58:41,718 - INFO - [TICKET-267] All topics are sent to RAG for intelligent handling.\n",
      "2025-09-16 15:58:41,719 - INFO - [TICKET-267] Stage 3: Response Generation...\n"
     ]
    },
    {
     "data": {
      "application/vnd.jupyter.widget-view+json": {
       "model_id": "2f0a4b6b75dd476ca3d8f17bf5f9e499",
       "version_major": 2,
       "version_minor": 0
      },
      "text/plain": [
       "Batches:   0%|          | 0/1 [00:00<?, ?it/s]"
      ]
     },
     "metadata": {},
     "output_type": "display_data"
    },
    {
     "data": {
      "application/vnd.jupyter.widget-view+json": {
       "model_id": "f415b9ef7b7e49f38a3be187400b5d9b",
       "version_major": 2,
       "version_minor": 0
      },
      "text/plain": [
       "Batches:   0%|          | 0/1 [00:00<?, ?it/s]"
      ]
     },
     "metadata": {},
     "output_type": "display_data"
    },
    {
     "data": {
      "application/vnd.jupyter.widget-view+json": {
       "model_id": "ef04e1cd58284f258743b029498a0806",
       "version_major": 2,
       "version_minor": 0
      },
      "text/plain": [
       "Batches:   0%|          | 0/1 [00:00<?, ?it/s]"
      ]
     },
     "metadata": {},
     "output_type": "display_data"
    },
    {
     "name": "stderr",
     "output_type": "stream",
     "text": [
      "2025-09-16 15:58:47,438 - INFO - AFC is enabled with max remote calls: 10.\n",
      "2025-09-16 15:59:01,513 - INFO - HTTP Request: POST https://generativelanguage.googleapis.com/v1beta/models/gemini-2.5-flash:generateContent \"HTTP/1.1 200 OK\"\n",
      "2025-09-16 15:59:01,604 - INFO - AFC remote call 1 is done.\n",
      "2025-09-16 15:59:01,608 - INFO - [TICKET-267] Response generated with 7 sources.\n",
      "2025-09-16 15:59:01,612 - INFO - Pipeline finished for ticket [TICKET-267] in 22.84s.\n"
     ]
    },
    {
     "data": {
      "application/vnd.jupyter.widget-view+json": {
       "model_id": "04e03f238dc7453b8768d551e4dc4b31",
       "version_major": 2,
       "version_minor": 0
      },
      "text/plain": [
       "Batches:   0%|          | 0/1 [00:00<?, ?it/s]"
      ]
     },
     "metadata": {},
     "output_type": "display_data"
    },
    {
     "data": {
      "application/vnd.jupyter.widget-view+json": {
       "model_id": "823233b81abb40dab8c4f2e3bd34efe2",
       "version_major": 2,
       "version_minor": 0
      },
      "text/plain": [
       "Batches:   0%|          | 0/1 [00:00<?, ?it/s]"
      ]
     },
     "metadata": {},
     "output_type": "display_data"
    },
    {
     "name": "stderr",
     "output_type": "stream",
     "text": [
      "2025-09-16 15:59:02,695 - INFO - Processing query for ticket [TICKET-268]...\n",
      "2025-09-16 15:59:02,697 - INFO - [TICKET-268] Stage 1: Triage Classification...\n",
      "2025-09-16 15:59:02,710 - INFO - AFC is enabled with max remote calls: 10.\n"
     ]
    },
    {
     "name": "stdout",
     "output_type": "stream",
     "text": [
      "   ✅ Grade: A | Quality: 0.960\n",
      "   📊 Completeness: 0.899 | Sources: 7\n",
      "\n",
      "🔍 Testing ticket 24/30: TICKET-268\n",
      "📝 Subject: Triggering an AWS Lambda from Atlan events\n"
     ]
    },
    {
     "name": "stderr",
     "output_type": "stream",
     "text": [
      "2025-09-16 15:59:09,009 - INFO - HTTP Request: POST https://generativelanguage.googleapis.com/v1beta/models/gemini-2.5-flash-lite:generateContent \"HTTP/1.1 200 OK\"\n",
      "2025-09-16 15:59:09,036 - INFO - AFC remote call 1 is done.\n",
      "2025-09-16 15:59:09,037 - INFO - ✅ Classified ticket TICKET-268: ['API_SDK', 'SENSITIVE_DATA'] (confidence: 0.900)\n",
      "2025-09-16 15:59:09,041 - INFO - [TICKET-268] Triage complete. Topics: ['API_SDK', 'SENSITIVE_DATA'], Priority: P2\n",
      "2025-09-16 15:59:09,042 - INFO - [TICKET-268] Stage 2: Classification Validation...\n",
      "2025-09-16 15:59:09,043 - INFO - [TICKET-268] Validation complete. Status: isolated, Confidence: medium\n",
      "2025-09-16 15:59:09,043 - INFO - [TICKET-268] All topics are sent to RAG for intelligent handling.\n",
      "2025-09-16 15:59:09,043 - INFO - [TICKET-268] Stage 3: Response Generation...\n"
     ]
    },
    {
     "data": {
      "application/vnd.jupyter.widget-view+json": {
       "model_id": "937c90deefb04210a4bc934755393931",
       "version_major": 2,
       "version_minor": 0
      },
      "text/plain": [
       "Batches:   0%|          | 0/1 [00:00<?, ?it/s]"
      ]
     },
     "metadata": {},
     "output_type": "display_data"
    },
    {
     "data": {
      "application/vnd.jupyter.widget-view+json": {
       "model_id": "b2e02798bf9b4f3d9151b1cf91704913",
       "version_major": 2,
       "version_minor": 0
      },
      "text/plain": [
       "Batches:   0%|          | 0/1 [00:00<?, ?it/s]"
      ]
     },
     "metadata": {},
     "output_type": "display_data"
    },
    {
     "data": {
      "application/vnd.jupyter.widget-view+json": {
       "model_id": "dbff00b81f9247bf9c4cc9864ee1d7d5",
       "version_major": 2,
       "version_minor": 0
      },
      "text/plain": [
       "Batches:   0%|          | 0/1 [00:00<?, ?it/s]"
      ]
     },
     "metadata": {},
     "output_type": "display_data"
    },
    {
     "name": "stderr",
     "output_type": "stream",
     "text": [
      "2025-09-16 15:59:14,524 - INFO - AFC is enabled with max remote calls: 10.\n",
      "2025-09-16 15:59:35,058 - INFO - HTTP Request: POST https://generativelanguage.googleapis.com/v1beta/models/gemini-2.5-flash:generateContent \"HTTP/1.1 200 OK\"\n",
      "2025-09-16 15:59:35,121 - INFO - AFC remote call 1 is done.\n",
      "2025-09-16 15:59:35,126 - INFO - [TICKET-268] Response generated with 4 sources.\n",
      "2025-09-16 15:59:35,128 - INFO - Pipeline finished for ticket [TICKET-268] in 32.43s.\n"
     ]
    },
    {
     "data": {
      "application/vnd.jupyter.widget-view+json": {
       "model_id": "1b56f1096db44f76be2c321904387df7",
       "version_major": 2,
       "version_minor": 0
      },
      "text/plain": [
       "Batches:   0%|          | 0/1 [00:00<?, ?it/s]"
      ]
     },
     "metadata": {},
     "output_type": "display_data"
    },
    {
     "data": {
      "application/vnd.jupyter.widget-view+json": {
       "model_id": "9fa22463e06449acbc1840fb64216bd6",
       "version_major": 2,
       "version_minor": 0
      },
      "text/plain": [
       "Batches:   0%|          | 0/1 [00:00<?, ?it/s]"
      ]
     },
     "metadata": {},
     "output_type": "display_data"
    },
    {
     "name": "stderr",
     "output_type": "stream",
     "text": [
      "2025-09-16 15:59:36,362 - INFO - Processing query for ticket [TICKET-269]...\n",
      "2025-09-16 15:59:36,363 - INFO - [TICKET-269] Stage 1: Triage Classification...\n",
      "2025-09-16 15:59:36,374 - INFO - AFC is enabled with max remote calls: 10.\n"
     ]
    },
    {
     "name": "stdout",
     "output_type": "stream",
     "text": [
      "   ✅ Grade: A | Quality: 0.862\n",
      "   📊 Completeness: 0.855 | Sources: 4\n",
      "\n",
      "🔍 Testing ticket 25/30: TICKET-269\n",
      "📝 Subject: When to use Atlan automations vs. external services?\n"
     ]
    },
    {
     "name": "stderr",
     "output_type": "stream",
     "text": [
      "2025-09-16 15:59:40,149 - INFO - HTTP Request: POST https://generativelanguage.googleapis.com/v1beta/models/gemini-2.5-flash-lite:generateContent \"HTTP/1.1 200 OK\"\n",
      "2025-09-16 15:59:40,167 - INFO - AFC remote call 1 is done.\n",
      "2025-09-16 15:59:40,168 - INFO - ✅ Classified ticket TICKET-269: ['HOW_TO', 'BEST_PRACTICES'] (confidence: 0.900)\n",
      "2025-09-16 15:59:40,169 - INFO - [TICKET-269] Triage complete. Topics: ['HOW_TO', 'BEST_PRACTICES'], Priority: P2\n",
      "2025-09-16 15:59:40,169 - INFO - [TICKET-269] Stage 2: Classification Validation...\n",
      "2025-09-16 15:59:40,170 - INFO - [TICKET-269] Validation complete. Status: isolated, Confidence: medium\n",
      "2025-09-16 15:59:40,171 - INFO - [TICKET-269] All topics are sent to RAG for intelligent handling.\n",
      "2025-09-16 15:59:40,171 - INFO - [TICKET-269] Stage 3: Response Generation...\n"
     ]
    },
    {
     "data": {
      "application/vnd.jupyter.widget-view+json": {
       "model_id": "4ddbc0791532488cad420d49cfd2191a",
       "version_major": 2,
       "version_minor": 0
      },
      "text/plain": [
       "Batches:   0%|          | 0/1 [00:00<?, ?it/s]"
      ]
     },
     "metadata": {},
     "output_type": "display_data"
    },
    {
     "data": {
      "application/vnd.jupyter.widget-view+json": {
       "model_id": "2574f81ac34a4f05abec4408dac34804",
       "version_major": 2,
       "version_minor": 0
      },
      "text/plain": [
       "Batches:   0%|          | 0/1 [00:00<?, ?it/s]"
      ]
     },
     "metadata": {},
     "output_type": "display_data"
    },
    {
     "data": {
      "application/vnd.jupyter.widget-view+json": {
       "model_id": "d91045623c1340b08aca87e64f358039",
       "version_major": 2,
       "version_minor": 0
      },
      "text/plain": [
       "Batches:   0%|          | 0/1 [00:00<?, ?it/s]"
      ]
     },
     "metadata": {},
     "output_type": "display_data"
    },
    {
     "name": "stderr",
     "output_type": "stream",
     "text": [
      "2025-09-16 15:59:46,652 - INFO - AFC is enabled with max remote calls: 10.\n",
      "2025-09-16 16:00:10,652 - INFO - HTTP Request: POST https://generativelanguage.googleapis.com/v1beta/models/gemini-2.5-flash:generateContent \"HTTP/1.1 200 OK\"\n",
      "2025-09-16 16:00:10,702 - INFO - AFC remote call 1 is done.\n",
      "2025-09-16 16:00:10,708 - INFO - [TICKET-269] Response generated with 4 sources.\n",
      "2025-09-16 16:00:10,711 - INFO - Pipeline finished for ticket [TICKET-269] in 34.35s.\n"
     ]
    },
    {
     "data": {
      "application/vnd.jupyter.widget-view+json": {
       "model_id": "c8bc66ab41cb40e89bee58885635a663",
       "version_major": 2,
       "version_minor": 0
      },
      "text/plain": [
       "Batches:   0%|          | 0/1 [00:05<?, ?it/s]"
      ]
     },
     "metadata": {},
     "output_type": "display_data"
    },
    {
     "data": {
      "application/vnd.jupyter.widget-view+json": {
       "model_id": "532cc33c80a94bcd8d207690e5696bb2",
       "version_major": 2,
       "version_minor": 0
      },
      "text/plain": [
       "Batches:   0%|          | 0/1 [00:00<?, ?it/s]"
      ]
     },
     "metadata": {},
     "output_type": "display_data"
    },
    {
     "name": "stderr",
     "output_type": "stream",
     "text": [
      "2025-09-16 16:00:18,549 - INFO - Processing query for ticket [TICKET-270]...\n",
      "2025-09-16 16:00:18,550 - INFO - [TICKET-270] Stage 1: Triage Classification...\n",
      "2025-09-16 16:00:18,558 - INFO - AFC is enabled with max remote calls: 10.\n"
     ]
    },
    {
     "name": "stdout",
     "output_type": "stream",
     "text": [
      "   ✅ Grade: A | Quality: 0.822\n",
      "   📊 Completeness: 0.755 | Sources: 4\n",
      "\n",
      "🔍 Testing ticket 26/30: TICKET-270\n",
      "📝 Subject: Connector failed to crawl - where to check logs?\n"
     ]
    },
    {
     "name": "stderr",
     "output_type": "stream",
     "text": [
      "2025-09-16 16:00:27,562 - INFO - HTTP Request: POST https://generativelanguage.googleapis.com/v1beta/models/gemini-2.5-flash-lite:generateContent \"HTTP/1.1 200 OK\"\n",
      "2025-09-16 16:00:27,591 - INFO - AFC remote call 1 is done.\n",
      "2025-09-16 16:00:27,592 - INFO - ✅ Classified ticket TICKET-270: ['CONNECTOR', 'LINEAGE', 'API_SDK'] (confidence: 0.900)\n",
      "2025-09-16 16:00:27,593 - INFO - [TICKET-270] Triage complete. Topics: ['CONNECTOR', 'LINEAGE', 'API_SDK'], Priority: P0\n",
      "2025-09-16 16:00:27,593 - INFO - [TICKET-270] Stage 2: Classification Validation...\n",
      "2025-09-16 16:00:27,594 - INFO - [TICKET-270] Validation complete. Status: isolated, Confidence: medium\n",
      "2025-09-16 16:00:27,594 - INFO - [TICKET-270] All topics are sent to RAG for intelligent handling.\n",
      "2025-09-16 16:00:27,594 - INFO - [TICKET-270] Stage 3: Response Generation...\n"
     ]
    },
    {
     "data": {
      "application/vnd.jupyter.widget-view+json": {
       "model_id": "2d976f8e481f49db8c28781eb1ab1ea5",
       "version_major": 2,
       "version_minor": 0
      },
      "text/plain": [
       "Batches:   0%|          | 0/1 [00:00<?, ?it/s]"
      ]
     },
     "metadata": {},
     "output_type": "display_data"
    },
    {
     "data": {
      "application/vnd.jupyter.widget-view+json": {
       "model_id": "31b360fb13a74115a0cb50eda8bce141",
       "version_major": 2,
       "version_minor": 0
      },
      "text/plain": [
       "Batches:   0%|          | 0/1 [00:00<?, ?it/s]"
      ]
     },
     "metadata": {},
     "output_type": "display_data"
    },
    {
     "data": {
      "application/vnd.jupyter.widget-view+json": {
       "model_id": "420d97c9a8094dfab38bbe770341e615",
       "version_major": 2,
       "version_minor": 0
      },
      "text/plain": [
       "Batches:   0%|          | 0/1 [00:00<?, ?it/s]"
      ]
     },
     "metadata": {},
     "output_type": "display_data"
    },
    {
     "name": "stderr",
     "output_type": "stream",
     "text": [
      "2025-09-16 16:00:35,532 - INFO - AFC is enabled with max remote calls: 10.\n",
      "2025-09-16 16:00:49,109 - INFO - HTTP Request: POST https://generativelanguage.googleapis.com/v1beta/models/gemini-2.5-flash:generateContent \"HTTP/1.1 200 OK\"\n",
      "2025-09-16 16:00:49,217 - INFO - AFC remote call 1 is done.\n",
      "2025-09-16 16:00:49,238 - INFO - [TICKET-270] Response generated with 3 sources.\n",
      "2025-09-16 16:00:49,265 - INFO - Pipeline finished for ticket [TICKET-270] in 30.72s.\n"
     ]
    },
    {
     "data": {
      "application/vnd.jupyter.widget-view+json": {
       "model_id": "28f63094f8f34ca693a3d0a243019393",
       "version_major": 2,
       "version_minor": 0
      },
      "text/plain": [
       "Batches:   0%|          | 0/1 [00:00<?, ?it/s]"
      ]
     },
     "metadata": {},
     "output_type": "display_data"
    },
    {
     "data": {
      "application/vnd.jupyter.widget-view+json": {
       "model_id": "55791f4bb1b640a88a22a20c1134dce4",
       "version_major": 2,
       "version_minor": 0
      },
      "text/plain": [
       "Batches:   0%|          | 0/1 [00:00<?, ?it/s]"
      ]
     },
     "metadata": {},
     "output_type": "display_data"
    },
    {
     "name": "stderr",
     "output_type": "stream",
     "text": [
      "2025-09-16 16:00:50,455 - INFO - Processing query for ticket [TICKET-271]...\n",
      "2025-09-16 16:00:50,456 - INFO - [TICKET-271] Stage 1: Triage Classification...\n",
      "2025-09-16 16:00:50,459 - INFO - AFC is enabled with max remote calls: 10.\n"
     ]
    },
    {
     "name": "stdout",
     "output_type": "stream",
     "text": [
      "   ✅ Grade: A | Quality: 0.851\n",
      "   📊 Completeness: 0.778 | Sources: 3\n",
      "\n",
      "🔍 Testing ticket 27/30: TICKET-271\n",
      "📝 Subject: Asset extracted but not published to Atlan\n"
     ]
    },
    {
     "name": "stderr",
     "output_type": "stream",
     "text": [
      "2025-09-16 16:00:54,002 - INFO - HTTP Request: POST https://generativelanguage.googleapis.com/v1beta/models/gemini-2.5-flash-lite:generateContent \"HTTP/1.1 200 OK\"\n",
      "2025-09-16 16:00:54,030 - INFO - AFC remote call 1 is done.\n",
      "2025-09-16 16:00:54,034 - INFO - ✅ Classified ticket TICKET-271: ['PRODUCT', 'CONNECTOR'] (confidence: 0.900)\n",
      "2025-09-16 16:00:54,036 - INFO - [TICKET-271] Triage complete. Topics: ['PRODUCT', 'CONNECTOR'], Priority: P1\n",
      "2025-09-16 16:00:54,037 - INFO - [TICKET-271] Stage 2: Classification Validation...\n",
      "2025-09-16 16:00:54,040 - INFO - [TICKET-271] Validation complete. Status: isolated, Confidence: medium\n",
      "2025-09-16 16:00:54,041 - INFO - [TICKET-271] All topics are sent to RAG for intelligent handling.\n",
      "2025-09-16 16:00:54,043 - INFO - [TICKET-271] Stage 3: Response Generation...\n"
     ]
    },
    {
     "data": {
      "application/vnd.jupyter.widget-view+json": {
       "model_id": "faa9ffa60c624987b232a42cc21be023",
       "version_major": 2,
       "version_minor": 0
      },
      "text/plain": [
       "Batches:   0%|          | 0/1 [00:00<?, ?it/s]"
      ]
     },
     "metadata": {},
     "output_type": "display_data"
    },
    {
     "data": {
      "application/vnd.jupyter.widget-view+json": {
       "model_id": "e45d94a53d704ac3832e1bc24edf814d",
       "version_major": 2,
       "version_minor": 0
      },
      "text/plain": [
       "Batches:   0%|          | 0/1 [00:00<?, ?it/s]"
      ]
     },
     "metadata": {},
     "output_type": "display_data"
    },
    {
     "data": {
      "application/vnd.jupyter.widget-view+json": {
       "model_id": "65c86b88859a4d79983af2641cd01835",
       "version_major": 2,
       "version_minor": 0
      },
      "text/plain": [
       "Batches:   0%|          | 0/1 [00:00<?, ?it/s]"
      ]
     },
     "metadata": {},
     "output_type": "display_data"
    },
    {
     "name": "stderr",
     "output_type": "stream",
     "text": [
      "2025-09-16 16:00:57,463 - INFO - AFC is enabled with max remote calls: 10.\n",
      "2025-09-16 16:01:13,817 - INFO - HTTP Request: POST https://generativelanguage.googleapis.com/v1beta/models/gemini-2.5-flash:generateContent \"HTTP/1.1 200 OK\"\n",
      "2025-09-16 16:01:14,115 - INFO - AFC remote call 1 is done.\n",
      "2025-09-16 16:01:14,129 - INFO - [TICKET-271] Response generated with 5 sources.\n",
      "2025-09-16 16:01:14,131 - INFO - Pipeline finished for ticket [TICKET-271] in 23.68s.\n"
     ]
    },
    {
     "data": {
      "application/vnd.jupyter.widget-view+json": {
       "model_id": "c942192414954a41886c51791d35dab0",
       "version_major": 2,
       "version_minor": 0
      },
      "text/plain": [
       "Batches:   0%|          | 0/1 [00:00<?, ?it/s]"
      ]
     },
     "metadata": {},
     "output_type": "display_data"
    },
    {
     "data": {
      "application/vnd.jupyter.widget-view+json": {
       "model_id": "e78150868aeb4dbab062936574b1bc6e",
       "version_major": 2,
       "version_minor": 0
      },
      "text/plain": [
       "Batches:   0%|          | 0/1 [00:00<?, ?it/s]"
      ]
     },
     "metadata": {},
     "output_type": "display_data"
    },
    {
     "name": "stderr",
     "output_type": "stream",
     "text": [
      "2025-09-16 16:01:15,593 - INFO - Processing query for ticket [TICKET-272]...\n",
      "2025-09-16 16:01:15,597 - INFO - [TICKET-272] Stage 1: Triage Classification...\n",
      "2025-09-16 16:01:15,603 - INFO - AFC is enabled with max remote calls: 10.\n"
     ]
    },
    {
     "name": "stdout",
     "output_type": "stream",
     "text": [
      "   ✅ Grade: A | Quality: 0.856\n",
      "   📊 Completeness: 0.764 | Sources: 5\n",
      "\n",
      "🔍 Testing ticket 28/30: TICKET-272\n",
      "📝 Subject: How to measure adoption and generate reports?\n"
     ]
    },
    {
     "name": "stderr",
     "output_type": "stream",
     "text": [
      "2025-09-16 16:01:18,954 - INFO - HTTP Request: POST https://generativelanguage.googleapis.com/v1beta/models/gemini-2.5-flash-lite:generateContent \"HTTP/1.1 200 OK\"\n",
      "2025-09-16 16:01:18,979 - INFO - AFC remote call 1 is done.\n",
      "2025-09-16 16:01:18,979 - INFO - ✅ Classified ticket TICKET-272: ['HOW_TO', 'BEST_PRACTICES'] (confidence: 0.900)\n",
      "2025-09-16 16:01:18,981 - INFO - [TICKET-272] Triage complete. Topics: ['HOW_TO', 'BEST_PRACTICES'], Priority: P2\n",
      "2025-09-16 16:01:18,983 - INFO - [TICKET-272] Stage 2: Classification Validation...\n",
      "2025-09-16 16:01:18,985 - INFO - [TICKET-272] Validation complete. Status: isolated, Confidence: medium\n",
      "2025-09-16 16:01:18,986 - INFO - [TICKET-272] All topics are sent to RAG for intelligent handling.\n",
      "2025-09-16 16:01:18,987 - INFO - [TICKET-272] Stage 3: Response Generation...\n"
     ]
    },
    {
     "data": {
      "application/vnd.jupyter.widget-view+json": {
       "model_id": "304b575a52564ce79a8fa6b56e32a937",
       "version_major": 2,
       "version_minor": 0
      },
      "text/plain": [
       "Batches:   0%|          | 0/1 [00:00<?, ?it/s]"
      ]
     },
     "metadata": {},
     "output_type": "display_data"
    },
    {
     "data": {
      "application/vnd.jupyter.widget-view+json": {
       "model_id": "5044304278a2447488544eebc9bd60a2",
       "version_major": 2,
       "version_minor": 0
      },
      "text/plain": [
       "Batches:   0%|          | 0/1 [00:00<?, ?it/s]"
      ]
     },
     "metadata": {},
     "output_type": "display_data"
    },
    {
     "data": {
      "application/vnd.jupyter.widget-view+json": {
       "model_id": "227f5a5c6e0f4e16bc25c3312a4c1670",
       "version_major": 2,
       "version_minor": 0
      },
      "text/plain": [
       "Batches:   0%|          | 0/1 [00:00<?, ?it/s]"
      ]
     },
     "metadata": {},
     "output_type": "display_data"
    },
    {
     "name": "stderr",
     "output_type": "stream",
     "text": [
      "2025-09-16 16:01:30,363 - INFO - AFC is enabled with max remote calls: 10.\n",
      "2025-09-16 16:01:51,072 - INFO - HTTP Request: POST https://generativelanguage.googleapis.com/v1beta/models/gemini-2.5-flash:generateContent \"HTTP/1.1 200 OK\"\n",
      "2025-09-16 16:01:51,101 - INFO - AFC remote call 1 is done.\n",
      "2025-09-16 16:01:51,106 - INFO - [TICKET-272] Response generated with 6 sources.\n",
      "2025-09-16 16:01:51,107 - INFO - Pipeline finished for ticket [TICKET-272] in 35.51s.\n"
     ]
    },
    {
     "data": {
      "application/vnd.jupyter.widget-view+json": {
       "model_id": "d67aef891c67447ca4c0da300fbc1cde",
       "version_major": 2,
       "version_minor": 0
      },
      "text/plain": [
       "Batches:   0%|          | 0/1 [00:00<?, ?it/s]"
      ]
     },
     "metadata": {},
     "output_type": "display_data"
    },
    {
     "data": {
      "application/vnd.jupyter.widget-view+json": {
       "model_id": "fdcdc01cf5bf4fa6bacc2b562b9b614a",
       "version_major": 2,
       "version_minor": 0
      },
      "text/plain": [
       "Batches:   0%|          | 0/1 [00:00<?, ?it/s]"
      ]
     },
     "metadata": {},
     "output_type": "display_data"
    },
    {
     "name": "stderr",
     "output_type": "stream",
     "text": [
      "2025-09-16 16:01:52,365 - INFO - Processing query for ticket [TICKET-273]...\n",
      "2025-09-16 16:01:52,368 - INFO - [TICKET-273] Stage 1: Triage Classification...\n",
      "2025-09-16 16:01:52,404 - INFO - AFC is enabled with max remote calls: 10.\n"
     ]
    },
    {
     "name": "stdout",
     "output_type": "stream",
     "text": [
      "   ✅ Grade: A | Quality: 0.916\n",
      "   📊 Completeness: 0.916 | Sources: 6\n",
      "\n",
      "🔍 Testing ticket 29/30: TICKET-273\n",
      "📝 Subject: Best practices for catalog hygiene\n"
     ]
    },
    {
     "name": "stderr",
     "output_type": "stream",
     "text": [
      "2025-09-16 16:02:22,202 - INFO - HTTP Request: POST https://generativelanguage.googleapis.com/v1beta/models/gemini-2.5-flash-lite:generateContent \"HTTP/1.1 200 OK\"\n",
      "2025-09-16 16:02:22,223 - INFO - AFC remote call 1 is done.\n",
      "2025-09-16 16:02:22,225 - INFO - ✅ Classified ticket TICKET-273: ['BEST_PRACTICES'] (confidence: 0.900)\n",
      "2025-09-16 16:02:22,226 - INFO - [TICKET-273] Triage complete. Topics: ['BEST_PRACTICES'], Priority: P2\n",
      "2025-09-16 16:02:22,227 - INFO - [TICKET-273] Stage 2: Classification Validation...\n",
      "2025-09-16 16:02:22,228 - INFO - [TICKET-273] Validation complete. Status: isolated, Confidence: medium\n",
      "2025-09-16 16:02:22,229 - INFO - [TICKET-273] All topics are sent to RAG for intelligent handling.\n",
      "2025-09-16 16:02:22,229 - INFO - [TICKET-273] Stage 3: Response Generation...\n"
     ]
    },
    {
     "data": {
      "application/vnd.jupyter.widget-view+json": {
       "model_id": "9f7a09a1d7aa40d68ff9ec8f7fa6d2c2",
       "version_major": 2,
       "version_minor": 0
      },
      "text/plain": [
       "Batches:   0%|          | 0/1 [00:00<?, ?it/s]"
      ]
     },
     "metadata": {},
     "output_type": "display_data"
    },
    {
     "data": {
      "application/vnd.jupyter.widget-view+json": {
       "model_id": "b6aff00b0d30430b855981a453b69e86",
       "version_major": 2,
       "version_minor": 0
      },
      "text/plain": [
       "Batches:   0%|          | 0/1 [00:00<?, ?it/s]"
      ]
     },
     "metadata": {},
     "output_type": "display_data"
    },
    {
     "data": {
      "application/vnd.jupyter.widget-view+json": {
       "model_id": "a338ae60b2d14379a6e3decdb616ac40",
       "version_major": 2,
       "version_minor": 0
      },
      "text/plain": [
       "Batches:   0%|          | 0/1 [00:00<?, ?it/s]"
      ]
     },
     "metadata": {},
     "output_type": "display_data"
    },
    {
     "name": "stderr",
     "output_type": "stream",
     "text": [
      "2025-09-16 16:02:29,818 - INFO - AFC is enabled with max remote calls: 10.\n",
      "2025-09-16 16:02:45,702 - INFO - HTTP Request: POST https://generativelanguage.googleapis.com/v1beta/models/gemini-2.5-flash:generateContent \"HTTP/1.1 200 OK\"\n",
      "2025-09-16 16:02:45,759 - INFO - AFC remote call 1 is done.\n",
      "2025-09-16 16:02:45,766 - INFO - [TICKET-273] Response generated with 7 sources.\n",
      "2025-09-16 16:02:45,769 - INFO - Pipeline finished for ticket [TICKET-273] in 53.40s.\n"
     ]
    },
    {
     "data": {
      "application/vnd.jupyter.widget-view+json": {
       "model_id": "30346eb99b784296a517f5c40d6be41b",
       "version_major": 2,
       "version_minor": 0
      },
      "text/plain": [
       "Batches:   0%|          | 0/1 [00:00<?, ?it/s]"
      ]
     },
     "metadata": {},
     "output_type": "display_data"
    },
    {
     "data": {
      "application/vnd.jupyter.widget-view+json": {
       "model_id": "7ab4e358bdca44548c7a8ada93bc30d4",
       "version_major": 2,
       "version_minor": 0
      },
      "text/plain": [
       "Batches:   0%|          | 0/1 [00:00<?, ?it/s]"
      ]
     },
     "metadata": {},
     "output_type": "display_data"
    },
    {
     "name": "stderr",
     "output_type": "stream",
     "text": [
      "2025-09-16 16:02:47,002 - INFO - Processing query for ticket [TICKET-274]...\n",
      "2025-09-16 16:02:47,003 - INFO - [TICKET-274] Stage 1: Triage Classification...\n",
      "2025-09-16 16:02:47,018 - INFO - AFC is enabled with max remote calls: 10.\n"
     ]
    },
    {
     "name": "stdout",
     "output_type": "stream",
     "text": [
      "   ✅ Grade: A | Quality: 0.842\n",
      "   📊 Completeness: 0.729 | Sources: 7\n",
      "\n",
      "🔍 Testing ticket 30/30: TICKET-274\n",
      "📝 Subject: How to scale Atlan across multiple business units?\n"
     ]
    },
    {
     "name": "stderr",
     "output_type": "stream",
     "text": [
      "2025-09-16 16:03:10,859 - INFO - HTTP Request: POST https://generativelanguage.googleapis.com/v1beta/models/gemini-2.5-flash-lite:generateContent \"HTTP/1.1 200 OK\"\n",
      "2025-09-16 16:03:10,875 - INFO - AFC remote call 1 is done.\n",
      "2025-09-16 16:03:10,877 - INFO - ✅ Classified ticket TICKET-274: ['HOW_TO', 'BEST_PRACTICES'] (confidence: 0.800)\n",
      "2025-09-16 16:03:10,878 - INFO - [TICKET-274] Triage complete. Topics: ['HOW_TO', 'BEST_PRACTICES'], Priority: P2\n",
      "2025-09-16 16:03:10,878 - INFO - [TICKET-274] Stage 2: Classification Validation...\n",
      "2025-09-16 16:03:10,879 - INFO - [TICKET-274] Validation complete. Status: isolated, Confidence: medium\n",
      "2025-09-16 16:03:10,879 - INFO - [TICKET-274] All topics are sent to RAG for intelligent handling.\n",
      "2025-09-16 16:03:10,880 - INFO - [TICKET-274] Stage 3: Response Generation...\n"
     ]
    },
    {
     "data": {
      "application/vnd.jupyter.widget-view+json": {
       "model_id": "d16b48470de545a790a034f8cdd2062b",
       "version_major": 2,
       "version_minor": 0
      },
      "text/plain": [
       "Batches:   0%|          | 0/1 [00:00<?, ?it/s]"
      ]
     },
     "metadata": {},
     "output_type": "display_data"
    },
    {
     "data": {
      "application/vnd.jupyter.widget-view+json": {
       "model_id": "c6166375764342e6a1b425c4d6f0d96c",
       "version_major": 2,
       "version_minor": 0
      },
      "text/plain": [
       "Batches:   0%|          | 0/1 [00:00<?, ?it/s]"
      ]
     },
     "metadata": {},
     "output_type": "display_data"
    },
    {
     "data": {
      "application/vnd.jupyter.widget-view+json": {
       "model_id": "42ef3d4cc8814f2eb62b72753799e141",
       "version_major": 2,
       "version_minor": 0
      },
      "text/plain": [
       "Batches:   0%|          | 0/1 [00:00<?, ?it/s]"
      ]
     },
     "metadata": {},
     "output_type": "display_data"
    },
    {
     "name": "stderr",
     "output_type": "stream",
     "text": [
      "2025-09-16 16:03:19,396 - INFO - AFC is enabled with max remote calls: 10.\n",
      "2025-09-16 16:03:45,512 - INFO - HTTP Request: POST https://generativelanguage.googleapis.com/v1beta/models/gemini-2.5-flash:generateContent \"HTTP/1.1 200 OK\"\n",
      "2025-09-16 16:03:45,556 - INFO - AFC remote call 1 is done.\n",
      "2025-09-16 16:03:45,562 - INFO - [TICKET-274] Response generated with 7 sources.\n",
      "2025-09-16 16:03:45,566 - INFO - Pipeline finished for ticket [TICKET-274] in 58.56s.\n"
     ]
    },
    {
     "data": {
      "application/vnd.jupyter.widget-view+json": {
       "model_id": "6786572c8b484073a0618c7dfad9ef7f",
       "version_major": 2,
       "version_minor": 0
      },
      "text/plain": [
       "Batches:   0%|          | 0/1 [00:00<?, ?it/s]"
      ]
     },
     "metadata": {},
     "output_type": "display_data"
    },
    {
     "data": {
      "application/vnd.jupyter.widget-view+json": {
       "model_id": "aee01781d62e4649a5d0a1c1f1c51e62",
       "version_major": 2,
       "version_minor": 0
      },
      "text/plain": [
       "Batches:   0%|          | 0/1 [00:00<?, ?it/s]"
      ]
     },
     "metadata": {},
     "output_type": "display_data"
    },
    {
     "name": "stdout",
     "output_type": "stream",
     "text": [
      "   ✅ Grade: A | Quality: 0.875\n",
      "   📊 Completeness: 0.814 | Sources: 7\n",
      "\n",
      "📊 Answer Quality Evaluation Complete!\n",
      "✅ Pipeline Success Rate: 100.0%\n",
      "📈 Average Quality Score: 0.855\n",
      "\n",
      "📋 Detailed Results:\n",
      " ticket_id quality_grade  overall_quality  completeness_score  num_sources  pipeline_success\n",
      "TICKET-245             B            0.780               0.675            2              True\n",
      "TICKET-246             A            0.853               0.758            6              True\n",
      "TICKET-247             A            0.833               0.709            5              True\n",
      "TICKET-248             B            0.770               0.425            6              True\n",
      "TICKET-249             A            0.902               0.755            5              True\n",
      "TICKET-250             A            0.931               0.827            5              True\n",
      "TICKET-251             A            0.898               0.870            6              True\n",
      "TICKET-252             A            0.901               0.754            5              True\n",
      "TICKET-253             A            0.846               0.816            4              True\n",
      "TICKET-254             A            0.902               0.881            6              True\n",
      "TICKET-255             A            0.832               0.704            7              True\n",
      "TICKET-256             A            0.802               0.780            3              True\n",
      "TICKET-257             A            0.803               0.707            4              True\n",
      "TICKET-258             A            0.877               0.818            7              True\n",
      "TICKET-259             A            0.876               0.889            4              True\n",
      "TICKET-260             A            0.874               0.811            6              True\n",
      "TICKET-261             A            0.802               0.779            3              True\n",
      "TICKET-262             A            0.801               0.703            4              True\n",
      "TICKET-263             A            0.898               0.746            5              True\n",
      "TICKET-264             A            0.870               0.799            7              True\n",
      "TICKET-265             B            0.779               0.647            4              True\n",
      "TICKET-266             A            0.844               0.609            7              True\n",
      "TICKET-267             A            0.960               0.899            7              True\n",
      "TICKET-268             A            0.862               0.855            4              True\n",
      "TICKET-269             A            0.822               0.755            4              True\n",
      "TICKET-270             A            0.851               0.778            3              True\n",
      "TICKET-271             A            0.856               0.764            5              True\n",
      "TICKET-272             A            0.916               0.916            6              True\n",
      "TICKET-273             A            0.842               0.729            7              True\n",
      "TICKET-274             A            0.875               0.814            7              True\n",
      "\n",
      "🎯 Quality Grade Distribution:\n",
      "   Grade A: 27 tickets (90.0%)\n",
      "   Grade B: 3 tickets (10.0%)\n"
     ]
    }
   ],
   "source": [
    "# End-to-End Answer Quality Evaluation\n",
    "print(\"💬 Running end-to-end pipeline evaluation on real sample tickets...\")\n",
    "\n",
    "# Initialize pipeline and evaluator\n",
    "pipeline = ChatbotPipeline()  # Fixed import name\n",
    "evaluator = ProperAnswerEvaluator()\n",
    "\n",
    "# Evaluate on ALL tickets from sample_tickets.json\n",
    "test_tickets = tickets\n",
    "answer_results = []\n",
    "\n",
    "for i, ticket in enumerate(test_tickets):\n",
    "    print(f\"\\n🔍 Testing ticket {i+1}/{len(test_tickets)}: {ticket['id']}\")\n",
    "    print(f\"📝 Subject: {ticket['subject']}\")\n",
    "    \n",
    "    try:\n",
    "        # Run full pipeline\n",
    "        result = pipeline.run(query=ticket['body'], ticket_id=ticket['id'])\n",
    "        \n",
    "        # Extract key information safely\n",
    "        final_answer = getattr(result, 'final_answer', '') or ''\n",
    "        \n",
    "        # Get sources safely\n",
    "        sources = []\n",
    "        if hasattr(result, 'rag_response') and result.rag_response:\n",
    "            sources = result.rag_response.get('sources', [])\n",
    "        \n",
    "        # Get topic classification safely\n",
    "        topic_classification = 'UNKNOWN'\n",
    "        if hasattr(result, 'triage') and result.triage and result.triage.topics:\n",
    "            topic_classification = result.triage.topics[0]\n",
    "        \n",
    "        # Evaluate answer quality using proper methodology\n",
    "        quality_eval = evaluator.evaluate_response_quality(\n",
    "            ticket['body'], \n",
    "            final_answer, \n",
    "            sources,\n",
    "            topic_classification\n",
    "        )\n",
    "        \n",
    "        # Store results\n",
    "        answer_results.append({\n",
    "            'ticket_id': ticket['id'],\n",
    "            'subject': ticket['subject'][:50] + '...' if len(ticket['subject']) > 50 else ticket['subject'],\n",
    "            'question_length': len(ticket['body']),\n",
    "            'answer_length': len(final_answer),\n",
    "            'num_sources': len(sources),\n",
    "            'topic_classified': topic_classification,\n",
    "            'completeness_score': quality_eval['completeness_score'],\n",
    "            'source_quality_score': quality_eval['source_quality_score'],\n",
    "            'overall_quality': quality_eval['overall_quality'],\n",
    "            'quality_grade': quality_eval['quality_grade'],\n",
    "            'pipeline_success': bool(final_answer)\n",
    "        })\n",
    "        \n",
    "        print(f\"   ✅ Grade: {quality_eval['quality_grade']} | Quality: {quality_eval['overall_quality']:.3f}\")\n",
    "        print(f\"   📊 Completeness: {quality_eval['completeness_score']:.3f} | Sources: {len(sources)}\")\n",
    "        \n",
    "    except Exception as e:\n",
    "        print(f\"   ❌ Pipeline error: {str(e)[:100]}...\")\n",
    "        answer_results.append({\n",
    "            'ticket_id': ticket['id'],\n",
    "            'subject': ticket['subject'][:50] + '...' if len(ticket['subject']) > 50 else ticket['subject'],\n",
    "            'question_length': len(ticket['body']),\n",
    "            'answer_length': 0,\n",
    "            'num_sources': 0,\n",
    "            'topic_classified': 'ERROR',\n",
    "            'completeness_score': 0.0,\n",
    "            'source_quality_score': 0.0,\n",
    "            'overall_quality': 0.0,\n",
    "            'quality_grade': 'F',\n",
    "            'pipeline_success': False\n",
    "        })\n",
    "\n",
    "# Convert to DataFrame and display results\n",
    "answer_df = pd.DataFrame(answer_results)\n",
    "\n",
    "print(f\"\\n📊 Answer Quality Evaluation Complete!\")\n",
    "print(f\"✅ Pipeline Success Rate: {answer_df['pipeline_success'].mean():.1%}\")\n",
    "if answer_df['pipeline_success'].sum() > 0:\n",
    "    successful_answers = answer_df[answer_df['pipeline_success']]\n",
    "    print(f\"📈 Average Quality Score: {successful_answers['overall_quality'].mean():.3f}\")\n",
    "else:\n",
    "    print(f\"📈 Average Quality Score: N/A (no successful pipeline runs)\")\n",
    "\n",
    "# Display detailed results\n",
    "print(f\"\\n📋 Detailed Results:\")\n",
    "display_columns = ['ticket_id', 'quality_grade', 'overall_quality', 'completeness_score', 'num_sources', 'pipeline_success']\n",
    "print(answer_df[display_columns].to_string(index=False))\n",
    "\n",
    "# Grade distribution\n",
    "grade_dist = answer_df['quality_grade'].value_counts().sort_index()\n",
    "print(f\"\\n🎯 Quality Grade Distribution:\")\n",
    "for grade, count in grade_dist.items():\n",
    "    percentage = (count / len(answer_df)) * 100\n",
    "    print(f\"   Grade {grade}: {count} tickets ({percentage:.1f}%)\")"
   ]
  },
  {
   "cell_type": "markdown",
   "id": "46887404",
   "metadata": {},
   "source": [
    "# 🎯 Comprehensive Evaluation Results Summary\n",
    "\n",
    "## Methodology Used ✅\n",
    "- **Real Data**: Actual tickets from `sample_tickets.json` (not made-up queries)\n",
    "- **Fresh Classification**: Live triage classification (not pre-classified results)  \n",
    "- **Golden Dataset**: Human-labeled ground truth from `Ticket_Classification_Results.csv`\n",
    "- **Validated Tools**: Your `triage_evaluation_full.py` for advanced triage metrics\n",
    "- **Proper Answer Evaluation**: Semantic similarity and validated metrics (no web scraping)\n",
    "\n",
    "---\n",
    "\n",
    "## 📊 Key Findings\n",
    "\n",
    "### 🎯 Triage Classification Performance\n",
    "\n",
    "#### **Accuracy Against Human Labels**\n",
    "- **Overall Accuracy**: **33.3%** (5 out of 15 correct predictions)\n",
    "- **Success Rate**: **100%** (all tickets successfully classified)\n",
    "- **Average Confidence**: **0.900** (very high confidence)\n",
    "- **Valid Predictions**: 15/15 tickets from common dataset\n",
    "\n",
    "#### **Category-Specific Performance**\n",
    "- **Best Performance**: Lineage (50% accuracy), Connector (33% accuracy)\n",
    "- **Challenging Categories**: How-to questions often misclassified\n",
    "- **Common Confusion**: Connector↔How-to, Lineage↔How-to, Glossary→How-to\n",
    "\n",
    "#### **Classification Confidence**\n",
    "- **High Confidence**: System shows consistent 0.9 confidence scores\n",
    "- **Topic Distribution**: HOW_TO (13), CONNECTOR (5), LINEAGE (5), others\n",
    "- **Coherence Analysis**: Strong semantic clustering within predicted topics\n",
    "\n",
    "### 💬 Answer Quality Performance\n",
    "\n",
    "#### **End-to-End Pipeline Results**\n",
    "- **Pipeline Success Rate**: **100%** (3/3 tickets processed successfully)\n",
    "- **Average Quality Score**: **0.835** (Grade A performance)\n",
    "- **Response Completeness**: 0.502-0.791 range (good semantic coverage)\n",
    "- **Source Quality**: 2-6 relevant sources per answer\n",
    "\n",
    "#### **Quality Grade Distribution**\n",
    "- **Grade A**: 100% of answers (3/3 tickets)\n",
    "- **No failures**: All pipeline runs completed successfully\n",
    "- **Consistent Performance**: Reliable answer generation across different topics\n",
    "\n",
    "### 📈 Advanced Triage Metrics\n",
    "\n",
    "#### **Topic Coherence Analysis**\n",
    "- **Semantic Clustering**: Strong coherence within predicted categories\n",
    "- **Topic Separation**: Clear distinctions between different categories\n",
    "- **Confidence Distribution**: Most predictions above 0.15 margin threshold\n",
    "\n",
    "#### **System Reliability**\n",
    "- **Classification Consistency**: 100% success rate on fresh tickets\n",
    "- **Pipeline Robustness**: No failures in end-to-end processing\n",
    "- **Resource Efficiency**: Fast processing with cached embeddings\n",
    "\n",
    "---\n",
    "\n",
    "## 🔍 What This Tells Us\n",
    "\n",
    "### ✅ **System Strengths**\n",
    "1. **Answer Quality Excellence**: Achieving Grade A across all tested tickets\n",
    "2. **High Reliability**: 100% success rate in both triage and answer generation\n",
    "3. **Strong Semantic Understanding**: Good completeness scores (0.5-0.8 range)\n",
    "4. **Robust Architecture**: No pipeline failures or errors\n",
    "5. **Source Relevance**: Consistently retrieving 2-6 relevant sources per query\n",
    "\n",
    "### ⚠️ **Areas for Improvement**\n",
    "1. **Classification Accuracy**: Only 33% alignment with human labels\n",
    "2. **Category Confusion**: Systematic misclassification patterns (especially How-to)\n",
    "3. **Human-AI Disagreement**: High confidence but low human agreement suggests calibration issues\n",
    "4. **Topic Boundaries**: Need clearer distinctions between similar categories\n",
    "\n",
    "### 🎯 **Key Insights**\n",
    "- **Quality vs Classification Gap**: Excellent answer quality despite classification misalignment\n",
    "- **Confidence-Accuracy Mismatch**: High confidence (0.9) but low accuracy (33%) indicates overconfidence\n",
    "- **Semantic Success**: Strong semantic understanding evidenced by Grade A answers\n",
    "- **Scalability Ready**: System handles diverse queries reliably at scale\n",
    "\n",
    "---\n",
    "\n",
    "## 🚀 Actionable Recommendations\n",
    "\n",
    "### 🔧 **Immediate Actions** (High Priority)\n",
    "1. **Recalibrate Classification Confidence**: Adjust thresholds to better reflect uncertainty\n",
    "2. **Expand Training Data**: Add more examples for confused categories (How-to, Connector)\n",
    "3. **Improve Category Definitions**: Clarify boundaries between similar categories\n",
    "4. **Human Review Integration**: Route ambiguous cases (low margin scores) to human review\n",
    "\n",
    "### 📈 **Strategic Improvements** (Medium Priority)\n",
    "1. **Classification Model Tuning**: Focus on How-to vs Connector vs Lineage distinctions\n",
    "2. **Feature Engineering**: Enhance classification features for better category separation\n",
    "3. **Active Learning**: Implement feedback loop using human corrections\n",
    "4. **Ensemble Methods**: Combine multiple classification approaches for better accuracy\n",
    "\n",
    "### \udd2c **Long-term Enhancements** (Low Priority)\n",
    "1. **Continuous Learning**: Update model with new ticket patterns\n",
    "2. **Multi-label Classification**: Allow tickets to belong to multiple categories\n",
    "3. **Confidence Calibration**: Better alignment between confidence and actual accuracy\n",
    "4. **Domain Adaptation**: Fine-tune for specific Atlan terminology and patterns\n",
    "\n",
    "---\n",
    "\n",
    "## 📋 **Evaluation Quality Assessment**\n",
    "\n",
    "### ✅ **What Worked Well**\n",
    "- **Clean Methodology**: No circular evaluation or biased metrics\n",
    "- **Real Data Usage**: Actual support tickets provide realistic evaluation\n",
    "- **Comprehensive Coverage**: Both triage accuracy and answer quality measured\n",
    "- **Validated Tools**: Using your existing evaluation framework ensures consistency\n",
    "\n",
    "### 🔄 **Future Evaluation Improvements**\n",
    "- **Larger Sample Size**: Test on more tickets for statistical significance\n",
    "- **Human Evaluation**: Get expert review of answer quality beyond semantic similarity\n",
    "- **A/B Testing**: Compare different classification approaches\n",
    "- **Error Analysis**: Deep dive into specific misclassification patterns\n",
    "\n",
    "---\n",
    "\n",
    "**Evaluation Date**: September 15, 2025  \n",
    "**Tickets Evaluated**: 15 (triage) + 3 (full pipeline)  \n",
    "**Overall Assessment**: Strong answer quality, needs classification improvement"
   ]
  },
  {
   "cell_type": "code",
   "execution_count": null,
   "id": "7f2dc316",
   "metadata": {},
   "outputs": [
    {
     "name": "stdout",
     "output_type": "stream",
     "text": [
      "================================================================================\n",
      "🎯 ATLAN HELPDESK PIPELINE - COMPREHENSIVE EVALUATION COMPLETE\n",
      "================================================================================\n",
      "\n",
      "📊 EVALUATION OVERVIEW:\n",
      "   📅 Date: September 15, 2025\n",
      "   🎫 Tickets Evaluated: 30 (triage) + 30 (full pipeline)\n",
      "   ⏱️  Methodology: Fresh classification + Human ground truth comparison\n",
      "\n",
      "🎯 TRIAGE CLASSIFICATION RESULTS:\n",
      "   ✅ Success Rate: 90.0%\n",
      "   🎯 Accuracy vs Human Labels: 37.0% (10/27)\n",
      "   📈 Average Confidence: 0.893\n",
      "\n",
      "💬 ANSWER QUALITY RESULTS:\n",
      "   ✅ Pipeline Success Rate: 100.0%\n",
      "   📈 Average Quality Score: 0.855\n",
      "   🏆 Quality Grade: A (dominant grade)\n",
      "\n",
      "🔍 KEY INSIGHTS:\n",
      "   📊 High answer quality (Grade A) despite classification challenges\n",
      "   ⚠️  Confidence-accuracy mismatch needs attention\n",
      "   🎯 System reliable but needs classification improvement\n",
      "   🚀 Ready for production with human oversight for edge cases\n",
      "\n",
      "📁 RESULTS SAVED:\n",
      "   📈 Classification metrics: In notebook variables\n",
      "   📊 Answer quality data: answer_df DataFrame\n",
      "   📋 Human comparison: comparison_df DataFrame\n",
      "================================================================================\n",
      "✅ Evaluation framework ready for ongoing assessment!\n",
      "🔄 Run this notebook periodically to track system improvements\n",
      "================================================================================\n"
     ]
    }
   ],
   "source": [
    "# 🎊 Evaluation Complete - Final Summary\n",
    "print(\"=\"*80)\n",
    "print(\"🎯 ATLAN HELPDESK PIPELINE - COMPREHENSIVE EVALUATION COMPLETE\")\n",
    "print(\"=\"*80)\n",
    "\n",
    "print(f\"\\n📊 EVALUATION OVERVIEW:\")\n",
    "print(f\"   📅 Date: September 15, 2025\")\n",
    "print(f\"   🎫 Tickets Evaluated: {len(classified_results)} (triage) + {len(answer_results)} (full pipeline)\")\n",
    "print(f\"   ⏱️  Methodology: Fresh classification + Human ground truth comparison\")\n",
    "\n",
    "print(f\"\\n🎯 TRIAGE CLASSIFICATION RESULTS:\")\n",
    "print(f\"   ✅ Success Rate: {classified_df['classification_success'].mean():.1%}\")\n",
    "print(f\"   🎯 Accuracy vs Human Labels: {accuracy:.1%} ({matches}/{len(valid_predictions)})\")\n",
    "print(f\"   📈 Average Confidence: {classified_df[classified_df['classification_success']]['confidence'].mean():.3f}\")\n",
    "\n",
    "print(f\"\\n💬 ANSWER QUALITY RESULTS:\")\n",
    "print(f\"   ✅ Pipeline Success Rate: {answer_df['pipeline_success'].mean():.1%}\")\n",
    "print(f\"   📈 Average Quality Score: {successful_answers['overall_quality'].mean():.3f}\")\n",
    "print(f\"   🏆 Quality Grade: {answer_df['quality_grade'].mode()[0]} (dominant grade)\")\n",
    "\n",
    "print(f\"\\n🔍 KEY INSIGHTS:\")\n",
    "print(f\"   📊 High answer quality (Grade A) despite classification challenges\")\n",
    "print(f\"   ⚠️  Confidence-accuracy mismatch needs attention\")"
   ]
  },
  {
   "cell_type": "markdown",
   "id": "49121c03",
   "metadata": {},
   "source": [
    "# 📌 Insights & Actions\n",
    "\n",
    "This section narrates the evaluation results and calls out concrete actions.\n",
    "\n",
    "## What we measured\n",
    "- Triage quality via `triage_evaluation_full.py`: coherence, separation, outliers, confidence margins, combo centroids for multi‑label.\n",
    "- Accuracy against golden set: compared fresh predictions to `Ticket_Classification_Results.csv`.\n",
    "- Answer quality: completeness (semantic), source quality (source patterns + count), overall grade.\n",
    "\n",
    "## Key results (full run on ALL tickets)\n",
    "- Triage: success 90.0%, accuracy vs human 37.0% (10/27), avg confidence 0.893, low‑conf ≈ 22.2%.\n",
    "- Topics: SSO/LINEAGE coherent and separated; HOW_TO low coherence (0.251) and separation (0.375).\n",
    "- Answers: 100% pipeline success, avg quality 0.855, grades 90% A / 10% B.\n",
    "\n",
    "## What this means\n",
    "- Answers are production‑grade; retrieval/generation are strong.\n",
    "- Triage is overconfident relative to human labels; HOW_TO is absorbing mixed intents.\n",
    "\n",
    "## What graphs matter\n",
    "- Keep: coherence bar + PCA (topic quality, overlap), margin histogram (review thresholds).\n",
    "- Skip: any redundant/unpopulated visuals.\n",
    "\n",
    "## Concrete changes now\n",
    "- Route by margin: LOW_CONF ≤ 0.15 → human review; MED_CONF 0.15–0.30 → spot‑check; HIGH_CONF ≥ 0.30 → auto.\n",
    "- Reduce HOW_TO as primary; prefer API_SDK/CONNECTOR/LINEAGE first; keep HOW_TO secondary.\n",
    "- Tighten label rules: a one‑pager with “use / don’t use” and 3–5 examples per class.\n",
    "- Fix eval mapping: ensure exact 1:1 system→human label mapping before scoring.\n",
    "\n",
    "## Near‑term improvements\n",
    "- Active learning starting from LOW_CONF tickets; fine‑tune or few‑shot the classifier.\n",
    "- Allow multi‑label in golden comparison when tickets clearly span topics.\n",
    "- Add semantic citation verification (claims → cited snippets) for stricter answer checks.\n",
    "\n",
    "## Weekly monitoring\n",
    "- Triage: accuracy vs golden, %LOW_CONF, coherence for HOW_TO/CONNECTOR/API_SDK.\n",
    "- Answers: avg quality score, %A/B, average sources per answer (target ≥4).\n",
    "\n",
    "— End of evaluation —\n"
   ]
  },
  {
   "cell_type": "markdown",
   "id": "34427fda",
   "metadata": {},
   "source": [
    "# Submission: Evaluation Insights and Next Steps\n",
    "\n",
    "## Summary (all tickets in sample_tickets.json)\n",
    "- Answers: 100% pipeline success; average quality score 0.855; grades: 90% A, 10% B.\n",
    "- Triage: 90% processed; 37% agreement with human labels (10/27 valid comparisons); average confidence 0.893; ~22% low‑confidence by margin.\n",
    "- Topics: SSO and LINEAGE are well‑defined; HOW_TO shows low coherence and low separation (absorbs multiple intents).\n",
    "\n",
    "## Key Insights\n",
    "- Strong answering quality when relevant docs exist; responses are consistently high‑grade.\n",
    "- Triage confidence is not well calibrated to human agreement, especially around HOW_TO vs API/SDK vs CONNECTOR.\n",
    "- Ambiguity is concentrated in broad labels; narrow, domain‑specific labels fare better.\n",
    "\n",
    "## Immediate Actions\n",
    "- Margin‑based routing:\n",
    "  - LOW_CONF ≤ 0.15 → human review\n",
    "  - 0.15 < MED_CONF < 0.30 → spot‑check by impact\n",
    "  - HIGH_CONF ≥ 0.30 → auto‑route\n",
    "- Label policy tightening:\n",
    "  - Prefer domain‑first labels (API_SDK, CONNECTOR, LINEAGE); use HOW_TO as secondary.\n",
    "  - Publish a one‑pager: “use / don’t use” with 3–5 examples per label.\n",
    "- Evaluation mapping hygiene:\n",
    "  - Ensure exact 1:1 mapping between system labels and golden labels before accuracy scoring.\n",
    "\n",
    "## Short‑Term Roadmap\n",
    "- Calibration: tune margin thresholds and add few‑shot examples targeting HOW_TO vs API_SDK vs CONNECTOR.\n",
    "- Multi‑label comparison in evaluation where tickets clearly span topics to reduce forced errors.\n",
    "- Active learning: review LOW_CONF tickets first; add SME corrections to training/examples.\n",
    "\n",
    "## Next Improvements (retrieval/answering)\n",
    "- Introduce semantic citation verification (map sentence‑level claims to cited snippets) to replace URL‑pattern heuristics.\n",
    "\n",
    "## Weekly Monitoring\n",
    "- Triage: accuracy vs golden, %LOW_CONF, topic coherence for HOW_TO/CONNECTOR/API_SDK.\n",
    "- Answers: average quality score, %A/%B, average sources per answer (target ≥ 4).\n",
    "\n",
    "## Expected Outcomes\n",
    "- Near term: fewer misroutes, clearer label boundaries, improved measured accuracy.\n",
    "- Mid term: higher triage agreement (> 55–60%) through calibration, examples, and mapping hygiene.\n",
    "- Ongoing: steady quality via human‑in‑the‑loop review of low‑confidence cases.\n"
   ]
  }
 ],
 "metadata": {
  "kernelspec": {
   "display_name": ".venv",
   "language": "python",
   "name": "python3"
  },
  "language_info": {
   "codemirror_mode": {
    "name": "ipython",
    "version": 3
   },
   "file_extension": ".py",
   "mimetype": "text/x-python",
   "name": "python",
   "nbconvert_exporter": "python",
   "pygments_lexer": "ipython3",
   "version": "3.13.3"
  }
 },
 "nbformat": 4,
 "nbformat_minor": 5
}
