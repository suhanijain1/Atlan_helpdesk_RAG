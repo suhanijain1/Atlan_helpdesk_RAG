{
 "cells": [
  {
   "cell_type": "code",
   "execution_count": 4,
   "id": "a6178a41",
   "metadata": {},
   "outputs": [],
   "source": [
    "import json\n",
    "import os\n",
    "import logging\n",
    "import pandas as pd\n",
    "from dataclasses import asdict\n",
    "\n",
    "from triage import TriageClassifier\n",
    "from run_batch_evaluation import run_evaluation\n",
    "\n",
    "# Import visualization libraries\n",
    "import matplotlib.pyplot as plt\n",
    "import seaborn as sns\n",
    "from IPython.display import Image, display\n",
    "\n",
    "# Configure notebook environment\n",
    "logging.basicConfig(level=logging.INFO, format='%(asctime)s - %(levelname)s - %(message)s')\n",
    "sns.set_theme(style=\"whitegrid\", rc={\"figure.figsize\": (12, 8)})\n",
    "pd.set_option('display.max_colwidth', 100)"
   ]
  },
  {
   "cell_type": "code",
   "execution_count": 5,
   "id": "fd59dd9f",
   "metadata": {},
   "outputs": [
    {
     "name": "stderr",
     "output_type": "stream",
     "text": [
      "2025-09-15 09:29:07,333 - INFO - --- Step 1: Consolidating Datasets ---\n",
      "2025-09-15 09:29:07,345 - INFO - Consolidated dataset contains 45 tickets.\n",
      "2025-09-15 09:29:07,345 - INFO - Consolidated dataset contains 45 tickets.\n"
     ]
    }
   ],
   "source": [
    "# Consolidate the Dataset\n",
    "logging.info(\"--- Step 1: Consolidating Datasets ---\")\n",
    "\n",
    "# Load original tickets\n",
    "try:\n",
    "    with open('sample_tickets.json', 'r') as f:\n",
    "        original_tickets = json.load(f)\n",
    "except FileNotFoundError:\n",
    "    logging.error(\"'sample_tickets.json' not found. Aborting.\")\n",
    "    original_tickets = []\n",
    "    \n",
    "# Add 15 generated tickets\n",
    "new_tickets = [\n",
    "      {\"id\": \"TICKET-275\", \"subject\": \"MongoDB Atlas Connector - Not seeing collections\", \"body\": \"Hi, we've set up the MongoDB Atlas connector...\"},\n",
    "      {\"id\": \"TICKET-276\", \"subject\": \"Incorrect lineage showing extra hop\", \"body\": \"The lineage for our `dim_users` table seems incorrect...\"},\n",
    "      {\"id\": \"TICKET-277\", \"subject\": \"Rate limiting on API for bulk updates\", \"body\": \"We are trying to programmatically apply a 'data-quality-certified' tag...\"},\n",
    "      {\"id\": \"TICKET-278\", \"subject\": \"Conflict between Persona and Purpose policies\", \"body\": \"We have a data steward who is part of a 'Data Governance' Persona...\"},\n",
    "      {\"id\": \"TICKET-279\", \"subject\": \"SCIM de-provisioning not revoking access\", \"body\": \"We have configured SCIM with our Azure AD...\"},\n",
    "      {\"id\": \"TICKET-280\", \"subject\": \"What's the difference between a 'Verified' asset and a 'Draft' asset?\", \"body\": \"Some of our assets have a green checkmark and say 'Verified'...\"},\n",
    "      {\"id\": \"TICKET-281\", \"subject\": \"UI is slow when viewing assets with many columns\", \"body\": \"We have a few very wide tables in our data warehouse...\"},\n",
    "      {\"id\": \"TICKET-282\", \"subject\": \"Implementing Data Mesh concepts in Atlan\", \"body\": \"Our organization is moving towards a data mesh architecture...\"},\n",
    "      {\"id\": \"TICKET-283\", \"subject\": \"Is it possible to get lineage from a stored procedure?\", \"body\": \"A lot of our core business logic is encapsulated in complex Snowflake stored procedures...\"},\n",
    "      {\"id\": \"TICKET-284\", \"subject\": \"Querying Power BI datasets via Atlan\", \"body\": \"I can see all of our Power BI workspaces, reports, and datasets in Atlan...\"},\n",
    "      {\"id\": \"TICKET-285\", \"subject\": \"How to handle API token rotation securely?\", \"body\": \"Our security policy requires that all API tokens used in production services must be rotated...\"},\n",
    "      {\"id\": \"TICKET-286\", \"subject\": \"Tableau workbook lineage showing incorrect upstream sources\", \"body\": \"We have a Tableau workbook that sources data from a specific view...\"},\n",
    "      {\"id\": \"TICKET-287\", \"subject\": \"Propagating tags through lineage\", \"body\": \"I've tagged a column in our source table as 'PII'...\"},\n",
    "      {\"id\": \"TICKET-288\", \"subject\": \"Urgent: 'Internal Server Error' when accessing Governance tab\", \"body\": \"This is a critical issue. None of our admins can access the Governance tab...\"},\n",
    "      {\"id\": \"TICKET-289\", \"subject\": \"Guidance on using custom metadata vs. tags\", \"body\": \"I'm trying to decide how to model some new metadata for our assets...\"}\n",
    "    ]\n",
    "\n",
    "full_dataset = original_tickets + new_tickets\n",
    "logging.info(f\"Consolidated dataset contains {len(full_dataset)} tickets.\")"
   ]
  },
  {
   "cell_type": "markdown",
   "id": "c5266fc0",
   "metadata": {},
   "source": [
    "Now, we will run all 45 tickets through the TriageClassifier to generate the predictions that will form the basis of our evaluation."
   ]
  },
  {
   "cell_type": "code",
   "execution_count": 7,
   "id": "c6bae6b7",
   "metadata": {},
   "outputs": [
    {
     "name": "stderr",
     "output_type": "stream",
     "text": [
      "2025-09-15 08:29:19,175 - INFO - --- Step 2: Classifying All Tickets ---\n",
      "2025-09-15 08:29:19,214 - INFO - Use pytorch device_name: mps\n",
      "2025-09-15 08:29:19,214 - INFO - Load pretrained SentenceTransformer: all-MiniLM-L6-v2\n",
      "2025-09-15 08:29:26,513 - INFO - AFC is enabled with max remote calls: 10.\n"
     ]
    },
    {
     "name": "stdout",
     "output_type": "stream",
     "text": [
      "Classifying ticket 1/45: TICKET-245\r"
     ]
    },
    {
     "name": "stderr",
     "output_type": "stream",
     "text": [
      "2025-09-15 08:29:29,002 - INFO - HTTP Request: POST https://generativelanguage.googleapis.com/v1beta/models/gemini-2.5-flash-lite:generateContent \"HTTP/1.1 200 OK\"\n",
      "2025-09-15 08:29:29,008 - INFO - AFC remote call 1 is done.\n",
      "2025-09-15 08:29:29,009 - INFO - ✅ Classified ticket TICKET-245: ['CONNECTOR', 'HOW_TO'] (confidence: 0.900)\n",
      "2025-09-15 08:29:29,010 - INFO - AFC is enabled with max remote calls: 10.\n"
     ]
    },
    {
     "name": "stdout",
     "output_type": "stream",
     "text": [
      "Classifying ticket 2/45: TICKET-246\r"
     ]
    },
    {
     "name": "stderr",
     "output_type": "stream",
     "text": [
      "2025-09-15 08:29:30,050 - INFO - HTTP Request: POST https://generativelanguage.googleapis.com/v1beta/models/gemini-2.5-flash-lite:generateContent \"HTTP/1.1 200 OK\"\n",
      "2025-09-15 08:29:30,054 - INFO - AFC remote call 1 is done.\n",
      "2025-09-15 08:29:30,054 - INFO - ✅ Classified ticket TICKET-246: ['HOW_TO', 'CONNECTOR', 'LINEAGE'] (confidence: 0.900)\n",
      "2025-09-15 08:29:30,055 - INFO - AFC is enabled with max remote calls: 10.\n"
     ]
    },
    {
     "name": "stdout",
     "output_type": "stream",
     "text": [
      "Classifying ticket 3/45: TICKET-247\r"
     ]
    },
    {
     "name": "stderr",
     "output_type": "stream",
     "text": [
      "2025-09-15 08:29:31,620 - INFO - HTTP Request: POST https://generativelanguage.googleapis.com/v1beta/models/gemini-2.5-flash-lite:generateContent \"HTTP/1.1 200 OK\"\n",
      "2025-09-15 08:29:31,621 - INFO - AFC remote call 1 is done.\n",
      "2025-09-15 08:29:31,622 - INFO - ✅ Classified ticket TICKET-247: ['HOW_TO', 'CONNECTOR'] (confidence: 0.900)\n",
      "2025-09-15 08:29:31,622 - INFO - AFC is enabled with max remote calls: 10.\n"
     ]
    },
    {
     "name": "stdout",
     "output_type": "stream",
     "text": [
      "Classifying ticket 4/45: TICKET-248\r"
     ]
    },
    {
     "name": "stderr",
     "output_type": "stream",
     "text": [
      "2025-09-15 08:29:33,003 - INFO - HTTP Request: POST https://generativelanguage.googleapis.com/v1beta/models/gemini-2.5-flash-lite:generateContent \"HTTP/1.1 200 OK\"\n",
      "2025-09-15 08:29:33,006 - INFO - AFC remote call 1 is done.\n",
      "2025-09-15 08:29:33,007 - INFO - ✅ Classified ticket TICKET-248: ['HOW_TO', 'CONNECTOR', 'PRODUCT'] (confidence: 0.900)\n",
      "2025-09-15 08:29:33,008 - INFO - AFC is enabled with max remote calls: 10.\n"
     ]
    },
    {
     "name": "stdout",
     "output_type": "stream",
     "text": [
      "Classifying ticket 5/45: TICKET-249\r"
     ]
    },
    {
     "name": "stderr",
     "output_type": "stream",
     "text": [
      "2025-09-15 08:29:34,241 - INFO - HTTP Request: POST https://generativelanguage.googleapis.com/v1beta/models/gemini-2.5-flash-lite:generateContent \"HTTP/1.1 200 OK\"\n",
      "2025-09-15 08:29:34,244 - INFO - AFC remote call 1 is done.\n",
      "2025-09-15 08:29:34,245 - INFO - ✅ Classified ticket TICKET-249: ['LINEAGE', 'HOW_TO'] (confidence: 0.900)\n",
      "2025-09-15 08:29:34,246 - INFO - AFC is enabled with max remote calls: 10.\n"
     ]
    },
    {
     "name": "stdout",
     "output_type": "stream",
     "text": [
      "Classifying ticket 6/45: TICKET-250\r"
     ]
    },
    {
     "name": "stderr",
     "output_type": "stream",
     "text": [
      "2025-09-15 08:29:35,464 - INFO - HTTP Request: POST https://generativelanguage.googleapis.com/v1beta/models/gemini-2.5-flash-lite:generateContent \"HTTP/1.1 200 OK\"\n",
      "2025-09-15 08:29:35,481 - INFO - AFC remote call 1 is done.\n",
      "2025-09-15 08:29:35,483 - INFO - ✅ Classified ticket TICKET-250: ['HOW_TO', 'CONNECTOR', 'LINEAGE'] (confidence: 0.800)\n",
      "2025-09-15 08:29:35,486 - INFO - AFC is enabled with max remote calls: 10.\n"
     ]
    },
    {
     "name": "stdout",
     "output_type": "stream",
     "text": [
      "Classifying ticket 7/45: TICKET-251\r"
     ]
    },
    {
     "name": "stderr",
     "output_type": "stream",
     "text": [
      "2025-09-15 08:29:36,864 - INFO - HTTP Request: POST https://generativelanguage.googleapis.com/v1beta/models/gemini-2.5-flash-lite:generateContent \"HTTP/1.1 200 OK\"\n",
      "2025-09-15 08:29:36,868 - INFO - AFC remote call 1 is done.\n",
      "2025-09-15 08:29:36,868 - INFO - ✅ Classified ticket TICKET-251: ['HOW_TO', 'PRODUCT'] (confidence: 0.900)\n",
      "2025-09-15 08:29:36,869 - INFO - AFC is enabled with max remote calls: 10.\n"
     ]
    },
    {
     "name": "stdout",
     "output_type": "stream",
     "text": [
      "Classifying ticket 8/45: TICKET-252\r"
     ]
    },
    {
     "name": "stderr",
     "output_type": "stream",
     "text": [
      "2025-09-15 08:29:38,591 - INFO - HTTP Request: POST https://generativelanguage.googleapis.com/v1beta/models/gemini-2.5-flash-lite:generateContent \"HTTP/1.1 200 OK\"\n",
      "2025-09-15 08:29:38,594 - INFO - AFC remote call 1 is done.\n",
      "2025-09-15 08:29:38,595 - INFO - ✅ Classified ticket TICKET-252: ['API_SDK', 'LINEAGE'] (confidence: 0.900)\n",
      "2025-09-15 08:29:38,596 - INFO - AFC is enabled with max remote calls: 10.\n"
     ]
    },
    {
     "name": "stdout",
     "output_type": "stream",
     "text": [
      "Classifying ticket 9/45: TICKET-253\r"
     ]
    },
    {
     "name": "stderr",
     "output_type": "stream",
     "text": [
      "2025-09-15 08:29:40,010 - INFO - HTTP Request: POST https://generativelanguage.googleapis.com/v1beta/models/gemini-2.5-flash-lite:generateContent \"HTTP/1.1 200 OK\"\n",
      "2025-09-15 08:29:40,014 - INFO - AFC remote call 1 is done.\n",
      "2025-09-15 08:29:40,015 - INFO - ✅ Classified ticket TICKET-253: ['LINEAGE', 'CONNECTOR', 'PRODUCT'] (confidence: 0.900)\n",
      "2025-09-15 08:29:40,016 - INFO - AFC is enabled with max remote calls: 10.\n"
     ]
    },
    {
     "name": "stdout",
     "output_type": "stream",
     "text": [
      "Classifying ticket 10/45: TICKET-254\r"
     ]
    },
    {
     "name": "stderr",
     "output_type": "stream",
     "text": [
      "2025-09-15 08:29:41,103 - INFO - HTTP Request: POST https://generativelanguage.googleapis.com/v1beta/models/gemini-2.5-flash-lite:generateContent \"HTTP/1.1 200 OK\"\n",
      "2025-09-15 08:29:41,106 - INFO - AFC remote call 1 is done.\n",
      "2025-09-15 08:29:41,106 - INFO - ✅ Classified ticket TICKET-254: ['GLOSSARY', 'API_SDK'] (confidence: 0.900)\n",
      "2025-09-15 08:29:41,107 - INFO - AFC is enabled with max remote calls: 10.\n"
     ]
    },
    {
     "name": "stdout",
     "output_type": "stream",
     "text": [
      "Classifying ticket 11/45: TICKET-255\r"
     ]
    },
    {
     "name": "stderr",
     "output_type": "stream",
     "text": [
      "2025-09-15 08:29:42,498 - INFO - HTTP Request: POST https://generativelanguage.googleapis.com/v1beta/models/gemini-2.5-flash-lite:generateContent \"HTTP/1.1 200 OK\"\n",
      "2025-09-15 08:29:42,504 - INFO - AFC remote call 1 is done.\n",
      "2025-09-15 08:29:42,504 - INFO - ✅ Classified ticket TICKET-255: ['HOW_TO', 'GLOSSARY'] (confidence: 0.900)\n",
      "2025-09-15 08:29:42,505 - INFO - AFC is enabled with max remote calls: 10.\n"
     ]
    },
    {
     "name": "stdout",
     "output_type": "stream",
     "text": [
      "Classifying ticket 12/45: TICKET-256\r"
     ]
    },
    {
     "name": "stderr",
     "output_type": "stream",
     "text": [
      "2025-09-15 08:29:43,725 - INFO - HTTP Request: POST https://generativelanguage.googleapis.com/v1beta/models/gemini-2.5-flash-lite:generateContent \"HTTP/1.1 200 OK\"\n",
      "2025-09-15 08:29:43,729 - INFO - AFC remote call 1 is done.\n",
      "2025-09-15 08:29:43,730 - INFO - ✅ Classified ticket TICKET-256: ['SSO', 'HOW_TO'] (confidence: 0.900)\n",
      "2025-09-15 08:29:43,732 - INFO - AFC is enabled with max remote calls: 10.\n"
     ]
    },
    {
     "name": "stdout",
     "output_type": "stream",
     "text": [
      "Classifying ticket 13/45: TICKET-257\r"
     ]
    },
    {
     "name": "stderr",
     "output_type": "stream",
     "text": [
      "2025-09-15 08:29:45,778 - INFO - HTTP Request: POST https://generativelanguage.googleapis.com/v1beta/models/gemini-2.5-flash-lite:generateContent \"HTTP/1.1 200 OK\"\n",
      "2025-09-15 08:29:45,783 - INFO - AFC remote call 1 is done.\n",
      "2025-09-15 08:29:45,784 - INFO - ✅ Classified ticket TICKET-257: ['HOW_TO', 'GLOSSARY', 'SENSITIVE_DATA'] (confidence: 0.900)\n",
      "2025-09-15 08:29:45,785 - INFO - AFC is enabled with max remote calls: 10.\n"
     ]
    },
    {
     "name": "stdout",
     "output_type": "stream",
     "text": [
      "Classifying ticket 14/45: TICKET-258\r"
     ]
    },
    {
     "name": "stderr",
     "output_type": "stream",
     "text": [
      "2025-09-15 08:29:46,999 - INFO - HTTP Request: POST https://generativelanguage.googleapis.com/v1beta/models/gemini-2.5-flash-lite:generateContent \"HTTP/1.1 200 OK\"\n",
      "2025-09-15 08:29:47,003 - INFO - AFC remote call 1 is done.\n",
      "2025-09-15 08:29:47,004 - INFO - ✅ Classified ticket TICKET-258: ['HOW_TO', 'BEST_PRACTICES', 'GLOSSARY'] (confidence: 0.900)\n",
      "2025-09-15 08:29:47,004 - INFO - AFC is enabled with max remote calls: 10.\n"
     ]
    },
    {
     "name": "stdout",
     "output_type": "stream",
     "text": [
      "Classifying ticket 15/45: TICKET-259\r"
     ]
    },
    {
     "name": "stderr",
     "output_type": "stream",
     "text": [
      "2025-09-15 08:29:47,381 - INFO - HTTP Request: POST https://generativelanguage.googleapis.com/v1beta/models/gemini-2.5-flash-lite:generateContent \"HTTP/1.1 429 Too Many Requests\"\n",
      "2025-09-15 08:29:47,384 - ERROR - ❌ Error classifying ticket TICKET-259: 429 RESOURCE_EXHAUSTED. {'error': {'code': 429, 'message': 'You exceeded your current quota, please check your plan and billing details. For more information on this error, head to: https://ai.google.dev/gemini-api/docs/rate-limits.', 'status': 'RESOURCE_EXHAUSTED', 'details': [{'@type': 'type.googleapis.com/google.rpc.QuotaFailure', 'violations': [{'quotaMetric': 'generativelanguage.googleapis.com/generate_content_free_tier_requests', 'quotaId': 'GenerateRequestsPerMinutePerProjectPerModel-FreeTier', 'quotaDimensions': {'model': 'gemini-2.5-flash-lite', 'location': 'global'}, 'quotaValue': '15'}]}, {'@type': 'type.googleapis.com/google.rpc.Help', 'links': [{'description': 'Learn more about Gemini API quotas', 'url': 'https://ai.google.dev/gemini-api/docs/rate-limits'}]}, {'@type': 'type.googleapis.com/google.rpc.RetryInfo', 'retryDelay': '12s'}]}}\n",
      "2025-09-15 08:29:47,385 - INFO - AFC is enabled with max remote calls: 10.\n"
     ]
    },
    {
     "name": "stdout",
     "output_type": "stream",
     "text": [
      "Classifying ticket 16/45: TICKET-260\r"
     ]
    },
    {
     "name": "stderr",
     "output_type": "stream",
     "text": [
      "2025-09-15 08:29:48,626 - INFO - HTTP Request: POST https://generativelanguage.googleapis.com/v1beta/models/gemini-2.5-flash-lite:generateContent \"HTTP/1.1 429 Too Many Requests\"\n",
      "2025-09-15 08:29:48,630 - ERROR - ❌ Error classifying ticket TICKET-260: 429 RESOURCE_EXHAUSTED. {'error': {'code': 429, 'message': 'You exceeded your current quota, please check your plan and billing details. For more information on this error, head to: https://ai.google.dev/gemini-api/docs/rate-limits.', 'status': 'RESOURCE_EXHAUSTED', 'details': [{'@type': 'type.googleapis.com/google.rpc.QuotaFailure', 'violations': [{'quotaMetric': 'generativelanguage.googleapis.com/generate_content_free_tier_requests', 'quotaId': 'GenerateRequestsPerMinutePerProjectPerModel-FreeTier', 'quotaDimensions': {'location': 'global', 'model': 'gemini-2.5-flash-lite'}, 'quotaValue': '15'}]}, {'@type': 'type.googleapis.com/google.rpc.Help', 'links': [{'description': 'Learn more about Gemini API quotas', 'url': 'https://ai.google.dev/gemini-api/docs/rate-limits'}]}, {'@type': 'type.googleapis.com/google.rpc.RetryInfo', 'retryDelay': '11s'}]}}\n",
      "2025-09-15 08:29:48,630 - INFO - AFC is enabled with max remote calls: 10.\n"
     ]
    },
    {
     "name": "stdout",
     "output_type": "stream",
     "text": [
      "Classifying ticket 17/45: TICKET-261\r"
     ]
    },
    {
     "name": "stderr",
     "output_type": "stream",
     "text": [
      "2025-09-15 08:29:49,973 - INFO - HTTP Request: POST https://generativelanguage.googleapis.com/v1beta/models/gemini-2.5-flash-lite:generateContent \"HTTP/1.1 200 OK\"\n",
      "2025-09-15 08:29:49,979 - INFO - AFC remote call 1 is done.\n",
      "2025-09-15 08:29:49,979 - INFO - ✅ Classified ticket TICKET-261: ['SSO', 'HOW_TO'] (confidence: 0.900)\n",
      "2025-09-15 08:29:49,982 - INFO - AFC is enabled with max remote calls: 10.\n"
     ]
    },
    {
     "name": "stdout",
     "output_type": "stream",
     "text": [
      "Classifying ticket 18/45: TICKET-262\r"
     ]
    },
    {
     "name": "stderr",
     "output_type": "stream",
     "text": [
      "2025-09-15 08:29:50,513 - INFO - HTTP Request: POST https://generativelanguage.googleapis.com/v1beta/models/gemini-2.5-flash-lite:generateContent \"HTTP/1.1 429 Too Many Requests\"\n",
      "2025-09-15 08:29:50,517 - ERROR - ❌ Error classifying ticket TICKET-262: 429 RESOURCE_EXHAUSTED. {'error': {'code': 429, 'message': 'You exceeded your current quota, please check your plan and billing details. For more information on this error, head to: https://ai.google.dev/gemini-api/docs/rate-limits.', 'status': 'RESOURCE_EXHAUSTED', 'details': [{'@type': 'type.googleapis.com/google.rpc.QuotaFailure', 'violations': [{'quotaMetric': 'generativelanguage.googleapis.com/generate_content_free_tier_requests', 'quotaId': 'GenerateRequestsPerMinutePerProjectPerModel-FreeTier', 'quotaDimensions': {'model': 'gemini-2.5-flash-lite', 'location': 'global'}, 'quotaValue': '15'}]}, {'@type': 'type.googleapis.com/google.rpc.Help', 'links': [{'description': 'Learn more about Gemini API quotas', 'url': 'https://ai.google.dev/gemini-api/docs/rate-limits'}]}, {'@type': 'type.googleapis.com/google.rpc.RetryInfo', 'retryDelay': '9s'}]}}\n",
      "2025-09-15 08:29:50,519 - INFO - AFC is enabled with max remote calls: 10.\n"
     ]
    },
    {
     "name": "stdout",
     "output_type": "stream",
     "text": [
      "Classifying ticket 19/45: TICKET-263\r"
     ]
    },
    {
     "name": "stderr",
     "output_type": "stream",
     "text": [
      "2025-09-15 08:29:51,743 - INFO - HTTP Request: POST https://generativelanguage.googleapis.com/v1beta/models/gemini-2.5-flash-lite:generateContent \"HTTP/1.1 429 Too Many Requests\"\n",
      "2025-09-15 08:29:51,745 - ERROR - ❌ Error classifying ticket TICKET-263: 429 RESOURCE_EXHAUSTED. {'error': {'code': 429, 'message': 'You exceeded your current quota, please check your plan and billing details. For more information on this error, head to: https://ai.google.dev/gemini-api/docs/rate-limits.', 'status': 'RESOURCE_EXHAUSTED', 'details': [{'@type': 'type.googleapis.com/google.rpc.QuotaFailure', 'violations': [{'quotaMetric': 'generativelanguage.googleapis.com/generate_content_free_tier_requests', 'quotaId': 'GenerateRequestsPerMinutePerProjectPerModel-FreeTier', 'quotaDimensions': {'model': 'gemini-2.5-flash-lite', 'location': 'global'}, 'quotaValue': '15'}]}, {'@type': 'type.googleapis.com/google.rpc.Help', 'links': [{'description': 'Learn more about Gemini API quotas', 'url': 'https://ai.google.dev/gemini-api/docs/rate-limits'}]}, {'@type': 'type.googleapis.com/google.rpc.RetryInfo', 'retryDelay': '8s'}]}}\n",
      "2025-09-15 08:29:51,746 - INFO - AFC is enabled with max remote calls: 10.\n"
     ]
    },
    {
     "name": "stdout",
     "output_type": "stream",
     "text": [
      "Classifying ticket 20/45: TICKET-264\r"
     ]
    },
    {
     "name": "stderr",
     "output_type": "stream",
     "text": [
      "2025-09-15 08:29:52,265 - INFO - HTTP Request: POST https://generativelanguage.googleapis.com/v1beta/models/gemini-2.5-flash-lite:generateContent \"HTTP/1.1 429 Too Many Requests\"\n",
      "2025-09-15 08:29:52,268 - ERROR - ❌ Error classifying ticket TICKET-264: 429 RESOURCE_EXHAUSTED. {'error': {'code': 429, 'message': 'You exceeded your current quota, please check your plan and billing details. For more information on this error, head to: https://ai.google.dev/gemini-api/docs/rate-limits.', 'status': 'RESOURCE_EXHAUSTED', 'details': [{'@type': 'type.googleapis.com/google.rpc.QuotaFailure', 'violations': [{'quotaMetric': 'generativelanguage.googleapis.com/generate_content_free_tier_requests', 'quotaId': 'GenerateRequestsPerMinutePerProjectPerModel-FreeTier', 'quotaDimensions': {'location': 'global', 'model': 'gemini-2.5-flash-lite'}, 'quotaValue': '15'}]}, {'@type': 'type.googleapis.com/google.rpc.Help', 'links': [{'description': 'Learn more about Gemini API quotas', 'url': 'https://ai.google.dev/gemini-api/docs/rate-limits'}]}, {'@type': 'type.googleapis.com/google.rpc.RetryInfo', 'retryDelay': '7s'}]}}\n",
      "2025-09-15 08:29:52,270 - INFO - AFC is enabled with max remote calls: 10.\n"
     ]
    },
    {
     "name": "stdout",
     "output_type": "stream",
     "text": [
      "Classifying ticket 21/45: TICKET-265\r"
     ]
    },
    {
     "name": "stderr",
     "output_type": "stream",
     "text": [
      "2025-09-15 08:29:53,388 - INFO - HTTP Request: POST https://generativelanguage.googleapis.com/v1beta/models/gemini-2.5-flash-lite:generateContent \"HTTP/1.1 429 Too Many Requests\"\n",
      "2025-09-15 08:29:53,391 - ERROR - ❌ Error classifying ticket TICKET-265: 429 RESOURCE_EXHAUSTED. {'error': {'code': 429, 'message': 'You exceeded your current quota, please check your plan and billing details. For more information on this error, head to: https://ai.google.dev/gemini-api/docs/rate-limits.', 'status': 'RESOURCE_EXHAUSTED', 'details': [{'@type': 'type.googleapis.com/google.rpc.QuotaFailure', 'violations': [{'quotaMetric': 'generativelanguage.googleapis.com/generate_content_free_tier_requests', 'quotaId': 'GenerateRequestsPerMinutePerProjectPerModel-FreeTier', 'quotaDimensions': {'location': 'global', 'model': 'gemini-2.5-flash-lite'}, 'quotaValue': '15'}]}, {'@type': 'type.googleapis.com/google.rpc.Help', 'links': [{'description': 'Learn more about Gemini API quotas', 'url': 'https://ai.google.dev/gemini-api/docs/rate-limits'}]}, {'@type': 'type.googleapis.com/google.rpc.RetryInfo', 'retryDelay': '6s'}]}}\n",
      "2025-09-15 08:29:53,392 - INFO - AFC is enabled with max remote calls: 10.\n"
     ]
    },
    {
     "name": "stdout",
     "output_type": "stream",
     "text": [
      "Classifying ticket 22/45: TICKET-266\r"
     ]
    },
    {
     "name": "stderr",
     "output_type": "stream",
     "text": [
      "2025-09-15 08:29:53,921 - INFO - HTTP Request: POST https://generativelanguage.googleapis.com/v1beta/models/gemini-2.5-flash-lite:generateContent \"HTTP/1.1 429 Too Many Requests\"\n",
      "2025-09-15 08:29:53,924 - ERROR - ❌ Error classifying ticket TICKET-266: 429 RESOURCE_EXHAUSTED. {'error': {'code': 429, 'message': 'You exceeded your current quota, please check your plan and billing details. For more information on this error, head to: https://ai.google.dev/gemini-api/docs/rate-limits.', 'status': 'RESOURCE_EXHAUSTED', 'details': [{'@type': 'type.googleapis.com/google.rpc.QuotaFailure', 'violations': [{'quotaMetric': 'generativelanguage.googleapis.com/generate_content_free_tier_requests', 'quotaId': 'GenerateRequestsPerMinutePerProjectPerModel-FreeTier', 'quotaDimensions': {'location': 'global', 'model': 'gemini-2.5-flash-lite'}, 'quotaValue': '15'}]}, {'@type': 'type.googleapis.com/google.rpc.Help', 'links': [{'description': 'Learn more about Gemini API quotas', 'url': 'https://ai.google.dev/gemini-api/docs/rate-limits'}]}, {'@type': 'type.googleapis.com/google.rpc.RetryInfo', 'retryDelay': '6s'}]}}\n",
      "2025-09-15 08:29:53,924 - INFO - AFC is enabled with max remote calls: 10.\n"
     ]
    },
    {
     "name": "stdout",
     "output_type": "stream",
     "text": [
      "Classifying ticket 23/45: TICKET-267\r"
     ]
    },
    {
     "name": "stderr",
     "output_type": "stream",
     "text": [
      "2025-09-15 08:29:55,430 - INFO - HTTP Request: POST https://generativelanguage.googleapis.com/v1beta/models/gemini-2.5-flash-lite:generateContent \"HTTP/1.1 429 Too Many Requests\"\n",
      "2025-09-15 08:29:55,433 - ERROR - ❌ Error classifying ticket TICKET-267: 429 RESOURCE_EXHAUSTED. {'error': {'code': 429, 'message': 'You exceeded your current quota, please check your plan and billing details. For more information on this error, head to: https://ai.google.dev/gemini-api/docs/rate-limits.', 'status': 'RESOURCE_EXHAUSTED', 'details': [{'@type': 'type.googleapis.com/google.rpc.QuotaFailure', 'violations': [{'quotaMetric': 'generativelanguage.googleapis.com/generate_content_free_tier_requests', 'quotaId': 'GenerateRequestsPerMinutePerProjectPerModel-FreeTier', 'quotaDimensions': {'location': 'global', 'model': 'gemini-2.5-flash-lite'}, 'quotaValue': '15'}]}, {'@type': 'type.googleapis.com/google.rpc.Help', 'links': [{'description': 'Learn more about Gemini API quotas', 'url': 'https://ai.google.dev/gemini-api/docs/rate-limits'}]}, {'@type': 'type.googleapis.com/google.rpc.RetryInfo', 'retryDelay': '5s'}]}}\n",
      "2025-09-15 08:29:55,434 - INFO - AFC is enabled with max remote calls: 10.\n"
     ]
    },
    {
     "name": "stdout",
     "output_type": "stream",
     "text": [
      "Classifying ticket 24/45: TICKET-268\r"
     ]
    },
    {
     "name": "stderr",
     "output_type": "stream",
     "text": [
      "2025-09-15 08:29:55,769 - INFO - HTTP Request: POST https://generativelanguage.googleapis.com/v1beta/models/gemini-2.5-flash-lite:generateContent \"HTTP/1.1 429 Too Many Requests\"\n",
      "2025-09-15 08:29:55,772 - ERROR - ❌ Error classifying ticket TICKET-268: 429 RESOURCE_EXHAUSTED. {'error': {'code': 429, 'message': 'You exceeded your current quota, please check your plan and billing details. For more information on this error, head to: https://ai.google.dev/gemini-api/docs/rate-limits.', 'status': 'RESOURCE_EXHAUSTED', 'details': [{'@type': 'type.googleapis.com/google.rpc.QuotaFailure', 'violations': [{'quotaMetric': 'generativelanguage.googleapis.com/generate_content_free_tier_requests', 'quotaId': 'GenerateRequestsPerMinutePerProjectPerModel-FreeTier', 'quotaDimensions': {'model': 'gemini-2.5-flash-lite', 'location': 'global'}, 'quotaValue': '15'}]}, {'@type': 'type.googleapis.com/google.rpc.Help', 'links': [{'description': 'Learn more about Gemini API quotas', 'url': 'https://ai.google.dev/gemini-api/docs/rate-limits'}]}, {'@type': 'type.googleapis.com/google.rpc.RetryInfo', 'retryDelay': '4s'}]}}\n",
      "2025-09-15 08:29:55,773 - INFO - AFC is enabled with max remote calls: 10.\n"
     ]
    },
    {
     "name": "stdout",
     "output_type": "stream",
     "text": [
      "Classifying ticket 25/45: TICKET-269\r"
     ]
    },
    {
     "name": "stderr",
     "output_type": "stream",
     "text": [
      "2025-09-15 08:29:57,086 - INFO - HTTP Request: POST https://generativelanguage.googleapis.com/v1beta/models/gemini-2.5-flash-lite:generateContent \"HTTP/1.1 429 Too Many Requests\"\n",
      "2025-09-15 08:29:57,089 - ERROR - ❌ Error classifying ticket TICKET-269: 429 RESOURCE_EXHAUSTED. {'error': {'code': 429, 'message': 'You exceeded your current quota, please check your plan and billing details. For more information on this error, head to: https://ai.google.dev/gemini-api/docs/rate-limits.', 'status': 'RESOURCE_EXHAUSTED', 'details': [{'@type': 'type.googleapis.com/google.rpc.QuotaFailure', 'violations': [{'quotaMetric': 'generativelanguage.googleapis.com/generate_content_free_tier_requests', 'quotaId': 'GenerateRequestsPerMinutePerProjectPerModel-FreeTier', 'quotaDimensions': {'location': 'global', 'model': 'gemini-2.5-flash-lite'}, 'quotaValue': '15'}]}, {'@type': 'type.googleapis.com/google.rpc.Help', 'links': [{'description': 'Learn more about Gemini API quotas', 'url': 'https://ai.google.dev/gemini-api/docs/rate-limits'}]}, {'@type': 'type.googleapis.com/google.rpc.RetryInfo', 'retryDelay': '2s'}]}}\n",
      "2025-09-15 08:29:57,090 - INFO - AFC is enabled with max remote calls: 10.\n"
     ]
    },
    {
     "name": "stdout",
     "output_type": "stream",
     "text": [
      "Classifying ticket 26/45: TICKET-270\r"
     ]
    },
    {
     "name": "stderr",
     "output_type": "stream",
     "text": [
      "2025-09-15 08:29:57,509 - INFO - HTTP Request: POST https://generativelanguage.googleapis.com/v1beta/models/gemini-2.5-flash-lite:generateContent \"HTTP/1.1 429 Too Many Requests\"\n",
      "2025-09-15 08:29:57,511 - ERROR - ❌ Error classifying ticket TICKET-270: 429 RESOURCE_EXHAUSTED. {'error': {'code': 429, 'message': 'You exceeded your current quota, please check your plan and billing details. For more information on this error, head to: https://ai.google.dev/gemini-api/docs/rate-limits.', 'status': 'RESOURCE_EXHAUSTED', 'details': [{'@type': 'type.googleapis.com/google.rpc.QuotaFailure', 'violations': [{'quotaMetric': 'generativelanguage.googleapis.com/generate_content_free_tier_requests', 'quotaId': 'GenerateRequestsPerMinutePerProjectPerModel-FreeTier', 'quotaDimensions': {'location': 'global', 'model': 'gemini-2.5-flash-lite'}, 'quotaValue': '15'}]}, {'@type': 'type.googleapis.com/google.rpc.Help', 'links': [{'description': 'Learn more about Gemini API quotas', 'url': 'https://ai.google.dev/gemini-api/docs/rate-limits'}]}, {'@type': 'type.googleapis.com/google.rpc.RetryInfo', 'retryDelay': '2s'}]}}\n",
      "2025-09-15 08:29:57,512 - INFO - AFC is enabled with max remote calls: 10.\n"
     ]
    },
    {
     "name": "stdout",
     "output_type": "stream",
     "text": [
      "Classifying ticket 27/45: TICKET-271\r"
     ]
    },
    {
     "name": "stderr",
     "output_type": "stream",
     "text": [
      "2025-09-15 08:29:58,914 - INFO - HTTP Request: POST https://generativelanguage.googleapis.com/v1beta/models/gemini-2.5-flash-lite:generateContent \"HTTP/1.1 429 Too Many Requests\"\n",
      "2025-09-15 08:29:58,945 - ERROR - ❌ Error classifying ticket TICKET-271: 429 RESOURCE_EXHAUSTED. {'error': {'code': 429, 'message': 'You exceeded your current quota, please check your plan and billing details. For more information on this error, head to: https://ai.google.dev/gemini-api/docs/rate-limits.', 'status': 'RESOURCE_EXHAUSTED', 'details': [{'@type': 'type.googleapis.com/google.rpc.QuotaFailure', 'violations': [{'quotaMetric': 'generativelanguage.googleapis.com/generate_content_free_tier_requests', 'quotaId': 'GenerateRequestsPerMinutePerProjectPerModel-FreeTier', 'quotaDimensions': {'location': 'global', 'model': 'gemini-2.5-flash-lite'}, 'quotaValue': '15'}]}, {'@type': 'type.googleapis.com/google.rpc.Help', 'links': [{'description': 'Learn more about Gemini API quotas', 'url': 'https://ai.google.dev/gemini-api/docs/rate-limits'}]}, {'@type': 'type.googleapis.com/google.rpc.RetryInfo', 'retryDelay': '1s'}]}}\n",
      "2025-09-15 08:29:58,953 - INFO - AFC is enabled with max remote calls: 10.\n"
     ]
    },
    {
     "name": "stdout",
     "output_type": "stream",
     "text": [
      "Classifying ticket 28/45: TICKET-272\r"
     ]
    },
    {
     "name": "stderr",
     "output_type": "stream",
     "text": [
      "2025-09-15 08:29:59,423 - INFO - HTTP Request: POST https://generativelanguage.googleapis.com/v1beta/models/gemini-2.5-flash-lite:generateContent \"HTTP/1.1 429 Too Many Requests\"\n",
      "2025-09-15 08:29:59,425 - ERROR - ❌ Error classifying ticket TICKET-272: 429 RESOURCE_EXHAUSTED. {'error': {'code': 429, 'message': 'You exceeded your current quota, please check your plan and billing details. For more information on this error, head to: https://ai.google.dev/gemini-api/docs/rate-limits.', 'status': 'RESOURCE_EXHAUSTED', 'details': [{'@type': 'type.googleapis.com/google.rpc.QuotaFailure', 'violations': [{'quotaMetric': 'generativelanguage.googleapis.com/generate_content_free_tier_requests', 'quotaId': 'GenerateRequestsPerMinutePerProjectPerModel-FreeTier', 'quotaDimensions': {'location': 'global', 'model': 'gemini-2.5-flash-lite'}, 'quotaValue': '15'}]}, {'@type': 'type.googleapis.com/google.rpc.Help', 'links': [{'description': 'Learn more about Gemini API quotas', 'url': 'https://ai.google.dev/gemini-api/docs/rate-limits'}]}, {'@type': 'type.googleapis.com/google.rpc.RetryInfo', 'retryDelay': '0s'}]}}\n",
      "2025-09-15 08:29:59,426 - INFO - AFC is enabled with max remote calls: 10.\n"
     ]
    },
    {
     "name": "stdout",
     "output_type": "stream",
     "text": [
      "Classifying ticket 29/45: TICKET-273\r"
     ]
    },
    {
     "name": "stderr",
     "output_type": "stream",
     "text": [
      "2025-09-15 08:30:00,652 - INFO - HTTP Request: POST https://generativelanguage.googleapis.com/v1beta/models/gemini-2.5-flash-lite:generateContent \"HTTP/1.1 429 Too Many Requests\"\n",
      "2025-09-15 08:30:00,655 - ERROR - ❌ Error classifying ticket TICKET-273: 429 RESOURCE_EXHAUSTED. {'error': {'code': 429, 'message': 'You exceeded your current quota, please check your plan and billing details. For more information on this error, head to: https://ai.google.dev/gemini-api/docs/rate-limits.', 'status': 'RESOURCE_EXHAUSTED', 'details': [{'@type': 'type.googleapis.com/google.rpc.QuotaFailure', 'violations': [{'quotaMetric': 'generativelanguage.googleapis.com/generate_content_free_tier_requests', 'quotaId': 'GenerateRequestsPerMinutePerProjectPerModel-FreeTier', 'quotaDimensions': {'location': 'global', 'model': 'gemini-2.5-flash-lite'}, 'quotaValue': '15'}]}, {'@type': 'type.googleapis.com/google.rpc.Help', 'links': [{'description': 'Learn more about Gemini API quotas', 'url': 'https://ai.google.dev/gemini-api/docs/rate-limits'}]}, {'@type': 'type.googleapis.com/google.rpc.RetryInfo', 'retryDelay': '59s'}]}}\n",
      "2025-09-15 08:30:00,657 - INFO - AFC is enabled with max remote calls: 10.\n"
     ]
    },
    {
     "name": "stdout",
     "output_type": "stream",
     "text": [
      "Classifying ticket 30/45: TICKET-274\r"
     ]
    },
    {
     "name": "stderr",
     "output_type": "stream",
     "text": [
      "2025-09-15 08:30:01,063 - INFO - HTTP Request: POST https://generativelanguage.googleapis.com/v1beta/models/gemini-2.5-flash-lite:generateContent \"HTTP/1.1 429 Too Many Requests\"\n",
      "2025-09-15 08:30:01,067 - ERROR - ❌ Error classifying ticket TICKET-274: 429 RESOURCE_EXHAUSTED. {'error': {'code': 429, 'message': 'You exceeded your current quota, please check your plan and billing details. For more information on this error, head to: https://ai.google.dev/gemini-api/docs/rate-limits.', 'status': 'RESOURCE_EXHAUSTED', 'details': [{'@type': 'type.googleapis.com/google.rpc.QuotaFailure', 'violations': [{'quotaMetric': 'generativelanguage.googleapis.com/generate_content_free_tier_requests', 'quotaId': 'GenerateRequestsPerMinutePerProjectPerModel-FreeTier', 'quotaDimensions': {'location': 'global', 'model': 'gemini-2.5-flash-lite'}, 'quotaValue': '15'}]}, {'@type': 'type.googleapis.com/google.rpc.Help', 'links': [{'description': 'Learn more about Gemini API quotas', 'url': 'https://ai.google.dev/gemini-api/docs/rate-limits'}]}, {'@type': 'type.googleapis.com/google.rpc.RetryInfo', 'retryDelay': '59s'}]}}\n",
      "2025-09-15 08:30:01,068 - INFO - AFC is enabled with max remote calls: 10.\n"
     ]
    },
    {
     "name": "stdout",
     "output_type": "stream",
     "text": [
      "Classifying ticket 31/45: TICKET-275\r"
     ]
    },
    {
     "name": "stderr",
     "output_type": "stream",
     "text": [
      "2025-09-15 08:30:02,314 - INFO - HTTP Request: POST https://generativelanguage.googleapis.com/v1beta/models/gemini-2.5-flash-lite:generateContent \"HTTP/1.1 429 Too Many Requests\"\n",
      "2025-09-15 08:30:02,316 - ERROR - ❌ Error classifying ticket TICKET-275: 429 RESOURCE_EXHAUSTED. {'error': {'code': 429, 'message': 'You exceeded your current quota, please check your plan and billing details. For more information on this error, head to: https://ai.google.dev/gemini-api/docs/rate-limits.', 'status': 'RESOURCE_EXHAUSTED', 'details': [{'@type': 'type.googleapis.com/google.rpc.QuotaFailure', 'violations': [{'quotaMetric': 'generativelanguage.googleapis.com/generate_content_free_tier_requests', 'quotaId': 'GenerateRequestsPerMinutePerProjectPerModel-FreeTier', 'quotaDimensions': {'location': 'global', 'model': 'gemini-2.5-flash-lite'}, 'quotaValue': '15'}]}, {'@type': 'type.googleapis.com/google.rpc.Help', 'links': [{'description': 'Learn more about Gemini API quotas', 'url': 'https://ai.google.dev/gemini-api/docs/rate-limits'}]}, {'@type': 'type.googleapis.com/google.rpc.RetryInfo', 'retryDelay': '57s'}]}}\n",
      "2025-09-15 08:30:02,319 - INFO - AFC is enabled with max remote calls: 10.\n"
     ]
    },
    {
     "name": "stdout",
     "output_type": "stream",
     "text": [
      "Classifying ticket 32/45: TICKET-276\r"
     ]
    },
    {
     "name": "stderr",
     "output_type": "stream",
     "text": [
      "2025-09-15 08:30:02,735 - INFO - HTTP Request: POST https://generativelanguage.googleapis.com/v1beta/models/gemini-2.5-flash-lite:generateContent \"HTTP/1.1 429 Too Many Requests\"\n",
      "2025-09-15 08:30:02,738 - ERROR - ❌ Error classifying ticket TICKET-276: 429 RESOURCE_EXHAUSTED. {'error': {'code': 429, 'message': 'You exceeded your current quota, please check your plan and billing details. For more information on this error, head to: https://ai.google.dev/gemini-api/docs/rate-limits.', 'status': 'RESOURCE_EXHAUSTED', 'details': [{'@type': 'type.googleapis.com/google.rpc.QuotaFailure', 'violations': [{'quotaMetric': 'generativelanguage.googleapis.com/generate_content_free_tier_requests', 'quotaId': 'GenerateRequestsPerMinutePerProjectPerModel-FreeTier', 'quotaDimensions': {'model': 'gemini-2.5-flash-lite', 'location': 'global'}, 'quotaValue': '15'}]}, {'@type': 'type.googleapis.com/google.rpc.Help', 'links': [{'description': 'Learn more about Gemini API quotas', 'url': 'https://ai.google.dev/gemini-api/docs/rate-limits'}]}, {'@type': 'type.googleapis.com/google.rpc.RetryInfo', 'retryDelay': '57s'}]}}\n",
      "2025-09-15 08:30:02,739 - INFO - AFC is enabled with max remote calls: 10.\n"
     ]
    },
    {
     "name": "stdout",
     "output_type": "stream",
     "text": [
      "Classifying ticket 33/45: TICKET-277\r"
     ]
    },
    {
     "name": "stderr",
     "output_type": "stream",
     "text": [
      "2025-09-15 08:30:03,938 - INFO - HTTP Request: POST https://generativelanguage.googleapis.com/v1beta/models/gemini-2.5-flash-lite:generateContent \"HTTP/1.1 429 Too Many Requests\"\n",
      "2025-09-15 08:30:03,941 - ERROR - ❌ Error classifying ticket TICKET-277: 429 RESOURCE_EXHAUSTED. {'error': {'code': 429, 'message': 'You exceeded your current quota, please check your plan and billing details. For more information on this error, head to: https://ai.google.dev/gemini-api/docs/rate-limits.', 'status': 'RESOURCE_EXHAUSTED', 'details': [{'@type': 'type.googleapis.com/google.rpc.QuotaFailure', 'violations': [{'quotaMetric': 'generativelanguage.googleapis.com/generate_content_free_tier_requests', 'quotaId': 'GenerateRequestsPerMinutePerProjectPerModel-FreeTier', 'quotaDimensions': {'location': 'global', 'model': 'gemini-2.5-flash-lite'}, 'quotaValue': '15'}]}, {'@type': 'type.googleapis.com/google.rpc.Help', 'links': [{'description': 'Learn more about Gemini API quotas', 'url': 'https://ai.google.dev/gemini-api/docs/rate-limits'}]}, {'@type': 'type.googleapis.com/google.rpc.RetryInfo', 'retryDelay': '56s'}]}}\n",
      "2025-09-15 08:30:03,942 - INFO - AFC is enabled with max remote calls: 10.\n"
     ]
    },
    {
     "name": "stdout",
     "output_type": "stream",
     "text": [
      "Classifying ticket 34/45: TICKET-278\r"
     ]
    },
    {
     "name": "stderr",
     "output_type": "stream",
     "text": [
      "2025-09-15 08:30:04,370 - INFO - HTTP Request: POST https://generativelanguage.googleapis.com/v1beta/models/gemini-2.5-flash-lite:generateContent \"HTTP/1.1 429 Too Many Requests\"\n",
      "2025-09-15 08:30:04,372 - ERROR - ❌ Error classifying ticket TICKET-278: 429 RESOURCE_EXHAUSTED. {'error': {'code': 429, 'message': 'You exceeded your current quota, please check your plan and billing details. For more information on this error, head to: https://ai.google.dev/gemini-api/docs/rate-limits.', 'status': 'RESOURCE_EXHAUSTED', 'details': [{'@type': 'type.googleapis.com/google.rpc.QuotaFailure', 'violations': [{'quotaMetric': 'generativelanguage.googleapis.com/generate_content_free_tier_requests', 'quotaId': 'GenerateRequestsPerMinutePerProjectPerModel-FreeTier', 'quotaDimensions': {'location': 'global', 'model': 'gemini-2.5-flash-lite'}, 'quotaValue': '15'}]}, {'@type': 'type.googleapis.com/google.rpc.Help', 'links': [{'description': 'Learn more about Gemini API quotas', 'url': 'https://ai.google.dev/gemini-api/docs/rate-limits'}]}, {'@type': 'type.googleapis.com/google.rpc.RetryInfo', 'retryDelay': '55s'}]}}\n",
      "2025-09-15 08:30:04,372 - INFO - AFC is enabled with max remote calls: 10.\n"
     ]
    },
    {
     "name": "stdout",
     "output_type": "stream",
     "text": [
      "Classifying ticket 35/45: TICKET-279\r"
     ]
    },
    {
     "name": "stderr",
     "output_type": "stream",
     "text": [
      "2025-09-15 08:30:05,700 - INFO - HTTP Request: POST https://generativelanguage.googleapis.com/v1beta/models/gemini-2.5-flash-lite:generateContent \"HTTP/1.1 429 Too Many Requests\"\n",
      "2025-09-15 08:30:05,704 - ERROR - ❌ Error classifying ticket TICKET-279: 429 RESOURCE_EXHAUSTED. {'error': {'code': 429, 'message': 'You exceeded your current quota, please check your plan and billing details. For more information on this error, head to: https://ai.google.dev/gemini-api/docs/rate-limits.', 'status': 'RESOURCE_EXHAUSTED', 'details': [{'@type': 'type.googleapis.com/google.rpc.QuotaFailure', 'violations': [{'quotaMetric': 'generativelanguage.googleapis.com/generate_content_free_tier_requests', 'quotaId': 'GenerateRequestsPerMinutePerProjectPerModel-FreeTier', 'quotaDimensions': {'location': 'global', 'model': 'gemini-2.5-flash-lite'}, 'quotaValue': '15'}]}, {'@type': 'type.googleapis.com/google.rpc.Help', 'links': [{'description': 'Learn more about Gemini API quotas', 'url': 'https://ai.google.dev/gemini-api/docs/rate-limits'}]}, {'@type': 'type.googleapis.com/google.rpc.RetryInfo', 'retryDelay': '54s'}]}}\n",
      "2025-09-15 08:30:05,705 - INFO - AFC is enabled with max remote calls: 10.\n"
     ]
    },
    {
     "name": "stdout",
     "output_type": "stream",
     "text": [
      "Classifying ticket 36/45: TICKET-280\r"
     ]
    },
    {
     "name": "stderr",
     "output_type": "stream",
     "text": [
      "2025-09-15 08:30:06,048 - INFO - HTTP Request: POST https://generativelanguage.googleapis.com/v1beta/models/gemini-2.5-flash-lite:generateContent \"HTTP/1.1 429 Too Many Requests\"\n",
      "2025-09-15 08:30:06,052 - ERROR - ❌ Error classifying ticket TICKET-280: 429 RESOURCE_EXHAUSTED. {'error': {'code': 429, 'message': 'You exceeded your current quota, please check your plan and billing details. For more information on this error, head to: https://ai.google.dev/gemini-api/docs/rate-limits.', 'status': 'RESOURCE_EXHAUSTED', 'details': [{'@type': 'type.googleapis.com/google.rpc.QuotaFailure', 'violations': [{'quotaMetric': 'generativelanguage.googleapis.com/generate_content_free_tier_requests', 'quotaId': 'GenerateRequestsPerMinutePerProjectPerModel-FreeTier', 'quotaDimensions': {'location': 'global', 'model': 'gemini-2.5-flash-lite'}, 'quotaValue': '15'}]}, {'@type': 'type.googleapis.com/google.rpc.Help', 'links': [{'description': 'Learn more about Gemini API quotas', 'url': 'https://ai.google.dev/gemini-api/docs/rate-limits'}]}, {'@type': 'type.googleapis.com/google.rpc.RetryInfo', 'retryDelay': '54s'}]}}\n",
      "2025-09-15 08:30:06,053 - INFO - AFC is enabled with max remote calls: 10.\n"
     ]
    },
    {
     "name": "stdout",
     "output_type": "stream",
     "text": [
      "Classifying ticket 37/45: TICKET-281\r"
     ]
    },
    {
     "name": "stderr",
     "output_type": "stream",
     "text": [
      "2025-09-15 08:30:07,336 - INFO - HTTP Request: POST https://generativelanguage.googleapis.com/v1beta/models/gemini-2.5-flash-lite:generateContent \"HTTP/1.1 429 Too Many Requests\"\n",
      "2025-09-15 08:30:07,337 - ERROR - ❌ Error classifying ticket TICKET-281: 429 RESOURCE_EXHAUSTED. {'error': {'code': 429, 'message': 'You exceeded your current quota, please check your plan and billing details. For more information on this error, head to: https://ai.google.dev/gemini-api/docs/rate-limits.', 'status': 'RESOURCE_EXHAUSTED', 'details': [{'@type': 'type.googleapis.com/google.rpc.QuotaFailure', 'violations': [{'quotaMetric': 'generativelanguage.googleapis.com/generate_content_free_tier_requests', 'quotaId': 'GenerateRequestsPerMinutePerProjectPerModel-FreeTier', 'quotaDimensions': {'location': 'global', 'model': 'gemini-2.5-flash-lite'}, 'quotaValue': '15'}]}, {'@type': 'type.googleapis.com/google.rpc.Help', 'links': [{'description': 'Learn more about Gemini API quotas', 'url': 'https://ai.google.dev/gemini-api/docs/rate-limits'}]}, {'@type': 'type.googleapis.com/google.rpc.RetryInfo', 'retryDelay': '52s'}]}}\n",
      "2025-09-15 08:30:07,338 - INFO - AFC is enabled with max remote calls: 10.\n"
     ]
    },
    {
     "name": "stdout",
     "output_type": "stream",
     "text": [
      "Classifying ticket 38/45: TICKET-282\r"
     ]
    },
    {
     "name": "stderr",
     "output_type": "stream",
     "text": [
      "2025-09-15 08:30:07,803 - INFO - HTTP Request: POST https://generativelanguage.googleapis.com/v1beta/models/gemini-2.5-flash-lite:generateContent \"HTTP/1.1 429 Too Many Requests\"\n",
      "2025-09-15 08:30:07,805 - ERROR - ❌ Error classifying ticket TICKET-282: 429 RESOURCE_EXHAUSTED. {'error': {'code': 429, 'message': 'You exceeded your current quota, please check your plan and billing details. For more information on this error, head to: https://ai.google.dev/gemini-api/docs/rate-limits.', 'status': 'RESOURCE_EXHAUSTED', 'details': [{'@type': 'type.googleapis.com/google.rpc.QuotaFailure', 'violations': [{'quotaMetric': 'generativelanguage.googleapis.com/generate_content_free_tier_requests', 'quotaId': 'GenerateRequestsPerMinutePerProjectPerModel-FreeTier', 'quotaDimensions': {'location': 'global', 'model': 'gemini-2.5-flash-lite'}, 'quotaValue': '15'}]}, {'@type': 'type.googleapis.com/google.rpc.Help', 'links': [{'description': 'Learn more about Gemini API quotas', 'url': 'https://ai.google.dev/gemini-api/docs/rate-limits'}]}, {'@type': 'type.googleapis.com/google.rpc.RetryInfo', 'retryDelay': '52s'}]}}\n",
      "2025-09-15 08:30:07,806 - INFO - AFC is enabled with max remote calls: 10.\n"
     ]
    },
    {
     "name": "stdout",
     "output_type": "stream",
     "text": [
      "Classifying ticket 39/45: TICKET-283\r"
     ]
    },
    {
     "name": "stderr",
     "output_type": "stream",
     "text": [
      "2025-09-15 08:30:08,963 - INFO - HTTP Request: POST https://generativelanguage.googleapis.com/v1beta/models/gemini-2.5-flash-lite:generateContent \"HTTP/1.1 429 Too Many Requests\"\n",
      "2025-09-15 08:30:08,966 - ERROR - ❌ Error classifying ticket TICKET-283: 429 RESOURCE_EXHAUSTED. {'error': {'code': 429, 'message': 'You exceeded your current quota, please check your plan and billing details. For more information on this error, head to: https://ai.google.dev/gemini-api/docs/rate-limits.', 'status': 'RESOURCE_EXHAUSTED', 'details': [{'@type': 'type.googleapis.com/google.rpc.QuotaFailure', 'violations': [{'quotaMetric': 'generativelanguage.googleapis.com/generate_content_free_tier_requests', 'quotaId': 'GenerateRequestsPerMinutePerProjectPerModel-FreeTier', 'quotaDimensions': {'location': 'global', 'model': 'gemini-2.5-flash-lite'}, 'quotaValue': '15'}]}, {'@type': 'type.googleapis.com/google.rpc.Help', 'links': [{'description': 'Learn more about Gemini API quotas', 'url': 'https://ai.google.dev/gemini-api/docs/rate-limits'}]}, {'@type': 'type.googleapis.com/google.rpc.RetryInfo', 'retryDelay': '51s'}]}}\n",
      "2025-09-15 08:30:08,967 - INFO - AFC is enabled with max remote calls: 10.\n"
     ]
    },
    {
     "name": "stdout",
     "output_type": "stream",
     "text": [
      "Classifying ticket 40/45: TICKET-284\r"
     ]
    },
    {
     "name": "stderr",
     "output_type": "stream",
     "text": [
      "2025-09-15 08:30:09,463 - INFO - HTTP Request: POST https://generativelanguage.googleapis.com/v1beta/models/gemini-2.5-flash-lite:generateContent \"HTTP/1.1 429 Too Many Requests\"\n",
      "2025-09-15 08:30:09,467 - ERROR - ❌ Error classifying ticket TICKET-284: 429 RESOURCE_EXHAUSTED. {'error': {'code': 429, 'message': 'You exceeded your current quota, please check your plan and billing details. For more information on this error, head to: https://ai.google.dev/gemini-api/docs/rate-limits.', 'status': 'RESOURCE_EXHAUSTED', 'details': [{'@type': 'type.googleapis.com/google.rpc.QuotaFailure', 'violations': [{'quotaMetric': 'generativelanguage.googleapis.com/generate_content_free_tier_requests', 'quotaId': 'GenerateRequestsPerMinutePerProjectPerModel-FreeTier', 'quotaDimensions': {'location': 'global', 'model': 'gemini-2.5-flash-lite'}, 'quotaValue': '15'}]}, {'@type': 'type.googleapis.com/google.rpc.Help', 'links': [{'description': 'Learn more about Gemini API quotas', 'url': 'https://ai.google.dev/gemini-api/docs/rate-limits'}]}, {'@type': 'type.googleapis.com/google.rpc.RetryInfo', 'retryDelay': '50s'}]}}\n",
      "2025-09-15 08:30:09,468 - INFO - AFC is enabled with max remote calls: 10.\n"
     ]
    },
    {
     "name": "stdout",
     "output_type": "stream",
     "text": [
      "Classifying ticket 41/45: TICKET-285\r"
     ]
    },
    {
     "name": "stderr",
     "output_type": "stream",
     "text": [
      "2025-09-15 08:30:11,741 - INFO - HTTP Request: POST https://generativelanguage.googleapis.com/v1beta/models/gemini-2.5-flash-lite:generateContent \"HTTP/1.1 200 OK\"\n",
      "2025-09-15 08:30:11,752 - INFO - AFC remote call 1 is done.\n",
      "2025-09-15 08:30:11,753 - INFO - ✅ Classified ticket TICKET-285: ['API_SDK', 'BEST_PRACTICES', 'SENSITIVE_DATA'] (confidence: 0.900)\n",
      "2025-09-15 08:30:11,753 - INFO - AFC is enabled with max remote calls: 10.\n"
     ]
    },
    {
     "name": "stdout",
     "output_type": "stream",
     "text": [
      "Classifying ticket 42/45: TICKET-286\r"
     ]
    },
    {
     "name": "stderr",
     "output_type": "stream",
     "text": [
      "2025-09-15 08:30:13,068 - INFO - HTTP Request: POST https://generativelanguage.googleapis.com/v1beta/models/gemini-2.5-flash-lite:generateContent \"HTTP/1.1 200 OK\"\n",
      "2025-09-15 08:30:13,071 - INFO - AFC remote call 1 is done.\n",
      "2025-09-15 08:30:13,071 - INFO - ✅ Classified ticket TICKET-286: ['CONNECTOR'] (confidence: 0.900)\n",
      "2025-09-15 08:30:13,072 - INFO - AFC is enabled with max remote calls: 10.\n"
     ]
    },
    {
     "name": "stdout",
     "output_type": "stream",
     "text": [
      "Classifying ticket 43/45: TICKET-287\r"
     ]
    },
    {
     "name": "stderr",
     "output_type": "stream",
     "text": [
      "2025-09-15 08:30:14,299 - INFO - HTTP Request: POST https://generativelanguage.googleapis.com/v1beta/models/gemini-2.5-flash-lite:generateContent \"HTTP/1.1 200 OK\"\n",
      "2025-09-15 08:30:14,303 - INFO - AFC remote call 1 is done.\n",
      "2025-09-15 08:30:14,304 - INFO - ✅ Classified ticket TICKET-287: ['SENSITIVE_DATA'] (confidence: 0.900)\n",
      "2025-09-15 08:30:14,305 - INFO - AFC is enabled with max remote calls: 10.\n"
     ]
    },
    {
     "name": "stdout",
     "output_type": "stream",
     "text": [
      "Classifying ticket 44/45: TICKET-288\r"
     ]
    },
    {
     "name": "stderr",
     "output_type": "stream",
     "text": [
      "2025-09-15 08:30:15,662 - INFO - HTTP Request: POST https://generativelanguage.googleapis.com/v1beta/models/gemini-2.5-flash-lite:generateContent \"HTTP/1.1 200 OK\"\n",
      "2025-09-15 08:30:15,667 - INFO - AFC remote call 1 is done.\n",
      "2025-09-15 08:30:15,668 - INFO - ✅ Classified ticket TICKET-288: ['PRODUCT', 'SSO'] (confidence: 0.900)\n",
      "2025-09-15 08:30:15,668 - INFO - AFC is enabled with max remote calls: 10.\n"
     ]
    },
    {
     "name": "stdout",
     "output_type": "stream",
     "text": [
      "Classifying ticket 45/45: TICKET-289\r"
     ]
    },
    {
     "name": "stderr",
     "output_type": "stream",
     "text": [
      "2025-09-15 08:30:16,712 - INFO - HTTP Request: POST https://generativelanguage.googleapis.com/v1beta/models/gemini-2.5-flash-lite:generateContent \"HTTP/1.1 200 OK\"\n",
      "2025-09-15 08:30:16,716 - INFO - AFC remote call 1 is done.\n",
      "2025-09-15 08:30:16,716 - INFO - ✅ Classified ticket TICKET-289: ['BEST_PRACTICES'] (confidence: 0.800)\n"
     ]
    },
    {
     "name": "stdout",
     "output_type": "stream",
     "text": [
      "\n",
      "Classification complete.\n"
     ]
    },
    {
     "data": {
      "text/html": [
       "<div>\n",
       "<style scoped>\n",
       "    .dataframe tbody tr th:only-of-type {\n",
       "        vertical-align: middle;\n",
       "    }\n",
       "\n",
       "    .dataframe tbody tr th {\n",
       "        vertical-align: top;\n",
       "    }\n",
       "\n",
       "    .dataframe thead th {\n",
       "        text-align: right;\n",
       "    }\n",
       "</style>\n",
       "<table border=\"1\" class=\"dataframe\">\n",
       "  <thead>\n",
       "    <tr style=\"text-align: right;\">\n",
       "      <th></th>\n",
       "      <th>ticket_id</th>\n",
       "      <th>topics</th>\n",
       "      <th>priority</th>\n",
       "      <th>confidence</th>\n",
       "      <th>reasoning</th>\n",
       "    </tr>\n",
       "  </thead>\n",
       "  <tbody>\n",
       "    <tr>\n",
       "      <th>0</th>\n",
       "      <td>TICKET-245</td>\n",
       "      <td>[CONNECTOR, HOW_TO]</td>\n",
       "      <td>P0</td>\n",
       "      <td>0.9</td>\n",
       "      <td>The user is experiencing a critical connection issue ('connection keeps failing', 'entire BI tea...</td>\n",
       "    </tr>\n",
       "    <tr>\n",
       "      <th>1</th>\n",
       "      <td>TICKET-246</td>\n",
       "      <td>[HOW_TO, CONNECTOR, LINEAGE]</td>\n",
       "      <td>P1</td>\n",
       "      <td>0.9</td>\n",
       "      <td>The user is new to Atlan and asking how to understand lineage capabilities for specific connecto...</td>\n",
       "    </tr>\n",
       "    <tr>\n",
       "      <th>2</th>\n",
       "      <td>TICKET-247</td>\n",
       "      <td>[HOW_TO, CONNECTOR]</td>\n",
       "      <td>P0</td>\n",
       "      <td>0.9</td>\n",
       "      <td>The user is asking for help with a confusing setup process for the Atlan agent to connect an on-...</td>\n",
       "    </tr>\n",
       "    <tr>\n",
       "      <th>3</th>\n",
       "      <td>TICKET-248</td>\n",
       "      <td>[HOW_TO, CONNECTOR, PRODUCT]</td>\n",
       "      <td>P2</td>\n",
       "      <td>0.9</td>\n",
       "      <td>The user is asking a 'how-to' question about accessing sample data and schema changes within Atl...</td>\n",
       "    </tr>\n",
       "    <tr>\n",
       "      <th>4</th>\n",
       "      <td>TICKET-249</td>\n",
       "      <td>[LINEAGE, HOW_TO]</td>\n",
       "      <td>P1</td>\n",
       "      <td>0.9</td>\n",
       "      <td>The user needs to export lineage diagrams for a quarterly audit with an approaching deadline. Th...</td>\n",
       "    </tr>\n",
       "  </tbody>\n",
       "</table>\n",
       "</div>"
      ],
      "text/plain": [
       "    ticket_id                        topics priority  confidence  \\\n",
       "0  TICKET-245           [CONNECTOR, HOW_TO]       P0         0.9   \n",
       "1  TICKET-246  [HOW_TO, CONNECTOR, LINEAGE]       P1         0.9   \n",
       "2  TICKET-247           [HOW_TO, CONNECTOR]       P0         0.9   \n",
       "3  TICKET-248  [HOW_TO, CONNECTOR, PRODUCT]       P2         0.9   \n",
       "4  TICKET-249             [LINEAGE, HOW_TO]       P1         0.9   \n",
       "\n",
       "                                                                                             reasoning  \n",
       "0  The user is experiencing a critical connection issue ('connection keeps failing', 'entire BI tea...  \n",
       "1  The user is new to Atlan and asking how to understand lineage capabilities for specific connecto...  \n",
       "2  The user is asking for help with a confusing setup process for the Atlan agent to connect an on-...  \n",
       "3  The user is asking a 'how-to' question about accessing sample data and schema changes within Atl...  \n",
       "4  The user needs to export lineage diagrams for a quarterly audit with an approaching deadline. Th...  "
      ]
     },
     "metadata": {},
     "output_type": "display_data"
    }
   ],
   "source": [
    "import time\n",
    "logging.info(\"--- Step 2: Classifying All Tickets ---\")\n",
    "classifier = TriageClassifier()\n",
    "classified_results = []\n",
    "\n",
    "for i, ticket in enumerate(full_dataset):\n",
    "    print(f\"Classifying ticket {i+1}/{len(full_dataset)}: {ticket['id']}\", end='\\r')\n",
    "    ticket_data = {'id': ticket['id'], 'subject': ticket['subject'], 'body': ticket['body']}\n",
    "    try:\n",
    "        result = classifier.classify_ticket(ticket_data)\n",
    "    except Exception as e:\n",
    "        if 'Resource exhausted' in str(e):\n",
    "            print(\"Resource exhausted. Waiting 60 seconds...\")\n",
    "            time.sleep(60)\n",
    "            result = classifier.classify_ticket(ticket_data)\n",
    "        else:\n",
    "            print(f\"Error: {e}\")\n",
    "            result = None\n",
    "    if result is not None:\n",
    "        result_dict = asdict(result)\n",
    "        result_dict['body'] = ticket['body'] \n",
    "        classified_results.append(result_dict)\n",
    "\n",
    "classified_df = pd.DataFrame(classified_results)\n",
    "print(\"\\nClassification complete.\")\n",
    "display(classified_df[['ticket_id', 'topics', 'priority', 'confidence', 'reasoning']].head())"
   ]
  },
  {
   "cell_type": "code",
   "execution_count": 8,
   "id": "9437d276",
   "metadata": {},
   "outputs": [
    {
     "name": "stderr",
     "output_type": "stream",
     "text": [
      "2025-09-15 08:30:37,571 - INFO - --- Step 2b: Retrying Failed Classifications ---\n",
      "2025-09-15 08:30:37,576 - INFO - AFC is enabled with max remote calls: 10.\n",
      "2025-09-15 08:30:40,180 - INFO - HTTP Request: POST https://generativelanguage.googleapis.com/v1beta/models/gemini-2.5-flash-lite:generateContent \"HTTP/1.1 200 OK\"\n",
      "2025-09-15 08:30:40,188 - INFO - AFC remote call 1 is done.\n",
      "2025-09-15 08:30:40,189 - INFO - ✅ Classified ticket TICKET-259: ['SENSITIVE_DATA', 'HOW_TO'] (confidence: 0.900)\n",
      "2025-09-15 08:30:40,190 - INFO - AFC is enabled with max remote calls: 10.\n",
      "2025-09-15 08:30:41,425 - INFO - HTTP Request: POST https://generativelanguage.googleapis.com/v1beta/models/gemini-2.5-flash-lite:generateContent \"HTTP/1.1 200 OK\"\n",
      "2025-09-15 08:30:41,429 - INFO - AFC remote call 1 is done.\n",
      "2025-09-15 08:30:41,429 - INFO - ✅ Classified ticket TICKET-260: ['API_SDK', 'HOW_TO', 'BEST_PRACTICES'] (confidence: 0.900)\n",
      "2025-09-15 08:30:41,430 - INFO - AFC is enabled with max remote calls: 10.\n",
      "2025-09-15 08:30:42,740 - INFO - HTTP Request: POST https://generativelanguage.googleapis.com/v1beta/models/gemini-2.5-flash-lite:generateContent \"HTTP/1.1 200 OK\"\n",
      "2025-09-15 08:30:42,742 - INFO - AFC remote call 1 is done.\n",
      "2025-09-15 08:30:42,742 - INFO - ✅ Classified ticket TICKET-262: ['SSO', 'PRODUCT'] (confidence: 0.900)\n",
      "2025-09-15 08:30:42,743 - INFO - AFC is enabled with max remote calls: 10.\n",
      "2025-09-15 08:30:44,020 - INFO - HTTP Request: POST https://generativelanguage.googleapis.com/v1beta/models/gemini-2.5-flash-lite:generateContent \"HTTP/1.1 200 OK\"\n",
      "2025-09-15 08:30:44,031 - INFO - AFC remote call 1 is done.\n",
      "2025-09-15 08:30:44,032 - INFO - ✅ Classified ticket TICKET-263: ['CONNECTOR', 'SENSITIVE_DATA', 'API_SDK'] (confidence: 0.900)\n",
      "2025-09-15 08:30:44,033 - INFO - AFC is enabled with max remote calls: 10.\n",
      "2025-09-15 08:30:45,182 - INFO - HTTP Request: POST https://generativelanguage.googleapis.com/v1beta/models/gemini-2.5-flash-lite:generateContent \"HTTP/1.1 200 OK\"\n",
      "2025-09-15 08:30:45,187 - INFO - AFC remote call 1 is done.\n",
      "2025-09-15 08:30:45,188 - INFO - ✅ Classified ticket TICKET-264: ['API_SDK', 'OTHER'] (confidence: 0.800)\n",
      "2025-09-15 08:30:45,188 - INFO - AFC is enabled with max remote calls: 10.\n",
      "2025-09-15 08:30:46,478 - INFO - HTTP Request: POST https://generativelanguage.googleapis.com/v1beta/models/gemini-2.5-flash-lite:generateContent \"HTTP/1.1 200 OK\"\n",
      "2025-09-15 08:30:46,481 - INFO - AFC remote call 1 is done.\n",
      "2025-09-15 08:30:46,482 - INFO - ✅ Classified ticket TICKET-265: ['HOW_TO', 'API_SDK'] (confidence: 0.900)\n",
      "2025-09-15 08:30:46,482 - INFO - AFC is enabled with max remote calls: 10.\n",
      "2025-09-15 08:30:47,680 - INFO - HTTP Request: POST https://generativelanguage.googleapis.com/v1beta/models/gemini-2.5-flash-lite:generateContent \"HTTP/1.1 200 OK\"\n",
      "2025-09-15 08:30:47,682 - INFO - AFC remote call 1 is done.\n",
      "2025-09-15 08:30:47,682 - INFO - ✅ Classified ticket TICKET-266: ['API_SDK', 'GLOSSARY'] (confidence: 0.900)\n",
      "2025-09-15 08:30:47,683 - INFO - AFC is enabled with max remote calls: 10.\n",
      "2025-09-15 08:30:49,292 - INFO - HTTP Request: POST https://generativelanguage.googleapis.com/v1beta/models/gemini-2.5-flash-lite:generateContent \"HTTP/1.1 200 OK\"\n",
      "2025-09-15 08:30:49,295 - INFO - AFC remote call 1 is done.\n",
      "2025-09-15 08:30:49,296 - INFO - ✅ Classified ticket TICKET-267: ['API_SDK', 'HOW_TO'] (confidence: 0.900)\n",
      "2025-09-15 08:30:49,297 - INFO - AFC is enabled with max remote calls: 10.\n",
      "2025-09-15 08:30:50,828 - INFO - HTTP Request: POST https://generativelanguage.googleapis.com/v1beta/models/gemini-2.5-flash-lite:generateContent \"HTTP/1.1 200 OK\"\n",
      "2025-09-15 08:30:50,831 - INFO - AFC remote call 1 is done.\n",
      "2025-09-15 08:30:50,832 - INFO - ✅ Classified ticket TICKET-268: ['API_SDK', 'SENSITIVE_DATA', 'OTHER'] (confidence: 0.900)\n",
      "2025-09-15 08:30:50,832 - INFO - AFC is enabled with max remote calls: 10.\n",
      "2025-09-15 08:30:51,953 - INFO - HTTP Request: POST https://generativelanguage.googleapis.com/v1beta/models/gemini-2.5-flash-lite:generateContent \"HTTP/1.1 200 OK\"\n",
      "2025-09-15 08:30:51,957 - INFO - AFC remote call 1 is done.\n",
      "2025-09-15 08:30:51,958 - INFO - ✅ Classified ticket TICKET-269: ['HOW_TO', 'BEST_PRACTICES'] (confidence: 0.900)\n",
      "2025-09-15 08:30:51,958 - INFO - AFC is enabled with max remote calls: 10.\n",
      "2025-09-15 08:30:53,934 - INFO - HTTP Request: POST https://generativelanguage.googleapis.com/v1beta/models/gemini-2.5-flash-lite:generateContent \"HTTP/1.1 200 OK\"\n",
      "2025-09-15 08:30:53,939 - INFO - AFC remote call 1 is done.\n",
      "2025-09-15 08:30:53,939 - INFO - ✅ Classified ticket TICKET-270: ['CONNECTOR', 'LINEAGE', 'PRODUCT'] (confidence: 0.900)\n",
      "2025-09-15 08:30:53,940 - INFO - AFC is enabled with max remote calls: 10.\n",
      "2025-09-15 08:30:54,283 - INFO - HTTP Request: POST https://generativelanguage.googleapis.com/v1beta/models/gemini-2.5-flash-lite:generateContent \"HTTP/1.1 429 Too Many Requests\"\n",
      "2025-09-15 08:30:54,287 - ERROR - ❌ Error classifying ticket TICKET-271: 429 RESOURCE_EXHAUSTED. {'error': {'code': 429, 'message': 'You exceeded your current quota, please check your plan and billing details. For more information on this error, head to: https://ai.google.dev/gemini-api/docs/rate-limits.', 'status': 'RESOURCE_EXHAUSTED', 'details': [{'@type': 'type.googleapis.com/google.rpc.QuotaFailure', 'violations': [{'quotaMetric': 'generativelanguage.googleapis.com/generate_content_free_tier_requests', 'quotaId': 'GenerateRequestsPerMinutePerProjectPerModel-FreeTier', 'quotaDimensions': {'location': 'global', 'model': 'gemini-2.5-flash-lite'}, 'quotaValue': '15'}]}, {'@type': 'type.googleapis.com/google.rpc.Help', 'links': [{'description': 'Learn more about Gemini API quotas', 'url': 'https://ai.google.dev/gemini-api/docs/rate-limits'}]}, {'@type': 'type.googleapis.com/google.rpc.RetryInfo', 'retryDelay': '5s'}]}}\n",
      "2025-09-15 08:30:54,288 - INFO - AFC is enabled with max remote calls: 10.\n",
      "2025-09-15 08:30:56,459 - INFO - HTTP Request: POST https://generativelanguage.googleapis.com/v1beta/models/gemini-2.5-flash-lite:generateContent \"HTTP/1.1 200 OK\"\n",
      "2025-09-15 08:30:56,464 - INFO - AFC remote call 1 is done.\n",
      "2025-09-15 08:30:56,464 - INFO - ✅ Classified ticket TICKET-272: ['HOW_TO', 'BEST_PRACTICES'] (confidence: 0.800)\n",
      "2025-09-15 08:30:56,465 - INFO - AFC is enabled with max remote calls: 10.\n",
      "2025-09-15 08:30:56,885 - INFO - HTTP Request: POST https://generativelanguage.googleapis.com/v1beta/models/gemini-2.5-flash-lite:generateContent \"HTTP/1.1 429 Too Many Requests\"\n",
      "2025-09-15 08:30:56,888 - ERROR - ❌ Error classifying ticket TICKET-273: 429 RESOURCE_EXHAUSTED. {'error': {'code': 429, 'message': 'You exceeded your current quota, please check your plan and billing details. For more information on this error, head to: https://ai.google.dev/gemini-api/docs/rate-limits.', 'status': 'RESOURCE_EXHAUSTED', 'details': [{'@type': 'type.googleapis.com/google.rpc.QuotaFailure', 'violations': [{'quotaMetric': 'generativelanguage.googleapis.com/generate_content_free_tier_requests', 'quotaId': 'GenerateRequestsPerMinutePerProjectPerModel-FreeTier', 'quotaDimensions': {'model': 'gemini-2.5-flash-lite', 'location': 'global'}, 'quotaValue': '15'}]}, {'@type': 'type.googleapis.com/google.rpc.Help', 'links': [{'description': 'Learn more about Gemini API quotas', 'url': 'https://ai.google.dev/gemini-api/docs/rate-limits'}]}, {'@type': 'type.googleapis.com/google.rpc.RetryInfo', 'retryDelay': '3s'}]}}\n",
      "2025-09-15 08:30:56,889 - INFO - AFC is enabled with max remote calls: 10.\n",
      "2025-09-15 08:30:58,201 - INFO - HTTP Request: POST https://generativelanguage.googleapis.com/v1beta/models/gemini-2.5-flash-lite:generateContent \"HTTP/1.1 429 Too Many Requests\"\n",
      "2025-09-15 08:30:58,206 - ERROR - ❌ Error classifying ticket TICKET-274: 429 RESOURCE_EXHAUSTED. {'error': {'code': 429, 'message': 'You exceeded your current quota, please check your plan and billing details. For more information on this error, head to: https://ai.google.dev/gemini-api/docs/rate-limits.', 'status': 'RESOURCE_EXHAUSTED', 'details': [{'@type': 'type.googleapis.com/google.rpc.QuotaFailure', 'violations': [{'quotaMetric': 'generativelanguage.googleapis.com/generate_content_free_tier_requests', 'quotaId': 'GenerateRequestsPerMinutePerProjectPerModel-FreeTier', 'quotaDimensions': {'location': 'global', 'model': 'gemini-2.5-flash-lite'}, 'quotaValue': '15'}]}, {'@type': 'type.googleapis.com/google.rpc.Help', 'links': [{'description': 'Learn more about Gemini API quotas', 'url': 'https://ai.google.dev/gemini-api/docs/rate-limits'}]}, {'@type': 'type.googleapis.com/google.rpc.RetryInfo', 'retryDelay': '1s'}]}}\n",
      "2025-09-15 08:30:58,207 - INFO - AFC is enabled with max remote calls: 10.\n",
      "2025-09-15 08:30:58,712 - INFO - HTTP Request: POST https://generativelanguage.googleapis.com/v1beta/models/gemini-2.5-flash-lite:generateContent \"HTTP/1.1 429 Too Many Requests\"\n",
      "2025-09-15 08:30:58,716 - ERROR - ❌ Error classifying ticket TICKET-275: 429 RESOURCE_EXHAUSTED. {'error': {'code': 429, 'message': 'You exceeded your current quota, please check your plan and billing details. For more information on this error, head to: https://ai.google.dev/gemini-api/docs/rate-limits.', 'status': 'RESOURCE_EXHAUSTED', 'details': [{'@type': 'type.googleapis.com/google.rpc.QuotaFailure', 'violations': [{'quotaMetric': 'generativelanguage.googleapis.com/generate_content_free_tier_requests', 'quotaId': 'GenerateRequestsPerMinutePerProjectPerModel-FreeTier', 'quotaDimensions': {'location': 'global', 'model': 'gemini-2.5-flash-lite'}, 'quotaValue': '15'}]}, {'@type': 'type.googleapis.com/google.rpc.Help', 'links': [{'description': 'Learn more about Gemini API quotas', 'url': 'https://ai.google.dev/gemini-api/docs/rate-limits'}]}, {'@type': 'type.googleapis.com/google.rpc.RetryInfo', 'retryDelay': '1s'}]}}\n",
      "2025-09-15 08:30:58,717 - INFO - AFC is enabled with max remote calls: 10.\n",
      "2025-09-15 08:30:59,839 - INFO - HTTP Request: POST https://generativelanguage.googleapis.com/v1beta/models/gemini-2.5-flash-lite:generateContent \"HTTP/1.1 429 Too Many Requests\"\n",
      "2025-09-15 08:30:59,842 - ERROR - ❌ Error classifying ticket TICKET-276: 429 RESOURCE_EXHAUSTED. {'error': {'code': 429, 'message': 'You exceeded your current quota, please check your plan and billing details. For more information on this error, head to: https://ai.google.dev/gemini-api/docs/rate-limits.', 'status': 'RESOURCE_EXHAUSTED', 'details': [{'@type': 'type.googleapis.com/google.rpc.QuotaFailure', 'violations': [{'quotaMetric': 'generativelanguage.googleapis.com/generate_content_free_tier_requests', 'quotaId': 'GenerateRequestsPerMinutePerProjectPerModel-FreeTier', 'quotaDimensions': {'model': 'gemini-2.5-flash-lite', 'location': 'global'}, 'quotaValue': '15'}]}, {'@type': 'type.googleapis.com/google.rpc.Help', 'links': [{'description': 'Learn more about Gemini API quotas', 'url': 'https://ai.google.dev/gemini-api/docs/rate-limits'}]}, {'@type': 'type.googleapis.com/google.rpc.RetryInfo', 'retryDelay': '0s'}]}}\n",
      "2025-09-15 08:30:59,843 - INFO - AFC is enabled with max remote calls: 10.\n",
      "2025-09-15 08:31:00,352 - INFO - HTTP Request: POST https://generativelanguage.googleapis.com/v1beta/models/gemini-2.5-flash-lite:generateContent \"HTTP/1.1 429 Too Many Requests\"\n",
      "2025-09-15 08:31:00,355 - ERROR - ❌ Error classifying ticket TICKET-277: 429 RESOURCE_EXHAUSTED. {'error': {'code': 429, 'message': 'You exceeded your current quota, please check your plan and billing details. For more information on this error, head to: https://ai.google.dev/gemini-api/docs/rate-limits.', 'status': 'RESOURCE_EXHAUSTED', 'details': [{'@type': 'type.googleapis.com/google.rpc.QuotaFailure', 'violations': [{'quotaMetric': 'generativelanguage.googleapis.com/generate_content_free_tier_requests', 'quotaId': 'GenerateRequestsPerMinutePerProjectPerModel-FreeTier', 'quotaDimensions': {'location': 'global', 'model': 'gemini-2.5-flash-lite'}, 'quotaValue': '15'}]}, {'@type': 'type.googleapis.com/google.rpc.Help', 'links': [{'description': 'Learn more about Gemini API quotas', 'url': 'https://ai.google.dev/gemini-api/docs/rate-limits'}]}, {'@type': 'type.googleapis.com/google.rpc.RetryInfo', 'retryDelay': '59s'}]}}\n",
      "2025-09-15 08:31:00,356 - INFO - AFC is enabled with max remote calls: 10.\n",
      "2025-09-15 08:31:01,477 - INFO - HTTP Request: POST https://generativelanguage.googleapis.com/v1beta/models/gemini-2.5-flash-lite:generateContent \"HTTP/1.1 429 Too Many Requests\"\n",
      "2025-09-15 08:31:01,480 - ERROR - ❌ Error classifying ticket TICKET-278: 429 RESOURCE_EXHAUSTED. {'error': {'code': 429, 'message': 'You exceeded your current quota, please check your plan and billing details. For more information on this error, head to: https://ai.google.dev/gemini-api/docs/rate-limits.', 'status': 'RESOURCE_EXHAUSTED', 'details': [{'@type': 'type.googleapis.com/google.rpc.QuotaFailure', 'violations': [{'quotaMetric': 'generativelanguage.googleapis.com/generate_content_free_tier_requests', 'quotaId': 'GenerateRequestsPerMinutePerProjectPerModel-FreeTier', 'quotaDimensions': {'location': 'global', 'model': 'gemini-2.5-flash-lite'}, 'quotaValue': '15'}]}, {'@type': 'type.googleapis.com/google.rpc.Help', 'links': [{'description': 'Learn more about Gemini API quotas', 'url': 'https://ai.google.dev/gemini-api/docs/rate-limits'}]}, {'@type': 'type.googleapis.com/google.rpc.RetryInfo', 'retryDelay': '58s'}]}}\n",
      "2025-09-15 08:31:01,481 - INFO - AFC is enabled with max remote calls: 10.\n",
      "2025-09-15 08:31:02,090 - INFO - HTTP Request: POST https://generativelanguage.googleapis.com/v1beta/models/gemini-2.5-flash-lite:generateContent \"HTTP/1.1 429 Too Many Requests\"\n",
      "2025-09-15 08:31:02,092 - ERROR - ❌ Error classifying ticket TICKET-279: 429 RESOURCE_EXHAUSTED. {'error': {'code': 429, 'message': 'You exceeded your current quota, please check your plan and billing details. For more information on this error, head to: https://ai.google.dev/gemini-api/docs/rate-limits.', 'status': 'RESOURCE_EXHAUSTED', 'details': [{'@type': 'type.googleapis.com/google.rpc.QuotaFailure', 'violations': [{'quotaMetric': 'generativelanguage.googleapis.com/generate_content_free_tier_requests', 'quotaId': 'GenerateRequestsPerMinutePerProjectPerModel-FreeTier', 'quotaDimensions': {'location': 'global', 'model': 'gemini-2.5-flash-lite'}, 'quotaValue': '15'}]}, {'@type': 'type.googleapis.com/google.rpc.Help', 'links': [{'description': 'Learn more about Gemini API quotas', 'url': 'https://ai.google.dev/gemini-api/docs/rate-limits'}]}, {'@type': 'type.googleapis.com/google.rpc.RetryInfo', 'retryDelay': '58s'}]}}\n",
      "2025-09-15 08:31:02,093 - INFO - AFC is enabled with max remote calls: 10.\n",
      "2025-09-15 08:31:03,218 - INFO - HTTP Request: POST https://generativelanguage.googleapis.com/v1beta/models/gemini-2.5-flash-lite:generateContent \"HTTP/1.1 429 Too Many Requests\"\n",
      "2025-09-15 08:31:03,220 - ERROR - ❌ Error classifying ticket TICKET-280: 429 RESOURCE_EXHAUSTED. {'error': {'code': 429, 'message': 'You exceeded your current quota, please check your plan and billing details. For more information on this error, head to: https://ai.google.dev/gemini-api/docs/rate-limits.', 'status': 'RESOURCE_EXHAUSTED', 'details': [{'@type': 'type.googleapis.com/google.rpc.QuotaFailure', 'violations': [{'quotaMetric': 'generativelanguage.googleapis.com/generate_content_free_tier_requests', 'quotaId': 'GenerateRequestsPerMinutePerProjectPerModel-FreeTier', 'quotaDimensions': {'location': 'global', 'model': 'gemini-2.5-flash-lite'}, 'quotaValue': '15'}]}, {'@type': 'type.googleapis.com/google.rpc.Help', 'links': [{'description': 'Learn more about Gemini API quotas', 'url': 'https://ai.google.dev/gemini-api/docs/rate-limits'}]}, {'@type': 'type.googleapis.com/google.rpc.RetryInfo', 'retryDelay': '56s'}]}}\n",
      "2025-09-15 08:31:03,221 - INFO - AFC is enabled with max remote calls: 10.\n",
      "2025-09-15 08:31:03,935 - INFO - HTTP Request: POST https://generativelanguage.googleapis.com/v1beta/models/gemini-2.5-flash-lite:generateContent \"HTTP/1.1 429 Too Many Requests\"\n",
      "2025-09-15 08:31:03,937 - ERROR - ❌ Error classifying ticket TICKET-281: 429 RESOURCE_EXHAUSTED. {'error': {'code': 429, 'message': 'You exceeded your current quota, please check your plan and billing details. For more information on this error, head to: https://ai.google.dev/gemini-api/docs/rate-limits.', 'status': 'RESOURCE_EXHAUSTED', 'details': [{'@type': 'type.googleapis.com/google.rpc.QuotaFailure', 'violations': [{'quotaMetric': 'generativelanguage.googleapis.com/generate_content_free_tier_requests', 'quotaId': 'GenerateRequestsPerMinutePerProjectPerModel-FreeTier', 'quotaDimensions': {'location': 'global', 'model': 'gemini-2.5-flash-lite'}, 'quotaValue': '15'}]}, {'@type': 'type.googleapis.com/google.rpc.Help', 'links': [{'description': 'Learn more about Gemini API quotas', 'url': 'https://ai.google.dev/gemini-api/docs/rate-limits'}]}, {'@type': 'type.googleapis.com/google.rpc.RetryInfo', 'retryDelay': '56s'}]}}\n",
      "2025-09-15 08:31:03,938 - INFO - AFC is enabled with max remote calls: 10.\n",
      "2025-09-15 08:31:04,945 - INFO - HTTP Request: POST https://generativelanguage.googleapis.com/v1beta/models/gemini-2.5-flash-lite:generateContent \"HTTP/1.1 429 Too Many Requests\"\n",
      "2025-09-15 08:31:04,949 - ERROR - ❌ Error classifying ticket TICKET-282: 429 RESOURCE_EXHAUSTED. {'error': {'code': 429, 'message': 'You exceeded your current quota, please check your plan and billing details. For more information on this error, head to: https://ai.google.dev/gemini-api/docs/rate-limits.', 'status': 'RESOURCE_EXHAUSTED', 'details': [{'@type': 'type.googleapis.com/google.rpc.QuotaFailure', 'violations': [{'quotaMetric': 'generativelanguage.googleapis.com/generate_content_free_tier_requests', 'quotaId': 'GenerateRequestsPerMinutePerProjectPerModel-FreeTier', 'quotaDimensions': {'location': 'global', 'model': 'gemini-2.5-flash-lite'}, 'quotaValue': '15'}]}, {'@type': 'type.googleapis.com/google.rpc.Help', 'links': [{'description': 'Learn more about Gemini API quotas', 'url': 'https://ai.google.dev/gemini-api/docs/rate-limits'}]}, {'@type': 'type.googleapis.com/google.rpc.RetryInfo', 'retryDelay': '55s'}]}}\n",
      "2025-09-15 08:31:04,951 - INFO - AFC is enabled with max remote calls: 10.\n",
      "2025-09-15 08:31:05,614 - INFO - HTTP Request: POST https://generativelanguage.googleapis.com/v1beta/models/gemini-2.5-flash-lite:generateContent \"HTTP/1.1 429 Too Many Requests\"\n",
      "2025-09-15 08:31:05,619 - ERROR - ❌ Error classifying ticket TICKET-283: 429 RESOURCE_EXHAUSTED. {'error': {'code': 429, 'message': 'You exceeded your current quota, please check your plan and billing details. For more information on this error, head to: https://ai.google.dev/gemini-api/docs/rate-limits.', 'status': 'RESOURCE_EXHAUSTED', 'details': [{'@type': 'type.googleapis.com/google.rpc.QuotaFailure', 'violations': [{'quotaMetric': 'generativelanguage.googleapis.com/generate_content_free_tier_requests', 'quotaId': 'GenerateRequestsPerMinutePerProjectPerModel-FreeTier', 'quotaDimensions': {'location': 'global', 'model': 'gemini-2.5-flash-lite'}, 'quotaValue': '15'}]}, {'@type': 'type.googleapis.com/google.rpc.Help', 'links': [{'description': 'Learn more about Gemini API quotas', 'url': 'https://ai.google.dev/gemini-api/docs/rate-limits'}]}, {'@type': 'type.googleapis.com/google.rpc.RetryInfo', 'retryDelay': '54s'}]}}\n",
      "2025-09-15 08:31:05,620 - INFO - AFC is enabled with max remote calls: 10.\n",
      "2025-09-15 08:31:06,585 - INFO - HTTP Request: POST https://generativelanguage.googleapis.com/v1beta/models/gemini-2.5-flash-lite:generateContent \"HTTP/1.1 429 Too Many Requests\"\n",
      "2025-09-15 08:31:06,587 - ERROR - ❌ Error classifying ticket TICKET-284: 429 RESOURCE_EXHAUSTED. {'error': {'code': 429, 'message': 'You exceeded your current quota, please check your plan and billing details. For more information on this error, head to: https://ai.google.dev/gemini-api/docs/rate-limits.', 'status': 'RESOURCE_EXHAUSTED', 'details': [{'@type': 'type.googleapis.com/google.rpc.QuotaFailure', 'violations': [{'quotaMetric': 'generativelanguage.googleapis.com/generate_content_free_tier_requests', 'quotaId': 'GenerateRequestsPerMinutePerProjectPerModel-FreeTier', 'quotaDimensions': {'location': 'global', 'model': 'gemini-2.5-flash-lite'}, 'quotaValue': '15'}]}, {'@type': 'type.googleapis.com/google.rpc.Help', 'links': [{'description': 'Learn more about Gemini API quotas', 'url': 'https://ai.google.dev/gemini-api/docs/rate-limits'}]}, {'@type': 'type.googleapis.com/google.rpc.RetryInfo', 'retryDelay': '53s'}]}}\n"
     ]
    },
    {
     "data": {
      "text/html": [
       "<div>\n",
       "<style scoped>\n",
       "    .dataframe tbody tr th:only-of-type {\n",
       "        vertical-align: middle;\n",
       "    }\n",
       "\n",
       "    .dataframe tbody tr th {\n",
       "        vertical-align: top;\n",
       "    }\n",
       "\n",
       "    .dataframe thead th {\n",
       "        text-align: right;\n",
       "    }\n",
       "</style>\n",
       "<table border=\"1\" class=\"dataframe\">\n",
       "  <thead>\n",
       "    <tr style=\"text-align: right;\">\n",
       "      <th></th>\n",
       "      <th>ticket_id</th>\n",
       "      <th>topics</th>\n",
       "      <th>priority</th>\n",
       "      <th>confidence</th>\n",
       "      <th>reasoning</th>\n",
       "    </tr>\n",
       "  </thead>\n",
       "  <tbody>\n",
       "    <tr>\n",
       "      <th>0</th>\n",
       "      <td>TICKET-245</td>\n",
       "      <td>[CONNECTOR, HOW_TO]</td>\n",
       "      <td>P0</td>\n",
       "      <td>0.9</td>\n",
       "      <td>The user is experiencing a critical connection issue ('connection keeps failing', 'entire BI tea...</td>\n",
       "    </tr>\n",
       "    <tr>\n",
       "      <th>1</th>\n",
       "      <td>TICKET-246</td>\n",
       "      <td>[HOW_TO, CONNECTOR, LINEAGE]</td>\n",
       "      <td>P1</td>\n",
       "      <td>0.9</td>\n",
       "      <td>The user is new to Atlan and asking how to understand lineage capabilities for specific connecto...</td>\n",
       "    </tr>\n",
       "    <tr>\n",
       "      <th>2</th>\n",
       "      <td>TICKET-247</td>\n",
       "      <td>[HOW_TO, CONNECTOR]</td>\n",
       "      <td>P0</td>\n",
       "      <td>0.9</td>\n",
       "      <td>The user is asking for help with a confusing setup process for the Atlan agent to connect an on-...</td>\n",
       "    </tr>\n",
       "    <tr>\n",
       "      <th>3</th>\n",
       "      <td>TICKET-248</td>\n",
       "      <td>[HOW_TO, CONNECTOR, PRODUCT]</td>\n",
       "      <td>P2</td>\n",
       "      <td>0.9</td>\n",
       "      <td>The user is asking a 'how-to' question about accessing sample data and schema changes within Atl...</td>\n",
       "    </tr>\n",
       "    <tr>\n",
       "      <th>4</th>\n",
       "      <td>TICKET-249</td>\n",
       "      <td>[LINEAGE, HOW_TO]</td>\n",
       "      <td>P1</td>\n",
       "      <td>0.9</td>\n",
       "      <td>The user needs to export lineage diagrams for a quarterly audit with an approaching deadline. Th...</td>\n",
       "    </tr>\n",
       "  </tbody>\n",
       "</table>\n",
       "</div>"
      ],
      "text/plain": [
       "    ticket_id                        topics priority  confidence  \\\n",
       "0  TICKET-245           [CONNECTOR, HOW_TO]       P0         0.9   \n",
       "1  TICKET-246  [HOW_TO, CONNECTOR, LINEAGE]       P1         0.9   \n",
       "2  TICKET-247           [HOW_TO, CONNECTOR]       P0         0.9   \n",
       "3  TICKET-248  [HOW_TO, CONNECTOR, PRODUCT]       P2         0.9   \n",
       "4  TICKET-249             [LINEAGE, HOW_TO]       P1         0.9   \n",
       "\n",
       "                                                                                             reasoning  \n",
       "0  The user is experiencing a critical connection issue ('connection keeps failing', 'entire BI tea...  \n",
       "1  The user is new to Atlan and asking how to understand lineage capabilities for specific connecto...  \n",
       "2  The user is asking for help with a confusing setup process for the Atlan agent to connect an on-...  \n",
       "3  The user is asking a 'how-to' question about accessing sample data and schema changes within Atl...  \n",
       "4  The user needs to export lineage diagrams for a quarterly audit with an approaching deadline. Th...  "
      ]
     },
     "metadata": {},
     "output_type": "display_data"
    }
   ],
   "source": [
    "# Re-run classification only for tickets that failed previously\n",
    "logging.info(\"--- Step 2b: Retrying Failed Classifications ---\")\n",
    "for item in classified_results:\n",
    "    if not item['classification_success']:\n",
    "        ticket_data = {\n",
    "            'id': item['ticket_id'],\n",
    "            'subject': item['subject'],\n",
    "            'body': item['body']\n",
    "        }\n",
    "        try:\n",
    "            result = classifier.classify_ticket(ticket_data)\n",
    "            result_dict = asdict(result)\n",
    "            result_dict['body'] = ticket_data['body']\n",
    "            # Update the item in place\n",
    "            item.update(result_dict)\n",
    "        except Exception as e:\n",
    "            logging.warning(f\"Retry failed for {item['ticket_id']}: {e}\")\n",
    "\n",
    "# Convert to DataFrame for inspection\n",
    "classified_df = pd.DataFrame(classified_results)\n",
    "display(classified_df[['ticket_id', 'topics', 'priority', 'confidence', 'reasoning']].head())"
   ]
  },
  {
   "cell_type": "code",
   "execution_count": 9,
   "id": "51a83a8c",
   "metadata": {},
   "outputs": [
    {
     "name": "stderr",
     "output_type": "stream",
     "text": [
      "2025-09-15 08:31:26,343 - INFO - --- Step 2c: Final Retry and Merge ---\n",
      "2025-09-15 08:31:26,347 - INFO - AFC is enabled with max remote calls: 10.\n",
      "2025-09-15 08:31:28,921 - INFO - HTTP Request: POST https://generativelanguage.googleapis.com/v1beta/models/gemini-2.5-flash-lite:generateContent \"HTTP/1.1 200 OK\"\n",
      "2025-09-15 08:31:28,926 - INFO - AFC remote call 1 is done.\n",
      "2025-09-15 08:31:28,927 - INFO - ✅ Classified ticket TICKET-271: ['PRODUCT', 'CONNECTOR'] (confidence: 0.900)\n",
      "2025-09-15 08:31:28,928 - INFO - AFC is enabled with max remote calls: 10.\n",
      "2025-09-15 08:31:30,232 - INFO - HTTP Request: POST https://generativelanguage.googleapis.com/v1beta/models/gemini-2.5-flash-lite:generateContent \"HTTP/1.1 200 OK\"\n",
      "2025-09-15 08:31:30,237 - INFO - AFC remote call 1 is done.\n",
      "2025-09-15 08:31:30,237 - INFO - ✅ Classified ticket TICKET-273: ['BEST_PRACTICES'] (confidence: 0.800)\n",
      "2025-09-15 08:31:30,238 - INFO - AFC is enabled with max remote calls: 10.\n",
      "2025-09-15 08:31:31,767 - INFO - HTTP Request: POST https://generativelanguage.googleapis.com/v1beta/models/gemini-2.5-flash-lite:generateContent \"HTTP/1.1 200 OK\"\n",
      "2025-09-15 08:31:31,770 - INFO - AFC remote call 1 is done.\n",
      "2025-09-15 08:31:31,771 - INFO - ✅ Classified ticket TICKET-274: ['BEST_PRACTICES', 'OTHER'] (confidence: 0.900)\n",
      "2025-09-15 08:31:31,771 - INFO - AFC is enabled with max remote calls: 10.\n",
      "2025-09-15 08:31:32,810 - INFO - HTTP Request: POST https://generativelanguage.googleapis.com/v1beta/models/gemini-2.5-flash-lite:generateContent \"HTTP/1.1 200 OK\"\n",
      "2025-09-15 08:31:32,812 - INFO - AFC remote call 1 is done.\n",
      "2025-09-15 08:31:32,813 - INFO - ✅ Classified ticket TICKET-275: ['CONNECTOR'] (confidence: 0.900)\n",
      "2025-09-15 08:31:32,814 - INFO - AFC is enabled with max remote calls: 10.\n",
      "2025-09-15 08:31:34,041 - INFO - HTTP Request: POST https://generativelanguage.googleapis.com/v1beta/models/gemini-2.5-flash-lite:generateContent \"HTTP/1.1 200 OK\"\n",
      "2025-09-15 08:31:34,050 - INFO - AFC remote call 1 is done.\n",
      "2025-09-15 08:31:34,050 - INFO - ✅ Classified ticket TICKET-276: ['LINEAGE'] (confidence: 0.900)\n",
      "2025-09-15 08:31:34,051 - INFO - AFC is enabled with max remote calls: 10.\n",
      "2025-09-15 08:31:35,357 - INFO - HTTP Request: POST https://generativelanguage.googleapis.com/v1beta/models/gemini-2.5-flash-lite:generateContent \"HTTP/1.1 200 OK\"\n",
      "2025-09-15 08:31:35,359 - INFO - AFC remote call 1 is done.\n",
      "2025-09-15 08:31:35,360 - INFO - ✅ Classified ticket TICKET-277: ['API_SDK', 'BEST_PRACTICES'] (confidence: 0.800)\n",
      "2025-09-15 08:31:35,361 - INFO - AFC is enabled with max remote calls: 10.\n",
      "2025-09-15 08:31:36,415 - INFO - HTTP Request: POST https://generativelanguage.googleapis.com/v1beta/models/gemini-2.5-flash-lite:generateContent \"HTTP/1.1 200 OK\"\n",
      "2025-09-15 08:31:36,416 - INFO - AFC remote call 1 is done.\n",
      "2025-09-15 08:31:36,417 - INFO - ✅ Classified ticket TICKET-278: ['GLOSSARY'] (confidence: 0.800)\n",
      "2025-09-15 08:31:36,417 - INFO - AFC is enabled with max remote calls: 10.\n",
      "2025-09-15 08:31:37,624 - INFO - HTTP Request: POST https://generativelanguage.googleapis.com/v1beta/models/gemini-2.5-flash-lite:generateContent \"HTTP/1.1 200 OK\"\n",
      "2025-09-15 08:31:37,626 - INFO - AFC remote call 1 is done.\n",
      "2025-09-15 08:31:37,626 - INFO - ✅ Classified ticket TICKET-279: ['SSO'] (confidence: 0.900)\n",
      "2025-09-15 08:31:37,627 - INFO - AFC is enabled with max remote calls: 10.\n",
      "2025-09-15 08:31:38,810 - INFO - HTTP Request: POST https://generativelanguage.googleapis.com/v1beta/models/gemini-2.5-flash-lite:generateContent \"HTTP/1.1 200 OK\"\n",
      "2025-09-15 08:31:38,820 - INFO - AFC remote call 1 is done.\n",
      "2025-09-15 08:31:38,821 - INFO - ✅ Classified ticket TICKET-280: ['HOW_TO'] (confidence: 0.800)\n",
      "2025-09-15 08:31:38,821 - INFO - AFC is enabled with max remote calls: 10.\n",
      "2025-09-15 08:31:52,880 - INFO - HTTP Request: POST https://generativelanguage.googleapis.com/v1beta/models/gemini-2.5-flash-lite:generateContent \"HTTP/1.1 200 OK\"\n",
      "2025-09-15 08:31:52,883 - INFO - AFC remote call 1 is done.\n",
      "2025-09-15 08:31:52,883 - INFO - ✅ Classified ticket TICKET-281: ['BEST_PRACTICES'] (confidence: 0.800)\n",
      "2025-09-15 08:31:52,884 - INFO - AFC is enabled with max remote calls: 10.\n",
      "2025-09-15 08:31:53,815 - INFO - HTTP Request: POST https://generativelanguage.googleapis.com/v1beta/models/gemini-2.5-flash-lite:generateContent \"HTTP/1.1 200 OK\"\n",
      "2025-09-15 08:31:53,819 - INFO - AFC remote call 1 is done.\n",
      "2025-09-15 08:31:53,820 - INFO - ✅ Classified ticket TICKET-282: ['OTHER'] (confidence: 0.800)\n",
      "2025-09-15 08:31:53,820 - INFO - AFC is enabled with max remote calls: 10.\n",
      "2025-09-15 08:31:55,342 - INFO - HTTP Request: POST https://generativelanguage.googleapis.com/v1beta/models/gemini-2.5-flash-lite:generateContent \"HTTP/1.1 200 OK\"\n",
      "2025-09-15 08:31:55,357 - INFO - AFC remote call 1 is done.\n",
      "2025-09-15 08:31:55,358 - INFO - ✅ Classified ticket TICKET-283: ['CONNECTOR', 'LINEAGE'] (confidence: 0.800)\n",
      "2025-09-15 08:31:55,358 - INFO - AFC is enabled with max remote calls: 10.\n",
      "2025-09-15 08:31:56,874 - INFO - HTTP Request: POST https://generativelanguage.googleapis.com/v1beta/models/gemini-2.5-flash-lite:generateContent \"HTTP/1.1 200 OK\"\n",
      "2025-09-15 08:31:56,876 - INFO - AFC remote call 1 is done.\n",
      "2025-09-15 08:31:56,876 - INFO - ✅ Classified ticket TICKET-284: ['HOW_TO'] (confidence: 0.900)\n"
     ]
    },
    {
     "data": {
      "text/html": [
       "<div>\n",
       "<style scoped>\n",
       "    .dataframe tbody tr th:only-of-type {\n",
       "        vertical-align: middle;\n",
       "    }\n",
       "\n",
       "    .dataframe tbody tr th {\n",
       "        vertical-align: top;\n",
       "    }\n",
       "\n",
       "    .dataframe thead th {\n",
       "        text-align: right;\n",
       "    }\n",
       "</style>\n",
       "<table border=\"1\" class=\"dataframe\">\n",
       "  <thead>\n",
       "    <tr style=\"text-align: right;\">\n",
       "      <th></th>\n",
       "      <th>ticket_id</th>\n",
       "      <th>topics</th>\n",
       "      <th>priority</th>\n",
       "      <th>confidence</th>\n",
       "      <th>reasoning</th>\n",
       "    </tr>\n",
       "  </thead>\n",
       "  <tbody>\n",
       "    <tr>\n",
       "      <th>0</th>\n",
       "      <td>TICKET-245</td>\n",
       "      <td>[CONNECTOR, HOW_TO]</td>\n",
       "      <td>P0</td>\n",
       "      <td>0.9</td>\n",
       "      <td>The user is experiencing a critical connection issue ('connection keeps failing', 'entire BI tea...</td>\n",
       "    </tr>\n",
       "    <tr>\n",
       "      <th>1</th>\n",
       "      <td>TICKET-246</td>\n",
       "      <td>[HOW_TO, CONNECTOR, LINEAGE]</td>\n",
       "      <td>P1</td>\n",
       "      <td>0.9</td>\n",
       "      <td>The user is new to Atlan and asking how to understand lineage capabilities for specific connecto...</td>\n",
       "    </tr>\n",
       "    <tr>\n",
       "      <th>2</th>\n",
       "      <td>TICKET-247</td>\n",
       "      <td>[HOW_TO, CONNECTOR]</td>\n",
       "      <td>P0</td>\n",
       "      <td>0.9</td>\n",
       "      <td>The user is asking for help with a confusing setup process for the Atlan agent to connect an on-...</td>\n",
       "    </tr>\n",
       "    <tr>\n",
       "      <th>3</th>\n",
       "      <td>TICKET-248</td>\n",
       "      <td>[HOW_TO, CONNECTOR, PRODUCT]</td>\n",
       "      <td>P2</td>\n",
       "      <td>0.9</td>\n",
       "      <td>The user is asking a 'how-to' question about accessing sample data and schema changes within Atl...</td>\n",
       "    </tr>\n",
       "    <tr>\n",
       "      <th>4</th>\n",
       "      <td>TICKET-249</td>\n",
       "      <td>[LINEAGE, HOW_TO]</td>\n",
       "      <td>P1</td>\n",
       "      <td>0.9</td>\n",
       "      <td>The user needs to export lineage diagrams for a quarterly audit with an approaching deadline. Th...</td>\n",
       "    </tr>\n",
       "  </tbody>\n",
       "</table>\n",
       "</div>"
      ],
      "text/plain": [
       "    ticket_id                        topics priority  confidence  \\\n",
       "0  TICKET-245           [CONNECTOR, HOW_TO]       P0         0.9   \n",
       "1  TICKET-246  [HOW_TO, CONNECTOR, LINEAGE]       P1         0.9   \n",
       "2  TICKET-247           [HOW_TO, CONNECTOR]       P0         0.9   \n",
       "3  TICKET-248  [HOW_TO, CONNECTOR, PRODUCT]       P2         0.9   \n",
       "4  TICKET-249             [LINEAGE, HOW_TO]       P1         0.9   \n",
       "\n",
       "                                                                                             reasoning  \n",
       "0  The user is experiencing a critical connection issue ('connection keeps failing', 'entire BI tea...  \n",
       "1  The user is new to Atlan and asking how to understand lineage capabilities for specific connecto...  \n",
       "2  The user is asking for help with a confusing setup process for the Atlan agent to connect an on-...  \n",
       "3  The user is asking a 'how-to' question about accessing sample data and schema changes within Atl...  \n",
       "4  The user needs to export lineage diagrams for a quarterly audit with an approaching deadline. Th...  "
      ]
     },
     "metadata": {},
     "output_type": "display_data"
    }
   ],
   "source": [
    "# Final retry for tickets that failed classification, then merge results\n",
    "logging.info(\"--- Step 2c: Final Retry and Merge ---\")\n",
    "for item in classified_results:\n",
    "    if not item['classification_success']:\n",
    "        ticket_data = {\n",
    "            'id': item['ticket_id'],\n",
    "            'subject': item['subject'],\n",
    "            'body': item['body']\n",
    "        }\n",
    "        try:\n",
    "            result = classifier.classify_ticket(ticket_data)\n",
    "            result_dict = asdict(result)\n",
    "            result_dict['body'] = ticket_data['body']\n",
    "            item.update(result_dict)\n",
    "        except Exception as e:\n",
    "            logging.warning(f\"Final retry failed for {item['ticket_id']}: {e}\")\n",
    "\n",
    "# Merge all results into a DataFrame for downstream analysis\n",
    "classified_df = pd.DataFrame(classified_results)\n",
    "display(classified_df[['ticket_id', 'topics', 'priority', 'confidence', 'reasoning']].head())"
   ]
  },
  {
   "cell_type": "markdown",
   "id": "c223269f",
   "metadata": {},
   "source": [
    "With the classifications complete, we now run our batch evaluation script. This will compute a rich set of metrics for each ticket and topic, including the coherence, margin, and embedding vectors we need for visualization. This step will save several CSV files and a PCA plot image to a new directory.\n",
    "\n"
   ]
  },
  {
   "cell_type": "code",
   "execution_count": 10,
   "id": "e22264b1",
   "metadata": {},
   "outputs": [
    {
     "name": "stderr",
     "output_type": "stream",
     "text": [
      "2025-09-15 08:32:07,229 - INFO - --- Step 3: Running Batch Evaluation Metrics ---\n",
      "2025-09-15 08:32:07,231 - INFO - Generating text embeddings for tickets...\n",
      "2025-09-15 08:32:07,239 - INFO - Use pytorch device_name: mps\n",
      "2025-09-15 08:32:07,239 - INFO - Load pretrained SentenceTransformer: all-MiniLM-L6-v2\n",
      "Batches: 100%|██████████| 2/2 [00:00<00:00,  5.67it/s]\n",
      "2025-09-15 08:32:14,431 - INFO - Generated 45 embeddings of dimension 384.\n",
      "2025-09-15 08:32:14,434 - INFO - Computing topic and combo centroids...\n",
      "2025-09-15 08:32:14,438 - INFO - Building topic and combo metrics (coherence, separation)...\n",
      "2025-09-15 08:32:14,452 - INFO - Computing per-ticket confidence scores...\n",
      "2025-09-15 08:32:14,454 - INFO - Generating and saving reports...\n",
      "2025-09-15 08:32:14,757 - INFO - Evaluation complete. Reports saved to 'triage_mass_evaluation_results'.\n"
     ]
    },
    {
     "name": "stdout",
     "output_type": "stream",
     "text": [
      "\n",
      "--- Evaluation Summary ---\n",
      "Top Topics by Coherence:\n",
      "    topic  size  coherence  outlier_frac  sep_ratio\n",
      "  LINEAGE     8   0.328835           0.0   0.594897\n",
      "      SSO     5   0.279959           0.0   0.628394\n",
      " GLOSSARY     6   0.256692           0.0   0.481304\n",
      "CONNECTOR    12   0.252012           0.0   0.430862\n",
      "    OTHER     4   0.242231           0.0   0.429394\n",
      "\n",
      "Low Confidence Tickets:\n",
      "Found 17 low-confidence tickets.\n",
      "                                                                                                                                                                                                                                                                                                                                                                                                                                                               body                                topics    margin\n",
      "0   Hi team, we're trying to set up our primary Snowflake production database as a new source in Atlan, but the connection keeps failing. We've tried using our standard service account, but it's not working. Our entire BI team is blocked on this integration for a major upcoming project, so it's quite urgent. Could you please provide a definitive list of the exact permissions and credentials needed on the Snowflake side to get this working? Thanks.                   [CONNECTOR, HOW_TO]  0.098097\n",
      "4                                                                                                              For our quarterly audit, I need to provide a complete upstream and downstream lineage diagram for our core `fact_orders` table. I can see the lineage perfectly in the UI, but I can't find an option to export this view as an image or PDF. This is a hard requirement from our compliance team and the deadline is approaching fast. Please help!                     [LINEAGE, HOW_TO]  0.036202\n",
      "6                                                                                                                                                                      I'm a business analyst and not very comfortable with writing complex SQL. I was excited to see the Visual Query Builder in Atlan, but I'm having trouble figuring out how to join multiple tables and save my query for later use. Is there a tutorial or a quick guide you can point me to?                     [HOW_TO, PRODUCT]  0.047582\n",
      "7                                                                                                                             Our internal data science team wants to build a custom application that analyzes metadata propagation delays. To do this, we need to programmatically extract lineage data from Atlan via an API. Does the API expose lineage information, and if so, could you provide an example of the endpoint and the structure of the response?                    [API_SDK, LINEAGE]  0.079253\n",
      "18                                                                                                                                                                       Does Atlan have the capability to integrate with third-party tools like a DLP (Data Loss Prevention) solution or a secrets manager like HashiCorp Vault? We need to ensure that connection credentials and sensitive metadata classifications are handled by our central security systems.  [CONNECTOR, SENSITIVE_DATA, API_SDK] -0.031248\n",
      "--------------------------\n",
      "Evaluation metrics saved to 'triage_mass_evaluation_results' directory.\n"
     ]
    }
   ],
   "source": [
    "logging.info(\"--- Step 3: Running Batch Evaluation Metrics ---\")\n",
    "output_dir = \"triage_mass_evaluation_results\"\n",
    "run_evaluation(classified_df, output_dir=output_dir)\n",
    "print(f\"Evaluation metrics saved to '{output_dir}' directory.\")"
   ]
  },
  {
   "cell_type": "markdown",
   "id": "9ad5b713",
   "metadata": {},
   "source": [
    "Now we will use the results from the evaluation to create visualizations that answer our key questions.\n",
    "\n",
    "Question 1: Does the system accurately group related tickets?\n",
    "To answer this, we measure Topic Coherence, which calculates the average semantic similarity of all tickets within a single topic group. A high score means the tickets in that group are conceptually very similar, indicating a successful and meaningful classification.\n",
    "\n"
   ]
  },
  {
   "cell_type": "code",
   "execution_count": 11,
   "id": "801db51b",
   "metadata": {},
   "outputs": [
    {
     "name": "stderr",
     "output_type": "stream",
     "text": [
      "/var/folders/by/fcsxt19n50d8y2qy_fns163m0000gn/T/ipykernel_36635/1073288198.py:10: FutureWarning: \n",
      "\n",
      "Passing `palette` without assigning `hue` is deprecated and will be removed in v0.14.0. Assign the `y` variable to `hue` and set `legend=False` for the same effect.\n",
      "\n",
      "  ax = sns.barplot(x='coherence', y='topic', data=topic_df_filtered, palette='viridis', dodge=False)\n"
     ]
    },
    {
     "data": {
      "image/png": "[encoded data removed]",
      "text/plain": [
       "<Figure size 1440x960 with 1 Axes>"
      ]
     },
     "metadata": {},
     "output_type": "display_data"
    }
   ],
   "source": [
    "# Load the topic summary data\n",
    "topic_summary_path = os.path.join(output_dir, \"topic_summary.csv\")\n",
    "topic_df = pd.read_csv(topic_summary_path)\n",
    "\n",
    "# Filter for topics with at least 3 tickets for a meaningful score\n",
    "topic_df_filtered = topic_df[topic_df['size'] >= 3].dropna(subset=['coherence']).sort_values('coherence', ascending=False)\n",
    "\n",
    "# Create the plot\n",
    "plt.figure(figsize=(12, 8))\n",
    "ax = sns.barplot(x='coherence', y='topic', data=topic_df_filtered, palette='viridis', dodge=False)\n",
    "ax.set_title('Topic Coherence by Predicted Category', fontsize=18, pad=20)\n",
    "ax.set_xlabel('Average Intra-Topic Similarity (Higher is Better)', fontsize=14)\n",
    "ax.set_ylabel('Topic', fontsize=14)\n",
    "ax.tick_params(axis='x', labelsize=12)\n",
    "ax.tick_params(axis='y', labelsize=12)\n",
    "plt.show()"
   ]
  },
  {
   "cell_type": "markdown",
   "id": "0fbd9385",
   "metadata": {},
   "source": [
    "Question 2: Are our topic definitions clear and distinct from each other?\n",
    "For this, we use the 2D PCA (Principal Component Analysis) plot generated by our evaluation script. This technique visualizes the high-dimensional meaning of each ticket as a point on a 2D map. If our topics are well-defined, we should see distinct \"clouds\" of points for each topic with minimal overlap."
   ]
  },
  {
   "cell_type": "code",
   "execution_count": 12,
   "id": "bdf43ca6",
   "metadata": {},
   "outputs": [
    {
     "name": "stdout",
     "output_type": "stream",
     "text": [
      "Displaying PCA plot of topic clusters:\n"
     ]
    },
    {
     "data": {
      "image/png": "[encoded data removed]",
      "text/plain": [
       "<IPython.core.display.Image object>"
      ]
     },
     "metadata": {},
     "output_type": "display_data"
    }
   ],
   "source": [
    "# The PCA plot was already generated by the run_evaluation function\n",
    "pca_plot_path = os.path.join(output_dir, 'global_pca.png')\n",
    "if os.path.exists(pca_plot_path):\n",
    "    print(\"Displaying PCA plot of topic clusters:\")\n",
    "    display(Image(filename=pca_plot_path))\n",
    "else:\n",
    "    print(\"PCA plot not found.\")"
   ]
  },
  {
   "cell_type": "markdown",
   "id": "be703ef3",
   "metadata": {},
   "source": [
    "Question 3: Can the system identify ambiguous tickets for human review?\n",
    "Here, we measure the Classification Margin for each ticket. This is the difference between the confidence score of the winning topic and the score of the runner-up. A high margin means the AI was very sure of its choice, while a low margin indicates ambiguity."
   ]
  },
  {
   "cell_type": "code",
   "execution_count": 13,
   "id": "70361aac",
   "metadata": {},
   "outputs": [
    {
     "data": {
      "image/png": "[encoded data removed]",
      "text/plain": [
       "<Figure size 1440x840 with 1 Axes>"
      ]
     },
     "metadata": {},
     "output_type": "display_data"
    }
   ],
   "source": [
    "# Load the per-ticket metrics\n",
    "tickets_metrics_path = os.path.join(output_dir, \"tickets_with_metrics.csv\")\n",
    "tickets_df = pd.read_csv(tickets_metrics_path).dropna(subset=['margin'])\n",
    "\n",
    "# Create the plot\n",
    "plt.figure(figsize=(12, 7))\n",
    "ax = sns.histplot(tickets_df['margin'], kde=True, bins=20, color='royalblue')\n",
    "ax.set_title('Distribution of Classification Margin Scores', fontsize=18, pad=20)\n",
    "ax.set_xlabel('Margin (Confidence in Chosen Topic vs. Next Best)', fontsize=14)\n",
    "ax.set_ylabel('Number of Tickets', fontsize=14)\n",
    "plt.axvline(x=0.15, color='red', linestyle='--', label='Low Confidence Threshold (0.15)')\n",
    "plt.legend(fontsize=12)\n",
    "plt.show()"
   ]
  },
  {
   "cell_type": "markdown",
   "id": "d16a8cf5",
   "metadata": {},
   "source": [
    "Our evaluation of the Triage System on a 45-ticket dataset reveals a nuanced performance profile, highlighting a key design tradeoff. The classifier effectively groups specific, technical topics like SSO into coherent clusters but struggles with broader, conceptually overlapping categories like Product. This is evidenced by significant topic overlap in our PCA visualization and low classification margins on over a third of the dataset, which indicates that the model is often not confident in assigning a single best topic. This behavior stems from the tradeoff of using a flexible, zero-shot LLM; the system accurately identifies that many tickets are inherently multi-label, but the current single-topic routing and evaluation process interprets this as low confidence. This insight clarifies that future work should focus on developing a more sophisticated, multi-label-aware routing and evaluation strategy rather than simply tuning the classifier itself."
   ]
  },
  {
   "cell_type": "markdown",
   "id": "a69fa1a8",
   "metadata": {},
   "source": [
    "## Final Answer Evaluation\n",
    "While the Triage evaluation tells us if we're categorizing tickets correctly, we also need to evaluate the quality of the final, AI-generated answers. Evaluating generated text is more complex than a simple accuracy score. We will use a combination of automated metrics and prepare a report for qualitative review.\n"
   ]
  },
  {
   "cell_type": "markdown",
   "id": "5c38e61f",
   "metadata": {},
   "source": [
    "My evaluation will focus on two key automated metrics:\n",
    "\n",
    "- Consistency: Does the system produce the same answer for the same question every time? An unstable system is an unreliable one.\n",
    "\n",
    "- Robustness: Does the system produce the same answer for minor, meaningless variations of a question? It should not be easily thrown off by a user rephrasing their query."
   ]
  },
  {
   "cell_type": "markdown",
   "id": "3d2e88c6",
   "metadata": {},
   "source": [
    "To gather my data, I will run the full pipeline three times on my dataset of 45 tickets:\n",
    "\n",
    "Run 1: On the original ticket bodies.\n",
    "\n",
    "Run 2: On the original ticket bodies again, to check for consistency.\n",
    "\n",
    "Run 3: On \"perturbed\" versions of the ticket bodies (e.g., converted to lowercase with extra words) to check for robustness."
   ]
  },
  {
   "cell_type": "code",
   "execution_count": 1,
   "id": "54ef513a",
   "metadata": {},
   "outputs": [
    {
     "name": "stderr",
     "output_type": "stream",
     "text": [
      "/Users/suhanijain/Desktop/atlan/.venv/lib/python3.13/site-packages/tqdm/auto.py:21: TqdmWarning: IProgress not found. Please update jupyter and ipywidgets. See https://ipywidgets.readthedocs.io/en/stable/user_install.html\n",
      "  from .autonotebook import tqdm as notebook_tqdm\n",
      "2025-09-15 17:23:45,253 - INFO - --- Step 1: Consolidating Datasets ---\n",
      "2025-09-15 17:23:45,254 - INFO - Consolidated dataset contains 45 tickets.\n"
     ]
    }
   ],
   "source": [
    "import json\n",
    "import os\n",
    "import logging\n",
    "import pandas as pd\n",
    "from dataclasses import asdict\n",
    "\n",
    "from triage import TriageClassifier\n",
    "from run_batch_evaluation import run_evaluation\n",
    "\n",
    "# Import visualization libraries\n",
    "import matplotlib.pyplot as plt\n",
    "import seaborn as sns\n",
    "from IPython.display import Image, display\n",
    "\n",
    "# Configure notebook environment\n",
    "logging.basicConfig(level=logging.INFO, format='%(asctime)s - %(levelname)s - %(message)s')\n",
    "sns.set_theme(style=\"whitegrid\", rc={\"figure.figsize\": (12, 8)})\n",
    "pd.set_option('display.max_colwidth', 100)\n",
    "\n",
    "# Consolidate the Dataset\n",
    "logging.info(\"--- Step 1: Consolidating Datasets ---\")\n",
    "\n",
    "# Load original tickets\n",
    "try:\n",
    "    with open('sample_tickets.json', 'r') as f:\n",
    "        original_tickets = json.load(f)\n",
    "except FileNotFoundError:\n",
    "    logging.error(\"'sample_tickets.json' not found. Aborting.\")\n",
    "    original_tickets = []\n",
    "    \n",
    "# Add 15 generated tickets\n",
    "new_tickets = [\n",
    "      {\"id\": \"TICKET-275\", \"subject\": \"MongoDB Atlas Connector - Not seeing collections\", \"body\": \"Hi, we've set up the MongoDB Atlas connector...\"},\n",
    "      {\"id\": \"TICKET-276\", \"subject\": \"Incorrect lineage showing extra hop\", \"body\": \"The lineage for our `dim_users` table seems incorrect...\"},\n",
    "      {\"id\": \"TICKET-277\", \"subject\": \"Rate limiting on API for bulk updates\", \"body\": \"We are trying to programmatically apply a 'data-quality-certified' tag...\"},\n",
    "      {\"id\": \"TICKET-278\", \"subject\": \"Conflict between Persona and Purpose policies\", \"body\": \"We have a data steward who is part of a 'Data Governance' Persona...\"},\n",
    "      {\"id\": \"TICKET-279\", \"subject\": \"SCIM de-provisioning not revoking access\", \"body\": \"We have configured SCIM with our Azure AD...\"},\n",
    "      {\"id\": \"TICKET-280\", \"subject\": \"What's the difference between a 'Verified' asset and a 'Draft' asset?\", \"body\": \"Some of our assets have a green checkmark and say 'Verified'...\"},\n",
    "      {\"id\": \"TICKET-281\", \"subject\": \"UI is slow when viewing assets with many columns\", \"body\": \"We have a few very wide tables in our data warehouse...\"},\n",
    "      {\"id\": \"TICKET-282\", \"subject\": \"Implementing Data Mesh concepts in Atlan\", \"body\": \"Our organization is moving towards a data mesh architecture...\"},\n",
    "      {\"id\": \"TICKET-283\", \"subject\": \"Is it possible to get lineage from a stored procedure?\", \"body\": \"A lot of our core business logic is encapsulated in complex Snowflake stored procedures...\"},\n",
    "      {\"id\": \"TICKET-284\", \"subject\": \"Querying Power BI datasets via Atlan\", \"body\": \"I can see all of our Power BI workspaces, reports, and datasets in Atlan...\"},\n",
    "      {\"id\": \"TICKET-285\", \"subject\": \"How to handle API token rotation securely?\", \"body\": \"Our security policy requires that all API tokens used in production services must be rotated...\"},\n",
    "      {\"id\": \"TICKET-286\", \"subject\": \"Tableau workbook lineage showing incorrect upstream sources\", \"body\": \"We have a Tableau workbook that sources data from a specific view...\"},\n",
    "      {\"id\": \"TICKET-287\", \"subject\": \"Propagating tags through lineage\", \"body\": \"I've tagged a column in our source table as 'PII'...\"},\n",
    "      {\"id\": \"TICKET-288\", \"subject\": \"Urgent: 'Internal Server Error' when accessing Governance tab\", \"body\": \"This is a critical issue. None of our admins can access the Governance tab...\"},\n",
    "      {\"id\": \"TICKET-289\", \"subject\": \"Guidance on using custom metadata vs. tags\", \"body\": \"I'm trying to decide how to model some new metadata for our assets...\"}\n",
    "    ]\n",
    "\n",
    "full_dataset = original_tickets + new_tickets\n",
    "logging.info(f\"Consolidated dataset contains {len(full_dataset)} tickets.\")"
   ]
  },
  {
   "cell_type": "code",
   "execution_count": 3,
   "id": "ab7d3d73",
   "metadata": {},
   "outputs": [
    {
     "name": "stderr",
     "output_type": "stream",
     "text": [
      "2025-09-15 17:26:09,211 - INFO - --- Single Ticket Test ---\n",
      "2025-09-15 17:26:09,212 - INFO - Initializing Chatbot Pipeline...\n",
      "2025-09-15 17:26:09,251 - INFO - Use pytorch device_name: mps\n",
      "2025-09-15 17:26:09,252 - INFO - Load pretrained SentenceTransformer: all-MiniLM-L6-v2\n",
      "2025-09-15 17:26:18,016 - INFO - Use pytorch device_name: mps\n",
      "2025-09-15 17:26:18,017 - INFO - Load pretrained SentenceTransformer: multi-qa-mpnet-base-dot-v1\n"
     ]
    },
    {
     "name": "stdout",
     "output_type": "stream",
     "text": [
      "🚀 Initializing Agentic Hybrid RAG System...\n",
      "🔧 Initializing Hybrid Retrieval System...\n"
     ]
    },
    {
     "name": "stderr",
     "output_type": "stream",
     "text": [
      "2025-09-15 17:26:23,793 - INFO - Use pytorch device_name: mps\n",
      "2025-09-15 17:26:23,793 - INFO - Load pretrained SentenceTransformer: multi-qa-mpnet-base-dot-v1\n"
     ]
    },
    {
     "name": "stdout",
     "output_type": "stream",
     "text": [
      " Loaded 1172 cached chunks with embeddings.\n",
      "⚡ Loaded pre-computed embeddings from cache. Startup will be fast!\n",
      "🔍 Setting up BM25 lexical search...\n",
      "✅ Hybrid Retrieval System ready!\n",
      "Loading reranking model...\n"
     ]
    },
    {
     "name": "stderr",
     "output_type": "stream",
     "text": [
      "2025-09-15 17:26:29,196 - INFO - Pipeline initialized with 0 historical records for validation.\n"
     ]
    },
    {
     "name": "stdout",
     "output_type": "stream",
     "text": [
      " Reranking model loaded!\n",
      "Agentic Hybrid RAG System ready!\n"
     ]
    },
    {
     "name": "stderr",
     "output_type": "stream",
     "text": [
      "2025-09-15 17:26:29,623 - INFO - Processing query for ticket [TICKET-261]...\n",
      "2025-09-15 17:26:29,625 - INFO - [TICKET-261] Stage 1: Triage Classification...\n",
      "2025-09-15 17:26:29,644 - INFO - AFC is enabled with max remote calls: 10.\n"
     ]
    },
    {
     "name": "stdout",
     "output_type": "stream",
     "text": [
      "Testing with ticket TICKET-261: Enabling and testing SAML SSO\n",
      "Body: We are ready to enable SAML SSO with our Okta instance. However, we are very concerned about disrupt...\n"
     ]
    },
    {
     "name": "stderr",
     "output_type": "stream",
     "text": [
      "2025-09-15 17:26:33,351 - INFO - HTTP Request: POST https://generativelanguage.googleapis.com/v1beta/models/gemini-2.5-flash-lite:generateContent \"HTTP/1.1 200 OK\"\n",
      "2025-09-15 17:26:33,361 - INFO - AFC remote call 1 is done.\n",
      "2025-09-15 17:26:33,362 - INFO - ✅ Classified ticket TICKET-261: ['SSO', 'HOW_TO'] (confidence: 0.900)\n",
      "2025-09-15 17:26:33,363 - INFO - [TICKET-261] Triage complete. Topics: ['SSO', 'HOW_TO'], Priority: P1\n",
      "2025-09-15 17:26:33,363 - INFO - [TICKET-261] Stage 2: Classification Validation...\n",
      "2025-09-15 17:26:33,364 - INFO - [TICKET-261] Validation complete. Status: isolated, Confidence: medium\n",
      "2025-09-15 17:26:33,364 - INFO - [TICKET-261] All topics are sent to RAG for intelligent handling.\n",
      "2025-09-15 17:26:33,365 - INFO - [TICKET-261] Stage 3: Response Generation...\n",
      "Batches: 100%|██████████| 1/1 [00:00<00:00,  2.10it/s]\n",
      "Batches: 100%|██████████| 1/1 [00:00<00:00, 61.10it/s]\n",
      "Batches: 100%|██████████| 1/1 [00:00<00:00,  2.31it/s]\n",
      "2025-09-15 17:26:34,330 - INFO - AFC is enabled with max remote calls: 10.\n",
      "2025-09-15 17:27:33,257 - INFO - HTTP Request: POST https://generativelanguage.googleapis.com/v1beta/models/gemini-2.5-flash:generateContent \"HTTP/1.1 200 OK\"\n",
      "2025-09-15 17:27:33,266 - INFO - AFC remote call 1 is done.\n",
      "2025-09-15 17:27:33,267 - INFO - [TICKET-261] Response generated with 3 sources.\n",
      "2025-09-15 17:27:33,269 - INFO - Pipeline finished for ticket [TICKET-261] in 63.65s.\n"
     ]
    },
    {
     "name": "stdout",
     "output_type": "stream",
     "text": [
      "\n",
      "==================================================\n",
      "PIPELINE RESULT:\n",
      "==================================================\n",
      "Ticket ID: TICKET-261\n",
      "Topics: ['SSO', 'HOW_TO']\n",
      "Priority: P1\n",
      "Confidence: 0.9\n",
      "Reasoning: The user is asking how to test an SSO configuration before enabling it for all users, indicating a need for guidance on the SSO feature. The concern about disruption suggests a moderate level of urgency and a curious, rather than negative, sentiment.\n",
      "\n",
      "--------------------------------------------------\n",
      "FINAL ANSWER:\n",
      "--------------------------------------------------\n",
      "⚡ **High Priority Request**\n",
      "\n",
      "The provided documentation describes the steps to enable Okta for SSO, including assigning users to the application in Okta and configuring group mappings [Source 4, 6]. It also explains that SSO group mappings are triggered every time a user authenticates in Atlan, and updates from Okta groups will be reflected in Atlan upon re-login [Source 5]. However, the context does not contain information about a specific method to test the SSO configuration for a specific user or group before enabling it for the entire workspace [Source 1, 2, 3, 4, 5, 6, 7].\n",
      "\n",
      "\n",
      "📚 **Here are some relevant documents:**\n",
      "- https://docs.atlan.com/product/integrations/identity-management/sso/how-tos/enable-okta-for-sso\n",
      "- https://docs.atlan.com/product/integrations/identity-management/sso/how-tos/enable-saml-2-0-for-sso\n",
      "- https://docs.atlan.com/product/integrations/identity-management/sso/how-tos/enable-onelogin-for-sso\n",
      "\n",
      "--------------------------------------------------\n",
      "SOURCES:\n",
      "--------------------------------------------------\n",
      "1. https://docs.atlan.com/product/integrations/identity-management/sso/how-tos/enable-okta-for-sso\n",
      "2. https://docs.atlan.com/product/integrations/identity-management/sso/how-tos/enable-saml-2-0-for-sso\n",
      "3. https://docs.atlan.com/product/integrations/identity-management/sso/how-tos/enable-onelogin-for-sso\n"
     ]
    }
   ],
   "source": [
    "# Test with a single ticket for debugging\n",
    "from sentence_transformers import SentenceTransformer, util\n",
    "from atlan_helpdesk_pipeline import ChatbotPipeline\n",
    "import time\n",
    "\n",
    "logging.info(\"--- Single Ticket Test ---\")\n",
    "\n",
    "# Initialize the pipeline\n",
    "pipeline = ChatbotPipeline(historical_data=None)\n",
    "\n",
    "# Select a test ticket (you can change the index to test different tickets)\n",
    "test_ticket_index = 16\n",
    "test_ticket = full_dataset[test_ticket_index]\n",
    "\n",
    "print(f\"Testing with ticket {test_ticket['id']}: {test_ticket['subject']}\")\n",
    "print(f\"Body: {test_ticket['body'][:100]}...\")\n",
    "\n",
    "# Run the pipeline on the test ticket\n",
    "try:\n",
    "    result = pipeline.run(query=test_ticket['body'], ticket_id=test_ticket['id'])\n",
    "    \n",
    "    print(\"\\n\" + \"=\"*50)\n",
    "    print(\"PIPELINE RESULT:\")\n",
    "    print(\"=\"*50)\n",
    "    print(f\"Ticket ID: {result.triage.ticket_id}\")\n",
    "    print(f\"Topics: {result.triage.topics}\")\n",
    "    print(f\"Priority: {result.triage.priority}\")\n",
    "    print(f\"Confidence: {result.triage.confidence}\")\n",
    "    print(f\"Reasoning: {result.triage.reasoning}\")\n",
    "    print(\"\\n\" + \"-\"*50)\n",
    "    print(\"FINAL ANSWER:\")\n",
    "    print(\"-\"*50)\n",
    "    print(result.final_answer)\n",
    "    print(\"\\n\" + \"-\"*50)\n",
    "    print(\"SOURCES:\")\n",
    "    print(\"-\"*50)\n",
    "    for i, source in enumerate(result.rag_response.get('sources', []), 1):\n",
    "        print(f\"{i}. {source}\")\n",
    "    \n",
    "except Exception as e:\n",
    "    print(f\"Error running pipeline: {e}\")\n",
    "    import traceback\n",
    "    traceback.print_exc()"
   ]
  },
  {
   "cell_type": "code",
   "execution_count": 17,
   "id": "523cea4d",
   "metadata": {},
   "outputs": [
    {
     "name": "stderr",
     "output_type": "stream",
     "text": [
      "2025-09-15 08:43:57,023 - INFO - --- Step 5: Final Answer Evaluation ---\n",
      "2025-09-15 08:43:57,024 - INFO - Initializing Chatbot Pipeline...\n",
      "2025-09-15 08:43:57,142 - INFO - Use pytorch device_name: mps\n",
      "2025-09-15 08:43:57,147 - INFO - Load pretrained SentenceTransformer: all-MiniLM-L6-v2\n",
      "2025-09-15 08:44:02,544 - INFO - Use pytorch device_name: mps\n",
      "2025-09-15 08:44:02,545 - INFO - Load pretrained SentenceTransformer: multi-qa-mpnet-base-dot-v1\n"
     ]
    },
    {
     "name": "stdout",
     "output_type": "stream",
     "text": [
      " Initializing Agentic Hybrid RAG System...\n",
      "🔧 Initializing Hybrid Retrieval System...\n"
     ]
    },
    {
     "name": "stderr",
     "output_type": "stream",
     "text": [
      "2025-09-15 08:44:08,130 - INFO - Pipeline initialized with 0 historical records for validation.\n"
     ]
    },
    {
     "name": "stdout",
     "output_type": "stream",
     "text": [
      " Loaded 1172 cached chunks with embeddings.\n",
      "⚡ Loaded pre-computed embeddings from cache. Startup will be fast!\n",
      "🔍 Setting up BM25 lexical search...\n",
      "✅ Hybrid Retrieval System ready!\n",
      " Agentic Hybrid RAG System ready!\n"
     ]
    },
    {
     "name": "stderr",
     "output_type": "stream",
     "text": [
      "2025-09-15 08:44:08,154 - INFO - Use pytorch device_name: mps\n",
      "2025-09-15 08:44:08,155 - INFO - Load pretrained SentenceTransformer: all-MiniLM-L6-v2\n",
      "2025-09-15 08:44:13,142 - INFO - Processing query for ticket [TICKET-245]...\n",
      "2025-09-15 08:44:13,142 - INFO - [TICKET-245] Stage 1: Triage Classification...\n",
      "2025-09-15 08:44:13,143 - INFO - AFC is enabled with max remote calls: 10.\n"
     ]
    },
    {
     "name": "stdout",
     "output_type": "stream",
     "text": [
      "Executing Run 1 (Original Queries)...\n",
      "Processing ticket 1/45\r"
     ]
    },
    {
     "name": "stderr",
     "output_type": "stream",
     "text": [
      "2025-09-15 08:44:15,775 - INFO - HTTP Request: POST https://generativelanguage.googleapis.com/v1beta/models/gemini-2.5-flash-lite:generateContent \"HTTP/1.1 200 OK\"\n",
      "2025-09-15 08:44:15,779 - INFO - AFC remote call 1 is done.\n",
      "2025-09-15 08:44:15,779 - INFO - ✅ Classified ticket TICKET-245: ['CONNECTOR', 'HOW_TO'] (confidence: 0.900)\n",
      "2025-09-15 08:44:15,780 - INFO - [TICKET-245] Triage complete. Topics: ['CONNECTOR', 'HOW_TO'], Priority: P0\n",
      "2025-09-15 08:44:15,780 - INFO - [TICKET-245] Stage 2: Classification Validation...\n",
      "2025-09-15 08:44:15,781 - INFO - [TICKET-245] Validation complete. Status: isolated, Confidence: medium\n",
      "2025-09-15 08:44:15,781 - INFO - [TICKET-245] Topic 'CONNECTOR' does not require RAG. Routing ticket.\n",
      "2025-09-15 08:44:15,782 - INFO - Pipeline finished for ticket [TICKET-245] in 2.64s.\n",
      "2025-09-15 08:44:15,782 - INFO - Processing query for ticket [TICKET-246]...\n",
      "2025-09-15 08:44:15,783 - INFO - [TICKET-246] Stage 1: Triage Classification...\n",
      "2025-09-15 08:44:15,783 - INFO - AFC is enabled with max remote calls: 10.\n"
     ]
    },
    {
     "name": "stdout",
     "output_type": "stream",
     "text": [
      "Processing ticket 2/45\r"
     ]
    },
    {
     "name": "stderr",
     "output_type": "stream",
     "text": [
      "2025-09-15 08:44:17,025 - INFO - HTTP Request: POST https://generativelanguage.googleapis.com/v1beta/models/gemini-2.5-flash-lite:generateContent \"HTTP/1.1 200 OK\"\n",
      "2025-09-15 08:44:17,027 - INFO - AFC remote call 1 is done.\n",
      "2025-09-15 08:44:17,028 - INFO - ✅ Classified ticket TICKET-246: ['HOW_TO', 'CONNECTOR', 'LINEAGE'] (confidence: 0.900)\n",
      "2025-09-15 08:44:17,028 - INFO - [TICKET-246] Triage complete. Topics: ['HOW_TO', 'CONNECTOR', 'LINEAGE'], Priority: P1\n",
      "2025-09-15 08:44:17,028 - INFO - [TICKET-246] Stage 2: Classification Validation...\n",
      "2025-09-15 08:44:17,029 - INFO - [TICKET-246] Validation complete. Status: isolated, Confidence: medium\n",
      "2025-09-15 08:44:17,029 - INFO - [TICKET-246] Topic 'HOW_TO' does not require RAG. Routing ticket.\n",
      "2025-09-15 08:44:17,029 - INFO - Pipeline finished for ticket [TICKET-246] in 1.25s.\n",
      "2025-09-15 08:44:17,030 - INFO - Processing query for ticket [TICKET-247]...\n",
      "2025-09-15 08:44:17,030 - INFO - [TICKET-247] Stage 1: Triage Classification...\n",
      "2025-09-15 08:44:17,030 - INFO - AFC is enabled with max remote calls: 10.\n"
     ]
    },
    {
     "name": "stdout",
     "output_type": "stream",
     "text": [
      "Processing ticket 3/45\r"
     ]
    },
    {
     "name": "stderr",
     "output_type": "stream",
     "text": [
      "2025-09-15 08:44:18,158 - INFO - HTTP Request: POST https://generativelanguage.googleapis.com/v1beta/models/gemini-2.5-flash-lite:generateContent \"HTTP/1.1 200 OK\"\n",
      "2025-09-15 08:44:18,163 - INFO - AFC remote call 1 is done.\n",
      "2025-09-15 08:44:18,164 - INFO - ✅ Classified ticket TICKET-247: ['CONNECTOR', 'HOW_TO', 'OTHER'] (confidence: 0.900)\n",
      "2025-09-15 08:44:18,164 - INFO - [TICKET-247] Triage complete. Topics: ['CONNECTOR', 'HOW_TO', 'OTHER'], Priority: P0\n",
      "2025-09-15 08:44:18,165 - INFO - [TICKET-247] Stage 2: Classification Validation...\n",
      "2025-09-15 08:44:18,165 - INFO - [TICKET-247] Validation complete. Status: isolated, Confidence: medium\n",
      "2025-09-15 08:44:18,166 - INFO - [TICKET-247] Topic 'CONNECTOR' does not require RAG. Routing ticket.\n",
      "2025-09-15 08:44:18,166 - INFO - Pipeline finished for ticket [TICKET-247] in 1.14s.\n",
      "2025-09-15 08:44:18,167 - INFO - Processing query for ticket [TICKET-248]...\n",
      "2025-09-15 08:44:18,167 - INFO - [TICKET-248] Stage 1: Triage Classification...\n",
      "2025-09-15 08:44:18,169 - INFO - AFC is enabled with max remote calls: 10.\n"
     ]
    },
    {
     "name": "stdout",
     "output_type": "stream",
     "text": [
      "Processing ticket 4/45\r"
     ]
    },
    {
     "name": "stderr",
     "output_type": "stream",
     "text": [
      "2025-09-15 08:44:19,472 - INFO - HTTP Request: POST https://generativelanguage.googleapis.com/v1beta/models/gemini-2.5-flash-lite:generateContent \"HTTP/1.1 200 OK\"\n",
      "2025-09-15 08:44:19,476 - INFO - AFC remote call 1 is done.\n",
      "2025-09-15 08:44:19,477 - INFO - ✅ Classified ticket TICKET-248: ['HOW_TO', 'CONNECTOR'] (confidence: 0.900)\n",
      "2025-09-15 08:44:19,477 - INFO - [TICKET-248] Triage complete. Topics: ['HOW_TO', 'CONNECTOR'], Priority: P2\n",
      "2025-09-15 08:44:19,478 - INFO - [TICKET-248] Stage 2: Classification Validation...\n",
      "2025-09-15 08:44:19,478 - INFO - [TICKET-248] Validation complete. Status: isolated, Confidence: medium\n",
      "2025-09-15 08:44:19,479 - INFO - [TICKET-248] Topic 'HOW_TO' does not require RAG. Routing ticket.\n",
      "2025-09-15 08:44:19,479 - INFO - Pipeline finished for ticket [TICKET-248] in 1.31s.\n",
      "2025-09-15 08:44:19,479 - INFO - Processing query for ticket [TICKET-249]...\n",
      "2025-09-15 08:44:19,480 - INFO - [TICKET-249] Stage 1: Triage Classification...\n",
      "2025-09-15 08:44:19,480 - INFO - AFC is enabled with max remote calls: 10.\n"
     ]
    },
    {
     "name": "stdout",
     "output_type": "stream",
     "text": [
      "Processing ticket 5/45\r"
     ]
    },
    {
     "name": "stderr",
     "output_type": "stream",
     "text": [
      "2025-09-15 08:44:20,504 - INFO - HTTP Request: POST https://generativelanguage.googleapis.com/v1beta/models/gemini-2.5-flash-lite:generateContent \"HTTP/1.1 200 OK\"\n",
      "2025-09-15 08:44:20,509 - INFO - AFC remote call 1 is done.\n",
      "2025-09-15 08:44:20,509 - INFO - ✅ Classified ticket TICKET-249: ['LINEAGE', 'HOW_TO'] (confidence: 0.900)\n",
      "2025-09-15 08:44:20,510 - INFO - [TICKET-249] Triage complete. Topics: ['LINEAGE', 'HOW_TO'], Priority: P1\n",
      "2025-09-15 08:44:20,511 - INFO - [TICKET-249] Stage 2: Classification Validation...\n",
      "2025-09-15 08:44:20,511 - INFO - [TICKET-249] Validation complete. Status: isolated, Confidence: medium\n",
      "2025-09-15 08:44:20,512 - INFO - [TICKET-249] Topic 'LINEAGE' does not require RAG. Routing ticket.\n",
      "2025-09-15 08:44:20,513 - INFO - Pipeline finished for ticket [TICKET-249] in 1.03s.\n",
      "2025-09-15 08:44:20,513 - INFO - Processing query for ticket [TICKET-250]...\n",
      "2025-09-15 08:44:20,513 - INFO - [TICKET-250] Stage 1: Triage Classification...\n",
      "2025-09-15 08:44:20,514 - INFO - AFC is enabled with max remote calls: 10.\n"
     ]
    },
    {
     "name": "stdout",
     "output_type": "stream",
     "text": [
      "Processing ticket 6/45\r"
     ]
    },
    {
     "name": "stderr",
     "output_type": "stream",
     "text": [
      "2025-09-15 08:44:21,943 - INFO - HTTP Request: POST https://generativelanguage.googleapis.com/v1beta/models/gemini-2.5-flash-lite:generateContent \"HTTP/1.1 200 OK\"\n",
      "2025-09-15 08:44:21,945 - INFO - AFC remote call 1 is done.\n",
      "2025-09-15 08:44:21,945 - INFO - ✅ Classified ticket TICKET-250: ['HOW_TO', 'CONNECTOR', 'LINEAGE'] (confidence: 0.900)\n",
      "2025-09-15 08:44:21,945 - INFO - [TICKET-250] Triage complete. Topics: ['HOW_TO', 'CONNECTOR', 'LINEAGE'], Priority: P2\n",
      "2025-09-15 08:44:21,946 - INFO - [TICKET-250] Stage 2: Classification Validation...\n",
      "2025-09-15 08:44:21,946 - INFO - [TICKET-250] Validation complete. Status: isolated, Confidence: medium\n",
      "2025-09-15 08:44:21,946 - INFO - [TICKET-250] Topic 'HOW_TO' does not require RAG. Routing ticket.\n",
      "2025-09-15 08:44:21,946 - INFO - Pipeline finished for ticket [TICKET-250] in 1.43s.\n",
      "2025-09-15 08:44:21,947 - INFO - Processing query for ticket [TICKET-251]...\n",
      "2025-09-15 08:44:21,947 - INFO - [TICKET-251] Stage 1: Triage Classification...\n",
      "2025-09-15 08:44:21,947 - INFO - AFC is enabled with max remote calls: 10.\n"
     ]
    },
    {
     "name": "stdout",
     "output_type": "stream",
     "text": [
      "Processing ticket 7/45\r"
     ]
    },
    {
     "name": "stderr",
     "output_type": "stream",
     "text": [
      "2025-09-15 08:44:23,170 - INFO - HTTP Request: POST https://generativelanguage.googleapis.com/v1beta/models/gemini-2.5-flash-lite:generateContent \"HTTP/1.1 200 OK\"\n",
      "2025-09-15 08:44:23,173 - INFO - AFC remote call 1 is done.\n",
      "2025-09-15 08:44:23,174 - INFO - ✅ Classified ticket TICKET-251: ['HOW_TO', 'PRODUCT'] (confidence: 0.900)\n",
      "2025-09-15 08:44:23,174 - INFO - [TICKET-251] Triage complete. Topics: ['HOW_TO', 'PRODUCT'], Priority: P2\n",
      "2025-09-15 08:44:23,175 - INFO - [TICKET-251] Stage 2: Classification Validation...\n",
      "2025-09-15 08:44:23,175 - INFO - [TICKET-251] Validation complete. Status: isolated, Confidence: medium\n",
      "2025-09-15 08:44:23,176 - INFO - [TICKET-251] Topic 'HOW_TO' does not require RAG. Routing ticket.\n",
      "2025-09-15 08:44:23,176 - INFO - Pipeline finished for ticket [TICKET-251] in 1.23s.\n",
      "2025-09-15 08:44:23,176 - INFO - Processing query for ticket [TICKET-252]...\n",
      "2025-09-15 08:44:23,177 - INFO - [TICKET-252] Stage 1: Triage Classification...\n",
      "2025-09-15 08:44:23,177 - INFO - AFC is enabled with max remote calls: 10.\n"
     ]
    },
    {
     "name": "stdout",
     "output_type": "stream",
     "text": [
      "Processing ticket 8/45\r"
     ]
    },
    {
     "name": "stderr",
     "output_type": "stream",
     "text": [
      "2025-09-15 08:44:24,592 - INFO - HTTP Request: POST https://generativelanguage.googleapis.com/v1beta/models/gemini-2.5-flash-lite:generateContent \"HTTP/1.1 200 OK\"\n",
      "2025-09-15 08:44:24,594 - INFO - AFC remote call 1 is done.\n",
      "2025-09-15 08:44:24,595 - INFO - ✅ Classified ticket TICKET-252: ['LINEAGE', 'API_SDK'] (confidence: 0.900)\n",
      "2025-09-15 08:44:24,595 - INFO - [TICKET-252] Triage complete. Topics: ['LINEAGE', 'API_SDK'], Priority: P2\n",
      "2025-09-15 08:44:24,595 - INFO - [TICKET-252] Stage 2: Classification Validation...\n",
      "2025-09-15 08:44:24,596 - INFO - [TICKET-252] Validation complete. Status: isolated, Confidence: medium\n",
      "2025-09-15 08:44:24,596 - INFO - [TICKET-252] Topic 'LINEAGE' does not require RAG. Routing ticket.\n",
      "2025-09-15 08:44:24,596 - INFO - Pipeline finished for ticket [TICKET-252] in 1.42s.\n",
      "2025-09-15 08:44:24,597 - INFO - Processing query for ticket [TICKET-253]...\n",
      "2025-09-15 08:44:24,597 - INFO - [TICKET-253] Stage 1: Triage Classification...\n",
      "2025-09-15 08:44:24,597 - INFO - AFC is enabled with max remote calls: 10.\n"
     ]
    },
    {
     "name": "stdout",
     "output_type": "stream",
     "text": [
      "Processing ticket 9/45\r"
     ]
    },
    {
     "ename": "KeyboardInterrupt",
     "evalue": "",
     "output_type": "error",
     "traceback": [
      "\u001b[31m---------------------------------------------------------------------------\u001b[39m",
      "\u001b[31mKeyboardInterrupt\u001b[39m                         Traceback (most recent call last)",
      "\u001b[36mCell\u001b[39m\u001b[36m \u001b[39m\u001b[32mIn[17]\u001b[39m\u001b[32m, line 28\u001b[39m\n\u001b[32m     26\u001b[39m         time.sleep(\u001b[32m60\u001b[39m)\n\u001b[32m     27\u001b[39m     \u001b[38;5;28mprint\u001b[39m(\u001b[33mf\u001b[39m\u001b[33m\"\u001b[39m\u001b[33mProcessing ticket \u001b[39m\u001b[38;5;132;01m{\u001b[39;00mi+\u001b[32m1\u001b[39m\u001b[38;5;132;01m}\u001b[39;00m\u001b[33m/\u001b[39m\u001b[38;5;132;01m{\u001b[39;00m\u001b[38;5;28mlen\u001b[39m(original_queries)\u001b[38;5;132;01m}\u001b[39;00m\u001b[33m\"\u001b[39m, end=\u001b[33m'\u001b[39m\u001b[38;5;130;01m\\r\u001b[39;00m\u001b[33m'\u001b[39m)\n\u001b[32m---> \u001b[39m\u001b[32m28\u001b[39m     run1_results.append(\u001b[43mpipeline\u001b[49m\u001b[43m.\u001b[49m\u001b[43mrun\u001b[49m\u001b[43m(\u001b[49m\u001b[43mquery\u001b[49m\u001b[43m=\u001b[49m\u001b[43mquery\u001b[49m\u001b[43m,\u001b[49m\u001b[43m \u001b[49m\u001b[43mticket_id\u001b[49m\u001b[43m=\u001b[49m\u001b[43mfull_dataset\u001b[49m\u001b[43m[\u001b[49m\u001b[43mi\u001b[49m\u001b[43m]\u001b[49m\u001b[43m[\u001b[49m\u001b[33;43m'\u001b[39;49m\u001b[33;43mid\u001b[39;49m\u001b[33;43m'\u001b[39;49m\u001b[43m]\u001b[49m\u001b[43m)\u001b[49m)\n\u001b[32m     29\u001b[39m \u001b[38;5;28mprint\u001b[39m(\u001b[33m\"\u001b[39m\u001b[38;5;130;01m\\n\u001b[39;00m\u001b[33mRun 1 complete.\u001b[39m\u001b[33m\"\u001b[39m)\n\u001b[32m     31\u001b[39m \u001b[38;5;66;03m# --- Run 2: Original Queries (for Consistency) ---\u001b[39;00m\n",
      "\u001b[36mFile \u001b[39m\u001b[32m~/Desktop/atlan/atlan_helpdesk_pipeline.py:84\u001b[39m, in \u001b[36mChatbotPipeline.run\u001b[39m\u001b[34m(self, query, ticket_id)\u001b[39m\n\u001b[32m     81\u001b[39m logging.info(\u001b[33mf\u001b[39m\u001b[33m\"\u001b[39m\u001b[33mProcessing query for ticket [\u001b[39m\u001b[38;5;132;01m{\u001b[39;00mticket_id\u001b[38;5;132;01m}\u001b[39;00m\u001b[33m]...\u001b[39m\u001b[33m\"\u001b[39m)\n\u001b[32m     83\u001b[39m \u001b[38;5;66;03m# Stages 1 & 2: Triage and Validate\u001b[39;00m\n\u001b[32m---> \u001b[39m\u001b[32m84\u001b[39m triage_result = \u001b[38;5;28;43mself\u001b[39;49m\u001b[43m.\u001b[49m\u001b[43m_stage_triage\u001b[49m\u001b[43m(\u001b[49m\u001b[43mquery\u001b[49m\u001b[43m,\u001b[49m\u001b[43m \u001b[49m\u001b[43mticket_id\u001b[49m\u001b[43m)\u001b[49m\n\u001b[32m     85\u001b[39m validation_result = \u001b[38;5;28mself\u001b[39m._stage_validate(triage_result)\n\u001b[32m     87\u001b[39m RAG_TOPICS = {\u001b[33m\"\u001b[39m\u001b[33mHow-to\u001b[39m\u001b[33m\"\u001b[39m, \u001b[33m\"\u001b[39m\u001b[33mProduct\u001b[39m\u001b[33m\"\u001b[39m, \u001b[33m\"\u001b[39m\u001b[33mBest practices\u001b[39m\u001b[33m\"\u001b[39m, \u001b[33m\"\u001b[39m\u001b[33mAPI/SDK\u001b[39m\u001b[33m\"\u001b[39m, \u001b[33m\"\u001b[39m\u001b[33mSSO\u001b[39m\u001b[33m\"\u001b[39m}\n",
      "\u001b[36mFile \u001b[39m\u001b[32m~/Desktop/atlan/atlan_helpdesk_pipeline.py:118\u001b[39m, in \u001b[36mChatbotPipeline._stage_triage\u001b[39m\u001b[34m(self, query, ticket_id)\u001b[39m\n\u001b[32m    116\u001b[39m logging.info(\u001b[33mf\u001b[39m\u001b[33m\"\u001b[39m\u001b[33m[\u001b[39m\u001b[38;5;132;01m{\u001b[39;00mticket_id\u001b[38;5;132;01m}\u001b[39;00m\u001b[33m] Stage 1: Triage Classification...\u001b[39m\u001b[33m\"\u001b[39m)\n\u001b[32m    117\u001b[39m ticket_data = {\u001b[33m'\u001b[39m\u001b[33mid\u001b[39m\u001b[33m'\u001b[39m: ticket_id, \u001b[33m'\u001b[39m\u001b[33msubject\u001b[39m\u001b[33m'\u001b[39m: query[:\u001b[32m80\u001b[39m], \u001b[33m'\u001b[39m\u001b[33mbody\u001b[39m\u001b[33m'\u001b[39m: query}\n\u001b[32m--> \u001b[39m\u001b[32m118\u001b[39m result = \u001b[38;5;28;43mself\u001b[39;49m\u001b[43m.\u001b[49m\u001b[43mtriage_classifier\u001b[49m\u001b[43m.\u001b[49m\u001b[43mclassify_ticket\u001b[49m\u001b[43m(\u001b[49m\u001b[43mticket_data\u001b[49m\u001b[43m)\u001b[49m\n\u001b[32m    119\u001b[39m logging.info(\u001b[33mf\u001b[39m\u001b[33m\"\u001b[39m\u001b[33m[\u001b[39m\u001b[38;5;132;01m{\u001b[39;00mticket_id\u001b[38;5;132;01m}\u001b[39;00m\u001b[33m] Triage complete. Topics: \u001b[39m\u001b[38;5;132;01m{\u001b[39;00mresult.topics\u001b[38;5;132;01m}\u001b[39;00m\u001b[33m, Priority: \u001b[39m\u001b[38;5;132;01m{\u001b[39;00mresult.priority\u001b[38;5;132;01m}\u001b[39;00m\u001b[33m\"\u001b[39m)\n\u001b[32m    120\u001b[39m \u001b[38;5;28;01mreturn\u001b[39;00m result\n",
      "\u001b[36mFile \u001b[39m\u001b[32m~/Desktop/atlan/triage.py:250\u001b[39m, in \u001b[36mTriageClassifier.classify_ticket\u001b[39m\u001b[34m(self, ticket)\u001b[39m\n\u001b[32m    208\u001b[39m         prompt = \u001b[33mf\u001b[39m\u001b[33m\"\"\"\u001b[39m\n\u001b[32m    209\u001b[39m \u001b[33mYou are an AI triage assistant for a data platform\u001b[39m\u001b[33m'\u001b[39m\u001b[33ms support team.\u001b[39m\n\u001b[32m    210\u001b[39m \u001b[33mYour task: analyze a support ticket and output only valid JSON with the required fields.\u001b[39m\n\u001b[32m   (...)\u001b[39m\u001b[32m    246\u001b[39m \n\u001b[32m    247\u001b[39m \u001b[33mReturn only JSON.\u001b[39m\u001b[33m\"\"\"\u001b[39m\n\u001b[32m    249\u001b[39m         \u001b[38;5;28;01mtry\u001b[39;00m:\n\u001b[32m--> \u001b[39m\u001b[32m250\u001b[39m             response = \u001b[38;5;28;43mself\u001b[39;49m\u001b[43m.\u001b[49m\u001b[43mclient\u001b[49m\u001b[43m.\u001b[49m\u001b[43mmodels\u001b[49m\u001b[43m.\u001b[49m\u001b[43mgenerate_content\u001b[49m\u001b[43m(\u001b[49m\n\u001b[32m    251\u001b[39m \u001b[43m                \u001b[49m\u001b[43mmodel\u001b[49m\u001b[43m=\u001b[49m\u001b[38;5;28;43mself\u001b[39;49m\u001b[43m.\u001b[49m\u001b[43mmodel_name\u001b[49m\u001b[43m,\u001b[49m\n\u001b[32m    252\u001b[39m \u001b[43m                \u001b[49m\u001b[43mcontents\u001b[49m\u001b[43m=\u001b[49m\u001b[43mprompt\u001b[49m\u001b[43m,\u001b[49m\n\u001b[32m    253\u001b[39m \u001b[43m                \u001b[49m\u001b[43mconfig\u001b[49m\u001b[43m=\u001b[49m\u001b[43m{\u001b[49m\n\u001b[32m    254\u001b[39m \u001b[43m                    \u001b[49m\u001b[33;43m'\u001b[39;49m\u001b[33;43mresponse_mime_type\u001b[39;49m\u001b[33;43m'\u001b[39;49m\u001b[43m:\u001b[49m\u001b[43m \u001b[49m\u001b[33;43m'\u001b[39;49m\u001b[33;43mapplication/json\u001b[39;49m\u001b[33;43m'\u001b[39;49m\u001b[43m,\u001b[49m\n\u001b[32m    255\u001b[39m \u001b[43m                    \u001b[49m\u001b[33;43m'\u001b[39;49m\u001b[33;43mresponse_schema\u001b[39;49m\u001b[33;43m'\u001b[39;49m\u001b[43m:\u001b[49m\u001b[43m \u001b[49m\u001b[43mTicketFeatures\u001b[49m\u001b[43m,\u001b[49m\n\u001b[32m    256\u001b[39m \u001b[43m                \u001b[49m\u001b[43m}\u001b[49m\u001b[43m,\u001b[49m\n\u001b[32m    257\u001b[39m \u001b[43m            \u001b[49m\u001b[43m)\u001b[49m\n\u001b[32m    259\u001b[39m             features = response.parsed\n\u001b[32m    260\u001b[39m             processing_time = time.time() - start_time\n",
      "\u001b[36mFile \u001b[39m\u001b[32m~/Desktop/atlan/.venv/lib/python3.13/site-packages/google/genai/models.py:6565\u001b[39m, in \u001b[36mModels.generate_content\u001b[39m\u001b[34m(self, model, contents, config)\u001b[39m\n\u001b[32m   6563\u001b[39m \u001b[38;5;28;01mwhile\u001b[39;00m remaining_remote_calls_afc > \u001b[32m0\u001b[39m:\n\u001b[32m   6564\u001b[39m   i += \u001b[32m1\u001b[39m\n\u001b[32m-> \u001b[39m\u001b[32m6565\u001b[39m   response = \u001b[38;5;28;43mself\u001b[39;49m\u001b[43m.\u001b[49m\u001b[43m_generate_content\u001b[49m\u001b[43m(\u001b[49m\n\u001b[32m   6566\u001b[39m \u001b[43m      \u001b[49m\u001b[43mmodel\u001b[49m\u001b[43m=\u001b[49m\u001b[43mmodel\u001b[49m\u001b[43m,\u001b[49m\u001b[43m \u001b[49m\u001b[43mcontents\u001b[49m\u001b[43m=\u001b[49m\u001b[43mcontents\u001b[49m\u001b[43m,\u001b[49m\u001b[43m \u001b[49m\u001b[43mconfig\u001b[49m\u001b[43m=\u001b[49m\u001b[43mparsed_config\u001b[49m\n\u001b[32m   6567\u001b[39m \u001b[43m  \u001b[49m\u001b[43m)\u001b[49m\n\u001b[32m   6568\u001b[39m   logger.info(\u001b[33mf\u001b[39m\u001b[33m'\u001b[39m\u001b[33mAFC remote call \u001b[39m\u001b[38;5;132;01m{\u001b[39;00mi\u001b[38;5;132;01m}\u001b[39;00m\u001b[33m is done.\u001b[39m\u001b[33m'\u001b[39m)\n\u001b[32m   6569\u001b[39m   remaining_remote_calls_afc -= \u001b[32m1\u001b[39m\n",
      "\u001b[36mFile \u001b[39m\u001b[32m~/Desktop/atlan/.venv/lib/python3.13/site-packages/google/genai/models.py:5377\u001b[39m, in \u001b[36mModels._generate_content\u001b[39m\u001b[34m(self, model, contents, config)\u001b[39m\n\u001b[32m   5374\u001b[39m request_dict = _common.convert_to_dict(request_dict)\n\u001b[32m   5375\u001b[39m request_dict = _common.encode_unserializable_types(request_dict)\n\u001b[32m-> \u001b[39m\u001b[32m5377\u001b[39m response = \u001b[38;5;28;43mself\u001b[39;49m\u001b[43m.\u001b[49m\u001b[43m_api_client\u001b[49m\u001b[43m.\u001b[49m\u001b[43mrequest\u001b[49m\u001b[43m(\u001b[49m\n\u001b[32m   5378\u001b[39m \u001b[43m    \u001b[49m\u001b[33;43m'\u001b[39;49m\u001b[33;43mpost\u001b[39;49m\u001b[33;43m'\u001b[39;49m\u001b[43m,\u001b[49m\u001b[43m \u001b[49m\u001b[43mpath\u001b[49m\u001b[43m,\u001b[49m\u001b[43m \u001b[49m\u001b[43mrequest_dict\u001b[49m\u001b[43m,\u001b[49m\u001b[43m \u001b[49m\u001b[43mhttp_options\u001b[49m\n\u001b[32m   5379\u001b[39m \u001b[43m\u001b[49m\u001b[43m)\u001b[49m\n\u001b[32m   5381\u001b[39m \u001b[38;5;28;01mif\u001b[39;00m config \u001b[38;5;129;01mis\u001b[39;00m \u001b[38;5;129;01mnot\u001b[39;00m \u001b[38;5;28;01mNone\u001b[39;00m \u001b[38;5;129;01mand\u001b[39;00m \u001b[38;5;28mgetattr\u001b[39m(\n\u001b[32m   5382\u001b[39m     config, \u001b[33m'\u001b[39m\u001b[33mshould_return_http_response\u001b[39m\u001b[33m'\u001b[39m, \u001b[38;5;28;01mNone\u001b[39;00m\n\u001b[32m   5383\u001b[39m ):\n\u001b[32m   5384\u001b[39m   return_value = types.GenerateContentResponse(sdk_http_response=response)\n",
      "\u001b[36mFile \u001b[39m\u001b[32m~/Desktop/atlan/.venv/lib/python3.13/site-packages/google/genai/_api_client.py:1289\u001b[39m, in \u001b[36mBaseApiClient.request\u001b[39m\u001b[34m(self, http_method, path, request_dict, http_options)\u001b[39m\n\u001b[32m   1279\u001b[39m \u001b[38;5;28;01mdef\u001b[39;00m\u001b[38;5;250m \u001b[39m\u001b[34mrequest\u001b[39m(\n\u001b[32m   1280\u001b[39m     \u001b[38;5;28mself\u001b[39m,\n\u001b[32m   1281\u001b[39m     http_method: \u001b[38;5;28mstr\u001b[39m,\n\u001b[32m   (...)\u001b[39m\u001b[32m   1284\u001b[39m     http_options: Optional[HttpOptionsOrDict] = \u001b[38;5;28;01mNone\u001b[39;00m,\n\u001b[32m   1285\u001b[39m ) -> SdkHttpResponse:\n\u001b[32m   1286\u001b[39m   http_request = \u001b[38;5;28mself\u001b[39m._build_request(\n\u001b[32m   1287\u001b[39m       http_method, path, request_dict, http_options\n\u001b[32m   1288\u001b[39m   )\n\u001b[32m-> \u001b[39m\u001b[32m1289\u001b[39m   response = \u001b[38;5;28;43mself\u001b[39;49m\u001b[43m.\u001b[49m\u001b[43m_request\u001b[49m\u001b[43m(\u001b[49m\u001b[43mhttp_request\u001b[49m\u001b[43m,\u001b[49m\u001b[43m \u001b[49m\u001b[43mhttp_options\u001b[49m\u001b[43m,\u001b[49m\u001b[43m \u001b[49m\u001b[43mstream\u001b[49m\u001b[43m=\u001b[49m\u001b[38;5;28;43;01mFalse\u001b[39;49;00m\u001b[43m)\u001b[49m\n\u001b[32m   1290\u001b[39m   response_body = (\n\u001b[32m   1291\u001b[39m       response.response_stream[\u001b[32m0\u001b[39m] \u001b[38;5;28;01mif\u001b[39;00m response.response_stream \u001b[38;5;28;01melse\u001b[39;00m \u001b[33m'\u001b[39m\u001b[33m'\u001b[39m\n\u001b[32m   1292\u001b[39m   )\n\u001b[32m   1293\u001b[39m   \u001b[38;5;28;01mreturn\u001b[39;00m SdkHttpResponse(headers=response.headers, body=response_body)\n",
      "\u001b[36mFile \u001b[39m\u001b[32m~/Desktop/atlan/.venv/lib/python3.13/site-packages/google/genai/_api_client.py:1109\u001b[39m, in \u001b[36mBaseApiClient._request\u001b[39m\u001b[34m(self, http_request, http_options, stream)\u001b[39m\n\u001b[32m   1106\u001b[39m     retry = tenacity.Retrying(**retry_kwargs)\n\u001b[32m   1107\u001b[39m     \u001b[38;5;28;01mreturn\u001b[39;00m retry(\u001b[38;5;28mself\u001b[39m._request_once, http_request, stream)  \u001b[38;5;66;03m# type: ignore[no-any-return]\u001b[39;00m\n\u001b[32m-> \u001b[39m\u001b[32m1109\u001b[39m \u001b[38;5;28;01mreturn\u001b[39;00m \u001b[38;5;28;43mself\u001b[39;49m\u001b[43m.\u001b[49m\u001b[43m_retry\u001b[49m\u001b[43m(\u001b[49m\u001b[38;5;28;43mself\u001b[39;49m\u001b[43m.\u001b[49m\u001b[43m_request_once\u001b[49m\u001b[43m,\u001b[49m\u001b[43m \u001b[49m\u001b[43mhttp_request\u001b[49m\u001b[43m,\u001b[49m\u001b[43m \u001b[49m\u001b[43mstream\u001b[49m\u001b[43m)\u001b[49m\n",
      "\u001b[36mFile \u001b[39m\u001b[32m~/Desktop/atlan/.venv/lib/python3.13/site-packages/tenacity/__init__.py:477\u001b[39m, in \u001b[36mRetrying.__call__\u001b[39m\u001b[34m(self, fn, *args, **kwargs)\u001b[39m\n\u001b[32m    475\u001b[39m retry_state = RetryCallState(retry_object=\u001b[38;5;28mself\u001b[39m, fn=fn, args=args, kwargs=kwargs)\n\u001b[32m    476\u001b[39m \u001b[38;5;28;01mwhile\u001b[39;00m \u001b[38;5;28;01mTrue\u001b[39;00m:\n\u001b[32m--> \u001b[39m\u001b[32m477\u001b[39m     do = \u001b[38;5;28;43mself\u001b[39;49m\u001b[43m.\u001b[49m\u001b[43miter\u001b[49m\u001b[43m(\u001b[49m\u001b[43mretry_state\u001b[49m\u001b[43m=\u001b[49m\u001b[43mretry_state\u001b[49m\u001b[43m)\u001b[49m\n\u001b[32m    478\u001b[39m     \u001b[38;5;28;01mif\u001b[39;00m \u001b[38;5;28misinstance\u001b[39m(do, DoAttempt):\n\u001b[32m    479\u001b[39m         \u001b[38;5;28;01mtry\u001b[39;00m:\n",
      "\u001b[36mFile \u001b[39m\u001b[32m~/Desktop/atlan/.venv/lib/python3.13/site-packages/tenacity/__init__.py:378\u001b[39m, in \u001b[36mBaseRetrying.iter\u001b[39m\u001b[34m(self, retry_state)\u001b[39m\n\u001b[32m    376\u001b[39m result = \u001b[38;5;28;01mNone\u001b[39;00m\n\u001b[32m    377\u001b[39m \u001b[38;5;28;01mfor\u001b[39;00m action \u001b[38;5;129;01min\u001b[39;00m \u001b[38;5;28mself\u001b[39m.iter_state.actions:\n\u001b[32m--> \u001b[39m\u001b[32m378\u001b[39m     result = \u001b[43maction\u001b[49m\u001b[43m(\u001b[49m\u001b[43mretry_state\u001b[49m\u001b[43m)\u001b[49m\n\u001b[32m    379\u001b[39m \u001b[38;5;28;01mreturn\u001b[39;00m result\n",
      "\u001b[36mFile \u001b[39m\u001b[32m~/Desktop/atlan/.venv/lib/python3.13/site-packages/tenacity/__init__.py:400\u001b[39m, in \u001b[36mBaseRetrying._post_retry_check_actions.<locals>.<lambda>\u001b[39m\u001b[34m(rs)\u001b[39m\n\u001b[32m    398\u001b[39m \u001b[38;5;28;01mdef\u001b[39;00m\u001b[38;5;250m \u001b[39m\u001b[34m_post_retry_check_actions\u001b[39m(\u001b[38;5;28mself\u001b[39m, retry_state: \u001b[33m\"\u001b[39m\u001b[33mRetryCallState\u001b[39m\u001b[33m\"\u001b[39m) -> \u001b[38;5;28;01mNone\u001b[39;00m:\n\u001b[32m    399\u001b[39m     \u001b[38;5;28;01mif\u001b[39;00m \u001b[38;5;129;01mnot\u001b[39;00m (\u001b[38;5;28mself\u001b[39m.iter_state.is_explicit_retry \u001b[38;5;129;01mor\u001b[39;00m \u001b[38;5;28mself\u001b[39m.iter_state.retry_run_result):\n\u001b[32m--> \u001b[39m\u001b[32m400\u001b[39m         \u001b[38;5;28mself\u001b[39m._add_action_func(\u001b[38;5;28;01mlambda\u001b[39;00m rs: \u001b[43mrs\u001b[49m\u001b[43m.\u001b[49m\u001b[43moutcome\u001b[49m\u001b[43m.\u001b[49m\u001b[43mresult\u001b[49m\u001b[43m(\u001b[49m\u001b[43m)\u001b[49m)\n\u001b[32m    401\u001b[39m         \u001b[38;5;28;01mreturn\u001b[39;00m\n\u001b[32m    403\u001b[39m     \u001b[38;5;28;01mif\u001b[39;00m \u001b[38;5;28mself\u001b[39m.after \u001b[38;5;129;01mis\u001b[39;00m \u001b[38;5;129;01mnot\u001b[39;00m \u001b[38;5;28;01mNone\u001b[39;00m:\n",
      "\u001b[36mFile \u001b[39m\u001b[32m/opt/homebrew/Cellar/python@3.13/3.13.3/Frameworks/Python.framework/Versions/3.13/lib/python3.13/concurrent/futures/_base.py:449\u001b[39m, in \u001b[36mFuture.result\u001b[39m\u001b[34m(self, timeout)\u001b[39m\n\u001b[32m    447\u001b[39m     \u001b[38;5;28;01mraise\u001b[39;00m CancelledError()\n\u001b[32m    448\u001b[39m \u001b[38;5;28;01melif\u001b[39;00m \u001b[38;5;28mself\u001b[39m._state == FINISHED:\n\u001b[32m--> \u001b[39m\u001b[32m449\u001b[39m     \u001b[38;5;28;01mreturn\u001b[39;00m \u001b[38;5;28;43mself\u001b[39;49m\u001b[43m.\u001b[49m\u001b[43m__get_result\u001b[49m\u001b[43m(\u001b[49m\u001b[43m)\u001b[49m\n\u001b[32m    451\u001b[39m \u001b[38;5;28mself\u001b[39m._condition.wait(timeout)\n\u001b[32m    453\u001b[39m \u001b[38;5;28;01mif\u001b[39;00m \u001b[38;5;28mself\u001b[39m._state \u001b[38;5;129;01min\u001b[39;00m [CANCELLED, CANCELLED_AND_NOTIFIED]:\n",
      "\u001b[36mFile \u001b[39m\u001b[32m/opt/homebrew/Cellar/python@3.13/3.13.3/Frameworks/Python.framework/Versions/3.13/lib/python3.13/concurrent/futures/_base.py:401\u001b[39m, in \u001b[36mFuture.__get_result\u001b[39m\u001b[34m(self)\u001b[39m\n\u001b[32m    399\u001b[39m \u001b[38;5;28;01mif\u001b[39;00m \u001b[38;5;28mself\u001b[39m._exception:\n\u001b[32m    400\u001b[39m     \u001b[38;5;28;01mtry\u001b[39;00m:\n\u001b[32m--> \u001b[39m\u001b[32m401\u001b[39m         \u001b[38;5;28;01mraise\u001b[39;00m \u001b[38;5;28mself\u001b[39m._exception\n\u001b[32m    402\u001b[39m     \u001b[38;5;28;01mfinally\u001b[39;00m:\n\u001b[32m    403\u001b[39m         \u001b[38;5;66;03m# Break a reference cycle with the exception in self._exception\u001b[39;00m\n\u001b[32m    404\u001b[39m         \u001b[38;5;28mself\u001b[39m = \u001b[38;5;28;01mNone\u001b[39;00m\n",
      "\u001b[36mFile \u001b[39m\u001b[32m~/Desktop/atlan/.venv/lib/python3.13/site-packages/tenacity/__init__.py:480\u001b[39m, in \u001b[36mRetrying.__call__\u001b[39m\u001b[34m(self, fn, *args, **kwargs)\u001b[39m\n\u001b[32m    478\u001b[39m \u001b[38;5;28;01mif\u001b[39;00m \u001b[38;5;28misinstance\u001b[39m(do, DoAttempt):\n\u001b[32m    479\u001b[39m     \u001b[38;5;28;01mtry\u001b[39;00m:\n\u001b[32m--> \u001b[39m\u001b[32m480\u001b[39m         result = \u001b[43mfn\u001b[49m\u001b[43m(\u001b[49m\u001b[43m*\u001b[49m\u001b[43margs\u001b[49m\u001b[43m,\u001b[49m\u001b[43m \u001b[49m\u001b[43m*\u001b[49m\u001b[43m*\u001b[49m\u001b[43mkwargs\u001b[49m\u001b[43m)\u001b[49m\n\u001b[32m    481\u001b[39m     \u001b[38;5;28;01mexcept\u001b[39;00m \u001b[38;5;167;01mBaseException\u001b[39;00m:  \u001b[38;5;66;03m# noqa: B902\u001b[39;00m\n\u001b[32m    482\u001b[39m         retry_state.set_exception(sys.exc_info())  \u001b[38;5;66;03m# type: ignore[arg-type]\u001b[39;00m\n",
      "\u001b[36mFile \u001b[39m\u001b[32m~/Desktop/atlan/.venv/lib/python3.13/site-packages/google/genai/_api_client.py:1079\u001b[39m, in \u001b[36mBaseApiClient._request_once\u001b[39m\u001b[34m(self, http_request, stream)\u001b[39m\n\u001b[32m   1075\u001b[39m   \u001b[38;5;28;01mreturn\u001b[39;00m HttpResponse(\n\u001b[32m   1076\u001b[39m       response.headers, response \u001b[38;5;28;01mif\u001b[39;00m stream \u001b[38;5;28;01melse\u001b[39;00m [response.text]\n\u001b[32m   1077\u001b[39m   )\n\u001b[32m   1078\u001b[39m \u001b[38;5;28;01melse\u001b[39;00m:\n\u001b[32m-> \u001b[39m\u001b[32m1079\u001b[39m   response = \u001b[38;5;28;43mself\u001b[39;49m\u001b[43m.\u001b[49m\u001b[43m_httpx_client\u001b[49m\u001b[43m.\u001b[49m\u001b[43mrequest\u001b[49m\u001b[43m(\u001b[49m\n\u001b[32m   1080\u001b[39m \u001b[43m      \u001b[49m\u001b[43mmethod\u001b[49m\u001b[43m=\u001b[49m\u001b[43mhttp_request\u001b[49m\u001b[43m.\u001b[49m\u001b[43mmethod\u001b[49m\u001b[43m,\u001b[49m\n\u001b[32m   1081\u001b[39m \u001b[43m      \u001b[49m\u001b[43murl\u001b[49m\u001b[43m=\u001b[49m\u001b[43mhttp_request\u001b[49m\u001b[43m.\u001b[49m\u001b[43murl\u001b[49m\u001b[43m,\u001b[49m\n\u001b[32m   1082\u001b[39m \u001b[43m      \u001b[49m\u001b[43mheaders\u001b[49m\u001b[43m=\u001b[49m\u001b[43mhttp_request\u001b[49m\u001b[43m.\u001b[49m\u001b[43mheaders\u001b[49m\u001b[43m,\u001b[49m\n\u001b[32m   1083\u001b[39m \u001b[43m      \u001b[49m\u001b[43mcontent\u001b[49m\u001b[43m=\u001b[49m\u001b[43mdata\u001b[49m\u001b[43m,\u001b[49m\n\u001b[32m   1084\u001b[39m \u001b[43m      \u001b[49m\u001b[43mtimeout\u001b[49m\u001b[43m=\u001b[49m\u001b[43mhttp_request\u001b[49m\u001b[43m.\u001b[49m\u001b[43mtimeout\u001b[49m\u001b[43m,\u001b[49m\n\u001b[32m   1085\u001b[39m \u001b[43m  \u001b[49m\u001b[43m)\u001b[49m\n\u001b[32m   1086\u001b[39m   errors.APIError.raise_for_response(response)\n\u001b[32m   1087\u001b[39m   \u001b[38;5;28;01mreturn\u001b[39;00m HttpResponse(\n\u001b[32m   1088\u001b[39m       response.headers, response \u001b[38;5;28;01mif\u001b[39;00m stream \u001b[38;5;28;01melse\u001b[39;00m [response.text]\n\u001b[32m   1089\u001b[39m   )\n",
      "\u001b[36mFile \u001b[39m\u001b[32m~/Desktop/atlan/.venv/lib/python3.13/site-packages/httpx/_client.py:825\u001b[39m, in \u001b[36mClient.request\u001b[39m\u001b[34m(self, method, url, content, data, files, json, params, headers, cookies, auth, follow_redirects, timeout, extensions)\u001b[39m\n\u001b[32m    810\u001b[39m     warnings.warn(message, \u001b[38;5;167;01mDeprecationWarning\u001b[39;00m, stacklevel=\u001b[32m2\u001b[39m)\n\u001b[32m    812\u001b[39m request = \u001b[38;5;28mself\u001b[39m.build_request(\n\u001b[32m    813\u001b[39m     method=method,\n\u001b[32m    814\u001b[39m     url=url,\n\u001b[32m   (...)\u001b[39m\u001b[32m    823\u001b[39m     extensions=extensions,\n\u001b[32m    824\u001b[39m )\n\u001b[32m--> \u001b[39m\u001b[32m825\u001b[39m \u001b[38;5;28;01mreturn\u001b[39;00m \u001b[38;5;28;43mself\u001b[39;49m\u001b[43m.\u001b[49m\u001b[43msend\u001b[49m\u001b[43m(\u001b[49m\u001b[43mrequest\u001b[49m\u001b[43m,\u001b[49m\u001b[43m \u001b[49m\u001b[43mauth\u001b[49m\u001b[43m=\u001b[49m\u001b[43mauth\u001b[49m\u001b[43m,\u001b[49m\u001b[43m \u001b[49m\u001b[43mfollow_redirects\u001b[49m\u001b[43m=\u001b[49m\u001b[43mfollow_redirects\u001b[49m\u001b[43m)\u001b[49m\n",
      "\u001b[36mFile \u001b[39m\u001b[32m~/Desktop/atlan/.venv/lib/python3.13/site-packages/httpx/_client.py:914\u001b[39m, in \u001b[36mClient.send\u001b[39m\u001b[34m(self, request, stream, auth, follow_redirects)\u001b[39m\n\u001b[32m    910\u001b[39m \u001b[38;5;28mself\u001b[39m._set_timeout(request)\n\u001b[32m    912\u001b[39m auth = \u001b[38;5;28mself\u001b[39m._build_request_auth(request, auth)\n\u001b[32m--> \u001b[39m\u001b[32m914\u001b[39m response = \u001b[38;5;28;43mself\u001b[39;49m\u001b[43m.\u001b[49m\u001b[43m_send_handling_auth\u001b[49m\u001b[43m(\u001b[49m\n\u001b[32m    915\u001b[39m \u001b[43m    \u001b[49m\u001b[43mrequest\u001b[49m\u001b[43m,\u001b[49m\n\u001b[32m    916\u001b[39m \u001b[43m    \u001b[49m\u001b[43mauth\u001b[49m\u001b[43m=\u001b[49m\u001b[43mauth\u001b[49m\u001b[43m,\u001b[49m\n\u001b[32m    917\u001b[39m \u001b[43m    \u001b[49m\u001b[43mfollow_redirects\u001b[49m\u001b[43m=\u001b[49m\u001b[43mfollow_redirects\u001b[49m\u001b[43m,\u001b[49m\n\u001b[32m    918\u001b[39m \u001b[43m    \u001b[49m\u001b[43mhistory\u001b[49m\u001b[43m=\u001b[49m\u001b[43m[\u001b[49m\u001b[43m]\u001b[49m\u001b[43m,\u001b[49m\n\u001b[32m    919\u001b[39m \u001b[43m\u001b[49m\u001b[43m)\u001b[49m\n\u001b[32m    920\u001b[39m \u001b[38;5;28;01mtry\u001b[39;00m:\n\u001b[32m    921\u001b[39m     \u001b[38;5;28;01mif\u001b[39;00m \u001b[38;5;129;01mnot\u001b[39;00m stream:\n",
      "\u001b[36mFile \u001b[39m\u001b[32m~/Desktop/atlan/.venv/lib/python3.13/site-packages/httpx/_client.py:942\u001b[39m, in \u001b[36mClient._send_handling_auth\u001b[39m\u001b[34m(self, request, auth, follow_redirects, history)\u001b[39m\n\u001b[32m    939\u001b[39m request = \u001b[38;5;28mnext\u001b[39m(auth_flow)\n\u001b[32m    941\u001b[39m \u001b[38;5;28;01mwhile\u001b[39;00m \u001b[38;5;28;01mTrue\u001b[39;00m:\n\u001b[32m--> \u001b[39m\u001b[32m942\u001b[39m     response = \u001b[38;5;28;43mself\u001b[39;49m\u001b[43m.\u001b[49m\u001b[43m_send_handling_redirects\u001b[49m\u001b[43m(\u001b[49m\n\u001b[32m    943\u001b[39m \u001b[43m        \u001b[49m\u001b[43mrequest\u001b[49m\u001b[43m,\u001b[49m\n\u001b[32m    944\u001b[39m \u001b[43m        \u001b[49m\u001b[43mfollow_redirects\u001b[49m\u001b[43m=\u001b[49m\u001b[43mfollow_redirects\u001b[49m\u001b[43m,\u001b[49m\n\u001b[32m    945\u001b[39m \u001b[43m        \u001b[49m\u001b[43mhistory\u001b[49m\u001b[43m=\u001b[49m\u001b[43mhistory\u001b[49m\u001b[43m,\u001b[49m\n\u001b[32m    946\u001b[39m \u001b[43m    \u001b[49m\u001b[43m)\u001b[49m\n\u001b[32m    947\u001b[39m     \u001b[38;5;28;01mtry\u001b[39;00m:\n\u001b[32m    948\u001b[39m         \u001b[38;5;28;01mtry\u001b[39;00m:\n",
      "\u001b[36mFile \u001b[39m\u001b[32m~/Desktop/atlan/.venv/lib/python3.13/site-packages/httpx/_client.py:979\u001b[39m, in \u001b[36mClient._send_handling_redirects\u001b[39m\u001b[34m(self, request, follow_redirects, history)\u001b[39m\n\u001b[32m    976\u001b[39m \u001b[38;5;28;01mfor\u001b[39;00m hook \u001b[38;5;129;01min\u001b[39;00m \u001b[38;5;28mself\u001b[39m._event_hooks[\u001b[33m\"\u001b[39m\u001b[33mrequest\u001b[39m\u001b[33m\"\u001b[39m]:\n\u001b[32m    977\u001b[39m     hook(request)\n\u001b[32m--> \u001b[39m\u001b[32m979\u001b[39m response = \u001b[38;5;28;43mself\u001b[39;49m\u001b[43m.\u001b[49m\u001b[43m_send_single_request\u001b[49m\u001b[43m(\u001b[49m\u001b[43mrequest\u001b[49m\u001b[43m)\u001b[49m\n\u001b[32m    980\u001b[39m \u001b[38;5;28;01mtry\u001b[39;00m:\n\u001b[32m    981\u001b[39m     \u001b[38;5;28;01mfor\u001b[39;00m hook \u001b[38;5;129;01min\u001b[39;00m \u001b[38;5;28mself\u001b[39m._event_hooks[\u001b[33m\"\u001b[39m\u001b[33mresponse\u001b[39m\u001b[33m\"\u001b[39m]:\n",
      "\u001b[36mFile \u001b[39m\u001b[32m~/Desktop/atlan/.venv/lib/python3.13/site-packages/httpx/_client.py:1014\u001b[39m, in \u001b[36mClient._send_single_request\u001b[39m\u001b[34m(self, request)\u001b[39m\n\u001b[32m   1009\u001b[39m     \u001b[38;5;28;01mraise\u001b[39;00m \u001b[38;5;167;01mRuntimeError\u001b[39;00m(\n\u001b[32m   1010\u001b[39m         \u001b[33m\"\u001b[39m\u001b[33mAttempted to send an async request with a sync Client instance.\u001b[39m\u001b[33m\"\u001b[39m\n\u001b[32m   1011\u001b[39m     )\n\u001b[32m   1013\u001b[39m \u001b[38;5;28;01mwith\u001b[39;00m request_context(request=request):\n\u001b[32m-> \u001b[39m\u001b[32m1014\u001b[39m     response = \u001b[43mtransport\u001b[49m\u001b[43m.\u001b[49m\u001b[43mhandle_request\u001b[49m\u001b[43m(\u001b[49m\u001b[43mrequest\u001b[49m\u001b[43m)\u001b[49m\n\u001b[32m   1016\u001b[39m \u001b[38;5;28;01massert\u001b[39;00m \u001b[38;5;28misinstance\u001b[39m(response.stream, SyncByteStream)\n\u001b[32m   1018\u001b[39m response.request = request\n",
      "\u001b[36mFile \u001b[39m\u001b[32m~/Desktop/atlan/.venv/lib/python3.13/site-packages/httpx/_transports/default.py:250\u001b[39m, in \u001b[36mHTTPTransport.handle_request\u001b[39m\u001b[34m(self, request)\u001b[39m\n\u001b[32m    237\u001b[39m req = httpcore.Request(\n\u001b[32m    238\u001b[39m     method=request.method,\n\u001b[32m    239\u001b[39m     url=httpcore.URL(\n\u001b[32m   (...)\u001b[39m\u001b[32m    247\u001b[39m     extensions=request.extensions,\n\u001b[32m    248\u001b[39m )\n\u001b[32m    249\u001b[39m \u001b[38;5;28;01mwith\u001b[39;00m map_httpcore_exceptions():\n\u001b[32m--> \u001b[39m\u001b[32m250\u001b[39m     resp = \u001b[38;5;28;43mself\u001b[39;49m\u001b[43m.\u001b[49m\u001b[43m_pool\u001b[49m\u001b[43m.\u001b[49m\u001b[43mhandle_request\u001b[49m\u001b[43m(\u001b[49m\u001b[43mreq\u001b[49m\u001b[43m)\u001b[49m\n\u001b[32m    252\u001b[39m \u001b[38;5;28;01massert\u001b[39;00m \u001b[38;5;28misinstance\u001b[39m(resp.stream, typing.Iterable)\n\u001b[32m    254\u001b[39m \u001b[38;5;28;01mreturn\u001b[39;00m Response(\n\u001b[32m    255\u001b[39m     status_code=resp.status,\n\u001b[32m    256\u001b[39m     headers=resp.headers,\n\u001b[32m    257\u001b[39m     stream=ResponseStream(resp.stream),\n\u001b[32m    258\u001b[39m     extensions=resp.extensions,\n\u001b[32m    259\u001b[39m )\n",
      "\u001b[36mFile \u001b[39m\u001b[32m~/Desktop/atlan/.venv/lib/python3.13/site-packages/httpcore/_sync/connection_pool.py:256\u001b[39m, in \u001b[36mConnectionPool.handle_request\u001b[39m\u001b[34m(self, request)\u001b[39m\n\u001b[32m    253\u001b[39m         closing = \u001b[38;5;28mself\u001b[39m._assign_requests_to_connections()\n\u001b[32m    255\u001b[39m     \u001b[38;5;28mself\u001b[39m._close_connections(closing)\n\u001b[32m--> \u001b[39m\u001b[32m256\u001b[39m     \u001b[38;5;28;01mraise\u001b[39;00m exc \u001b[38;5;28;01mfrom\u001b[39;00m\u001b[38;5;250m \u001b[39m\u001b[38;5;28;01mNone\u001b[39;00m\n\u001b[32m    258\u001b[39m \u001b[38;5;66;03m# Return the response. Note that in this case we still have to manage\u001b[39;00m\n\u001b[32m    259\u001b[39m \u001b[38;5;66;03m# the point at which the response is closed.\u001b[39;00m\n\u001b[32m    260\u001b[39m \u001b[38;5;28;01massert\u001b[39;00m \u001b[38;5;28misinstance\u001b[39m(response.stream, typing.Iterable)\n",
      "\u001b[36mFile \u001b[39m\u001b[32m~/Desktop/atlan/.venv/lib/python3.13/site-packages/httpcore/_sync/connection_pool.py:236\u001b[39m, in \u001b[36mConnectionPool.handle_request\u001b[39m\u001b[34m(self, request)\u001b[39m\n\u001b[32m    232\u001b[39m connection = pool_request.wait_for_connection(timeout=timeout)\n\u001b[32m    234\u001b[39m \u001b[38;5;28;01mtry\u001b[39;00m:\n\u001b[32m    235\u001b[39m     \u001b[38;5;66;03m# Send the request on the assigned connection.\u001b[39;00m\n\u001b[32m--> \u001b[39m\u001b[32m236\u001b[39m     response = \u001b[43mconnection\u001b[49m\u001b[43m.\u001b[49m\u001b[43mhandle_request\u001b[49m\u001b[43m(\u001b[49m\n\u001b[32m    237\u001b[39m \u001b[43m        \u001b[49m\u001b[43mpool_request\u001b[49m\u001b[43m.\u001b[49m\u001b[43mrequest\u001b[49m\n\u001b[32m    238\u001b[39m \u001b[43m    \u001b[49m\u001b[43m)\u001b[49m\n\u001b[32m    239\u001b[39m \u001b[38;5;28;01mexcept\u001b[39;00m ConnectionNotAvailable:\n\u001b[32m    240\u001b[39m     \u001b[38;5;66;03m# In some cases a connection may initially be available to\u001b[39;00m\n\u001b[32m    241\u001b[39m     \u001b[38;5;66;03m# handle a request, but then become unavailable.\u001b[39;00m\n\u001b[32m    242\u001b[39m     \u001b[38;5;66;03m#\u001b[39;00m\n\u001b[32m    243\u001b[39m     \u001b[38;5;66;03m# In this case we clear the connection and try again.\u001b[39;00m\n\u001b[32m    244\u001b[39m     pool_request.clear_connection()\n",
      "\u001b[36mFile \u001b[39m\u001b[32m~/Desktop/atlan/.venv/lib/python3.13/site-packages/httpcore/_sync/connection.py:103\u001b[39m, in \u001b[36mHTTPConnection.handle_request\u001b[39m\u001b[34m(self, request)\u001b[39m\n\u001b[32m    100\u001b[39m     \u001b[38;5;28mself\u001b[39m._connect_failed = \u001b[38;5;28;01mTrue\u001b[39;00m\n\u001b[32m    101\u001b[39m     \u001b[38;5;28;01mraise\u001b[39;00m exc\n\u001b[32m--> \u001b[39m\u001b[32m103\u001b[39m \u001b[38;5;28;01mreturn\u001b[39;00m \u001b[38;5;28;43mself\u001b[39;49m\u001b[43m.\u001b[49m\u001b[43m_connection\u001b[49m\u001b[43m.\u001b[49m\u001b[43mhandle_request\u001b[49m\u001b[43m(\u001b[49m\u001b[43mrequest\u001b[49m\u001b[43m)\u001b[49m\n",
      "\u001b[36mFile \u001b[39m\u001b[32m~/Desktop/atlan/.venv/lib/python3.13/site-packages/httpcore/_sync/http11.py:136\u001b[39m, in \u001b[36mHTTP11Connection.handle_request\u001b[39m\u001b[34m(self, request)\u001b[39m\n\u001b[32m    134\u001b[39m     \u001b[38;5;28;01mwith\u001b[39;00m Trace(\u001b[33m\"\u001b[39m\u001b[33mresponse_closed\u001b[39m\u001b[33m\"\u001b[39m, logger, request) \u001b[38;5;28;01mas\u001b[39;00m trace:\n\u001b[32m    135\u001b[39m         \u001b[38;5;28mself\u001b[39m._response_closed()\n\u001b[32m--> \u001b[39m\u001b[32m136\u001b[39m \u001b[38;5;28;01mraise\u001b[39;00m exc\n",
      "\u001b[36mFile \u001b[39m\u001b[32m~/Desktop/atlan/.venv/lib/python3.13/site-packages/httpcore/_sync/http11.py:106\u001b[39m, in \u001b[36mHTTP11Connection.handle_request\u001b[39m\u001b[34m(self, request)\u001b[39m\n\u001b[32m     95\u001b[39m     \u001b[38;5;28;01mpass\u001b[39;00m\n\u001b[32m     97\u001b[39m \u001b[38;5;28;01mwith\u001b[39;00m Trace(\n\u001b[32m     98\u001b[39m     \u001b[33m\"\u001b[39m\u001b[33mreceive_response_headers\u001b[39m\u001b[33m\"\u001b[39m, logger, request, kwargs\n\u001b[32m     99\u001b[39m ) \u001b[38;5;28;01mas\u001b[39;00m trace:\n\u001b[32m    100\u001b[39m     (\n\u001b[32m    101\u001b[39m         http_version,\n\u001b[32m    102\u001b[39m         status,\n\u001b[32m    103\u001b[39m         reason_phrase,\n\u001b[32m    104\u001b[39m         headers,\n\u001b[32m    105\u001b[39m         trailing_data,\n\u001b[32m--> \u001b[39m\u001b[32m106\u001b[39m     ) = \u001b[38;5;28;43mself\u001b[39;49m\u001b[43m.\u001b[49m\u001b[43m_receive_response_headers\u001b[49m\u001b[43m(\u001b[49m\u001b[43m*\u001b[49m\u001b[43m*\u001b[49m\u001b[43mkwargs\u001b[49m\u001b[43m)\u001b[49m\n\u001b[32m    107\u001b[39m     trace.return_value = (\n\u001b[32m    108\u001b[39m         http_version,\n\u001b[32m    109\u001b[39m         status,\n\u001b[32m    110\u001b[39m         reason_phrase,\n\u001b[32m    111\u001b[39m         headers,\n\u001b[32m    112\u001b[39m     )\n\u001b[32m    114\u001b[39m network_stream = \u001b[38;5;28mself\u001b[39m._network_stream\n",
      "\u001b[36mFile \u001b[39m\u001b[32m~/Desktop/atlan/.venv/lib/python3.13/site-packages/httpcore/_sync/http11.py:177\u001b[39m, in \u001b[36mHTTP11Connection._receive_response_headers\u001b[39m\u001b[34m(self, request)\u001b[39m\n\u001b[32m    174\u001b[39m timeout = timeouts.get(\u001b[33m\"\u001b[39m\u001b[33mread\u001b[39m\u001b[33m\"\u001b[39m, \u001b[38;5;28;01mNone\u001b[39;00m)\n\u001b[32m    176\u001b[39m \u001b[38;5;28;01mwhile\u001b[39;00m \u001b[38;5;28;01mTrue\u001b[39;00m:\n\u001b[32m--> \u001b[39m\u001b[32m177\u001b[39m     event = \u001b[38;5;28;43mself\u001b[39;49m\u001b[43m.\u001b[49m\u001b[43m_receive_event\u001b[49m\u001b[43m(\u001b[49m\u001b[43mtimeout\u001b[49m\u001b[43m=\u001b[49m\u001b[43mtimeout\u001b[49m\u001b[43m)\u001b[49m\n\u001b[32m    178\u001b[39m     \u001b[38;5;28;01mif\u001b[39;00m \u001b[38;5;28misinstance\u001b[39m(event, h11.Response):\n\u001b[32m    179\u001b[39m         \u001b[38;5;28;01mbreak\u001b[39;00m\n",
      "\u001b[36mFile \u001b[39m\u001b[32m~/Desktop/atlan/.venv/lib/python3.13/site-packages/httpcore/_sync/http11.py:217\u001b[39m, in \u001b[36mHTTP11Connection._receive_event\u001b[39m\u001b[34m(self, timeout)\u001b[39m\n\u001b[32m    214\u001b[39m     event = \u001b[38;5;28mself\u001b[39m._h11_state.next_event()\n\u001b[32m    216\u001b[39m \u001b[38;5;28;01mif\u001b[39;00m event \u001b[38;5;129;01mis\u001b[39;00m h11.NEED_DATA:\n\u001b[32m--> \u001b[39m\u001b[32m217\u001b[39m     data = \u001b[38;5;28;43mself\u001b[39;49m\u001b[43m.\u001b[49m\u001b[43m_network_stream\u001b[49m\u001b[43m.\u001b[49m\u001b[43mread\u001b[49m\u001b[43m(\u001b[49m\n\u001b[32m    218\u001b[39m \u001b[43m        \u001b[49m\u001b[38;5;28;43mself\u001b[39;49m\u001b[43m.\u001b[49m\u001b[43mREAD_NUM_BYTES\u001b[49m\u001b[43m,\u001b[49m\u001b[43m \u001b[49m\u001b[43mtimeout\u001b[49m\u001b[43m=\u001b[49m\u001b[43mtimeout\u001b[49m\n\u001b[32m    219\u001b[39m \u001b[43m    \u001b[49m\u001b[43m)\u001b[49m\n\u001b[32m    221\u001b[39m     \u001b[38;5;66;03m# If we feed this case through h11 we'll raise an exception like:\u001b[39;00m\n\u001b[32m    222\u001b[39m     \u001b[38;5;66;03m#\u001b[39;00m\n\u001b[32m    223\u001b[39m     \u001b[38;5;66;03m#     httpcore.RemoteProtocolError: can't handle event type\u001b[39;00m\n\u001b[32m   (...)\u001b[39m\u001b[32m    227\u001b[39m     \u001b[38;5;66;03m# perspective. Instead we handle this case distinctly and treat\u001b[39;00m\n\u001b[32m    228\u001b[39m     \u001b[38;5;66;03m# it as a ConnectError.\u001b[39;00m\n\u001b[32m    229\u001b[39m     \u001b[38;5;28;01mif\u001b[39;00m data == \u001b[33mb\u001b[39m\u001b[33m\"\u001b[39m\u001b[33m\"\u001b[39m \u001b[38;5;129;01mand\u001b[39;00m \u001b[38;5;28mself\u001b[39m._h11_state.their_state == h11.SEND_RESPONSE:\n",
      "\u001b[36mFile \u001b[39m\u001b[32m~/Desktop/atlan/.venv/lib/python3.13/site-packages/httpcore/_backends/sync.py:128\u001b[39m, in \u001b[36mSyncStream.read\u001b[39m\u001b[34m(self, max_bytes, timeout)\u001b[39m\n\u001b[32m    126\u001b[39m \u001b[38;5;28;01mwith\u001b[39;00m map_exceptions(exc_map):\n\u001b[32m    127\u001b[39m     \u001b[38;5;28mself\u001b[39m._sock.settimeout(timeout)\n\u001b[32m--> \u001b[39m\u001b[32m128\u001b[39m     \u001b[38;5;28;01mreturn\u001b[39;00m \u001b[38;5;28;43mself\u001b[39;49m\u001b[43m.\u001b[49m\u001b[43m_sock\u001b[49m\u001b[43m.\u001b[49m\u001b[43mrecv\u001b[49m\u001b[43m(\u001b[49m\u001b[43mmax_bytes\u001b[49m\u001b[43m)\u001b[49m\n",
      "\u001b[36mFile \u001b[39m\u001b[32m/opt/homebrew/Cellar/python@3.13/3.13.3/Frameworks/Python.framework/Versions/3.13/lib/python3.13/ssl.py:1285\u001b[39m, in \u001b[36mSSLSocket.recv\u001b[39m\u001b[34m(self, buflen, flags)\u001b[39m\n\u001b[32m   1281\u001b[39m     \u001b[38;5;28;01mif\u001b[39;00m flags != \u001b[32m0\u001b[39m:\n\u001b[32m   1282\u001b[39m         \u001b[38;5;28;01mraise\u001b[39;00m \u001b[38;5;167;01mValueError\u001b[39;00m(\n\u001b[32m   1283\u001b[39m             \u001b[33m\"\u001b[39m\u001b[33mnon-zero flags not allowed in calls to recv() on \u001b[39m\u001b[38;5;132;01m%s\u001b[39;00m\u001b[33m\"\u001b[39m %\n\u001b[32m   1284\u001b[39m             \u001b[38;5;28mself\u001b[39m.\u001b[34m__class__\u001b[39m)\n\u001b[32m-> \u001b[39m\u001b[32m1285\u001b[39m     \u001b[38;5;28;01mreturn\u001b[39;00m \u001b[38;5;28;43mself\u001b[39;49m\u001b[43m.\u001b[49m\u001b[43mread\u001b[49m\u001b[43m(\u001b[49m\u001b[43mbuflen\u001b[49m\u001b[43m)\u001b[49m\n\u001b[32m   1286\u001b[39m \u001b[38;5;28;01melse\u001b[39;00m:\n\u001b[32m   1287\u001b[39m     \u001b[38;5;28;01mreturn\u001b[39;00m \u001b[38;5;28msuper\u001b[39m().recv(buflen, flags)\n",
      "\u001b[36mFile \u001b[39m\u001b[32m/opt/homebrew/Cellar/python@3.13/3.13.3/Frameworks/Python.framework/Versions/3.13/lib/python3.13/ssl.py:1140\u001b[39m, in \u001b[36mSSLSocket.read\u001b[39m\u001b[34m(self, len, buffer)\u001b[39m\n\u001b[32m   1138\u001b[39m         \u001b[38;5;28;01mreturn\u001b[39;00m \u001b[38;5;28mself\u001b[39m._sslobj.read(\u001b[38;5;28mlen\u001b[39m, buffer)\n\u001b[32m   1139\u001b[39m     \u001b[38;5;28;01melse\u001b[39;00m:\n\u001b[32m-> \u001b[39m\u001b[32m1140\u001b[39m         \u001b[38;5;28;01mreturn\u001b[39;00m \u001b[38;5;28;43mself\u001b[39;49m\u001b[43m.\u001b[49m\u001b[43m_sslobj\u001b[49m\u001b[43m.\u001b[49m\u001b[43mread\u001b[49m\u001b[43m(\u001b[49m\u001b[38;5;28;43mlen\u001b[39;49m\u001b[43m)\u001b[49m\n\u001b[32m   1141\u001b[39m \u001b[38;5;28;01mexcept\u001b[39;00m SSLError \u001b[38;5;28;01mas\u001b[39;00m x:\n\u001b[32m   1142\u001b[39m     \u001b[38;5;28;01mif\u001b[39;00m x.args[\u001b[32m0\u001b[39m] == SSL_ERROR_EOF \u001b[38;5;129;01mand\u001b[39;00m \u001b[38;5;28mself\u001b[39m.suppress_ragged_eofs:\n",
      "\u001b[31mKeyboardInterrupt\u001b[39m: "
     ]
    }
   ],
   "source": [
    "from sentence_transformers import SentenceTransformer, util\n",
    "from atlan_helpdesk_pipeline import ChatbotPipeline\n",
    "\n",
    "\n",
    "logging.info(\"--- Step 5: Final Answer Evaluation ---\")\n",
    "\n",
    "# Initialize the full pipeline\n",
    "pipeline = ChatbotPipeline(historical_data=None)\n",
    "\n",
    "# Initialize a model for semantic similarity comparison\n",
    "similarity_model = SentenceTransformer('all-MiniLM-L6-v2')\n",
    "\n",
    "run1_results = []\n",
    "run2_results = []\n",
    "perturbed_results = []\n",
    "\n",
    "# Create the original and perturbed queries\n",
    "original_queries = [ticket['body'] for ticket in full_dataset]\n",
    "perturbed_queries = [ticket['body'].lower().strip() + \" can you please help?\" for ticket in full_dataset]\n",
    "\n",
    "# --- Run 1: Original Queries ---\n",
    "print(\"Executing Run 1 (Original Queries)...\")\n",
    "for i, query in enumerate(original_queries):\n",
    "    if i > 0 and i % 12 == 0:\n",
    "        print(\"Pausing for 60 seconds to avoid API rate limits...\")\n",
    "        time.sleep(60)\n",
    "    print(f\"Processing ticket {i+1}/{len(original_queries)}\", end='\\r')\n",
    "    run1_results.append(pipeline.run(query=query, ticket_id=full_dataset[i]['id']))\n",
    "print(\"\\nRun 1 complete.\")\n",
    "\n",
    "# --- Run 2: Original Queries (for Consistency) ---\n",
    "print(\"Executing Run 2 (Original Queries for Consistency)...\")\n",
    "for i, query in enumerate(original_queries):\n",
    "    if i > 0 and i % 12 == 0:\n",
    "        print(\"Pausing for 60 seconds to avoid API rate limits...\")\n",
    "        time.sleep(60)\n",
    "    print(f\"Processing ticket {i+1}/{len(original_queries)}\", end='\\r')\n",
    "    run2_results.append(pipeline.run(query=query, ticket_id=full_dataset[i]['id']))\n",
    "print(\"\\nRun 2 complete.\")\n",
    "\n",
    "# --- Run 3: Perturbed Queries (for Robustness) ---\n",
    "print(\"Executing Run 3 (Perturbed Queries for Robustness)...\")\n",
    "for i, query in enumerate(perturbed_queries):\n",
    "    if i > 0 and i % 12 == 0:\n",
    "        print(\"Pausing for 60 seconds to avoid API rate limits...\")\n",
    "        time.sleep(60)\n",
    "    print(f\"Processing ticket {i+1}/{len(perturbed_queries)}\", end='\\r')\n",
    "    perturbed_results.append(pipeline.run(query=query, ticket_id=full_dataset[i]['id']))\n",
    "print(\"\\nRun 3 complete.\")"
   ]
  },
  {
   "cell_type": "markdown",
   "id": "d6dff7ed",
   "metadata": {},
   "source": [
    "#### Calculating Similarity Scores and Visualizing Results\n",
    "Now, we'll use semantic similarity (cosine similarity) to compare the answers from our three runs. A score of 1.0 means the answers are identical in meaning."
   ]
  },
  {
   "cell_type": "code",
   "execution_count": null,
   "id": "b4e8a3f0",
   "metadata": {},
   "outputs": [],
   "source": [
    "# Calculate semantic similarity scores\n",
    "run1_answers = [res.final_answer for res in run1_results]\n",
    "run2_answers = [res.final_answer for res in run2_results]\n",
    "perturbed_answers = [res.final_answer for res in perturbed_results]\n",
    "\n",
    "# Encode all answers at once for efficiency\n",
    "embeddings1 = similarity_model.encode(run1_answers, convert_to_tensor=True)\n",
    "embeddings2 = similarity_model.encode(run2_answers, convert_to_tensor=True)\n",
    "embeddings_perturbed = similarity_model.encode(perturbed_answers, convert_to_tensor=True)\n",
    "\n",
    "# Calculate pairwise cosine similarities\n",
    "consistency_scores = util.cos_sim(embeddings1, embeddings2).diag().tolist()\n",
    "robustness_scores = util.cos_sim(embeddings1, embeddings_perturbed).diag().tolist()\n",
    "\n",
    "# Create a DataFrame for analysis\n",
    "eval_data = {\n",
    "    'ticket_id': [res.triage.ticket_id for res in run1_results],\n",
    "    'subject': [ticket['subject'] for ticket in full_dataset],\n",
    "    'consistency_score': consistency_scores,\n",
    "    'robustness_score': robustness_scores,\n",
    "    'answer_run1': run1_answers,\n",
    "    'sources_run1': [res.rag_response.get('sources', []) for res in run1_results]\n",
    "}\n",
    "final_eval_df = pd.DataFrame(eval_data)\n",
    "\n",
    "# Save the detailed results for manual review\n",
    "report_path = os.path.join(output_dir, \"final_answer_evaluation_report.csv\")\n",
    "final_eval_df.to_csv(report_path, index=False)\n",
    "print(f\"Detailed report for manual review saved to: {report_path}\")\n",
    "\n",
    "# Visualize the distributions\n",
    "plt.figure(figsize=(14, 7))\n",
    "sns.boxplot(data=final_eval_df[['consistency_score', 'robustness_score']], palette='pastel')\n",
    "plt.title('Distribution of Final Answer Scores', fontsize=18, pad=20)\n",
    "plt.ylabel('Semantic Similarity Score (1.0 = Identical)', fontsize=14)\n",
    "plt.ylim(0.8, 1.01) # Zoom in on the top range for clarity\n",
    "plt.show()\n",
    "\n",
    "display(final_eval_df.head())"
   ]
  }
 ],
 "metadata": {
  "kernelspec": {
   "display_name": ".venv",
   "language": "python",
   "name": "python3"
  },
  "language_info": {
   "codemirror_mode": {
    "name": "ipython",
    "version": 3
   },
   "file_extension": ".py",
   "mimetype": "text/x-python",
   "name": "python",
   "nbconvert_exporter": "python",
   "pygments_lexer": "ipython3",
   "version": "3.13.3"
  }
 },
 "nbformat": 4,
 "nbformat_minor": 5
}
