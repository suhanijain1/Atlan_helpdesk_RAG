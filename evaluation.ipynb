{
 "cells": [
  {
   "cell_type": "code",
   "execution_count": 2,
   "id": "a6178a41",
   "metadata": {},
   "outputs": [],
   "source": [
    "import json\n",
    "import os\n",
    "import logging\n",
    "import pandas as pd\n",
    "from dataclasses import asdict\n",
    "\n",
    "# Import your pipeline's Triage module and the evaluation functions\n",
    "from triage import TriageClassifier\n",
    "from run_batch_evaluation import run_evaluation\n",
    "\n",
    "# Import visualization libraries\n",
    "import matplotlib.pyplot as plt\n",
    "import seaborn as sns\n",
    "from IPython.display import Image, display\n",
    "\n",
    "# Configure notebook environment\n",
    "logging.basicConfig(level=logging.INFO, format='%(asctime)s - %(levelname)s - %(message)s')\n",
    "sns.set_theme(style=\"whitegrid\", rc={\"figure.figsize\": (12, 8)})\n",
    "pd.set_option('display.max_colwidth', 100)"
   ]
  },
  {
   "cell_type": "code",
   "execution_count": 3,
   "id": "fd59dd9f",
   "metadata": {},
   "outputs": [
    {
     "name": "stderr",
     "output_type": "stream",
     "text": [
      "2025-09-15 04:28:57,221 - INFO - --- Step 1: Consolidating Datasets ---\n",
      "2025-09-15 04:28:57,224 - INFO - Consolidated dataset contains 45 tickets.\n"
     ]
    }
   ],
   "source": [
    "# Consolidate the Dataset\n",
    "logging.info(\"--- Step 1: Consolidating Datasets ---\")\n",
    "\n",
    "# Load original tickets\n",
    "try:\n",
    "    with open('sample_tickets.json', 'r') as f:\n",
    "        original_tickets = json.load(f)\n",
    "except FileNotFoundError:\n",
    "    logging.error(\"'sample_tickets.json' not found. Aborting.\")\n",
    "    original_tickets = []\n",
    "    \n",
    "# Add 15 generated tickets\n",
    "new_tickets = [\n",
    "      {\"id\": \"TICKET-275\", \"subject\": \"MongoDB Atlas Connector - Not seeing collections\", \"body\": \"Hi, we've set up the MongoDB Atlas connector...\"},\n",
    "      {\"id\": \"TICKET-276\", \"subject\": \"Incorrect lineage showing extra hop\", \"body\": \"The lineage for our `dim_users` table seems incorrect...\"},\n",
    "      {\"id\": \"TICKET-277\", \"subject\": \"Rate limiting on API for bulk updates\", \"body\": \"We are trying to programmatically apply a 'data-quality-certified' tag...\"},\n",
    "      {\"id\": \"TICKET-278\", \"subject\": \"Conflict between Persona and Purpose policies\", \"body\": \"We have a data steward who is part of a 'Data Governance' Persona...\"},\n",
    "      {\"id\": \"TICKET-279\", \"subject\": \"SCIM de-provisioning not revoking access\", \"body\": \"We have configured SCIM with our Azure AD...\"},\n",
    "      {\"id\": \"TICKET-280\", \"subject\": \"What's the difference between a 'Verified' asset and a 'Draft' asset?\", \"body\": \"Some of our assets have a green checkmark and say 'Verified'...\"},\n",
    "      {\"id\": \"TICKET-281\", \"subject\": \"UI is slow when viewing assets with many columns\", \"body\": \"We have a few very wide tables in our data warehouse...\"},\n",
    "      {\"id\": \"TICKET-282\", \"subject\": \"Implementing Data Mesh concepts in Atlan\", \"body\": \"Our organization is moving towards a data mesh architecture...\"},\n",
    "      {\"id\": \"TICKET-283\", \"subject\": \"Is it possible to get lineage from a stored procedure?\", \"body\": \"A lot of our core business logic is encapsulated in complex Snowflake stored procedures...\"},\n",
    "      {\"id\": \"TICKET-284\", \"subject\": \"Querying Power BI datasets via Atlan\", \"body\": \"I can see all of our Power BI workspaces, reports, and datasets in Atlan...\"},\n",
    "      {\"id\": \"TICKET-285\", \"subject\": \"How to handle API token rotation securely?\", \"body\": \"Our security policy requires that all API tokens used in production services must be rotated...\"},\n",
    "      {\"id\": \"TICKET-286\", \"subject\": \"Tableau workbook lineage showing incorrect upstream sources\", \"body\": \"We have a Tableau workbook that sources data from a specific view...\"},\n",
    "      {\"id\": \"TICKET-287\", \"subject\": \"Propagating tags through lineage\", \"body\": \"I've tagged a column in our source table as 'PII'...\"},\n",
    "      {\"id\": \"TICKET-288\", \"subject\": \"Urgent: 'Internal Server Error' when accessing Governance tab\", \"body\": \"This is a critical issue. None of our admins can access the Governance tab...\"},\n",
    "      {\"id\": \"TICKET-289\", \"subject\": \"Guidance on using custom metadata vs. tags\", \"body\": \"I'm trying to decide how to model some new metadata for our assets...\"}\n",
    "    ]\n",
    "\n",
    "full_dataset = original_tickets + new_tickets\n",
    "logging.info(f\"Consolidated dataset contains {len(full_dataset)} tickets.\")"
   ]
  },
  {
   "cell_type": "markdown",
   "id": "c5266fc0",
   "metadata": {},
   "source": [
    "Now, we will run all 45 tickets through the TriageClassifier to generate the predictions that will form the basis of our evaluation."
   ]
  },
  {
   "cell_type": "code",
   "execution_count": 5,
   "id": "c6bae6b7",
   "metadata": {},
   "outputs": [
    {
     "name": "stderr",
     "output_type": "stream",
     "text": [
      "2025-09-15 04:33:29,219 - INFO - --- Step 2: Classifying All Tickets ---\n",
      "2025-09-15 04:33:29,251 - INFO - Use pytorch device_name: mps\n",
      "2025-09-15 04:33:29,251 - INFO - Load pretrained SentenceTransformer: all-MiniLM-L6-v2\n",
      "2025-09-15 04:33:29,251 - INFO - Use pytorch device_name: mps\n",
      "2025-09-15 04:33:29,251 - INFO - Load pretrained SentenceTransformer: all-MiniLM-L6-v2\n",
      "2025-09-15 04:33:34,422 - INFO - AFC is enabled with max remote calls: 10.\n"
     ]
    },
    {
     "name": "stdout",
     "output_type": "stream",
     "text": [
      "Classifying ticket 1/45: TICKET-245\r"
     ]
    },
    {
     "name": "stderr",
     "output_type": "stream",
     "text": [
      "2025-09-15 04:33:37,238 - INFO - HTTP Request: POST https://generativelanguage.googleapis.com/v1beta/models/gemini-2.5-flash-lite:generateContent \"HTTP/1.1 200 OK\"\n",
      "2025-09-15 04:33:37,242 - INFO - AFC remote call 1 is done.\n",
      "2025-09-15 04:33:37,243 - INFO - ✅ Classified ticket TICKET-245: ['CONNECTOR', 'HOW_TO'] (confidence: 0.950)\n",
      "2025-09-15 04:33:37,244 - INFO - AFC is enabled with max remote calls: 10.\n",
      "2025-09-15 04:33:37,242 - INFO - AFC remote call 1 is done.\n",
      "2025-09-15 04:33:37,243 - INFO - ✅ Classified ticket TICKET-245: ['CONNECTOR', 'HOW_TO'] (confidence: 0.950)\n",
      "2025-09-15 04:33:37,244 - INFO - AFC is enabled with max remote calls: 10.\n"
     ]
    },
    {
     "name": "stdout",
     "output_type": "stream",
     "text": [
      "Classifying ticket 2/45: TICKET-246\r"
     ]
    },
    {
     "name": "stderr",
     "output_type": "stream",
     "text": [
      "2025-09-15 04:33:38,669 - INFO - HTTP Request: POST https://generativelanguage.googleapis.com/v1beta/models/gemini-2.5-flash-lite:generateContent \"HTTP/1.1 200 OK\"\n",
      "2025-09-15 04:33:38,670 - INFO - AFC remote call 1 is done.\n",
      "2025-09-15 04:33:38,670 - INFO - ✅ Classified ticket TICKET-246: ['HOW_TO', 'CONNECTOR', 'LINEAGE'] (confidence: 0.900)\n",
      "2025-09-15 04:33:38,670 - INFO - AFC is enabled with max remote calls: 10.\n",
      "2025-09-15 04:33:38,670 - INFO - AFC remote call 1 is done.\n",
      "2025-09-15 04:33:38,670 - INFO - ✅ Classified ticket TICKET-246: ['HOW_TO', 'CONNECTOR', 'LINEAGE'] (confidence: 0.900)\n",
      "2025-09-15 04:33:38,670 - INFO - AFC is enabled with max remote calls: 10.\n"
     ]
    },
    {
     "name": "stdout",
     "output_type": "stream",
     "text": [
      "Classifying ticket 3/45: TICKET-247\r"
     ]
    },
    {
     "name": "stderr",
     "output_type": "stream",
     "text": [
      "2025-09-15 04:33:39,796 - INFO - HTTP Request: POST https://generativelanguage.googleapis.com/v1beta/models/gemini-2.5-flash-lite:generateContent \"HTTP/1.1 200 OK\"\n",
      "2025-09-15 04:33:39,797 - INFO - AFC remote call 1 is done.\n",
      "2025-09-15 04:33:39,798 - INFO - ✅ Classified ticket TICKET-247: ['CONNECTOR', 'HOW_TO'] (confidence: 0.900)\n",
      "2025-09-15 04:33:39,798 - INFO - AFC is enabled with max remote calls: 10.\n",
      "2025-09-15 04:33:39,797 - INFO - AFC remote call 1 is done.\n",
      "2025-09-15 04:33:39,798 - INFO - ✅ Classified ticket TICKET-247: ['CONNECTOR', 'HOW_TO'] (confidence: 0.900)\n",
      "2025-09-15 04:33:39,798 - INFO - AFC is enabled with max remote calls: 10.\n"
     ]
    },
    {
     "name": "stdout",
     "output_type": "stream",
     "text": [
      "Classifying ticket 4/45: TICKET-248\r"
     ]
    },
    {
     "name": "stderr",
     "output_type": "stream",
     "text": [
      "2025-09-15 04:33:41,146 - INFO - HTTP Request: POST https://generativelanguage.googleapis.com/v1beta/models/gemini-2.5-flash-lite:generateContent \"HTTP/1.1 200 OK\"\n",
      "2025-09-15 04:33:41,147 - INFO - AFC remote call 1 is done.\n",
      "2025-09-15 04:33:41,147 - INFO - ✅ Classified ticket TICKET-248: ['HOW_TO', 'CONNECTOR'] (confidence: 0.900)\n",
      "2025-09-15 04:33:41,148 - INFO - AFC is enabled with max remote calls: 10.\n",
      "2025-09-15 04:33:41,147 - INFO - AFC remote call 1 is done.\n",
      "2025-09-15 04:33:41,147 - INFO - ✅ Classified ticket TICKET-248: ['HOW_TO', 'CONNECTOR'] (confidence: 0.900)\n",
      "2025-09-15 04:33:41,148 - INFO - AFC is enabled with max remote calls: 10.\n"
     ]
    },
    {
     "name": "stdout",
     "output_type": "stream",
     "text": [
      "Classifying ticket 5/45: TICKET-249\r"
     ]
    },
    {
     "name": "stderr",
     "output_type": "stream",
     "text": [
      "2025-09-15 04:33:42,168 - INFO - HTTP Request: POST https://generativelanguage.googleapis.com/v1beta/models/gemini-2.5-flash-lite:generateContent \"HTTP/1.1 200 OK\"\n",
      "2025-09-15 04:33:42,171 - INFO - AFC remote call 1 is done.\n",
      "2025-09-15 04:33:42,171 - INFO - ✅ Classified ticket TICKET-249: ['LINEAGE', 'HOW_TO'] (confidence: 0.900)\n",
      "2025-09-15 04:33:42,172 - INFO - AFC is enabled with max remote calls: 10.\n",
      "2025-09-15 04:33:42,171 - INFO - AFC remote call 1 is done.\n",
      "2025-09-15 04:33:42,171 - INFO - ✅ Classified ticket TICKET-249: ['LINEAGE', 'HOW_TO'] (confidence: 0.900)\n",
      "2025-09-15 04:33:42,172 - INFO - AFC is enabled with max remote calls: 10.\n"
     ]
    },
    {
     "name": "stdout",
     "output_type": "stream",
     "text": [
      "Classifying ticket 6/45: TICKET-250\r"
     ]
    },
    {
     "name": "stderr",
     "output_type": "stream",
     "text": [
      "2025-09-15 04:33:43,539 - INFO - HTTP Request: POST https://generativelanguage.googleapis.com/v1beta/models/gemini-2.5-flash-lite:generateContent \"HTTP/1.1 200 OK\"\n",
      "2025-09-15 04:33:43,541 - INFO - AFC remote call 1 is done.\n",
      "2025-09-15 04:33:43,541 - INFO - ✅ Classified ticket TICKET-250: ['HOW_TO', 'CONNECTOR', 'LINEAGE'] (confidence: 0.900)\n",
      "2025-09-15 04:33:43,541 - INFO - AFC is enabled with max remote calls: 10.\n",
      "2025-09-15 04:33:43,541 - INFO - AFC remote call 1 is done.\n",
      "2025-09-15 04:33:43,541 - INFO - ✅ Classified ticket TICKET-250: ['HOW_TO', 'CONNECTOR', 'LINEAGE'] (confidence: 0.900)\n",
      "2025-09-15 04:33:43,541 - INFO - AFC is enabled with max remote calls: 10.\n"
     ]
    },
    {
     "name": "stdout",
     "output_type": "stream",
     "text": [
      "Classifying ticket 7/45: TICKET-251\r"
     ]
    },
    {
     "name": "stderr",
     "output_type": "stream",
     "text": [
      "2025-09-15 04:33:44,601 - INFO - HTTP Request: POST https://generativelanguage.googleapis.com/v1beta/models/gemini-2.5-flash-lite:generateContent \"HTTP/1.1 200 OK\"\n",
      "2025-09-15 04:33:44,603 - INFO - AFC remote call 1 is done.\n",
      "2025-09-15 04:33:44,603 - INFO - ✅ Classified ticket TICKET-251: ['HOW_TO', 'PRODUCT'] (confidence: 0.900)\n",
      "2025-09-15 04:33:44,604 - INFO - AFC is enabled with max remote calls: 10.\n",
      "2025-09-15 04:33:44,603 - INFO - AFC remote call 1 is done.\n",
      "2025-09-15 04:33:44,603 - INFO - ✅ Classified ticket TICKET-251: ['HOW_TO', 'PRODUCT'] (confidence: 0.900)\n",
      "2025-09-15 04:33:44,604 - INFO - AFC is enabled with max remote calls: 10.\n"
     ]
    },
    {
     "name": "stdout",
     "output_type": "stream",
     "text": [
      "Classifying ticket 8/45: TICKET-252\r"
     ]
    },
    {
     "name": "stderr",
     "output_type": "stream",
     "text": [
      "2025-09-15 04:33:45,920 - INFO - HTTP Request: POST https://generativelanguage.googleapis.com/v1beta/models/gemini-2.5-flash-lite:generateContent \"HTTP/1.1 200 OK\"\n",
      "2025-09-15 04:33:45,922 - INFO - AFC remote call 1 is done.\n",
      "2025-09-15 04:33:45,923 - INFO - ✅ Classified ticket TICKET-252: ['LINEAGE', 'API_SDK'] (confidence: 0.900)\n",
      "2025-09-15 04:33:45,924 - INFO - AFC is enabled with max remote calls: 10.\n",
      "2025-09-15 04:33:45,922 - INFO - AFC remote call 1 is done.\n",
      "2025-09-15 04:33:45,923 - INFO - ✅ Classified ticket TICKET-252: ['LINEAGE', 'API_SDK'] (confidence: 0.900)\n",
      "2025-09-15 04:33:45,924 - INFO - AFC is enabled with max remote calls: 10.\n"
     ]
    },
    {
     "name": "stdout",
     "output_type": "stream",
     "text": [
      "Classifying ticket 9/45: TICKET-253\r"
     ]
    },
    {
     "name": "stderr",
     "output_type": "stream",
     "text": [
      "2025-09-15 04:33:47,171 - INFO - HTTP Request: POST https://generativelanguage.googleapis.com/v1beta/models/gemini-2.5-flash-lite:generateContent \"HTTP/1.1 200 OK\"\n",
      "2025-09-15 04:33:47,173 - INFO - AFC remote call 1 is done.\n",
      "2025-09-15 04:33:47,173 - INFO - ✅ Classified ticket TICKET-253: ['CONNECTOR', 'LINEAGE', 'PRODUCT'] (confidence: 0.900)\n",
      "2025-09-15 04:33:47,174 - INFO - AFC is enabled with max remote calls: 10.\n",
      "2025-09-15 04:33:47,173 - INFO - AFC remote call 1 is done.\n",
      "2025-09-15 04:33:47,173 - INFO - ✅ Classified ticket TICKET-253: ['CONNECTOR', 'LINEAGE', 'PRODUCT'] (confidence: 0.900)\n",
      "2025-09-15 04:33:47,174 - INFO - AFC is enabled with max remote calls: 10.\n"
     ]
    },
    {
     "name": "stdout",
     "output_type": "stream",
     "text": [
      "Classifying ticket 10/45: TICKET-254\r"
     ]
    },
    {
     "name": "stderr",
     "output_type": "stream",
     "text": [
      "2025-09-15 04:33:48,527 - INFO - HTTP Request: POST https://generativelanguage.googleapis.com/v1beta/models/gemini-2.5-flash-lite:generateContent \"HTTP/1.1 200 OK\"\n",
      "2025-09-15 04:33:48,528 - INFO - AFC remote call 1 is done.\n",
      "2025-09-15 04:33:48,529 - INFO - ✅ Classified ticket TICKET-254: ['GLOSSARY', 'API_SDK', 'OTHER'] (confidence: 0.900)\n",
      "2025-09-15 04:33:48,529 - INFO - AFC is enabled with max remote calls: 10.\n",
      "2025-09-15 04:33:48,528 - INFO - AFC remote call 1 is done.\n",
      "2025-09-15 04:33:48,529 - INFO - ✅ Classified ticket TICKET-254: ['GLOSSARY', 'API_SDK', 'OTHER'] (confidence: 0.900)\n",
      "2025-09-15 04:33:48,529 - INFO - AFC is enabled with max remote calls: 10.\n"
     ]
    },
    {
     "name": "stdout",
     "output_type": "stream",
     "text": [
      "Classifying ticket 11/45: TICKET-255\r"
     ]
    },
    {
     "name": "stderr",
     "output_type": "stream",
     "text": [
      "2025-09-15 04:33:49,537 - INFO - HTTP Request: POST https://generativelanguage.googleapis.com/v1beta/models/gemini-2.5-flash-lite:generateContent \"HTTP/1.1 200 OK\"\n",
      "2025-09-15 04:33:49,539 - INFO - AFC remote call 1 is done.\n",
      "2025-09-15 04:33:49,539 - INFO - ✅ Classified ticket TICKET-255: ['HOW_TO', 'GLOSSARY', 'BEST_PRACTICES'] (confidence: 0.800)\n",
      "2025-09-15 04:33:49,539 - INFO - AFC is enabled with max remote calls: 10.\n",
      "2025-09-15 04:33:49,539 - INFO - AFC remote call 1 is done.\n",
      "2025-09-15 04:33:49,539 - INFO - ✅ Classified ticket TICKET-255: ['HOW_TO', 'GLOSSARY', 'BEST_PRACTICES'] (confidence: 0.800)\n",
      "2025-09-15 04:33:49,539 - INFO - AFC is enabled with max remote calls: 10.\n"
     ]
    },
    {
     "name": "stdout",
     "output_type": "stream",
     "text": [
      "Classifying ticket 12/45: TICKET-256\r"
     ]
    },
    {
     "name": "stderr",
     "output_type": "stream",
     "text": [
      "2025-09-15 04:33:50,958 - INFO - HTTP Request: POST https://generativelanguage.googleapis.com/v1beta/models/gemini-2.5-flash-lite:generateContent \"HTTP/1.1 200 OK\"\n",
      "2025-09-15 04:33:50,960 - INFO - AFC remote call 1 is done.\n",
      "2025-09-15 04:33:50,960 - INFO - ✅ Classified ticket TICKET-256: ['SSO', 'HOW_TO'] (confidence: 0.900)\n",
      "2025-09-15 04:33:50,961 - INFO - AFC is enabled with max remote calls: 10.\n",
      "2025-09-15 04:33:50,960 - INFO - AFC remote call 1 is done.\n",
      "2025-09-15 04:33:50,960 - INFO - ✅ Classified ticket TICKET-256: ['SSO', 'HOW_TO'] (confidence: 0.900)\n",
      "2025-09-15 04:33:50,961 - INFO - AFC is enabled with max remote calls: 10.\n"
     ]
    },
    {
     "name": "stdout",
     "output_type": "stream",
     "text": [
      "Classifying ticket 13/45: TICKET-257\r"
     ]
    },
    {
     "name": "stderr",
     "output_type": "stream",
     "text": [
      "2025-09-15 04:33:52,010 - INFO - HTTP Request: POST https://generativelanguage.googleapis.com/v1beta/models/gemini-2.5-flash-lite:generateContent \"HTTP/1.1 200 OK\"\n",
      "2025-09-15 04:33:52,012 - INFO - AFC remote call 1 is done.\n",
      "2025-09-15 04:33:52,013 - INFO - ✅ Classified ticket TICKET-257: ['HOW_TO', 'GLOSSARY', 'SENSITIVE_DATA'] (confidence: 0.900)\n",
      "2025-09-15 04:33:52,013 - INFO - AFC is enabled with max remote calls: 10.\n",
      "2025-09-15 04:33:52,012 - INFO - AFC remote call 1 is done.\n",
      "2025-09-15 04:33:52,013 - INFO - ✅ Classified ticket TICKET-257: ['HOW_TO', 'GLOSSARY', 'SENSITIVE_DATA'] (confidence: 0.900)\n",
      "2025-09-15 04:33:52,013 - INFO - AFC is enabled with max remote calls: 10.\n"
     ]
    },
    {
     "name": "stdout",
     "output_type": "stream",
     "text": [
      "Classifying ticket 14/45: TICKET-258\r"
     ]
    },
    {
     "name": "stderr",
     "output_type": "stream",
     "text": [
      "2025-09-15 04:33:53,315 - INFO - HTTP Request: POST https://generativelanguage.googleapis.com/v1beta/models/gemini-2.5-flash-lite:generateContent \"HTTP/1.1 200 OK\"\n",
      "2025-09-15 04:33:53,317 - INFO - AFC remote call 1 is done.\n",
      "2025-09-15 04:33:53,318 - INFO - ✅ Classified ticket TICKET-258: ['HOW_TO', 'BEST_PRACTICES'] (confidence: 0.900)\n",
      "2025-09-15 04:33:53,319 - INFO - AFC is enabled with max remote calls: 10.\n",
      "2025-09-15 04:33:53,317 - INFO - AFC remote call 1 is done.\n",
      "2025-09-15 04:33:53,318 - INFO - ✅ Classified ticket TICKET-258: ['HOW_TO', 'BEST_PRACTICES'] (confidence: 0.900)\n",
      "2025-09-15 04:33:53,319 - INFO - AFC is enabled with max remote calls: 10.\n"
     ]
    },
    {
     "name": "stdout",
     "output_type": "stream",
     "text": [
      "Classifying ticket 15/45: TICKET-259\r"
     ]
    },
    {
     "name": "stderr",
     "output_type": "stream",
     "text": [
      "2025-09-15 04:33:54,408 - INFO - HTTP Request: POST https://generativelanguage.googleapis.com/v1beta/models/gemini-2.5-flash-lite:generateContent \"HTTP/1.1 200 OK\"\n",
      "2025-09-15 04:33:54,412 - INFO - AFC remote call 1 is done.\n",
      "2025-09-15 04:33:54,413 - INFO - ✅ Classified ticket TICKET-259: ['SENSITIVE_DATA'] (confidence: 0.900)\n",
      "2025-09-15 04:33:54,414 - INFO - AFC is enabled with max remote calls: 10.\n",
      "2025-09-15 04:33:54,412 - INFO - AFC remote call 1 is done.\n",
      "2025-09-15 04:33:54,413 - INFO - ✅ Classified ticket TICKET-259: ['SENSITIVE_DATA'] (confidence: 0.900)\n",
      "2025-09-15 04:33:54,414 - INFO - AFC is enabled with max remote calls: 10.\n"
     ]
    },
    {
     "name": "stdout",
     "output_type": "stream",
     "text": [
      "Classifying ticket 16/45: TICKET-260\r"
     ]
    },
    {
     "name": "stderr",
     "output_type": "stream",
     "text": [
      "2025-09-15 04:33:55,772 - INFO - HTTP Request: POST https://generativelanguage.googleapis.com/v1beta/models/gemini-2.5-flash-lite:generateContent \"HTTP/1.1 200 OK\"\n",
      "2025-09-15 04:33:55,776 - INFO - AFC remote call 1 is done.\n",
      "2025-09-15 04:33:55,777 - INFO - ✅ Classified ticket TICKET-260: ['API_SDK', 'HOW_TO'] (confidence: 0.900)\n",
      "2025-09-15 04:33:55,778 - INFO - AFC is enabled with max remote calls: 10.\n",
      "2025-09-15 04:33:55,776 - INFO - AFC remote call 1 is done.\n",
      "2025-09-15 04:33:55,777 - INFO - ✅ Classified ticket TICKET-260: ['API_SDK', 'HOW_TO'] (confidence: 0.900)\n",
      "2025-09-15 04:33:55,778 - INFO - AFC is enabled with max remote calls: 10.\n"
     ]
    },
    {
     "name": "stdout",
     "output_type": "stream",
     "text": [
      "Classifying ticket 17/45: TICKET-261\r"
     ]
    },
    {
     "name": "stderr",
     "output_type": "stream",
     "text": [
      "2025-09-15 04:33:56,944 - INFO - HTTP Request: POST https://generativelanguage.googleapis.com/v1beta/models/gemini-2.5-flash-lite:generateContent \"HTTP/1.1 200 OK\"\n",
      "2025-09-15 04:33:56,949 - INFO - AFC remote call 1 is done.\n",
      "2025-09-15 04:33:56,950 - INFO - ✅ Classified ticket TICKET-261: ['SSO', 'HOW_TO'] (confidence: 0.900)\n",
      "2025-09-15 04:33:56,950 - INFO - AFC is enabled with max remote calls: 10.\n",
      "2025-09-15 04:33:56,949 - INFO - AFC remote call 1 is done.\n",
      "2025-09-15 04:33:56,950 - INFO - ✅ Classified ticket TICKET-261: ['SSO', 'HOW_TO'] (confidence: 0.900)\n",
      "2025-09-15 04:33:56,950 - INFO - AFC is enabled with max remote calls: 10.\n"
     ]
    },
    {
     "name": "stdout",
     "output_type": "stream",
     "text": [
      "Classifying ticket 18/45: TICKET-262\r"
     ]
    },
    {
     "name": "stderr",
     "output_type": "stream",
     "text": [
      "2025-09-15 04:33:58,227 - INFO - HTTP Request: POST https://generativelanguage.googleapis.com/v1beta/models/gemini-2.5-flash-lite:generateContent \"HTTP/1.1 200 OK\"\n",
      "2025-09-15 04:33:58,231 - INFO - AFC remote call 1 is done.\n",
      "2025-09-15 04:33:58,232 - INFO - ✅ Classified ticket TICKET-262: ['SSO', 'OTHER'] (confidence: 0.900)\n",
      "2025-09-15 04:33:58,233 - INFO - AFC is enabled with max remote calls: 10.\n",
      "2025-09-15 04:33:58,231 - INFO - AFC remote call 1 is done.\n",
      "2025-09-15 04:33:58,232 - INFO - ✅ Classified ticket TICKET-262: ['SSO', 'OTHER'] (confidence: 0.900)\n",
      "2025-09-15 04:33:58,233 - INFO - AFC is enabled with max remote calls: 10.\n"
     ]
    },
    {
     "name": "stdout",
     "output_type": "stream",
     "text": [
      "Classifying ticket 19/45: TICKET-263\r"
     ]
    },
    {
     "name": "stderr",
     "output_type": "stream",
     "text": [
      "2025-09-15 04:33:58,640 - INFO - HTTP Request: POST https://generativelanguage.googleapis.com/v1beta/models/gemini-2.5-flash-lite:generateContent \"HTTP/1.1 429 Too Many Requests\"\n",
      "2025-09-15 04:33:58,643 - ERROR - ❌ Error classifying ticket TICKET-263: 429 RESOURCE_EXHAUSTED. {'error': {'code': 429, 'message': 'You exceeded your current quota, please check your plan and billing details. For more information on this error, head to: https://ai.google.dev/gemini-api/docs/rate-limits.', 'status': 'RESOURCE_EXHAUSTED', 'details': [{'@type': 'type.googleapis.com/google.rpc.QuotaFailure', 'violations': [{'quotaMetric': 'generativelanguage.googleapis.com/generate_content_free_tier_requests', 'quotaId': 'GenerateRequestsPerMinutePerProjectPerModel-FreeTier', 'quotaDimensions': {'location': 'global', 'model': 'gemini-2.5-flash-lite'}, 'quotaValue': '15'}]}, {'@type': 'type.googleapis.com/google.rpc.Help', 'links': [{'description': 'Learn more about Gemini API quotas', 'url': 'https://ai.google.dev/gemini-api/docs/rate-limits'}]}, {'@type': 'type.googleapis.com/google.rpc.RetryInfo', 'retryDelay': '1s'}]}}\n",
      "2025-09-15 04:33:58,644 - INFO - AFC is enabled with max remote calls: 10.\n",
      "2025-09-15 04:33:58,643 - ERROR - ❌ Error classifying ticket TICKET-263: 429 RESOURCE_EXHAUSTED. {'error': {'code': 429, 'message': 'You exceeded your current quota, please check your plan and billing details. For more information on this error, head to: https://ai.google.dev/gemini-api/docs/rate-limits.', 'status': 'RESOURCE_EXHAUSTED', 'details': [{'@type': 'type.googleapis.com/google.rpc.QuotaFailure', 'violations': [{'quotaMetric': 'generativelanguage.googleapis.com/generate_content_free_tier_requests', 'quotaId': 'GenerateRequestsPerMinutePerProjectPerModel-FreeTier', 'quotaDimensions': {'location': 'global', 'model': 'gemini-2.5-flash-lite'}, 'quotaValue': '15'}]}, {'@type': 'type.googleapis.com/google.rpc.Help', 'links': [{'description': 'Learn more about Gemini API quotas', 'url': 'https://ai.google.dev/gemini-api/docs/rate-limits'}]}, {'@type': 'type.googleapis.com/google.rpc.RetryInfo', 'retryDelay': '1s'}]}}\n",
      "2025-09-15 04:33:58,644 - INFO - AFC is enabled with max remote calls: 10.\n"
     ]
    },
    {
     "name": "stdout",
     "output_type": "stream",
     "text": [
      "Classifying ticket 20/45: TICKET-264\r"
     ]
    },
    {
     "name": "stderr",
     "output_type": "stream",
     "text": [
      "2025-09-15 04:33:59,860 - INFO - HTTP Request: POST https://generativelanguage.googleapis.com/v1beta/models/gemini-2.5-flash-lite:generateContent \"HTTP/1.1 429 Too Many Requests\"\n",
      "2025-09-15 04:33:59,864 - ERROR - ❌ Error classifying ticket TICKET-264: 429 RESOURCE_EXHAUSTED. {'error': {'code': 429, 'message': 'You exceeded your current quota, please check your plan and billing details. For more information on this error, head to: https://ai.google.dev/gemini-api/docs/rate-limits.', 'status': 'RESOURCE_EXHAUSTED', 'details': [{'@type': 'type.googleapis.com/google.rpc.QuotaFailure', 'violations': [{'quotaMetric': 'generativelanguage.googleapis.com/generate_content_free_tier_requests', 'quotaId': 'GenerateRequestsPerMinutePerProjectPerModel-FreeTier', 'quotaDimensions': {'location': 'global', 'model': 'gemini-2.5-flash-lite'}, 'quotaValue': '15'}]}, {'@type': 'type.googleapis.com/google.rpc.Help', 'links': [{'description': 'Learn more about Gemini API quotas', 'url': 'https://ai.google.dev/gemini-api/docs/rate-limits'}]}, {'@type': 'type.googleapis.com/google.rpc.RetryInfo', 'retryDelay': '0s'}]}}\n",
      "2025-09-15 04:33:59,864 - INFO - AFC is enabled with max remote calls: 10.\n",
      "2025-09-15 04:33:59,864 - ERROR - ❌ Error classifying ticket TICKET-264: 429 RESOURCE_EXHAUSTED. {'error': {'code': 429, 'message': 'You exceeded your current quota, please check your plan and billing details. For more information on this error, head to: https://ai.google.dev/gemini-api/docs/rate-limits.', 'status': 'RESOURCE_EXHAUSTED', 'details': [{'@type': 'type.googleapis.com/google.rpc.QuotaFailure', 'violations': [{'quotaMetric': 'generativelanguage.googleapis.com/generate_content_free_tier_requests', 'quotaId': 'GenerateRequestsPerMinutePerProjectPerModel-FreeTier', 'quotaDimensions': {'location': 'global', 'model': 'gemini-2.5-flash-lite'}, 'quotaValue': '15'}]}, {'@type': 'type.googleapis.com/google.rpc.Help', 'links': [{'description': 'Learn more about Gemini API quotas', 'url': 'https://ai.google.dev/gemini-api/docs/rate-limits'}]}, {'@type': 'type.googleapis.com/google.rpc.RetryInfo', 'retryDelay': '0s'}]}}\n",
      "2025-09-15 04:33:59,864 - INFO - AFC is enabled with max remote calls: 10.\n"
     ]
    },
    {
     "name": "stdout",
     "output_type": "stream",
     "text": [
      "Classifying ticket 21/45: TICKET-265\r"
     ]
    },
    {
     "name": "stderr",
     "output_type": "stream",
     "text": [
      "2025-09-15 04:34:00,276 - INFO - HTTP Request: POST https://generativelanguage.googleapis.com/v1beta/models/gemini-2.5-flash-lite:generateContent \"HTTP/1.1 429 Too Many Requests\"\n",
      "2025-09-15 04:34:00,278 - ERROR - ❌ Error classifying ticket TICKET-265: 429 RESOURCE_EXHAUSTED. {'error': {'code': 429, 'message': 'You exceeded your current quota, please check your plan and billing details. For more information on this error, head to: https://ai.google.dev/gemini-api/docs/rate-limits.', 'status': 'RESOURCE_EXHAUSTED', 'details': [{'@type': 'type.googleapis.com/google.rpc.QuotaFailure', 'violations': [{'quotaMetric': 'generativelanguage.googleapis.com/generate_content_free_tier_requests', 'quotaId': 'GenerateRequestsPerMinutePerProjectPerModel-FreeTier', 'quotaDimensions': {'location': 'global', 'model': 'gemini-2.5-flash-lite'}, 'quotaValue': '15'}]}, {'@type': 'type.googleapis.com/google.rpc.Help', 'links': [{'description': 'Learn more about Gemini API quotas', 'url': 'https://ai.google.dev/gemini-api/docs/rate-limits'}]}, {'@type': 'type.googleapis.com/google.rpc.RetryInfo', 'retryDelay': '59s'}]}}\n",
      "2025-09-15 04:34:00,279 - INFO - AFC is enabled with max remote calls: 10.\n",
      "2025-09-15 04:34:00,278 - ERROR - ❌ Error classifying ticket TICKET-265: 429 RESOURCE_EXHAUSTED. {'error': {'code': 429, 'message': 'You exceeded your current quota, please check your plan and billing details. For more information on this error, head to: https://ai.google.dev/gemini-api/docs/rate-limits.', 'status': 'RESOURCE_EXHAUSTED', 'details': [{'@type': 'type.googleapis.com/google.rpc.QuotaFailure', 'violations': [{'quotaMetric': 'generativelanguage.googleapis.com/generate_content_free_tier_requests', 'quotaId': 'GenerateRequestsPerMinutePerProjectPerModel-FreeTier', 'quotaDimensions': {'location': 'global', 'model': 'gemini-2.5-flash-lite'}, 'quotaValue': '15'}]}, {'@type': 'type.googleapis.com/google.rpc.Help', 'links': [{'description': 'Learn more about Gemini API quotas', 'url': 'https://ai.google.dev/gemini-api/docs/rate-limits'}]}, {'@type': 'type.googleapis.com/google.rpc.RetryInfo', 'retryDelay': '59s'}]}}\n",
      "2025-09-15 04:34:00,279 - INFO - AFC is enabled with max remote calls: 10.\n"
     ]
    },
    {
     "name": "stdout",
     "output_type": "stream",
     "text": [
      "Classifying ticket 22/45: TICKET-266\r"
     ]
    },
    {
     "name": "stderr",
     "output_type": "stream",
     "text": [
      "2025-09-15 04:34:02,302 - INFO - HTTP Request: POST https://generativelanguage.googleapis.com/v1beta/models/gemini-2.5-flash-lite:generateContent \"HTTP/1.1 200 OK\"\n",
      "2025-09-15 04:34:02,305 - INFO - AFC remote call 1 is done.\n",
      "2025-09-15 04:34:02,306 - INFO - ✅ Classified ticket TICKET-266: ['API_SDK', 'GLOSSARY', 'HOW_TO'] (confidence: 0.900)\n",
      "2025-09-15 04:34:02,306 - INFO - AFC is enabled with max remote calls: 10.\n",
      "2025-09-15 04:34:02,305 - INFO - AFC remote call 1 is done.\n",
      "2025-09-15 04:34:02,306 - INFO - ✅ Classified ticket TICKET-266: ['API_SDK', 'GLOSSARY', 'HOW_TO'] (confidence: 0.900)\n",
      "2025-09-15 04:34:02,306 - INFO - AFC is enabled with max remote calls: 10.\n"
     ]
    },
    {
     "name": "stdout",
     "output_type": "stream",
     "text": [
      "Classifying ticket 23/45: TICKET-267\r"
     ]
    },
    {
     "name": "stderr",
     "output_type": "stream",
     "text": [
      "2025-09-15 04:34:02,733 - INFO - HTTP Request: POST https://generativelanguage.googleapis.com/v1beta/models/gemini-2.5-flash-lite:generateContent \"HTTP/1.1 429 Too Many Requests\"\n",
      "2025-09-15 04:34:02,736 - ERROR - ❌ Error classifying ticket TICKET-267: 429 RESOURCE_EXHAUSTED. {'error': {'code': 429, 'message': 'You exceeded your current quota, please check your plan and billing details. For more information on this error, head to: https://ai.google.dev/gemini-api/docs/rate-limits.', 'status': 'RESOURCE_EXHAUSTED', 'details': [{'@type': 'type.googleapis.com/google.rpc.QuotaFailure', 'violations': [{'quotaMetric': 'generativelanguage.googleapis.com/generate_content_free_tier_requests', 'quotaId': 'GenerateRequestsPerMinutePerProjectPerModel-FreeTier', 'quotaDimensions': {'model': 'gemini-2.5-flash-lite', 'location': 'global'}, 'quotaValue': '15'}]}, {'@type': 'type.googleapis.com/google.rpc.Help', 'links': [{'description': 'Learn more about Gemini API quotas', 'url': 'https://ai.google.dev/gemini-api/docs/rate-limits'}]}, {'@type': 'type.googleapis.com/google.rpc.RetryInfo', 'retryDelay': '57s'}]}}\n",
      "2025-09-15 04:34:02,737 - INFO - AFC is enabled with max remote calls: 10.\n",
      "2025-09-15 04:34:02,736 - ERROR - ❌ Error classifying ticket TICKET-267: 429 RESOURCE_EXHAUSTED. {'error': {'code': 429, 'message': 'You exceeded your current quota, please check your plan and billing details. For more information on this error, head to: https://ai.google.dev/gemini-api/docs/rate-limits.', 'status': 'RESOURCE_EXHAUSTED', 'details': [{'@type': 'type.googleapis.com/google.rpc.QuotaFailure', 'violations': [{'quotaMetric': 'generativelanguage.googleapis.com/generate_content_free_tier_requests', 'quotaId': 'GenerateRequestsPerMinutePerProjectPerModel-FreeTier', 'quotaDimensions': {'model': 'gemini-2.5-flash-lite', 'location': 'global'}, 'quotaValue': '15'}]}, {'@type': 'type.googleapis.com/google.rpc.Help', 'links': [{'description': 'Learn more about Gemini API quotas', 'url': 'https://ai.google.dev/gemini-api/docs/rate-limits'}]}, {'@type': 'type.googleapis.com/google.rpc.RetryInfo', 'retryDelay': '57s'}]}}\n",
      "2025-09-15 04:34:02,737 - INFO - AFC is enabled with max remote calls: 10.\n"
     ]
    },
    {
     "name": "stdout",
     "output_type": "stream",
     "text": [
      "Classifying ticket 24/45: TICKET-268\r"
     ]
    },
    {
     "name": "stderr",
     "output_type": "stream",
     "text": [
      "2025-09-15 04:34:04,599 - INFO - HTTP Request: POST https://generativelanguage.googleapis.com/v1beta/models/gemini-2.5-flash-lite:generateContent \"HTTP/1.1 200 OK\"\n",
      "2025-09-15 04:34:04,603 - INFO - AFC remote call 1 is done.\n",
      "2025-09-15 04:34:04,603 - INFO - ✅ Classified ticket TICKET-268: ['API_SDK', 'SENSITIVE_DATA', 'OTHER'] (confidence: 0.900)\n",
      "2025-09-15 04:34:04,604 - INFO - AFC is enabled with max remote calls: 10.\n",
      "2025-09-15 04:34:04,603 - INFO - AFC remote call 1 is done.\n",
      "2025-09-15 04:34:04,603 - INFO - ✅ Classified ticket TICKET-268: ['API_SDK', 'SENSITIVE_DATA', 'OTHER'] (confidence: 0.900)\n",
      "2025-09-15 04:34:04,604 - INFO - AFC is enabled with max remote calls: 10.\n"
     ]
    },
    {
     "name": "stdout",
     "output_type": "stream",
     "text": [
      "Classifying ticket 25/45: TICKET-269\r"
     ]
    },
    {
     "name": "stderr",
     "output_type": "stream",
     "text": [
      "2025-09-15 04:34:04,942 - INFO - HTTP Request: POST https://generativelanguage.googleapis.com/v1beta/models/gemini-2.5-flash-lite:generateContent \"HTTP/1.1 429 Too Many Requests\"\n",
      "2025-09-15 04:34:04,946 - ERROR - ❌ Error classifying ticket TICKET-269: 429 RESOURCE_EXHAUSTED. {'error': {'code': 429, 'message': 'You exceeded your current quota, please check your plan and billing details. For more information on this error, head to: https://ai.google.dev/gemini-api/docs/rate-limits.', 'status': 'RESOURCE_EXHAUSTED', 'details': [{'@type': 'type.googleapis.com/google.rpc.QuotaFailure', 'violations': [{'quotaMetric': 'generativelanguage.googleapis.com/generate_content_free_tier_requests', 'quotaId': 'GenerateRequestsPerMinutePerProjectPerModel-FreeTier', 'quotaDimensions': {'location': 'global', 'model': 'gemini-2.5-flash-lite'}, 'quotaValue': '15'}]}, {'@type': 'type.googleapis.com/google.rpc.Help', 'links': [{'description': 'Learn more about Gemini API quotas', 'url': 'https://ai.google.dev/gemini-api/docs/rate-limits'}]}, {'@type': 'type.googleapis.com/google.rpc.RetryInfo', 'retryDelay': '55s'}]}}\n",
      "2025-09-15 04:34:04,947 - INFO - AFC is enabled with max remote calls: 10.\n",
      "2025-09-15 04:34:04,946 - ERROR - ❌ Error classifying ticket TICKET-269: 429 RESOURCE_EXHAUSTED. {'error': {'code': 429, 'message': 'You exceeded your current quota, please check your plan and billing details. For more information on this error, head to: https://ai.google.dev/gemini-api/docs/rate-limits.', 'status': 'RESOURCE_EXHAUSTED', 'details': [{'@type': 'type.googleapis.com/google.rpc.QuotaFailure', 'violations': [{'quotaMetric': 'generativelanguage.googleapis.com/generate_content_free_tier_requests', 'quotaId': 'GenerateRequestsPerMinutePerProjectPerModel-FreeTier', 'quotaDimensions': {'location': 'global', 'model': 'gemini-2.5-flash-lite'}, 'quotaValue': '15'}]}, {'@type': 'type.googleapis.com/google.rpc.Help', 'links': [{'description': 'Learn more about Gemini API quotas', 'url': 'https://ai.google.dev/gemini-api/docs/rate-limits'}]}, {'@type': 'type.googleapis.com/google.rpc.RetryInfo', 'retryDelay': '55s'}]}}\n",
      "2025-09-15 04:34:04,947 - INFO - AFC is enabled with max remote calls: 10.\n"
     ]
    },
    {
     "name": "stdout",
     "output_type": "stream",
     "text": [
      "Classifying ticket 26/45: TICKET-270\r"
     ]
    },
    {
     "name": "stderr",
     "output_type": "stream",
     "text": [
      "2025-09-15 04:34:06,319 - INFO - HTTP Request: POST https://generativelanguage.googleapis.com/v1beta/models/gemini-2.5-flash-lite:generateContent \"HTTP/1.1 429 Too Many Requests\"\n",
      "2025-09-15 04:34:06,323 - ERROR - ❌ Error classifying ticket TICKET-270: 429 RESOURCE_EXHAUSTED. {'error': {'code': 429, 'message': 'You exceeded your current quota, please check your plan and billing details. For more information on this error, head to: https://ai.google.dev/gemini-api/docs/rate-limits.', 'status': 'RESOURCE_EXHAUSTED', 'details': [{'@type': 'type.googleapis.com/google.rpc.QuotaFailure', 'violations': [{'quotaMetric': 'generativelanguage.googleapis.com/generate_content_free_tier_requests', 'quotaId': 'GenerateRequestsPerMinutePerProjectPerModel-FreeTier', 'quotaDimensions': {'model': 'gemini-2.5-flash-lite', 'location': 'global'}, 'quotaValue': '15'}]}, {'@type': 'type.googleapis.com/google.rpc.Help', 'links': [{'description': 'Learn more about Gemini API quotas', 'url': 'https://ai.google.dev/gemini-api/docs/rate-limits'}]}, {'@type': 'type.googleapis.com/google.rpc.RetryInfo', 'retryDelay': '53s'}]}}\n",
      "2025-09-15 04:34:06,324 - INFO - AFC is enabled with max remote calls: 10.\n",
      "2025-09-15 04:34:06,323 - ERROR - ❌ Error classifying ticket TICKET-270: 429 RESOURCE_EXHAUSTED. {'error': {'code': 429, 'message': 'You exceeded your current quota, please check your plan and billing details. For more information on this error, head to: https://ai.google.dev/gemini-api/docs/rate-limits.', 'status': 'RESOURCE_EXHAUSTED', 'details': [{'@type': 'type.googleapis.com/google.rpc.QuotaFailure', 'violations': [{'quotaMetric': 'generativelanguage.googleapis.com/generate_content_free_tier_requests', 'quotaId': 'GenerateRequestsPerMinutePerProjectPerModel-FreeTier', 'quotaDimensions': {'model': 'gemini-2.5-flash-lite', 'location': 'global'}, 'quotaValue': '15'}]}, {'@type': 'type.googleapis.com/google.rpc.Help', 'links': [{'description': 'Learn more about Gemini API quotas', 'url': 'https://ai.google.dev/gemini-api/docs/rate-limits'}]}, {'@type': 'type.googleapis.com/google.rpc.RetryInfo', 'retryDelay': '53s'}]}}\n",
      "2025-09-15 04:34:06,324 - INFO - AFC is enabled with max remote calls: 10.\n"
     ]
    },
    {
     "name": "stdout",
     "output_type": "stream",
     "text": [
      "Classifying ticket 27/45: TICKET-271\r"
     ]
    },
    {
     "name": "stderr",
     "output_type": "stream",
     "text": [
      "2025-09-15 04:34:06,660 - INFO - HTTP Request: POST https://generativelanguage.googleapis.com/v1beta/models/gemini-2.5-flash-lite:generateContent \"HTTP/1.1 429 Too Many Requests\"\n",
      "2025-09-15 04:34:06,663 - ERROR - ❌ Error classifying ticket TICKET-271: 429 RESOURCE_EXHAUSTED. {'error': {'code': 429, 'message': 'You exceeded your current quota, please check your plan and billing details. For more information on this error, head to: https://ai.google.dev/gemini-api/docs/rate-limits.', 'status': 'RESOURCE_EXHAUSTED', 'details': [{'@type': 'type.googleapis.com/google.rpc.QuotaFailure', 'violations': [{'quotaMetric': 'generativelanguage.googleapis.com/generate_content_free_tier_requests', 'quotaId': 'GenerateRequestsPerMinutePerProjectPerModel-FreeTier', 'quotaDimensions': {'location': 'global', 'model': 'gemini-2.5-flash-lite'}, 'quotaValue': '15'}]}, {'@type': 'type.googleapis.com/google.rpc.Help', 'links': [{'description': 'Learn more about Gemini API quotas', 'url': 'https://ai.google.dev/gemini-api/docs/rate-limits'}]}, {'@type': 'type.googleapis.com/google.rpc.RetryInfo', 'retryDelay': '53s'}]}}\n",
      "2025-09-15 04:34:06,664 - INFO - AFC is enabled with max remote calls: 10.\n",
      "2025-09-15 04:34:06,663 - ERROR - ❌ Error classifying ticket TICKET-271: 429 RESOURCE_EXHAUSTED. {'error': {'code': 429, 'message': 'You exceeded your current quota, please check your plan and billing details. For more information on this error, head to: https://ai.google.dev/gemini-api/docs/rate-limits.', 'status': 'RESOURCE_EXHAUSTED', 'details': [{'@type': 'type.googleapis.com/google.rpc.QuotaFailure', 'violations': [{'quotaMetric': 'generativelanguage.googleapis.com/generate_content_free_tier_requests', 'quotaId': 'GenerateRequestsPerMinutePerProjectPerModel-FreeTier', 'quotaDimensions': {'location': 'global', 'model': 'gemini-2.5-flash-lite'}, 'quotaValue': '15'}]}, {'@type': 'type.googleapis.com/google.rpc.Help', 'links': [{'description': 'Learn more about Gemini API quotas', 'url': 'https://ai.google.dev/gemini-api/docs/rate-limits'}]}, {'@type': 'type.googleapis.com/google.rpc.RetryInfo', 'retryDelay': '53s'}]}}\n",
      "2025-09-15 04:34:06,664 - INFO - AFC is enabled with max remote calls: 10.\n"
     ]
    },
    {
     "name": "stdout",
     "output_type": "stream",
     "text": [
      "Classifying ticket 28/45: TICKET-272\r"
     ]
    },
    {
     "name": "stderr",
     "output_type": "stream",
     "text": [
      "2025-09-15 04:34:07,972 - INFO - HTTP Request: POST https://generativelanguage.googleapis.com/v1beta/models/gemini-2.5-flash-lite:generateContent \"HTTP/1.1 429 Too Many Requests\"\n",
      "2025-09-15 04:34:07,975 - ERROR - ❌ Error classifying ticket TICKET-272: 429 RESOURCE_EXHAUSTED. {'error': {'code': 429, 'message': 'You exceeded your current quota, please check your plan and billing details. For more information on this error, head to: https://ai.google.dev/gemini-api/docs/rate-limits.', 'status': 'RESOURCE_EXHAUSTED', 'details': [{'@type': 'type.googleapis.com/google.rpc.QuotaFailure', 'violations': [{'quotaMetric': 'generativelanguage.googleapis.com/generate_content_free_tier_requests', 'quotaId': 'GenerateRequestsPerMinutePerProjectPerModel-FreeTier', 'quotaDimensions': {'model': 'gemini-2.5-flash-lite', 'location': 'global'}, 'quotaValue': '15'}]}, {'@type': 'type.googleapis.com/google.rpc.Help', 'links': [{'description': 'Learn more about Gemini API quotas', 'url': 'https://ai.google.dev/gemini-api/docs/rate-limits'}]}, {'@type': 'type.googleapis.com/google.rpc.RetryInfo', 'retryDelay': '52s'}]}}\n",
      "2025-09-15 04:34:07,976 - INFO - AFC is enabled with max remote calls: 10.\n",
      "2025-09-15 04:34:07,975 - ERROR - ❌ Error classifying ticket TICKET-272: 429 RESOURCE_EXHAUSTED. {'error': {'code': 429, 'message': 'You exceeded your current quota, please check your plan and billing details. For more information on this error, head to: https://ai.google.dev/gemini-api/docs/rate-limits.', 'status': 'RESOURCE_EXHAUSTED', 'details': [{'@type': 'type.googleapis.com/google.rpc.QuotaFailure', 'violations': [{'quotaMetric': 'generativelanguage.googleapis.com/generate_content_free_tier_requests', 'quotaId': 'GenerateRequestsPerMinutePerProjectPerModel-FreeTier', 'quotaDimensions': {'model': 'gemini-2.5-flash-lite', 'location': 'global'}, 'quotaValue': '15'}]}, {'@type': 'type.googleapis.com/google.rpc.Help', 'links': [{'description': 'Learn more about Gemini API quotas', 'url': 'https://ai.google.dev/gemini-api/docs/rate-limits'}]}, {'@type': 'type.googleapis.com/google.rpc.RetryInfo', 'retryDelay': '52s'}]}}\n",
      "2025-09-15 04:34:07,976 - INFO - AFC is enabled with max remote calls: 10.\n"
     ]
    },
    {
     "name": "stdout",
     "output_type": "stream",
     "text": [
      "Classifying ticket 29/45: TICKET-273\r"
     ]
    },
    {
     "name": "stderr",
     "output_type": "stream",
     "text": [
      "2025-09-15 04:34:08,363 - INFO - HTTP Request: POST https://generativelanguage.googleapis.com/v1beta/models/gemini-2.5-flash-lite:generateContent \"HTTP/1.1 429 Too Many Requests\"\n",
      "2025-09-15 04:34:08,366 - ERROR - ❌ Error classifying ticket TICKET-273: 429 RESOURCE_EXHAUSTED. {'error': {'code': 429, 'message': 'You exceeded your current quota, please check your plan and billing details. For more information on this error, head to: https://ai.google.dev/gemini-api/docs/rate-limits.', 'status': 'RESOURCE_EXHAUSTED', 'details': [{'@type': 'type.googleapis.com/google.rpc.QuotaFailure', 'violations': [{'quotaMetric': 'generativelanguage.googleapis.com/generate_content_free_tier_requests', 'quotaId': 'GenerateRequestsPerMinutePerProjectPerModel-FreeTier', 'quotaDimensions': {'location': 'global', 'model': 'gemini-2.5-flash-lite'}, 'quotaValue': '15'}]}, {'@type': 'type.googleapis.com/google.rpc.Help', 'links': [{'description': 'Learn more about Gemini API quotas', 'url': 'https://ai.google.dev/gemini-api/docs/rate-limits'}]}, {'@type': 'type.googleapis.com/google.rpc.RetryInfo', 'retryDelay': '51s'}]}}\n",
      "2025-09-15 04:34:08,367 - INFO - AFC is enabled with max remote calls: 10.\n",
      "2025-09-15 04:34:08,366 - ERROR - ❌ Error classifying ticket TICKET-273: 429 RESOURCE_EXHAUSTED. {'error': {'code': 429, 'message': 'You exceeded your current quota, please check your plan and billing details. For more information on this error, head to: https://ai.google.dev/gemini-api/docs/rate-limits.', 'status': 'RESOURCE_EXHAUSTED', 'details': [{'@type': 'type.googleapis.com/google.rpc.QuotaFailure', 'violations': [{'quotaMetric': 'generativelanguage.googleapis.com/generate_content_free_tier_requests', 'quotaId': 'GenerateRequestsPerMinutePerProjectPerModel-FreeTier', 'quotaDimensions': {'location': 'global', 'model': 'gemini-2.5-flash-lite'}, 'quotaValue': '15'}]}, {'@type': 'type.googleapis.com/google.rpc.Help', 'links': [{'description': 'Learn more about Gemini API quotas', 'url': 'https://ai.google.dev/gemini-api/docs/rate-limits'}]}, {'@type': 'type.googleapis.com/google.rpc.RetryInfo', 'retryDelay': '51s'}]}}\n",
      "2025-09-15 04:34:08,367 - INFO - AFC is enabled with max remote calls: 10.\n"
     ]
    },
    {
     "name": "stdout",
     "output_type": "stream",
     "text": [
      "Classifying ticket 30/45: TICKET-274\r"
     ]
    },
    {
     "name": "stderr",
     "output_type": "stream",
     "text": [
      "2025-09-15 04:34:09,696 - INFO - HTTP Request: POST https://generativelanguage.googleapis.com/v1beta/models/gemini-2.5-flash-lite:generateContent \"HTTP/1.1 429 Too Many Requests\"\n",
      "2025-09-15 04:34:09,699 - ERROR - ❌ Error classifying ticket TICKET-274: 429 RESOURCE_EXHAUSTED. {'error': {'code': 429, 'message': 'You exceeded your current quota, please check your plan and billing details. For more information on this error, head to: https://ai.google.dev/gemini-api/docs/rate-limits.', 'status': 'RESOURCE_EXHAUSTED', 'details': [{'@type': 'type.googleapis.com/google.rpc.QuotaFailure', 'violations': [{'quotaMetric': 'generativelanguage.googleapis.com/generate_content_free_tier_requests', 'quotaId': 'GenerateRequestsPerMinutePerProjectPerModel-FreeTier', 'quotaDimensions': {'location': 'global', 'model': 'gemini-2.5-flash-lite'}, 'quotaValue': '15'}]}, {'@type': 'type.googleapis.com/google.rpc.Help', 'links': [{'description': 'Learn more about Gemini API quotas', 'url': 'https://ai.google.dev/gemini-api/docs/rate-limits'}]}, {'@type': 'type.googleapis.com/google.rpc.RetryInfo', 'retryDelay': '50s'}]}}\n",
      "2025-09-15 04:34:09,700 - INFO - AFC is enabled with max remote calls: 10.\n",
      "2025-09-15 04:34:09,699 - ERROR - ❌ Error classifying ticket TICKET-274: 429 RESOURCE_EXHAUSTED. {'error': {'code': 429, 'message': 'You exceeded your current quota, please check your plan and billing details. For more information on this error, head to: https://ai.google.dev/gemini-api/docs/rate-limits.', 'status': 'RESOURCE_EXHAUSTED', 'details': [{'@type': 'type.googleapis.com/google.rpc.QuotaFailure', 'violations': [{'quotaMetric': 'generativelanguage.googleapis.com/generate_content_free_tier_requests', 'quotaId': 'GenerateRequestsPerMinutePerProjectPerModel-FreeTier', 'quotaDimensions': {'location': 'global', 'model': 'gemini-2.5-flash-lite'}, 'quotaValue': '15'}]}, {'@type': 'type.googleapis.com/google.rpc.Help', 'links': [{'description': 'Learn more about Gemini API quotas', 'url': 'https://ai.google.dev/gemini-api/docs/rate-limits'}]}, {'@type': 'type.googleapis.com/google.rpc.RetryInfo', 'retryDelay': '50s'}]}}\n",
      "2025-09-15 04:34:09,700 - INFO - AFC is enabled with max remote calls: 10.\n"
     ]
    },
    {
     "name": "stdout",
     "output_type": "stream",
     "text": [
      "Classifying ticket 31/45: TICKET-275\r"
     ]
    },
    {
     "name": "stderr",
     "output_type": "stream",
     "text": [
      "2025-09-15 04:34:10,106 - INFO - HTTP Request: POST https://generativelanguage.googleapis.com/v1beta/models/gemini-2.5-flash-lite:generateContent \"HTTP/1.1 429 Too Many Requests\"\n",
      "2025-09-15 04:34:10,108 - ERROR - ❌ Error classifying ticket TICKET-275: 429 RESOURCE_EXHAUSTED. {'error': {'code': 429, 'message': 'You exceeded your current quota, please check your plan and billing details. For more information on this error, head to: https://ai.google.dev/gemini-api/docs/rate-limits.', 'status': 'RESOURCE_EXHAUSTED', 'details': [{'@type': 'type.googleapis.com/google.rpc.QuotaFailure', 'violations': [{'quotaMetric': 'generativelanguage.googleapis.com/generate_content_free_tier_requests', 'quotaId': 'GenerateRequestsPerMinutePerProjectPerModel-FreeTier', 'quotaDimensions': {'location': 'global', 'model': 'gemini-2.5-flash-lite'}, 'quotaValue': '15'}]}, {'@type': 'type.googleapis.com/google.rpc.Help', 'links': [{'description': 'Learn more about Gemini API quotas', 'url': 'https://ai.google.dev/gemini-api/docs/rate-limits'}]}, {'@type': 'type.googleapis.com/google.rpc.RetryInfo', 'retryDelay': '50s'}]}}\n",
      "2025-09-15 04:34:10,109 - INFO - AFC is enabled with max remote calls: 10.\n",
      "2025-09-15 04:34:10,108 - ERROR - ❌ Error classifying ticket TICKET-275: 429 RESOURCE_EXHAUSTED. {'error': {'code': 429, 'message': 'You exceeded your current quota, please check your plan and billing details. For more information on this error, head to: https://ai.google.dev/gemini-api/docs/rate-limits.', 'status': 'RESOURCE_EXHAUSTED', 'details': [{'@type': 'type.googleapis.com/google.rpc.QuotaFailure', 'violations': [{'quotaMetric': 'generativelanguage.googleapis.com/generate_content_free_tier_requests', 'quotaId': 'GenerateRequestsPerMinutePerProjectPerModel-FreeTier', 'quotaDimensions': {'location': 'global', 'model': 'gemini-2.5-flash-lite'}, 'quotaValue': '15'}]}, {'@type': 'type.googleapis.com/google.rpc.Help', 'links': [{'description': 'Learn more about Gemini API quotas', 'url': 'https://ai.google.dev/gemini-api/docs/rate-limits'}]}, {'@type': 'type.googleapis.com/google.rpc.RetryInfo', 'retryDelay': '50s'}]}}\n",
      "2025-09-15 04:34:10,109 - INFO - AFC is enabled with max remote calls: 10.\n"
     ]
    },
    {
     "name": "stdout",
     "output_type": "stream",
     "text": [
      "Classifying ticket 32/45: TICKET-276\r"
     ]
    },
    {
     "name": "stderr",
     "output_type": "stream",
     "text": [
      "2025-09-15 04:34:11,336 - INFO - HTTP Request: POST https://generativelanguage.googleapis.com/v1beta/models/gemini-2.5-flash-lite:generateContent \"HTTP/1.1 429 Too Many Requests\"\n",
      "2025-09-15 04:34:11,339 - ERROR - ❌ Error classifying ticket TICKET-276: 429 RESOURCE_EXHAUSTED. {'error': {'code': 429, 'message': 'You exceeded your current quota, please check your plan and billing details. For more information on this error, head to: https://ai.google.dev/gemini-api/docs/rate-limits.', 'status': 'RESOURCE_EXHAUSTED', 'details': [{'@type': 'type.googleapis.com/google.rpc.QuotaFailure', 'violations': [{'quotaMetric': 'generativelanguage.googleapis.com/generate_content_free_tier_requests', 'quotaId': 'GenerateRequestsPerMinutePerProjectPerModel-FreeTier', 'quotaDimensions': {'location': 'global', 'model': 'gemini-2.5-flash-lite'}, 'quotaValue': '15'}]}, {'@type': 'type.googleapis.com/google.rpc.Help', 'links': [{'description': 'Learn more about Gemini API quotas', 'url': 'https://ai.google.dev/gemini-api/docs/rate-limits'}]}, {'@type': 'type.googleapis.com/google.rpc.RetryInfo', 'retryDelay': '48s'}]}}\n",
      "2025-09-15 04:34:11,341 - INFO - AFC is enabled with max remote calls: 10.\n",
      "2025-09-15 04:34:11,339 - ERROR - ❌ Error classifying ticket TICKET-276: 429 RESOURCE_EXHAUSTED. {'error': {'code': 429, 'message': 'You exceeded your current quota, please check your plan and billing details. For more information on this error, head to: https://ai.google.dev/gemini-api/docs/rate-limits.', 'status': 'RESOURCE_EXHAUSTED', 'details': [{'@type': 'type.googleapis.com/google.rpc.QuotaFailure', 'violations': [{'quotaMetric': 'generativelanguage.googleapis.com/generate_content_free_tier_requests', 'quotaId': 'GenerateRequestsPerMinutePerProjectPerModel-FreeTier', 'quotaDimensions': {'location': 'global', 'model': 'gemini-2.5-flash-lite'}, 'quotaValue': '15'}]}, {'@type': 'type.googleapis.com/google.rpc.Help', 'links': [{'description': 'Learn more about Gemini API quotas', 'url': 'https://ai.google.dev/gemini-api/docs/rate-limits'}]}, {'@type': 'type.googleapis.com/google.rpc.RetryInfo', 'retryDelay': '48s'}]}}\n",
      "2025-09-15 04:34:11,341 - INFO - AFC is enabled with max remote calls: 10.\n"
     ]
    },
    {
     "name": "stdout",
     "output_type": "stream",
     "text": [
      "Classifying ticket 33/45: TICKET-277\r"
     ]
    },
    {
     "name": "stderr",
     "output_type": "stream",
     "text": [
      "2025-09-15 04:34:11,759 - INFO - HTTP Request: POST https://generativelanguage.googleapis.com/v1beta/models/gemini-2.5-flash-lite:generateContent \"HTTP/1.1 429 Too Many Requests\"\n",
      "2025-09-15 04:34:11,762 - ERROR - ❌ Error classifying ticket TICKET-277: 429 RESOURCE_EXHAUSTED. {'error': {'code': 429, 'message': 'You exceeded your current quota, please check your plan and billing details. For more information on this error, head to: https://ai.google.dev/gemini-api/docs/rate-limits.', 'status': 'RESOURCE_EXHAUSTED', 'details': [{'@type': 'type.googleapis.com/google.rpc.QuotaFailure', 'violations': [{'quotaMetric': 'generativelanguage.googleapis.com/generate_content_free_tier_requests', 'quotaId': 'GenerateRequestsPerMinutePerProjectPerModel-FreeTier', 'quotaDimensions': {'location': 'global', 'model': 'gemini-2.5-flash-lite'}, 'quotaValue': '15'}]}, {'@type': 'type.googleapis.com/google.rpc.Help', 'links': [{'description': 'Learn more about Gemini API quotas', 'url': 'https://ai.google.dev/gemini-api/docs/rate-limits'}]}, {'@type': 'type.googleapis.com/google.rpc.RetryInfo', 'retryDelay': '48s'}]}}\n",
      "2025-09-15 04:34:11,763 - INFO - AFC is enabled with max remote calls: 10.\n",
      "2025-09-15 04:34:11,762 - ERROR - ❌ Error classifying ticket TICKET-277: 429 RESOURCE_EXHAUSTED. {'error': {'code': 429, 'message': 'You exceeded your current quota, please check your plan and billing details. For more information on this error, head to: https://ai.google.dev/gemini-api/docs/rate-limits.', 'status': 'RESOURCE_EXHAUSTED', 'details': [{'@type': 'type.googleapis.com/google.rpc.QuotaFailure', 'violations': [{'quotaMetric': 'generativelanguage.googleapis.com/generate_content_free_tier_requests', 'quotaId': 'GenerateRequestsPerMinutePerProjectPerModel-FreeTier', 'quotaDimensions': {'location': 'global', 'model': 'gemini-2.5-flash-lite'}, 'quotaValue': '15'}]}, {'@type': 'type.googleapis.com/google.rpc.Help', 'links': [{'description': 'Learn more about Gemini API quotas', 'url': 'https://ai.google.dev/gemini-api/docs/rate-limits'}]}, {'@type': 'type.googleapis.com/google.rpc.RetryInfo', 'retryDelay': '48s'}]}}\n",
      "2025-09-15 04:34:11,763 - INFO - AFC is enabled with max remote calls: 10.\n"
     ]
    },
    {
     "name": "stdout",
     "output_type": "stream",
     "text": [
      "Classifying ticket 34/45: TICKET-278\r"
     ]
    },
    {
     "name": "stderr",
     "output_type": "stream",
     "text": [
      "2025-09-15 04:34:13,077 - INFO - HTTP Request: POST https://generativelanguage.googleapis.com/v1beta/models/gemini-2.5-flash-lite:generateContent \"HTTP/1.1 429 Too Many Requests\"\n",
      "2025-09-15 04:34:13,080 - ERROR - ❌ Error classifying ticket TICKET-278: 429 RESOURCE_EXHAUSTED. {'error': {'code': 429, 'message': 'You exceeded your current quota, please check your plan and billing details. For more information on this error, head to: https://ai.google.dev/gemini-api/docs/rate-limits.', 'status': 'RESOURCE_EXHAUSTED', 'details': [{'@type': 'type.googleapis.com/google.rpc.QuotaFailure', 'violations': [{'quotaMetric': 'generativelanguage.googleapis.com/generate_content_free_tier_requests', 'quotaId': 'GenerateRequestsPerMinutePerProjectPerModel-FreeTier', 'quotaDimensions': {'model': 'gemini-2.5-flash-lite', 'location': 'global'}, 'quotaValue': '15'}]}, {'@type': 'type.googleapis.com/google.rpc.Help', 'links': [{'description': 'Learn more about Gemini API quotas', 'url': 'https://ai.google.dev/gemini-api/docs/rate-limits'}]}, {'@type': 'type.googleapis.com/google.rpc.RetryInfo', 'retryDelay': '47s'}]}}\n",
      "2025-09-15 04:34:13,081 - INFO - AFC is enabled with max remote calls: 10.\n",
      "2025-09-15 04:34:13,080 - ERROR - ❌ Error classifying ticket TICKET-278: 429 RESOURCE_EXHAUSTED. {'error': {'code': 429, 'message': 'You exceeded your current quota, please check your plan and billing details. For more information on this error, head to: https://ai.google.dev/gemini-api/docs/rate-limits.', 'status': 'RESOURCE_EXHAUSTED', 'details': [{'@type': 'type.googleapis.com/google.rpc.QuotaFailure', 'violations': [{'quotaMetric': 'generativelanguage.googleapis.com/generate_content_free_tier_requests', 'quotaId': 'GenerateRequestsPerMinutePerProjectPerModel-FreeTier', 'quotaDimensions': {'model': 'gemini-2.5-flash-lite', 'location': 'global'}, 'quotaValue': '15'}]}, {'@type': 'type.googleapis.com/google.rpc.Help', 'links': [{'description': 'Learn more about Gemini API quotas', 'url': 'https://ai.google.dev/gemini-api/docs/rate-limits'}]}, {'@type': 'type.googleapis.com/google.rpc.RetryInfo', 'retryDelay': '47s'}]}}\n",
      "2025-09-15 04:34:13,081 - INFO - AFC is enabled with max remote calls: 10.\n"
     ]
    },
    {
     "name": "stdout",
     "output_type": "stream",
     "text": [
      "Classifying ticket 35/45: TICKET-279\r"
     ]
    },
    {
     "name": "stderr",
     "output_type": "stream",
     "text": [
      "2025-09-15 04:34:13,485 - INFO - HTTP Request: POST https://generativelanguage.googleapis.com/v1beta/models/gemini-2.5-flash-lite:generateContent \"HTTP/1.1 429 Too Many Requests\"\n",
      "2025-09-15 04:34:13,488 - ERROR - ❌ Error classifying ticket TICKET-279: 429 RESOURCE_EXHAUSTED. {'error': {'code': 429, 'message': 'You exceeded your current quota, please check your plan and billing details. For more information on this error, head to: https://ai.google.dev/gemini-api/docs/rate-limits.', 'status': 'RESOURCE_EXHAUSTED', 'details': [{'@type': 'type.googleapis.com/google.rpc.QuotaFailure', 'violations': [{'quotaMetric': 'generativelanguage.googleapis.com/generate_content_free_tier_requests', 'quotaId': 'GenerateRequestsPerMinutePerProjectPerModel-FreeTier', 'quotaDimensions': {'model': 'gemini-2.5-flash-lite', 'location': 'global'}, 'quotaValue': '15'}]}, {'@type': 'type.googleapis.com/google.rpc.Help', 'links': [{'description': 'Learn more about Gemini API quotas', 'url': 'https://ai.google.dev/gemini-api/docs/rate-limits'}]}, {'@type': 'type.googleapis.com/google.rpc.RetryInfo', 'retryDelay': '46s'}]}}\n",
      "2025-09-15 04:34:13,489 - INFO - AFC is enabled with max remote calls: 10.\n",
      "2025-09-15 04:34:13,488 - ERROR - ❌ Error classifying ticket TICKET-279: 429 RESOURCE_EXHAUSTED. {'error': {'code': 429, 'message': 'You exceeded your current quota, please check your plan and billing details. For more information on this error, head to: https://ai.google.dev/gemini-api/docs/rate-limits.', 'status': 'RESOURCE_EXHAUSTED', 'details': [{'@type': 'type.googleapis.com/google.rpc.QuotaFailure', 'violations': [{'quotaMetric': 'generativelanguage.googleapis.com/generate_content_free_tier_requests', 'quotaId': 'GenerateRequestsPerMinutePerProjectPerModel-FreeTier', 'quotaDimensions': {'model': 'gemini-2.5-flash-lite', 'location': 'global'}, 'quotaValue': '15'}]}, {'@type': 'type.googleapis.com/google.rpc.Help', 'links': [{'description': 'Learn more about Gemini API quotas', 'url': 'https://ai.google.dev/gemini-api/docs/rate-limits'}]}, {'@type': 'type.googleapis.com/google.rpc.RetryInfo', 'retryDelay': '46s'}]}}\n",
      "2025-09-15 04:34:13,489 - INFO - AFC is enabled with max remote calls: 10.\n"
     ]
    },
    {
     "name": "stdout",
     "output_type": "stream",
     "text": [
      "Classifying ticket 36/45: TICKET-280\r"
     ]
    },
    {
     "name": "stderr",
     "output_type": "stream",
     "text": [
      "2025-09-15 04:34:14,730 - INFO - HTTP Request: POST https://generativelanguage.googleapis.com/v1beta/models/gemini-2.5-flash-lite:generateContent \"HTTP/1.1 429 Too Many Requests\"\n",
      "2025-09-15 04:34:14,733 - ERROR - ❌ Error classifying ticket TICKET-280: 429 RESOURCE_EXHAUSTED. {'error': {'code': 429, 'message': 'You exceeded your current quota, please check your plan and billing details. For more information on this error, head to: https://ai.google.dev/gemini-api/docs/rate-limits.', 'status': 'RESOURCE_EXHAUSTED', 'details': [{'@type': 'type.googleapis.com/google.rpc.QuotaFailure', 'violations': [{'quotaMetric': 'generativelanguage.googleapis.com/generate_content_free_tier_requests', 'quotaId': 'GenerateRequestsPerMinutePerProjectPerModel-FreeTier', 'quotaDimensions': {'location': 'global', 'model': 'gemini-2.5-flash-lite'}, 'quotaValue': '15'}]}, {'@type': 'type.googleapis.com/google.rpc.Help', 'links': [{'description': 'Learn more about Gemini API quotas', 'url': 'https://ai.google.dev/gemini-api/docs/rate-limits'}]}, {'@type': 'type.googleapis.com/google.rpc.RetryInfo', 'retryDelay': '45s'}]}}\n",
      "2025-09-15 04:34:14,734 - INFO - AFC is enabled with max remote calls: 10.\n",
      "2025-09-15 04:34:14,733 - ERROR - ❌ Error classifying ticket TICKET-280: 429 RESOURCE_EXHAUSTED. {'error': {'code': 429, 'message': 'You exceeded your current quota, please check your plan and billing details. For more information on this error, head to: https://ai.google.dev/gemini-api/docs/rate-limits.', 'status': 'RESOURCE_EXHAUSTED', 'details': [{'@type': 'type.googleapis.com/google.rpc.QuotaFailure', 'violations': [{'quotaMetric': 'generativelanguage.googleapis.com/generate_content_free_tier_requests', 'quotaId': 'GenerateRequestsPerMinutePerProjectPerModel-FreeTier', 'quotaDimensions': {'location': 'global', 'model': 'gemini-2.5-flash-lite'}, 'quotaValue': '15'}]}, {'@type': 'type.googleapis.com/google.rpc.Help', 'links': [{'description': 'Learn more about Gemini API quotas', 'url': 'https://ai.google.dev/gemini-api/docs/rate-limits'}]}, {'@type': 'type.googleapis.com/google.rpc.RetryInfo', 'retryDelay': '45s'}]}}\n",
      "2025-09-15 04:34:14,734 - INFO - AFC is enabled with max remote calls: 10.\n"
     ]
    },
    {
     "name": "stdout",
     "output_type": "stream",
     "text": [
      "Classifying ticket 37/45: TICKET-281\r"
     ]
    },
    {
     "name": "stderr",
     "output_type": "stream",
     "text": [
      "2025-09-15 04:34:15,226 - INFO - HTTP Request: POST https://generativelanguage.googleapis.com/v1beta/models/gemini-2.5-flash-lite:generateContent \"HTTP/1.1 429 Too Many Requests\"\n",
      "2025-09-15 04:34:15,229 - ERROR - ❌ Error classifying ticket TICKET-281: 429 RESOURCE_EXHAUSTED. {'error': {'code': 429, 'message': 'You exceeded your current quota, please check your plan and billing details. For more information on this error, head to: https://ai.google.dev/gemini-api/docs/rate-limits.', 'status': 'RESOURCE_EXHAUSTED', 'details': [{'@type': 'type.googleapis.com/google.rpc.QuotaFailure', 'violations': [{'quotaMetric': 'generativelanguage.googleapis.com/generate_content_free_tier_requests', 'quotaId': 'GenerateRequestsPerMinutePerProjectPerModel-FreeTier', 'quotaDimensions': {'location': 'global', 'model': 'gemini-2.5-flash-lite'}, 'quotaValue': '15'}]}, {'@type': 'type.googleapis.com/google.rpc.Help', 'links': [{'description': 'Learn more about Gemini API quotas', 'url': 'https://ai.google.dev/gemini-api/docs/rate-limits'}]}, {'@type': 'type.googleapis.com/google.rpc.RetryInfo', 'retryDelay': '44s'}]}}\n",
      "2025-09-15 04:34:15,229 - INFO - AFC is enabled with max remote calls: 10.\n",
      "2025-09-15 04:34:15,229 - ERROR - ❌ Error classifying ticket TICKET-281: 429 RESOURCE_EXHAUSTED. {'error': {'code': 429, 'message': 'You exceeded your current quota, please check your plan and billing details. For more information on this error, head to: https://ai.google.dev/gemini-api/docs/rate-limits.', 'status': 'RESOURCE_EXHAUSTED', 'details': [{'@type': 'type.googleapis.com/google.rpc.QuotaFailure', 'violations': [{'quotaMetric': 'generativelanguage.googleapis.com/generate_content_free_tier_requests', 'quotaId': 'GenerateRequestsPerMinutePerProjectPerModel-FreeTier', 'quotaDimensions': {'location': 'global', 'model': 'gemini-2.5-flash-lite'}, 'quotaValue': '15'}]}, {'@type': 'type.googleapis.com/google.rpc.Help', 'links': [{'description': 'Learn more about Gemini API quotas', 'url': 'https://ai.google.dev/gemini-api/docs/rate-limits'}]}, {'@type': 'type.googleapis.com/google.rpc.RetryInfo', 'retryDelay': '44s'}]}}\n",
      "2025-09-15 04:34:15,229 - INFO - AFC is enabled with max remote calls: 10.\n"
     ]
    },
    {
     "name": "stdout",
     "output_type": "stream",
     "text": [
      "Classifying ticket 38/45: TICKET-282\r"
     ]
    },
    {
     "name": "stderr",
     "output_type": "stream",
     "text": [
      "2025-09-15 04:34:16,455 - INFO - HTTP Request: POST https://generativelanguage.googleapis.com/v1beta/models/gemini-2.5-flash-lite:generateContent \"HTTP/1.1 429 Too Many Requests\"\n",
      "2025-09-15 04:34:16,457 - ERROR - ❌ Error classifying ticket TICKET-282: 429 RESOURCE_EXHAUSTED. {'error': {'code': 429, 'message': 'You exceeded your current quota, please check your plan and billing details. For more information on this error, head to: https://ai.google.dev/gemini-api/docs/rate-limits.', 'status': 'RESOURCE_EXHAUSTED', 'details': [{'@type': 'type.googleapis.com/google.rpc.QuotaFailure', 'violations': [{'quotaMetric': 'generativelanguage.googleapis.com/generate_content_free_tier_requests', 'quotaId': 'GenerateRequestsPerMinutePerProjectPerModel-FreeTier', 'quotaDimensions': {'location': 'global', 'model': 'gemini-2.5-flash-lite'}, 'quotaValue': '15'}]}, {'@type': 'type.googleapis.com/google.rpc.Help', 'links': [{'description': 'Learn more about Gemini API quotas', 'url': 'https://ai.google.dev/gemini-api/docs/rate-limits'}]}, {'@type': 'type.googleapis.com/google.rpc.RetryInfo', 'retryDelay': '43s'}]}}\n",
      "2025-09-15 04:34:16,458 - INFO - AFC is enabled with max remote calls: 10.\n",
      "2025-09-15 04:34:16,457 - ERROR - ❌ Error classifying ticket TICKET-282: 429 RESOURCE_EXHAUSTED. {'error': {'code': 429, 'message': 'You exceeded your current quota, please check your plan and billing details. For more information on this error, head to: https://ai.google.dev/gemini-api/docs/rate-limits.', 'status': 'RESOURCE_EXHAUSTED', 'details': [{'@type': 'type.googleapis.com/google.rpc.QuotaFailure', 'violations': [{'quotaMetric': 'generativelanguage.googleapis.com/generate_content_free_tier_requests', 'quotaId': 'GenerateRequestsPerMinutePerProjectPerModel-FreeTier', 'quotaDimensions': {'location': 'global', 'model': 'gemini-2.5-flash-lite'}, 'quotaValue': '15'}]}, {'@type': 'type.googleapis.com/google.rpc.Help', 'links': [{'description': 'Learn more about Gemini API quotas', 'url': 'https://ai.google.dev/gemini-api/docs/rate-limits'}]}, {'@type': 'type.googleapis.com/google.rpc.RetryInfo', 'retryDelay': '43s'}]}}\n",
      "2025-09-15 04:34:16,458 - INFO - AFC is enabled with max remote calls: 10.\n"
     ]
    },
    {
     "name": "stdout",
     "output_type": "stream",
     "text": [
      "Classifying ticket 39/45: TICKET-283\r"
     ]
    },
    {
     "name": "stderr",
     "output_type": "stream",
     "text": [
      "2025-09-15 04:34:16,871 - INFO - HTTP Request: POST https://generativelanguage.googleapis.com/v1beta/models/gemini-2.5-flash-lite:generateContent \"HTTP/1.1 429 Too Many Requests\"\n",
      "2025-09-15 04:34:16,873 - ERROR - ❌ Error classifying ticket TICKET-283: 429 RESOURCE_EXHAUSTED. {'error': {'code': 429, 'message': 'You exceeded your current quota, please check your plan and billing details. For more information on this error, head to: https://ai.google.dev/gemini-api/docs/rate-limits.', 'status': 'RESOURCE_EXHAUSTED', 'details': [{'@type': 'type.googleapis.com/google.rpc.QuotaFailure', 'violations': [{'quotaMetric': 'generativelanguage.googleapis.com/generate_content_free_tier_requests', 'quotaId': 'GenerateRequestsPerMinutePerProjectPerModel-FreeTier', 'quotaDimensions': {'location': 'global', 'model': 'gemini-2.5-flash-lite'}, 'quotaValue': '15'}]}, {'@type': 'type.googleapis.com/google.rpc.Help', 'links': [{'description': 'Learn more about Gemini API quotas', 'url': 'https://ai.google.dev/gemini-api/docs/rate-limits'}]}, {'@type': 'type.googleapis.com/google.rpc.RetryInfo', 'retryDelay': '43s'}]}}\n",
      "2025-09-15 04:34:16,875 - INFO - AFC is enabled with max remote calls: 10.\n",
      "2025-09-15 04:34:16,873 - ERROR - ❌ Error classifying ticket TICKET-283: 429 RESOURCE_EXHAUSTED. {'error': {'code': 429, 'message': 'You exceeded your current quota, please check your plan and billing details. For more information on this error, head to: https://ai.google.dev/gemini-api/docs/rate-limits.', 'status': 'RESOURCE_EXHAUSTED', 'details': [{'@type': 'type.googleapis.com/google.rpc.QuotaFailure', 'violations': [{'quotaMetric': 'generativelanguage.googleapis.com/generate_content_free_tier_requests', 'quotaId': 'GenerateRequestsPerMinutePerProjectPerModel-FreeTier', 'quotaDimensions': {'location': 'global', 'model': 'gemini-2.5-flash-lite'}, 'quotaValue': '15'}]}, {'@type': 'type.googleapis.com/google.rpc.Help', 'links': [{'description': 'Learn more about Gemini API quotas', 'url': 'https://ai.google.dev/gemini-api/docs/rate-limits'}]}, {'@type': 'type.googleapis.com/google.rpc.RetryInfo', 'retryDelay': '43s'}]}}\n",
      "2025-09-15 04:34:16,875 - INFO - AFC is enabled with max remote calls: 10.\n"
     ]
    },
    {
     "name": "stdout",
     "output_type": "stream",
     "text": [
      "Classifying ticket 40/45: TICKET-284\r"
     ]
    },
    {
     "name": "stderr",
     "output_type": "stream",
     "text": [
      "2025-09-15 04:34:18,064 - INFO - HTTP Request: POST https://generativelanguage.googleapis.com/v1beta/models/gemini-2.5-flash-lite:generateContent \"HTTP/1.1 429 Too Many Requests\"\n",
      "2025-09-15 04:34:18,067 - ERROR - ❌ Error classifying ticket TICKET-284: 429 RESOURCE_EXHAUSTED. {'error': {'code': 429, 'message': 'You exceeded your current quota, please check your plan and billing details. For more information on this error, head to: https://ai.google.dev/gemini-api/docs/rate-limits.', 'status': 'RESOURCE_EXHAUSTED', 'details': [{'@type': 'type.googleapis.com/google.rpc.QuotaFailure', 'violations': [{'quotaMetric': 'generativelanguage.googleapis.com/generate_content_free_tier_requests', 'quotaId': 'GenerateRequestsPerMinutePerProjectPerModel-FreeTier', 'quotaDimensions': {'location': 'global', 'model': 'gemini-2.5-flash-lite'}, 'quotaValue': '15'}]}, {'@type': 'type.googleapis.com/google.rpc.Help', 'links': [{'description': 'Learn more about Gemini API quotas', 'url': 'https://ai.google.dev/gemini-api/docs/rate-limits'}]}, {'@type': 'type.googleapis.com/google.rpc.RetryInfo', 'retryDelay': '41s'}]}}\n",
      "2025-09-15 04:34:18,067 - INFO - AFC is enabled with max remote calls: 10.\n",
      "2025-09-15 04:34:18,067 - ERROR - ❌ Error classifying ticket TICKET-284: 429 RESOURCE_EXHAUSTED. {'error': {'code': 429, 'message': 'You exceeded your current quota, please check your plan and billing details. For more information on this error, head to: https://ai.google.dev/gemini-api/docs/rate-limits.', 'status': 'RESOURCE_EXHAUSTED', 'details': [{'@type': 'type.googleapis.com/google.rpc.QuotaFailure', 'violations': [{'quotaMetric': 'generativelanguage.googleapis.com/generate_content_free_tier_requests', 'quotaId': 'GenerateRequestsPerMinutePerProjectPerModel-FreeTier', 'quotaDimensions': {'location': 'global', 'model': 'gemini-2.5-flash-lite'}, 'quotaValue': '15'}]}, {'@type': 'type.googleapis.com/google.rpc.Help', 'links': [{'description': 'Learn more about Gemini API quotas', 'url': 'https://ai.google.dev/gemini-api/docs/rate-limits'}]}, {'@type': 'type.googleapis.com/google.rpc.RetryInfo', 'retryDelay': '41s'}]}}\n",
      "2025-09-15 04:34:18,067 - INFO - AFC is enabled with max remote calls: 10.\n"
     ]
    },
    {
     "name": "stdout",
     "output_type": "stream",
     "text": [
      "Classifying ticket 41/45: TICKET-285\r"
     ]
    },
    {
     "name": "stderr",
     "output_type": "stream",
     "text": [
      "2025-09-15 04:34:18,607 - INFO - HTTP Request: POST https://generativelanguage.googleapis.com/v1beta/models/gemini-2.5-flash-lite:generateContent \"HTTP/1.1 429 Too Many Requests\"\n",
      "2025-09-15 04:34:18,610 - ERROR - ❌ Error classifying ticket TICKET-285: 429 RESOURCE_EXHAUSTED. {'error': {'code': 429, 'message': 'You exceeded your current quota, please check your plan and billing details. For more information on this error, head to: https://ai.google.dev/gemini-api/docs/rate-limits.', 'status': 'RESOURCE_EXHAUSTED', 'details': [{'@type': 'type.googleapis.com/google.rpc.QuotaFailure', 'violations': [{'quotaMetric': 'generativelanguage.googleapis.com/generate_content_free_tier_requests', 'quotaId': 'GenerateRequestsPerMinutePerProjectPerModel-FreeTier', 'quotaDimensions': {'location': 'global', 'model': 'gemini-2.5-flash-lite'}, 'quotaValue': '15'}]}, {'@type': 'type.googleapis.com/google.rpc.Help', 'links': [{'description': 'Learn more about Gemini API quotas', 'url': 'https://ai.google.dev/gemini-api/docs/rate-limits'}]}, {'@type': 'type.googleapis.com/google.rpc.RetryInfo', 'retryDelay': '41s'}]}}\n",
      "2025-09-15 04:34:18,611 - INFO - AFC is enabled with max remote calls: 10.\n",
      "2025-09-15 04:34:18,610 - ERROR - ❌ Error classifying ticket TICKET-285: 429 RESOURCE_EXHAUSTED. {'error': {'code': 429, 'message': 'You exceeded your current quota, please check your plan and billing details. For more information on this error, head to: https://ai.google.dev/gemini-api/docs/rate-limits.', 'status': 'RESOURCE_EXHAUSTED', 'details': [{'@type': 'type.googleapis.com/google.rpc.QuotaFailure', 'violations': [{'quotaMetric': 'generativelanguage.googleapis.com/generate_content_free_tier_requests', 'quotaId': 'GenerateRequestsPerMinutePerProjectPerModel-FreeTier', 'quotaDimensions': {'location': 'global', 'model': 'gemini-2.5-flash-lite'}, 'quotaValue': '15'}]}, {'@type': 'type.googleapis.com/google.rpc.Help', 'links': [{'description': 'Learn more about Gemini API quotas', 'url': 'https://ai.google.dev/gemini-api/docs/rate-limits'}]}, {'@type': 'type.googleapis.com/google.rpc.RetryInfo', 'retryDelay': '41s'}]}}\n",
      "2025-09-15 04:34:18,611 - INFO - AFC is enabled with max remote calls: 10.\n"
     ]
    },
    {
     "name": "stdout",
     "output_type": "stream",
     "text": [
      "Classifying ticket 42/45: TICKET-286\r"
     ]
    },
    {
     "name": "stderr",
     "output_type": "stream",
     "text": [
      "2025-09-15 04:34:19,733 - INFO - HTTP Request: POST https://generativelanguage.googleapis.com/v1beta/models/gemini-2.5-flash-lite:generateContent \"HTTP/1.1 429 Too Many Requests\"\n",
      "2025-09-15 04:34:19,735 - ERROR - ❌ Error classifying ticket TICKET-286: 429 RESOURCE_EXHAUSTED. {'error': {'code': 429, 'message': 'You exceeded your current quota, please check your plan and billing details. For more information on this error, head to: https://ai.google.dev/gemini-api/docs/rate-limits.', 'status': 'RESOURCE_EXHAUSTED', 'details': [{'@type': 'type.googleapis.com/google.rpc.QuotaFailure', 'violations': [{'quotaMetric': 'generativelanguage.googleapis.com/generate_content_free_tier_requests', 'quotaId': 'GenerateRequestsPerMinutePerProjectPerModel-FreeTier', 'quotaDimensions': {'location': 'global', 'model': 'gemini-2.5-flash-lite'}, 'quotaValue': '15'}]}, {'@type': 'type.googleapis.com/google.rpc.Help', 'links': [{'description': 'Learn more about Gemini API quotas', 'url': 'https://ai.google.dev/gemini-api/docs/rate-limits'}]}, {'@type': 'type.googleapis.com/google.rpc.RetryInfo', 'retryDelay': '40s'}]}}\n",
      "2025-09-15 04:34:19,735 - INFO - AFC is enabled with max remote calls: 10.\n",
      "2025-09-15 04:34:19,735 - ERROR - ❌ Error classifying ticket TICKET-286: 429 RESOURCE_EXHAUSTED. {'error': {'code': 429, 'message': 'You exceeded your current quota, please check your plan and billing details. For more information on this error, head to: https://ai.google.dev/gemini-api/docs/rate-limits.', 'status': 'RESOURCE_EXHAUSTED', 'details': [{'@type': 'type.googleapis.com/google.rpc.QuotaFailure', 'violations': [{'quotaMetric': 'generativelanguage.googleapis.com/generate_content_free_tier_requests', 'quotaId': 'GenerateRequestsPerMinutePerProjectPerModel-FreeTier', 'quotaDimensions': {'location': 'global', 'model': 'gemini-2.5-flash-lite'}, 'quotaValue': '15'}]}, {'@type': 'type.googleapis.com/google.rpc.Help', 'links': [{'description': 'Learn more about Gemini API quotas', 'url': 'https://ai.google.dev/gemini-api/docs/rate-limits'}]}, {'@type': 'type.googleapis.com/google.rpc.RetryInfo', 'retryDelay': '40s'}]}}\n",
      "2025-09-15 04:34:19,735 - INFO - AFC is enabled with max remote calls: 10.\n"
     ]
    },
    {
     "name": "stdout",
     "output_type": "stream",
     "text": [
      "Classifying ticket 43/45: TICKET-287\r"
     ]
    },
    {
     "name": "stderr",
     "output_type": "stream",
     "text": [
      "2025-09-15 04:34:20,246 - INFO - HTTP Request: POST https://generativelanguage.googleapis.com/v1beta/models/gemini-2.5-flash-lite:generateContent \"HTTP/1.1 429 Too Many Requests\"\n",
      "2025-09-15 04:34:20,249 - ERROR - ❌ Error classifying ticket TICKET-287: 429 RESOURCE_EXHAUSTED. {'error': {'code': 429, 'message': 'You exceeded your current quota, please check your plan and billing details. For more information on this error, head to: https://ai.google.dev/gemini-api/docs/rate-limits.', 'status': 'RESOURCE_EXHAUSTED', 'details': [{'@type': 'type.googleapis.com/google.rpc.QuotaFailure', 'violations': [{'quotaMetric': 'generativelanguage.googleapis.com/generate_content_free_tier_requests', 'quotaId': 'GenerateRequestsPerMinutePerProjectPerModel-FreeTier', 'quotaDimensions': {'model': 'gemini-2.5-flash-lite', 'location': 'global'}, 'quotaValue': '15'}]}, {'@type': 'type.googleapis.com/google.rpc.Help', 'links': [{'description': 'Learn more about Gemini API quotas', 'url': 'https://ai.google.dev/gemini-api/docs/rate-limits'}]}, {'@type': 'type.googleapis.com/google.rpc.RetryInfo', 'retryDelay': '39s'}]}}\n",
      "2025-09-15 04:34:20,250 - INFO - AFC is enabled with max remote calls: 10.\n",
      "2025-09-15 04:34:20,249 - ERROR - ❌ Error classifying ticket TICKET-287: 429 RESOURCE_EXHAUSTED. {'error': {'code': 429, 'message': 'You exceeded your current quota, please check your plan and billing details. For more information on this error, head to: https://ai.google.dev/gemini-api/docs/rate-limits.', 'status': 'RESOURCE_EXHAUSTED', 'details': [{'@type': 'type.googleapis.com/google.rpc.QuotaFailure', 'violations': [{'quotaMetric': 'generativelanguage.googleapis.com/generate_content_free_tier_requests', 'quotaId': 'GenerateRequestsPerMinutePerProjectPerModel-FreeTier', 'quotaDimensions': {'model': 'gemini-2.5-flash-lite', 'location': 'global'}, 'quotaValue': '15'}]}, {'@type': 'type.googleapis.com/google.rpc.Help', 'links': [{'description': 'Learn more about Gemini API quotas', 'url': 'https://ai.google.dev/gemini-api/docs/rate-limits'}]}, {'@type': 'type.googleapis.com/google.rpc.RetryInfo', 'retryDelay': '39s'}]}}\n",
      "2025-09-15 04:34:20,250 - INFO - AFC is enabled with max remote calls: 10.\n"
     ]
    },
    {
     "name": "stdout",
     "output_type": "stream",
     "text": [
      "Classifying ticket 44/45: TICKET-288\r"
     ]
    },
    {
     "name": "stderr",
     "output_type": "stream",
     "text": [
      "2025-09-15 04:34:21,372 - INFO - HTTP Request: POST https://generativelanguage.googleapis.com/v1beta/models/gemini-2.5-flash-lite:generateContent \"HTTP/1.1 429 Too Many Requests\"\n",
      "2025-09-15 04:34:21,376 - ERROR - ❌ Error classifying ticket TICKET-288: 429 RESOURCE_EXHAUSTED. {'error': {'code': 429, 'message': 'You exceeded your current quota, please check your plan and billing details. For more information on this error, head to: https://ai.google.dev/gemini-api/docs/rate-limits.', 'status': 'RESOURCE_EXHAUSTED', 'details': [{'@type': 'type.googleapis.com/google.rpc.QuotaFailure', 'violations': [{'quotaMetric': 'generativelanguage.googleapis.com/generate_content_free_tier_requests', 'quotaId': 'GenerateRequestsPerMinutePerProjectPerModel-FreeTier', 'quotaDimensions': {'location': 'global', 'model': 'gemini-2.5-flash-lite'}, 'quotaValue': '15'}]}, {'@type': 'type.googleapis.com/google.rpc.Help', 'links': [{'description': 'Learn more about Gemini API quotas', 'url': 'https://ai.google.dev/gemini-api/docs/rate-limits'}]}, {'@type': 'type.googleapis.com/google.rpc.RetryInfo', 'retryDelay': '38s'}]}}\n",
      "2025-09-15 04:34:21,377 - INFO - AFC is enabled with max remote calls: 10.\n",
      "2025-09-15 04:34:21,376 - ERROR - ❌ Error classifying ticket TICKET-288: 429 RESOURCE_EXHAUSTED. {'error': {'code': 429, 'message': 'You exceeded your current quota, please check your plan and billing details. For more information on this error, head to: https://ai.google.dev/gemini-api/docs/rate-limits.', 'status': 'RESOURCE_EXHAUSTED', 'details': [{'@type': 'type.googleapis.com/google.rpc.QuotaFailure', 'violations': [{'quotaMetric': 'generativelanguage.googleapis.com/generate_content_free_tier_requests', 'quotaId': 'GenerateRequestsPerMinutePerProjectPerModel-FreeTier', 'quotaDimensions': {'location': 'global', 'model': 'gemini-2.5-flash-lite'}, 'quotaValue': '15'}]}, {'@type': 'type.googleapis.com/google.rpc.Help', 'links': [{'description': 'Learn more about Gemini API quotas', 'url': 'https://ai.google.dev/gemini-api/docs/rate-limits'}]}, {'@type': 'type.googleapis.com/google.rpc.RetryInfo', 'retryDelay': '38s'}]}}\n",
      "2025-09-15 04:34:21,377 - INFO - AFC is enabled with max remote calls: 10.\n"
     ]
    },
    {
     "name": "stdout",
     "output_type": "stream",
     "text": [
      "Classifying ticket 45/45: TICKET-289\r"
     ]
    },
    {
     "name": "stderr",
     "output_type": "stream",
     "text": [
      "2025-09-15 04:34:21,883 - INFO - HTTP Request: POST https://generativelanguage.googleapis.com/v1beta/models/gemini-2.5-flash-lite:generateContent \"HTTP/1.1 429 Too Many Requests\"\n",
      "2025-09-15 04:34:21,886 - ERROR - ❌ Error classifying ticket TICKET-289: 429 RESOURCE_EXHAUSTED. {'error': {'code': 429, 'message': 'You exceeded your current quota, please check your plan and billing details. For more information on this error, head to: https://ai.google.dev/gemini-api/docs/rate-limits.', 'status': 'RESOURCE_EXHAUSTED', 'details': [{'@type': 'type.googleapis.com/google.rpc.QuotaFailure', 'violations': [{'quotaMetric': 'generativelanguage.googleapis.com/generate_content_free_tier_requests', 'quotaId': 'GenerateRequestsPerMinutePerProjectPerModel-FreeTier', 'quotaDimensions': {'location': 'global', 'model': 'gemini-2.5-flash-lite'}, 'quotaValue': '15'}]}, {'@type': 'type.googleapis.com/google.rpc.Help', 'links': [{'description': 'Learn more about Gemini API quotas', 'url': 'https://ai.google.dev/gemini-api/docs/rate-limits'}]}, {'@type': 'type.googleapis.com/google.rpc.RetryInfo', 'retryDelay': '38s'}]}}\n",
      "2025-09-15 04:34:21,886 - ERROR - ❌ Error classifying ticket TICKET-289: 429 RESOURCE_EXHAUSTED. {'error': {'code': 429, 'message': 'You exceeded your current quota, please check your plan and billing details. For more information on this error, head to: https://ai.google.dev/gemini-api/docs/rate-limits.', 'status': 'RESOURCE_EXHAUSTED', 'details': [{'@type': 'type.googleapis.com/google.rpc.QuotaFailure', 'violations': [{'quotaMetric': 'generativelanguage.googleapis.com/generate_content_free_tier_requests', 'quotaId': 'GenerateRequestsPerMinutePerProjectPerModel-FreeTier', 'quotaDimensions': {'location': 'global', 'model': 'gemini-2.5-flash-lite'}, 'quotaValue': '15'}]}, {'@type': 'type.googleapis.com/google.rpc.Help', 'links': [{'description': 'Learn more about Gemini API quotas', 'url': 'https://ai.google.dev/gemini-api/docs/rate-limits'}]}, {'@type': 'type.googleapis.com/google.rpc.RetryInfo', 'retryDelay': '38s'}]}}\n"
     ]
    },
    {
     "name": "stdout",
     "output_type": "stream",
     "text": [
      "\n",
      "Classification complete.\n"
     ]
    },
    {
     "data": {
      "text/html": [
       "<div>\n",
       "<style scoped>\n",
       "    .dataframe tbody tr th:only-of-type {\n",
       "        vertical-align: middle;\n",
       "    }\n",
       "\n",
       "    .dataframe tbody tr th {\n",
       "        vertical-align: top;\n",
       "    }\n",
       "\n",
       "    .dataframe thead th {\n",
       "        text-align: right;\n",
       "    }\n",
       "</style>\n",
       "<table border=\"1\" class=\"dataframe\">\n",
       "  <thead>\n",
       "    <tr style=\"text-align: right;\">\n",
       "      <th></th>\n",
       "      <th>ticket_id</th>\n",
       "      <th>topics</th>\n",
       "      <th>priority</th>\n",
       "      <th>confidence</th>\n",
       "      <th>reasoning</th>\n",
       "    </tr>\n",
       "  </thead>\n",
       "  <tbody>\n",
       "    <tr>\n",
       "      <th>0</th>\n",
       "      <td>TICKET-245</td>\n",
       "      <td>[CONNECTOR, HOW_TO]</td>\n",
       "      <td>P0</td>\n",
       "      <td>0.95</td>\n",
       "      <td>The user is facing a connector issue with Snowflake and is asking for a how-to guide on setting ...</td>\n",
       "    </tr>\n",
       "    <tr>\n",
       "      <th>1</th>\n",
       "      <td>TICKET-246</td>\n",
       "      <td>[HOW_TO, CONNECTOR, LINEAGE]</td>\n",
       "      <td>P1</td>\n",
       "      <td>0.90</td>\n",
       "      <td>The user is new to Atlan and asking how lineage capture works for specific connectors (Fivetran,...</td>\n",
       "    </tr>\n",
       "    <tr>\n",
       "      <th>2</th>\n",
       "      <td>TICKET-247</td>\n",
       "      <td>[CONNECTOR, HOW_TO]</td>\n",
       "      <td>P1</td>\n",
       "      <td>0.90</td>\n",
       "      <td>The user is experiencing difficulties setting up the Atlan agent for an on-premise data lake, wh...</td>\n",
       "    </tr>\n",
       "    <tr>\n",
       "      <th>3</th>\n",
       "      <td>TICKET-248</td>\n",
       "      <td>[HOW_TO, CONNECTOR]</td>\n",
       "      <td>P2</td>\n",
       "      <td>0.90</td>\n",
       "      <td>The user is asking how to view sample data and recent schema changes within Atlan, indicating a ...</td>\n",
       "    </tr>\n",
       "    <tr>\n",
       "      <th>4</th>\n",
       "      <td>TICKET-249</td>\n",
       "      <td>[LINEAGE, HOW_TO]</td>\n",
       "      <td>P1</td>\n",
       "      <td>0.90</td>\n",
       "      <td>The user needs to export lineage data for an audit with an approaching deadline, indicating a ne...</td>\n",
       "    </tr>\n",
       "  </tbody>\n",
       "</table>\n",
       "</div>"
      ],
      "text/plain": [
       "    ticket_id                        topics priority  confidence  \\\n",
       "0  TICKET-245           [CONNECTOR, HOW_TO]       P0        0.95   \n",
       "1  TICKET-246  [HOW_TO, CONNECTOR, LINEAGE]       P1        0.90   \n",
       "2  TICKET-247           [CONNECTOR, HOW_TO]       P1        0.90   \n",
       "3  TICKET-248           [HOW_TO, CONNECTOR]       P2        0.90   \n",
       "4  TICKET-249             [LINEAGE, HOW_TO]       P1        0.90   \n",
       "\n",
       "                                                                                             reasoning  \n",
       "0  The user is facing a connector issue with Snowflake and is asking for a how-to guide on setting ...  \n",
       "1  The user is new to Atlan and asking how lineage capture works for specific connectors (Fivetran,...  \n",
       "2  The user is experiencing difficulties setting up the Atlan agent for an on-premise data lake, wh...  \n",
       "3  The user is asking how to view sample data and recent schema changes within Atlan, indicating a ...  \n",
       "4  The user needs to export lineage data for an audit with an approaching deadline, indicating a ne...  "
      ]
     },
     "metadata": {},
     "output_type": "display_data"
    }
   ],
   "source": [
    "import time\n",
    "logging.info(\"--- Step 2: Classifying All Tickets ---\")\n",
    "classifier = TriageClassifier()\n",
    "classified_results = []\n",
    "\n",
    "for i, ticket in enumerate(full_dataset):\n",
    "    print(f\"Classifying ticket {i+1}/{len(full_dataset)}: {ticket['id']}\", end='\\r')\n",
    "    ticket_data = {'id': ticket['id'], 'subject': ticket['subject'], 'body': ticket['body']}\n",
    "    try:\n",
    "        result = classifier.classify_ticket(ticket_data)\n",
    "    except Exception as e:\n",
    "        if 'Resource exhausted' in str(e):\n",
    "            print(\"Resource exhausted. Waiting 60 seconds...\")\n",
    "            time.sleep(60)\n",
    "            result = classifier.classify_ticket(ticket_data)\n",
    "        else:\n",
    "            print(f\"Error: {e}\")\n",
    "            result = None\n",
    "    if result is not None:\n",
    "        result_dict = asdict(result)\n",
    "        result_dict['body'] = ticket['body'] \n",
    "        classified_results.append(result_dict)\n",
    "\n",
    "classified_df = pd.DataFrame(classified_results)\n",
    "print(\"\\nClassification complete.\")\n",
    "display(classified_df[['ticket_id', 'topics', 'priority', 'confidence', 'reasoning']].head())"
   ]
  },
  {
   "cell_type": "code",
   "execution_count": 6,
   "id": "9437d276",
   "metadata": {},
   "outputs": [
    {
     "name": "stderr",
     "output_type": "stream",
     "text": [
      "2025-09-15 04:37:36,662 - INFO - --- Step 2b: Retrying Failed Classifications ---\n",
      "2025-09-15 04:37:36,668 - INFO - AFC is enabled with max remote calls: 10.\n",
      "2025-09-15 04:37:39,316 - INFO - HTTP Request: POST https://generativelanguage.googleapis.com/v1beta/models/gemini-2.5-flash-lite:generateContent \"HTTP/1.1 200 OK\"\n",
      "2025-09-15 04:37:39,323 - INFO - AFC remote call 1 is done.\n",
      "2025-09-15 04:37:39,324 - INFO - ✅ Classified ticket TICKET-263: ['CONNECTOR', 'SENSITIVE_DATA', 'HOW_TO'] (confidence: 0.800)\n",
      "2025-09-15 04:37:39,325 - INFO - AFC is enabled with max remote calls: 10.\n",
      "2025-09-15 04:37:40,848 - INFO - HTTP Request: POST https://generativelanguage.googleapis.com/v1beta/models/gemini-2.5-flash-lite:generateContent \"HTTP/1.1 200 OK\"\n",
      "2025-09-15 04:37:40,852 - INFO - AFC remote call 1 is done.\n",
      "2025-09-15 04:37:40,852 - INFO - ✅ Classified ticket TICKET-264: ['HOW_TO', 'API_SDK', 'SENSITIVE_DATA'] (confidence: 0.900)\n",
      "2025-09-15 04:37:40,853 - INFO - AFC is enabled with max remote calls: 10.\n",
      "2025-09-15 04:37:42,331 - INFO - HTTP Request: POST https://generativelanguage.googleapis.com/v1beta/models/gemini-2.5-flash-lite:generateContent \"HTTP/1.1 200 OK\"\n",
      "2025-09-15 04:37:42,335 - INFO - AFC remote call 1 is done.\n",
      "2025-09-15 04:37:42,336 - INFO - ✅ Classified ticket TICKET-265: ['API_SDK', 'HOW_TO', 'PRODUCT'] (confidence: 0.900)\n",
      "2025-09-15 04:37:42,337 - INFO - AFC is enabled with max remote calls: 10.\n",
      "2025-09-15 04:37:43,893 - INFO - HTTP Request: POST https://generativelanguage.googleapis.com/v1beta/models/gemini-2.5-flash-lite:generateContent \"HTTP/1.1 200 OK\"\n",
      "2025-09-15 04:37:43,895 - INFO - AFC remote call 1 is done.\n",
      "2025-09-15 04:37:43,896 - INFO - ✅ Classified ticket TICKET-267: ['API_SDK', 'HOW_TO'] (confidence: 0.900)\n",
      "2025-09-15 04:37:43,896 - INFO - AFC is enabled with max remote calls: 10.\n",
      "2025-09-15 04:37:44,953 - INFO - HTTP Request: POST https://generativelanguage.googleapis.com/v1beta/models/gemini-2.5-flash-lite:generateContent \"HTTP/1.1 200 OK\"\n",
      "2025-09-15 04:37:44,954 - INFO - AFC remote call 1 is done.\n",
      "2025-09-15 04:37:44,954 - INFO - ✅ Classified ticket TICKET-269: ['HOW_TO', 'BEST_PRACTICES'] (confidence: 0.800)\n",
      "2025-09-15 04:37:44,954 - INFO - AFC is enabled with max remote calls: 10.\n",
      "2025-09-15 04:37:46,379 - INFO - HTTP Request: POST https://generativelanguage.googleapis.com/v1beta/models/gemini-2.5-flash-lite:generateContent \"HTTP/1.1 200 OK\"\n",
      "2025-09-15 04:37:46,380 - INFO - AFC remote call 1 is done.\n",
      "2025-09-15 04:37:46,381 - INFO - ✅ Classified ticket TICKET-270: ['CONNECTOR', 'LINEAGE'] (confidence: 0.900)\n",
      "2025-09-15 04:37:46,381 - INFO - AFC is enabled with max remote calls: 10.\n",
      "2025-09-15 04:37:47,606 - INFO - HTTP Request: POST https://generativelanguage.googleapis.com/v1beta/models/gemini-2.5-flash-lite:generateContent \"HTTP/1.1 200 OK\"\n",
      "2025-09-15 04:37:47,608 - INFO - AFC remote call 1 is done.\n",
      "2025-09-15 04:37:47,609 - INFO - ✅ Classified ticket TICKET-271: ['PRODUCT', 'CONNECTOR'] (confidence: 0.900)\n",
      "2025-09-15 04:37:47,609 - INFO - AFC is enabled with max remote calls: 10.\n",
      "2025-09-15 04:37:49,040 - INFO - HTTP Request: POST https://generativelanguage.googleapis.com/v1beta/models/gemini-2.5-flash-lite:generateContent \"HTTP/1.1 200 OK\"\n",
      "2025-09-15 04:37:49,042 - INFO - AFC remote call 1 is done.\n",
      "2025-09-15 04:37:49,043 - INFO - ✅ Classified ticket TICKET-272: ['HOW_TO', 'BEST_PRACTICES'] (confidence: 0.900)\n",
      "2025-09-15 04:37:49,043 - INFO - AFC is enabled with max remote calls: 10.\n",
      "2025-09-15 04:37:50,169 - INFO - HTTP Request: POST https://generativelanguage.googleapis.com/v1beta/models/gemini-2.5-flash-lite:generateContent \"HTTP/1.1 200 OK\"\n",
      "2025-09-15 04:37:50,172 - INFO - AFC remote call 1 is done.\n",
      "2025-09-15 04:37:50,173 - INFO - ✅ Classified ticket TICKET-273: ['BEST_PRACTICES', 'OTHER'] (confidence: 0.900)\n",
      "2025-09-15 04:37:50,174 - INFO - AFC is enabled with max remote calls: 10.\n",
      "2025-09-15 04:37:51,806 - INFO - HTTP Request: POST https://generativelanguage.googleapis.com/v1beta/models/gemini-2.5-flash-lite:generateContent \"HTTP/1.1 200 OK\"\n",
      "2025-09-15 04:37:51,807 - INFO - AFC remote call 1 is done.\n",
      "2025-09-15 04:37:51,807 - INFO - ✅ Classified ticket TICKET-274: ['BEST_PRACTICES', 'OTHER'] (confidence: 0.800)\n",
      "2025-09-15 04:37:51,808 - INFO - AFC is enabled with max remote calls: 10.\n",
      "2025-09-15 04:37:52,776 - INFO - HTTP Request: POST https://generativelanguage.googleapis.com/v1beta/models/gemini-2.5-flash-lite:generateContent \"HTTP/1.1 200 OK\"\n",
      "2025-09-15 04:37:52,777 - INFO - AFC remote call 1 is done.\n",
      "2025-09-15 04:37:52,777 - INFO - ✅ Classified ticket TICKET-275: ['CONNECTOR', 'HOW_TO'] (confidence: 0.800)\n",
      "2025-09-15 04:37:52,778 - INFO - AFC is enabled with max remote calls: 10.\n",
      "2025-09-15 04:37:54,263 - INFO - HTTP Request: POST https://generativelanguage.googleapis.com/v1beta/models/gemini-2.5-flash-lite:generateContent \"HTTP/1.1 200 OK\"\n",
      "2025-09-15 04:37:54,265 - INFO - AFC remote call 1 is done.\n",
      "2025-09-15 04:37:54,265 - INFO - ✅ Classified ticket TICKET-276: ['LINEAGE'] (confidence: 0.900)\n",
      "2025-09-15 04:37:54,266 - INFO - AFC is enabled with max remote calls: 10.\n",
      "2025-09-15 04:37:55,388 - INFO - HTTP Request: POST https://generativelanguage.googleapis.com/v1beta/models/gemini-2.5-flash-lite:generateContent \"HTTP/1.1 200 OK\"\n",
      "2025-09-15 04:37:55,389 - INFO - AFC remote call 1 is done.\n",
      "2025-09-15 04:37:55,390 - INFO - ✅ Classified ticket TICKET-277: ['API_SDK', 'BEST_PRACTICES'] (confidence: 0.900)\n",
      "2025-09-15 04:37:55,390 - INFO - AFC is enabled with max remote calls: 10.\n",
      "2025-09-15 04:37:56,721 - INFO - HTTP Request: POST https://generativelanguage.googleapis.com/v1beta/models/gemini-2.5-flash-lite:generateContent \"HTTP/1.1 200 OK\"\n",
      "2025-09-15 04:37:56,722 - INFO - AFC remote call 1 is done.\n",
      "2025-09-15 04:37:56,722 - INFO - ✅ Classified ticket TICKET-278: ['GLOSSARY'] (confidence: 0.800)\n",
      "2025-09-15 04:37:56,723 - INFO - AFC is enabled with max remote calls: 10.\n",
      "2025-09-15 04:37:57,743 - INFO - HTTP Request: POST https://generativelanguage.googleapis.com/v1beta/models/gemini-2.5-flash-lite:generateContent \"HTTP/1.1 200 OK\"\n",
      "2025-09-15 04:37:57,746 - INFO - AFC remote call 1 is done.\n",
      "2025-09-15 04:37:57,746 - INFO - ✅ Classified ticket TICKET-279: ['SSO'] (confidence: 0.800)\n",
      "2025-09-15 04:37:57,746 - INFO - AFC is enabled with max remote calls: 10.\n",
      "2025-09-15 04:37:59,077 - INFO - HTTP Request: POST https://generativelanguage.googleapis.com/v1beta/models/gemini-2.5-flash-lite:generateContent \"HTTP/1.1 200 OK\"\n",
      "2025-09-15 04:37:59,081 - INFO - AFC remote call 1 is done.\n",
      "2025-09-15 04:37:59,082 - INFO - ✅ Classified ticket TICKET-280: ['HOW_TO'] (confidence: 0.800)\n",
      "2025-09-15 04:37:59,082 - INFO - AFC is enabled with max remote calls: 10.\n",
      "2025-09-15 04:37:59,488 - INFO - HTTP Request: POST https://generativelanguage.googleapis.com/v1beta/models/gemini-2.5-flash-lite:generateContent \"HTTP/1.1 429 Too Many Requests\"\n",
      "2025-09-15 04:37:59,491 - ERROR - ❌ Error classifying ticket TICKET-281: 429 RESOURCE_EXHAUSTED. {'error': {'code': 429, 'message': 'You exceeded your current quota, please check your plan and billing details. For more information on this error, head to: https://ai.google.dev/gemini-api/docs/rate-limits.', 'status': 'RESOURCE_EXHAUSTED', 'details': [{'@type': 'type.googleapis.com/google.rpc.QuotaFailure', 'violations': [{'quotaMetric': 'generativelanguage.googleapis.com/generate_content_free_tier_requests', 'quotaId': 'GenerateRequestsPerMinutePerProjectPerModel-FreeTier', 'quotaDimensions': {'location': 'global', 'model': 'gemini-2.5-flash-lite'}, 'quotaValue': '15'}]}, {'@type': 'type.googleapis.com/google.rpc.Help', 'links': [{'description': 'Learn more about Gemini API quotas', 'url': 'https://ai.google.dev/gemini-api/docs/rate-limits'}]}, {'@type': 'type.googleapis.com/google.rpc.RetryInfo', 'retryDelay': '0s'}]}}\n",
      "2025-09-15 04:37:59,492 - INFO - AFC is enabled with max remote calls: 10.\n",
      "2025-09-15 04:38:00,714 - INFO - HTTP Request: POST https://generativelanguage.googleapis.com/v1beta/models/gemini-2.5-flash-lite:generateContent \"HTTP/1.1 429 Too Many Requests\"\n",
      "2025-09-15 04:38:00,717 - ERROR - ❌ Error classifying ticket TICKET-282: 429 RESOURCE_EXHAUSTED. {'error': {'code': 429, 'message': 'You exceeded your current quota, please check your plan and billing details. For more information on this error, head to: https://ai.google.dev/gemini-api/docs/rate-limits.', 'status': 'RESOURCE_EXHAUSTED', 'details': [{'@type': 'type.googleapis.com/google.rpc.QuotaFailure', 'violations': [{'quotaMetric': 'generativelanguage.googleapis.com/generate_content_free_tier_requests', 'quotaId': 'GenerateRequestsPerMinutePerProjectPerModel-FreeTier', 'quotaDimensions': {'location': 'global', 'model': 'gemini-2.5-flash-lite'}, 'quotaValue': '15'}]}, {'@type': 'type.googleapis.com/google.rpc.Help', 'links': [{'description': 'Learn more about Gemini API quotas', 'url': 'https://ai.google.dev/gemini-api/docs/rate-limits'}]}, {'@type': 'type.googleapis.com/google.rpc.RetryInfo', 'retryDelay': '59s'}]}}\n",
      "2025-09-15 04:38:00,718 - INFO - AFC is enabled with max remote calls: 10.\n",
      "2025-09-15 04:38:01,944 - INFO - HTTP Request: POST https://generativelanguage.googleapis.com/v1beta/models/gemini-2.5-flash-lite:generateContent \"HTTP/1.1 200 OK\"\n",
      "2025-09-15 04:38:01,948 - INFO - AFC remote call 1 is done.\n",
      "2025-09-15 04:38:01,949 - INFO - ✅ Classified ticket TICKET-283: ['LINEAGE', 'CONNECTOR'] (confidence: 0.800)\n",
      "2025-09-15 04:38:01,950 - INFO - AFC is enabled with max remote calls: 10.\n",
      "2025-09-15 04:38:03,173 - INFO - HTTP Request: POST https://generativelanguage.googleapis.com/v1beta/models/gemini-2.5-flash-lite:generateContent \"HTTP/1.1 200 OK\"\n",
      "2025-09-15 04:38:03,177 - INFO - AFC remote call 1 is done.\n",
      "2025-09-15 04:38:03,178 - INFO - ✅ Classified ticket TICKET-284: ['HOW_TO'] (confidence: 0.900)\n",
      "2025-09-15 04:38:03,179 - INFO - AFC is enabled with max remote calls: 10.\n",
      "2025-09-15 04:38:03,685 - INFO - HTTP Request: POST https://generativelanguage.googleapis.com/v1beta/models/gemini-2.5-flash-lite:generateContent \"HTTP/1.1 429 Too Many Requests\"\n",
      "2025-09-15 04:38:03,688 - ERROR - ❌ Error classifying ticket TICKET-285: 429 RESOURCE_EXHAUSTED. {'error': {'code': 429, 'message': 'You exceeded your current quota, please check your plan and billing details. For more information on this error, head to: https://ai.google.dev/gemini-api/docs/rate-limits.', 'status': 'RESOURCE_EXHAUSTED', 'details': [{'@type': 'type.googleapis.com/google.rpc.QuotaFailure', 'violations': [{'quotaMetric': 'generativelanguage.googleapis.com/generate_content_free_tier_requests', 'quotaId': 'GenerateRequestsPerMinutePerProjectPerModel-FreeTier', 'quotaDimensions': {'location': 'global', 'model': 'gemini-2.5-flash-lite'}, 'quotaValue': '15'}]}, {'@type': 'type.googleapis.com/google.rpc.Help', 'links': [{'description': 'Learn more about Gemini API quotas', 'url': 'https://ai.google.dev/gemini-api/docs/rate-limits'}]}, {'@type': 'type.googleapis.com/google.rpc.RetryInfo', 'retryDelay': '56s'}]}}\n",
      "2025-09-15 04:38:03,689 - INFO - AFC is enabled with max remote calls: 10.\n",
      "2025-09-15 04:38:04,913 - INFO - HTTP Request: POST https://generativelanguage.googleapis.com/v1beta/models/gemini-2.5-flash-lite:generateContent \"HTTP/1.1 429 Too Many Requests\"\n",
      "2025-09-15 04:38:04,916 - ERROR - ❌ Error classifying ticket TICKET-286: 429 RESOURCE_EXHAUSTED. {'error': {'code': 429, 'message': 'You exceeded your current quota, please check your plan and billing details. For more information on this error, head to: https://ai.google.dev/gemini-api/docs/rate-limits.', 'status': 'RESOURCE_EXHAUSTED', 'details': [{'@type': 'type.googleapis.com/google.rpc.QuotaFailure', 'violations': [{'quotaMetric': 'generativelanguage.googleapis.com/generate_content_free_tier_requests', 'quotaId': 'GenerateRequestsPerMinutePerProjectPerModel-FreeTier', 'quotaDimensions': {'location': 'global', 'model': 'gemini-2.5-flash-lite'}, 'quotaValue': '15'}]}, {'@type': 'type.googleapis.com/google.rpc.Help', 'links': [{'description': 'Learn more about Gemini API quotas', 'url': 'https://ai.google.dev/gemini-api/docs/rate-limits'}]}, {'@type': 'type.googleapis.com/google.rpc.RetryInfo', 'retryDelay': '55s'}]}}\n",
      "2025-09-15 04:38:04,917 - INFO - AFC is enabled with max remote calls: 10.\n",
      "2025-09-15 04:38:05,324 - INFO - HTTP Request: POST https://generativelanguage.googleapis.com/v1beta/models/gemini-2.5-flash-lite:generateContent \"HTTP/1.1 429 Too Many Requests\"\n",
      "2025-09-15 04:38:05,327 - ERROR - ❌ Error classifying ticket TICKET-287: 429 RESOURCE_EXHAUSTED. {'error': {'code': 429, 'message': 'You exceeded your current quota, please check your plan and billing details. For more information on this error, head to: https://ai.google.dev/gemini-api/docs/rate-limits.', 'status': 'RESOURCE_EXHAUSTED', 'details': [{'@type': 'type.googleapis.com/google.rpc.QuotaFailure', 'violations': [{'quotaMetric': 'generativelanguage.googleapis.com/generate_content_free_tier_requests', 'quotaId': 'GenerateRequestsPerMinutePerProjectPerModel-FreeTier', 'quotaDimensions': {'location': 'global', 'model': 'gemini-2.5-flash-lite'}, 'quotaValue': '15'}]}, {'@type': 'type.googleapis.com/google.rpc.Help', 'links': [{'description': 'Learn more about Gemini API quotas', 'url': 'https://ai.google.dev/gemini-api/docs/rate-limits'}]}, {'@type': 'type.googleapis.com/google.rpc.RetryInfo', 'retryDelay': '54s'}]}}\n",
      "2025-09-15 04:38:05,328 - INFO - AFC is enabled with max remote calls: 10.\n",
      "2025-09-15 04:38:06,654 - INFO - HTTP Request: POST https://generativelanguage.googleapis.com/v1beta/models/gemini-2.5-flash-lite:generateContent \"HTTP/1.1 429 Too Many Requests\"\n",
      "2025-09-15 04:38:06,657 - ERROR - ❌ Error classifying ticket TICKET-288: 429 RESOURCE_EXHAUSTED. {'error': {'code': 429, 'message': 'You exceeded your current quota, please check your plan and billing details. For more information on this error, head to: https://ai.google.dev/gemini-api/docs/rate-limits.', 'status': 'RESOURCE_EXHAUSTED', 'details': [{'@type': 'type.googleapis.com/google.rpc.QuotaFailure', 'violations': [{'quotaMetric': 'generativelanguage.googleapis.com/generate_content_free_tier_requests', 'quotaId': 'GenerateRequestsPerMinutePerProjectPerModel-FreeTier', 'quotaDimensions': {'model': 'gemini-2.5-flash-lite', 'location': 'global'}, 'quotaValue': '15'}]}, {'@type': 'type.googleapis.com/google.rpc.Help', 'links': [{'description': 'Learn more about Gemini API quotas', 'url': 'https://ai.google.dev/gemini-api/docs/rate-limits'}]}, {'@type': 'type.googleapis.com/google.rpc.RetryInfo', 'retryDelay': '53s'}]}}\n",
      "2025-09-15 04:38:06,658 - INFO - AFC is enabled with max remote calls: 10.\n",
      "2025-09-15 04:38:06,985 - INFO - HTTP Request: POST https://generativelanguage.googleapis.com/v1beta/models/gemini-2.5-flash-lite:generateContent \"HTTP/1.1 429 Too Many Requests\"\n",
      "2025-09-15 04:38:06,988 - ERROR - ❌ Error classifying ticket TICKET-289: 429 RESOURCE_EXHAUSTED. {'error': {'code': 429, 'message': 'You exceeded your current quota, please check your plan and billing details. For more information on this error, head to: https://ai.google.dev/gemini-api/docs/rate-limits.', 'status': 'RESOURCE_EXHAUSTED', 'details': [{'@type': 'type.googleapis.com/google.rpc.QuotaFailure', 'violations': [{'quotaMetric': 'generativelanguage.googleapis.com/generate_content_free_tier_requests', 'quotaId': 'GenerateRequestsPerMinutePerProjectPerModel-FreeTier', 'quotaDimensions': {'location': 'global', 'model': 'gemini-2.5-flash-lite'}, 'quotaValue': '15'}]}, {'@type': 'type.googleapis.com/google.rpc.Help', 'links': [{'description': 'Learn more about Gemini API quotas', 'url': 'https://ai.google.dev/gemini-api/docs/rate-limits'}]}, {'@type': 'type.googleapis.com/google.rpc.RetryInfo', 'retryDelay': '53s'}]}}\n"
     ]
    },
    {
     "data": {
      "text/html": [
       "<div>\n",
       "<style scoped>\n",
       "    .dataframe tbody tr th:only-of-type {\n",
       "        vertical-align: middle;\n",
       "    }\n",
       "\n",
       "    .dataframe tbody tr th {\n",
       "        vertical-align: top;\n",
       "    }\n",
       "\n",
       "    .dataframe thead th {\n",
       "        text-align: right;\n",
       "    }\n",
       "</style>\n",
       "<table border=\"1\" class=\"dataframe\">\n",
       "  <thead>\n",
       "    <tr style=\"text-align: right;\">\n",
       "      <th></th>\n",
       "      <th>ticket_id</th>\n",
       "      <th>topics</th>\n",
       "      <th>priority</th>\n",
       "      <th>confidence</th>\n",
       "      <th>reasoning</th>\n",
       "    </tr>\n",
       "  </thead>\n",
       "  <tbody>\n",
       "    <tr>\n",
       "      <th>0</th>\n",
       "      <td>TICKET-245</td>\n",
       "      <td>[CONNECTOR, HOW_TO]</td>\n",
       "      <td>P0</td>\n",
       "      <td>0.95</td>\n",
       "      <td>The user is facing a connector issue with Snowflake and is asking for a how-to guide on setting ...</td>\n",
       "    </tr>\n",
       "    <tr>\n",
       "      <th>1</th>\n",
       "      <td>TICKET-246</td>\n",
       "      <td>[HOW_TO, CONNECTOR, LINEAGE]</td>\n",
       "      <td>P1</td>\n",
       "      <td>0.90</td>\n",
       "      <td>The user is new to Atlan and asking how lineage capture works for specific connectors (Fivetran,...</td>\n",
       "    </tr>\n",
       "    <tr>\n",
       "      <th>2</th>\n",
       "      <td>TICKET-247</td>\n",
       "      <td>[CONNECTOR, HOW_TO]</td>\n",
       "      <td>P1</td>\n",
       "      <td>0.90</td>\n",
       "      <td>The user is experiencing difficulties setting up the Atlan agent for an on-premise data lake, wh...</td>\n",
       "    </tr>\n",
       "    <tr>\n",
       "      <th>3</th>\n",
       "      <td>TICKET-248</td>\n",
       "      <td>[HOW_TO, CONNECTOR]</td>\n",
       "      <td>P2</td>\n",
       "      <td>0.90</td>\n",
       "      <td>The user is asking how to view sample data and recent schema changes within Atlan, indicating a ...</td>\n",
       "    </tr>\n",
       "    <tr>\n",
       "      <th>4</th>\n",
       "      <td>TICKET-249</td>\n",
       "      <td>[LINEAGE, HOW_TO]</td>\n",
       "      <td>P1</td>\n",
       "      <td>0.90</td>\n",
       "      <td>The user needs to export lineage data for an audit with an approaching deadline, indicating a ne...</td>\n",
       "    </tr>\n",
       "  </tbody>\n",
       "</table>\n",
       "</div>"
      ],
      "text/plain": [
       "    ticket_id                        topics priority  confidence  \\\n",
       "0  TICKET-245           [CONNECTOR, HOW_TO]       P0        0.95   \n",
       "1  TICKET-246  [HOW_TO, CONNECTOR, LINEAGE]       P1        0.90   \n",
       "2  TICKET-247           [CONNECTOR, HOW_TO]       P1        0.90   \n",
       "3  TICKET-248           [HOW_TO, CONNECTOR]       P2        0.90   \n",
       "4  TICKET-249             [LINEAGE, HOW_TO]       P1        0.90   \n",
       "\n",
       "                                                                                             reasoning  \n",
       "0  The user is facing a connector issue with Snowflake and is asking for a how-to guide on setting ...  \n",
       "1  The user is new to Atlan and asking how lineage capture works for specific connectors (Fivetran,...  \n",
       "2  The user is experiencing difficulties setting up the Atlan agent for an on-premise data lake, wh...  \n",
       "3  The user is asking how to view sample data and recent schema changes within Atlan, indicating a ...  \n",
       "4  The user needs to export lineage data for an audit with an approaching deadline, indicating a ne...  "
      ]
     },
     "metadata": {},
     "output_type": "display_data"
    }
   ],
   "source": [
    "# Re-run classification only for tickets that failed previously\n",
    "logging.info(\"--- Step 2b: Retrying Failed Classifications ---\")\n",
    "for item in classified_results:\n",
    "    if not item['classification_success']:\n",
    "        ticket_data = {\n",
    "            'id': item['ticket_id'],\n",
    "            'subject': item['subject'],\n",
    "            'body': item['body']\n",
    "        }\n",
    "        try:\n",
    "            result = classifier.classify_ticket(ticket_data)\n",
    "            result_dict = asdict(result)\n",
    "            result_dict['body'] = ticket_data['body']\n",
    "            # Update the item in place\n",
    "            item.update(result_dict)\n",
    "        except Exception as e:\n",
    "            logging.warning(f\"Retry failed for {item['ticket_id']}: {e}\")\n",
    "\n",
    "# Convert to DataFrame for inspection\n",
    "classified_df = pd.DataFrame(classified_results)\n",
    "display(classified_df[['ticket_id', 'topics', 'priority', 'confidence', 'reasoning']].head())"
   ]
  },
  {
   "cell_type": "code",
   "execution_count": 7,
   "id": "51a83a8c",
   "metadata": {},
   "outputs": [
    {
     "name": "stderr",
     "output_type": "stream",
     "text": [
      "2025-09-15 04:38:51,106 - INFO - --- Step 2c: Final Retry and Merge ---\n",
      "2025-09-15 04:38:51,112 - INFO - AFC is enabled with max remote calls: 10.\n",
      "2025-09-15 04:38:53,455 - INFO - HTTP Request: POST https://generativelanguage.googleapis.com/v1beta/models/gemini-2.5-flash-lite:generateContent \"HTTP/1.1 200 OK\"\n",
      "2025-09-15 04:38:53,463 - INFO - AFC remote call 1 is done.\n",
      "2025-09-15 04:38:53,464 - INFO - ✅ Classified ticket TICKET-281: ['BEST_PRACTICES'] (confidence: 0.700)\n",
      "2025-09-15 04:38:53,464 - INFO - AFC is enabled with max remote calls: 10.\n",
      "2025-09-15 04:38:54,495 - INFO - HTTP Request: POST https://generativelanguage.googleapis.com/v1beta/models/gemini-2.5-flash-lite:generateContent \"HTTP/1.1 200 OK\"\n",
      "2025-09-15 04:38:54,496 - INFO - AFC remote call 1 is done.\n",
      "2025-09-15 04:38:54,497 - INFO - ✅ Classified ticket TICKET-282: ['OTHER'] (confidence: 0.800)\n",
      "2025-09-15 04:38:54,497 - INFO - AFC is enabled with max remote calls: 10.\n",
      "2025-09-15 04:38:55,907 - INFO - HTTP Request: POST https://generativelanguage.googleapis.com/v1beta/models/gemini-2.5-flash-lite:generateContent \"HTTP/1.1 200 OK\"\n",
      "2025-09-15 04:38:55,909 - INFO - AFC remote call 1 is done.\n",
      "2025-09-15 04:38:55,910 - INFO - ✅ Classified ticket TICKET-285: ['API_SDK'] (confidence: 0.800)\n",
      "2025-09-15 04:38:55,910 - INFO - AFC is enabled with max remote calls: 10.\n",
      "2025-09-15 04:38:57,240 - INFO - HTTP Request: POST https://generativelanguage.googleapis.com/v1beta/models/gemini-2.5-flash-lite:generateContent \"HTTP/1.1 200 OK\"\n",
      "2025-09-15 04:38:57,242 - INFO - AFC remote call 1 is done.\n",
      "2025-09-15 04:38:57,243 - INFO - ✅ Classified ticket TICKET-286: ['LINEAGE', 'CONNECTOR'] (confidence: 0.800)\n",
      "2025-09-15 04:38:57,243 - INFO - AFC is enabled with max remote calls: 10.\n",
      "2025-09-15 04:38:58,196 - INFO - HTTP Request: POST https://generativelanguage.googleapis.com/v1beta/models/gemini-2.5-flash-lite:generateContent \"HTTP/1.1 200 OK\"\n",
      "2025-09-15 04:38:58,199 - INFO - AFC remote call 1 is done.\n",
      "2025-09-15 04:38:58,200 - INFO - ✅ Classified ticket TICKET-287: ['SENSITIVE_DATA'] (confidence: 0.900)\n",
      "2025-09-15 04:38:58,201 - INFO - AFC is enabled with max remote calls: 10.\n",
      "2025-09-15 04:38:59,593 - INFO - HTTP Request: POST https://generativelanguage.googleapis.com/v1beta/models/gemini-2.5-flash-lite:generateContent \"HTTP/1.1 200 OK\"\n",
      "2025-09-15 04:38:59,595 - INFO - AFC remote call 1 is done.\n",
      "2025-09-15 04:38:59,595 - INFO - ✅ Classified ticket TICKET-288: ['PRODUCT'] (confidence: 0.900)\n",
      "2025-09-15 04:38:59,596 - INFO - AFC is enabled with max remote calls: 10.\n",
      "2025-09-15 04:39:00,984 - INFO - HTTP Request: POST https://generativelanguage.googleapis.com/v1beta/models/gemini-2.5-flash-lite:generateContent \"HTTP/1.1 200 OK\"\n",
      "2025-09-15 04:39:00,985 - INFO - AFC remote call 1 is done.\n",
      "2025-09-15 04:39:00,985 - INFO - ✅ Classified ticket TICKET-289: ['HOW_TO'] (confidence: 0.900)\n"
     ]
    },
    {
     "data": {
      "text/html": [
       "<div>\n",
       "<style scoped>\n",
       "    .dataframe tbody tr th:only-of-type {\n",
       "        vertical-align: middle;\n",
       "    }\n",
       "\n",
       "    .dataframe tbody tr th {\n",
       "        vertical-align: top;\n",
       "    }\n",
       "\n",
       "    .dataframe thead th {\n",
       "        text-align: right;\n",
       "    }\n",
       "</style>\n",
       "<table border=\"1\" class=\"dataframe\">\n",
       "  <thead>\n",
       "    <tr style=\"text-align: right;\">\n",
       "      <th></th>\n",
       "      <th>ticket_id</th>\n",
       "      <th>topics</th>\n",
       "      <th>priority</th>\n",
       "      <th>confidence</th>\n",
       "      <th>reasoning</th>\n",
       "    </tr>\n",
       "  </thead>\n",
       "  <tbody>\n",
       "    <tr>\n",
       "      <th>0</th>\n",
       "      <td>TICKET-245</td>\n",
       "      <td>[CONNECTOR, HOW_TO]</td>\n",
       "      <td>P0</td>\n",
       "      <td>0.95</td>\n",
       "      <td>The user is facing a connector issue with Snowflake and is asking for a how-to guide on setting ...</td>\n",
       "    </tr>\n",
       "    <tr>\n",
       "      <th>1</th>\n",
       "      <td>TICKET-246</td>\n",
       "      <td>[HOW_TO, CONNECTOR, LINEAGE]</td>\n",
       "      <td>P1</td>\n",
       "      <td>0.90</td>\n",
       "      <td>The user is new to Atlan and asking how lineage capture works for specific connectors (Fivetran,...</td>\n",
       "    </tr>\n",
       "    <tr>\n",
       "      <th>2</th>\n",
       "      <td>TICKET-247</td>\n",
       "      <td>[CONNECTOR, HOW_TO]</td>\n",
       "      <td>P1</td>\n",
       "      <td>0.90</td>\n",
       "      <td>The user is experiencing difficulties setting up the Atlan agent for an on-premise data lake, wh...</td>\n",
       "    </tr>\n",
       "    <tr>\n",
       "      <th>3</th>\n",
       "      <td>TICKET-248</td>\n",
       "      <td>[HOW_TO, CONNECTOR]</td>\n",
       "      <td>P2</td>\n",
       "      <td>0.90</td>\n",
       "      <td>The user is asking how to view sample data and recent schema changes within Atlan, indicating a ...</td>\n",
       "    </tr>\n",
       "    <tr>\n",
       "      <th>4</th>\n",
       "      <td>TICKET-249</td>\n",
       "      <td>[LINEAGE, HOW_TO]</td>\n",
       "      <td>P1</td>\n",
       "      <td>0.90</td>\n",
       "      <td>The user needs to export lineage data for an audit with an approaching deadline, indicating a ne...</td>\n",
       "    </tr>\n",
       "  </tbody>\n",
       "</table>\n",
       "</div>"
      ],
      "text/plain": [
       "    ticket_id                        topics priority  confidence  \\\n",
       "0  TICKET-245           [CONNECTOR, HOW_TO]       P0        0.95   \n",
       "1  TICKET-246  [HOW_TO, CONNECTOR, LINEAGE]       P1        0.90   \n",
       "2  TICKET-247           [CONNECTOR, HOW_TO]       P1        0.90   \n",
       "3  TICKET-248           [HOW_TO, CONNECTOR]       P2        0.90   \n",
       "4  TICKET-249             [LINEAGE, HOW_TO]       P1        0.90   \n",
       "\n",
       "                                                                                             reasoning  \n",
       "0  The user is facing a connector issue with Snowflake and is asking for a how-to guide on setting ...  \n",
       "1  The user is new to Atlan and asking how lineage capture works for specific connectors (Fivetran,...  \n",
       "2  The user is experiencing difficulties setting up the Atlan agent for an on-premise data lake, wh...  \n",
       "3  The user is asking how to view sample data and recent schema changes within Atlan, indicating a ...  \n",
       "4  The user needs to export lineage data for an audit with an approaching deadline, indicating a ne...  "
      ]
     },
     "metadata": {},
     "output_type": "display_data"
    }
   ],
   "source": [
    "# Final retry for tickets that failed classification, then merge results\n",
    "logging.info(\"--- Step 2c: Final Retry and Merge ---\")\n",
    "for item in classified_results:\n",
    "    if not item['classification_success']:\n",
    "        ticket_data = {\n",
    "            'id': item['ticket_id'],\n",
    "            'subject': item['subject'],\n",
    "            'body': item['body']\n",
    "        }\n",
    "        try:\n",
    "            result = classifier.classify_ticket(ticket_data)\n",
    "            result_dict = asdict(result)\n",
    "            result_dict['body'] = ticket_data['body']\n",
    "            item.update(result_dict)\n",
    "        except Exception as e:\n",
    "            logging.warning(f\"Final retry failed for {item['ticket_id']}: {e}\")\n",
    "\n",
    "# Merge all results into a DataFrame for downstream analysis\n",
    "classified_df = pd.DataFrame(classified_results)\n",
    "display(classified_df[['ticket_id', 'topics', 'priority', 'confidence', 'reasoning']].head())"
   ]
  },
  {
   "cell_type": "markdown",
   "id": "c223269f",
   "metadata": {},
   "source": [
    "With the classifications complete, we now run our batch evaluation script. This will compute a rich set of metrics for each ticket and topic, including the coherence, margin, and embedding vectors we need for visualization. This step will save several CSV files and a PCA plot image to a new directory.\n",
    "\n"
   ]
  },
  {
   "cell_type": "code",
   "execution_count": 8,
   "id": "e22264b1",
   "metadata": {},
   "outputs": [
    {
     "name": "stderr",
     "output_type": "stream",
     "text": [
      "2025-09-15 04:44:00,257 - INFO - --- Step 3: Running Batch Evaluation Metrics ---\n",
      "2025-09-15 04:44:00,261 - INFO - Created output directory: triage_mass_evaluation_results\n",
      "2025-09-15 04:44:00,261 - INFO - Generating text embeddings for tickets...\n",
      "2025-09-15 04:44:00,271 - INFO - Use pytorch device_name: mps\n",
      "2025-09-15 04:44:00,272 - INFO - Load pretrained SentenceTransformer: all-MiniLM-L6-v2\n",
      "Batches: 100%|██████████| 2/2 [00:00<00:00,  2.40it/s]\n",
      "2025-09-15 04:44:07,649 - INFO - Generated 45 embeddings of dimension 384.\n",
      "2025-09-15 04:44:07,658 - INFO - Computing topic and combo centroids...\n",
      "2025-09-15 04:44:07,663 - INFO - Building topic and combo metrics (coherence, separation)...\n",
      "2025-09-15 04:44:07,679 - INFO - Computing per-ticket confidence scores...\n",
      "2025-09-15 04:44:07,681 - INFO - Generating and saving reports...\n",
      "2025-09-15 04:44:08,006 - INFO - Evaluation complete. Reports saved to 'triage_mass_evaluation_results'.\n"
     ]
    },
    {
     "name": "stdout",
     "output_type": "stream",
     "text": [
      "\n",
      "--- Evaluation Summary ---\n",
      "Top Topics by Coherence:\n",
      "         topic  size  coherence  outlier_frac  sep_ratio\n",
      "           SSO     4   0.325343           0.0   0.778825\n",
      "       LINEAGE     9   0.294072           0.0   0.569204\n",
      "SENSITIVE_DATA     6   0.284452           0.0   0.493672\n",
      "     CONNECTOR    12   0.252012           0.0   0.424746\n",
      "      GLOSSARY     5   0.250778           0.0   0.455523\n",
      "\n",
      "Low Confidence Tickets:\n",
      "Found 16 low-confidence tickets.\n",
      "                                                                                                                                                                                                                                                                                                                                                    body                               topics    margin\n",
      "4   For our quarterly audit, I need to provide a complete upstream and downstream lineage diagram for our core `fact_orders` table. I can see the lineage perfectly in the UI, but I can't find an option to export this view as an image or PDF. This is a hard requirement from our compliance team and the deadline is approaching fast. Please help!                    [LINEAGE, HOW_TO]  0.053382\n",
      "6                                                           I'm a business analyst and not very comfortable with writing complex SQL. I was excited to see the Visual Query Builder in Atlan, but I'm having trouble figuring out how to join multiple tables and save my query for later use. Is there a tutorial or a quick guide you can point me to?                    [HOW_TO, PRODUCT]  0.046519\n",
      "7                  Our internal data science team wants to build a custom application that analyzes metadata propagation delays. To do this, we need to programmatically extract lineage data from Atlan via an API. Does the API expose lineage information, and if so, could you provide an example of the endpoint and the structure of the response?                   [LINEAGE, API_SDK]  0.065228\n",
      "13                                                                 We've started identifying owners for our key data assets. What is the recommended workflow in Atlan to assign these owners and automatically notify them? We want to make sure they are aware of their responsibilities without us having to send manual emails for every assignment.             [HOW_TO, BEST_PRACTICES]  0.096588\n",
      "18                                                            Does Atlan have the capability to integrate with third-party tools like a DLP (Data Loss Prevention) solution or a secrets manager like HashiCorp Vault? We need to ensure that connection credentials and sensitive metadata classifications are handled by our central security systems.  [CONNECTOR, SENSITIVE_DATA, HOW_TO]  0.070242\n",
      "--------------------------\n",
      "Evaluation metrics saved to 'triage_mass_evaluation_results' directory.\n"
     ]
    }
   ],
   "source": [
    "logging.info(\"--- Step 3: Running Batch Evaluation Metrics ---\")\n",
    "output_dir = \"triage_mass_evaluation_results\"\n",
    "run_evaluation(classified_df, output_dir=output_dir)\n",
    "print(f\"Evaluation metrics saved to '{output_dir}' directory.\")"
   ]
  },
  {
   "cell_type": "markdown",
   "id": "9ad5b713",
   "metadata": {},
   "source": [
    "Now we will use the results from the evaluation to create visualizations that answer our key questions.\n",
    "\n",
    "Question 1: Does the system accurately group related tickets?\n",
    "To answer this, we measure Topic Coherence, which calculates the average semantic similarity of all tickets within a single topic group. A high score means the tickets in that group are conceptually very similar, indicating a successful and meaningful classification.\n",
    "\n"
   ]
  },
  {
   "cell_type": "code",
   "execution_count": 9,
   "id": "801db51b",
   "metadata": {},
   "outputs": [
    {
     "name": "stderr",
     "output_type": "stream",
     "text": [
      "/var/folders/by/fcsxt19n50d8y2qy_fns163m0000gn/T/ipykernel_25480/1073288198.py:10: FutureWarning: \n",
      "\n",
      "Passing `palette` without assigning `hue` is deprecated and will be removed in v0.14.0. Assign the `y` variable to `hue` and set `legend=False` for the same effect.\n",
      "\n",
      "  ax = sns.barplot(x='coherence', y='topic', data=topic_df_filtered, palette='viridis', dodge=False)\n"
     ]
    },
    {
     "data": {
      "image/png": "[encoded data removed]",
      "text/plain": [
       "<Figure size 1440x960 with 1 Axes>"
      ]
     },
     "metadata": {},
     "output_type": "display_data"
    }
   ],
   "source": [
    "# Load the topic summary data\n",
    "topic_summary_path = os.path.join(output_dir, \"topic_summary.csv\")\n",
    "topic_df = pd.read_csv(topic_summary_path)\n",
    "\n",
    "# Filter for topics with at least 3 tickets for a meaningful score\n",
    "topic_df_filtered = topic_df[topic_df['size'] >= 3].dropna(subset=['coherence']).sort_values('coherence', ascending=False)\n",
    "\n",
    "# Create the plot\n",
    "plt.figure(figsize=(12, 8))\n",
    "ax = sns.barplot(x='coherence', y='topic', data=topic_df_filtered, palette='viridis', dodge=False)\n",
    "ax.set_title('Topic Coherence by Predicted Category', fontsize=18, pad=20)\n",
    "ax.set_xlabel('Average Intra-Topic Similarity (Higher is Better)', fontsize=14)\n",
    "ax.set_ylabel('Topic', fontsize=14)\n",
    "ax.tick_params(axis='x', labelsize=12)\n",
    "ax.tick_params(axis='y', labelsize=12)\n",
    "plt.show()"
   ]
  },
  {
   "cell_type": "markdown",
   "id": "0fbd9385",
   "metadata": {},
   "source": [
    "Question 2: Are our topic definitions clear and distinct from each other?\n",
    "For this, we use the 2D PCA (Principal Component Analysis) plot generated by our evaluation script. This technique visualizes the high-dimensional meaning of each ticket as a point on a 2D map. If our topics are well-defined, we should see distinct \"clouds\" of points for each topic with minimal overlap."
   ]
  },
  {
   "cell_type": "code",
   "execution_count": 11,
   "id": "bdf43ca6",
   "metadata": {},
   "outputs": [
    {
     "name": "stdout",
     "output_type": "stream",
     "text": [
      "Displaying PCA plot of topic clusters:\n"
     ]
    },
    {
     "data": {
      "image/png": "[encoded data removed]",
      "text/plain": [
       "<IPython.core.display.Image object>"
      ]
     },
     "metadata": {},
     "output_type": "display_data"
    }
   ],
   "source": [
    "# The PCA plot was already generated by the run_evaluation function\n",
    "pca_plot_path = os.path.join(output_dir, 'global_pca.png')\n",
    "if os.path.exists(pca_plot_path):\n",
    "    print(\"Displaying PCA plot of topic clusters:\")\n",
    "    display(Image(filename=pca_plot_path))\n",
    "else:\n",
    "    print(\"PCA plot not found.\")"
   ]
  },
  {
   "cell_type": "markdown",
   "id": "be703ef3",
   "metadata": {},
   "source": [
    "Question 3: Can the system identify ambiguous tickets for human review?\n",
    "Here, we measure the Classification Margin for each ticket. This is the difference between the confidence score of the winning topic and the score of the runner-up. A high margin means the AI was very sure of its choice, while a low margin indicates ambiguity."
   ]
  },
  {
   "cell_type": "code",
   "execution_count": 13,
   "id": "70361aac",
   "metadata": {},
   "outputs": [
    {
     "data": {
      "image/png": "[encoded data removed]",
      "text/plain": [
       "<Figure size 1440x840 with 1 Axes>"
      ]
     },
     "metadata": {},
     "output_type": "display_data"
    }
   ],
   "source": [
    "# Load the per-ticket metrics\n",
    "tickets_metrics_path = os.path.join(output_dir, \"tickets_with_metrics.csv\")\n",
    "tickets_df = pd.read_csv(tickets_metrics_path).dropna(subset=['margin'])\n",
    "\n",
    "# Create the plot\n",
    "plt.figure(figsize=(12, 7))\n",
    "ax = sns.histplot(tickets_df['margin'], kde=True, bins=20, color='royalblue')\n",
    "ax.set_title('Distribution of Classification Margin Scores', fontsize=18, pad=20)\n",
    "ax.set_xlabel('Margin (Confidence in Chosen Topic vs. Next Best)', fontsize=14)\n",
    "ax.set_ylabel('Number of Tickets', fontsize=14)\n",
    "plt.axvline(x=0.15, color='red', linestyle='--', label='Low Confidence Threshold (0.15)')\n",
    "plt.legend(fontsize=12)\n",
    "plt.show()"
   ]
  },
  {
   "cell_type": "markdown",
   "id": "a69fa1a8",
   "metadata": {},
   "source": [
    "## Final Answer Evaluation\n",
    "While the Triage evaluation tells us if we're categorizing tickets correctly, we also need to evaluate the quality of the final, AI-generated answers. Evaluating generated text is more complex than a simple accuracy score. We will use a combination of automated metrics and prepare a report for qualitative review.\n"
   ]
  },
  {
   "cell_type": "markdown",
   "id": "5c38e61f",
   "metadata": {},
   "source": [
    "My evaluation will focus on two key automated metrics:\n",
    "\n",
    "- Consistency: Does the system produce the same answer for the same question every time? An unstable system is an unreliable one.\n",
    "\n",
    "- Robustness: Does the system produce the same answer for minor, meaningless variations of a question? It should not be easily thrown off by a user rephrasing their query."
   ]
  },
  {
   "cell_type": "markdown",
   "id": "3d2e88c6",
   "metadata": {},
   "source": [
    "To gather my data, I will run the full pipeline three times on my dataset of 45 tickets:\n",
    "\n",
    "Run 1: On the original ticket bodies.\n",
    "\n",
    "Run 2: On the original ticket bodies again, to check for consistency.\n",
    "\n",
    "Run 3: On \"perturbed\" versions of the ticket bodies (e.g., converted to lowercase with extra words) to check for robustness."
   ]
  },
  {
   "cell_type": "code",
   "execution_count": null,
   "id": "523cea4d",
   "metadata": {},
   "outputs": [],
   "source": [
    "from sentence_transformers import SentenceTransformer, util\n",
    "from atlan_helpdesk_pipeline import ChatbotPipeline\n",
    "\n",
    "logging.info(\"--- Step 5: Final Answer Evaluation ---\")\n",
    "\n",
    "# Initialize the full pipeline\n",
    "pipeline = ChatbotPipeline(historical_data=None)\n",
    "\n",
    "# Initialize a model for semantic similarity comparison\n",
    "similarity_model = SentenceTransformer('all-MiniLM-L6-v2')\n",
    "\n",
    "run1_results = []\n",
    "run2_results = []\n",
    "perturbed_results = []\n",
    "\n",
    "# Create the original and perturbed queries\n",
    "original_queries = [ticket['body'] for ticket in full_dataset]\n",
    "perturbed_queries = [ticket['body'].lower().strip() + \" can you please help?\" for ticket in full_dataset]\n",
    "\n",
    "# --- Run 1: Original Queries ---\n",
    "print(\"Executing Run 1 (Original Queries)...\")\n",
    "for i, query in enumerate(original_queries):\n",
    "    if i > 0 and i % 12 == 0:\n",
    "        print(\"Pausing for 60 seconds to avoid API rate limits...\")\n",
    "        time.sleep(60)\n",
    "    print(f\"Processing ticket {i+1}/{len(original_queries)}\", end='\\r')\n",
    "    run1_results.append(pipeline.run(query=query, ticket_id=full_dataset[i]['id']))\n",
    "print(\"\\nRun 1 complete.\")\n",
    "\n",
    "# --- Run 2: Original Queries (for Consistency) ---\n",
    "print(\"Executing Run 2 (Original Queries for Consistency)...\")\n",
    "for i, query in enumerate(original_queries):\n",
    "    if i > 0 and i % 12 == 0:\n",
    "        print(\"Pausing for 60 seconds to avoid API rate limits...\")\n",
    "        time.sleep(60)\n",
    "    print(f\"Processing ticket {i+1}/{len(original_queries)}\", end='\\r')\n",
    "    run2_results.append(pipeline.run(query=query, ticket_id=full_dataset[i]['id']))\n",
    "print(\"\\nRun 2 complete.\")\n",
    "\n",
    "# --- Run 3: Perturbed Queries (for Robustness) ---\n",
    "print(\"Executing Run 3 (Perturbed Queries for Robustness)...\")\n",
    "for i, query in enumerate(perturbed_queries):\n",
    "    if i > 0 and i % 12 == 0:\n",
    "        print(\"Pausing for 60 seconds to avoid API rate limits...\")\n",
    "        time.sleep(60)\n",
    "    print(f\"Processing ticket {i+1}/{len(perturbed_queries)}\", end='\\r')\n",
    "    perturbed_results.append(pipeline.run(query=query, ticket_id=full_dataset[i]['id']))\n",
    "print(\"\\nRun 3 complete.\")"
   ]
  },
  {
   "cell_type": "markdown",
   "id": "d6dff7ed",
   "metadata": {},
   "source": [
    "#### Calculating Similarity Scores and Visualizing Results\n",
    "Now, we'll use semantic similarity (cosine similarity) to compare the answers from our three runs. A score of 1.0 means the answers are identical in meaning."
   ]
  },
  {
   "cell_type": "code",
   "execution_count": null,
   "id": "b4e8a3f0",
   "metadata": {},
   "outputs": [],
   "source": [
    "# Calculate semantic similarity scores\n",
    "run1_answers = [res.final_answer for res in run1_results]\n",
    "run2_answers = [res.final_answer for res in run2_results]\n",
    "perturbed_answers = [res.final_answer for res in perturbed_results]\n",
    "\n",
    "# Encode all answers at once for efficiency\n",
    "embeddings1 = similarity_model.encode(run1_answers, convert_to_tensor=True)\n",
    "embeddings2 = similarity_model.encode(run2_answers, convert_to_tensor=True)\n",
    "embeddings_perturbed = similarity_model.encode(perturbed_answers, convert_to_tensor=True)\n",
    "\n",
    "# Calculate pairwise cosine similarities\n",
    "consistency_scores = util.cos_sim(embeddings1, embeddings2).diag().tolist()\n",
    "robustness_scores = util.cos_sim(embeddings1, embeddings_perturbed).diag().tolist()\n",
    "\n",
    "# Create a DataFrame for analysis\n",
    "eval_data = {\n",
    "    'ticket_id': [res.triage.ticket_id for res in run1_results],\n",
    "    'subject': [ticket['subject'] for ticket in full_dataset],\n",
    "    'consistency_score': consistency_scores,\n",
    "    'robustness_score': robustness_scores,\n",
    "    'answer_run1': run1_answers,\n",
    "    'sources_run1': [res.rag_response.get('sources', []) for res in run1_results]\n",
    "}\n",
    "final_eval_df = pd.DataFrame(eval_data)\n",
    "\n",
    "# Save the detailed results for manual review\n",
    "report_path = os.path.join(output_dir, \"final_answer_evaluation_report.csv\")\n",
    "final_eval_df.to_csv(report_path, index=False)\n",
    "print(f\"Detailed report for manual review saved to: {report_path}\")\n",
    "\n",
    "# Visualize the distributions\n",
    "plt.figure(figsize=(14, 7))\n",
    "sns.boxplot(data=final_eval_df[['consistency_score', 'robustness_score']], palette='pastel')\n",
    "plt.title('Distribution of Final Answer Scores', fontsize=18, pad=20)\n",
    "plt.ylabel('Semantic Similarity Score (1.0 = Identical)', fontsize=14)\n",
    "plt.ylim(0.8, 1.01) # Zoom in on the top range for clarity\n",
    "plt.show()\n",
    "\n",
    "display(final_eval_df.head())"
   ]
  }
 ],
 "metadata": {
  "kernelspec": {
   "display_name": ".venv",
   "language": "python",
   "name": "python3"
  },
  "language_info": {
   "codemirror_mode": {
    "name": "ipython",
    "version": 3
   },
   "file_extension": ".py",
   "mimetype": "text/x-python",
   "name": "python",
   "nbconvert_exporter": "python",
   "pygments_lexer": "ipython3",
   "version": "3.13.3"
  }
 },
 "nbformat": 4,
 "nbformat_minor": 5
}
